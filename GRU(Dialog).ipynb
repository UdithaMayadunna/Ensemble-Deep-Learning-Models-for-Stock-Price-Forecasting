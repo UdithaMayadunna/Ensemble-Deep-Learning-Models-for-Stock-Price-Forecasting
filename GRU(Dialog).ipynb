{
 "cells": [
  {
   "cell_type": "markdown",
   "metadata": {},
   "source": [
    "### Stock Market Prediction And Forecasting Using Stacked LSTM"
   ]
  },
  {
   "cell_type": "code",
   "execution_count": 1,
   "metadata": {},
   "outputs": [],
   "source": [
    "### Keras and Tensorflow >2.0"
   ]
  },
  {
   "cell_type": "code",
   "execution_count": 2,
   "metadata": {},
   "outputs": [],
   "source": [
    "import pandas as pd"
   ]
  },
  {
   "cell_type": "code",
   "execution_count": 3,
   "metadata": {},
   "outputs": [],
   "source": [
    "df=pd.read_csv('Dialog.csv')"
   ]
  },
  {
   "cell_type": "code",
   "execution_count": 4,
   "metadata": {},
   "outputs": [
    {
     "data": {
      "text/html": [
       "<div>\n",
       "<style scoped>\n",
       "    .dataframe tbody tr th:only-of-type {\n",
       "        vertical-align: middle;\n",
       "    }\n",
       "\n",
       "    .dataframe tbody tr th {\n",
       "        vertical-align: top;\n",
       "    }\n",
       "\n",
       "    .dataframe thead th {\n",
       "        text-align: right;\n",
       "    }\n",
       "</style>\n",
       "<table border=\"1\" class=\"dataframe\">\n",
       "  <thead>\n",
       "    <tr style=\"text-align: right;\">\n",
       "      <th></th>\n",
       "      <th>Trade Date</th>\n",
       "      <th>Open (Rs.)</th>\n",
       "      <th>High (Rs.)</th>\n",
       "      <th>Low (Rs.)</th>\n",
       "      <th>Close (Rs.)</th>\n",
       "      <th>TradeVolume</th>\n",
       "      <th>ShareVolume</th>\n",
       "      <th>Turnover (Rs.)</th>\n",
       "    </tr>\n",
       "  </thead>\n",
       "  <tbody>\n",
       "    <tr>\n",
       "      <th>0</th>\n",
       "      <td>6/24/24</td>\n",
       "      <td>10.2</td>\n",
       "      <td>10.2</td>\n",
       "      <td>9.9</td>\n",
       "      <td>10.0</td>\n",
       "      <td>331</td>\n",
       "      <td>1482177</td>\n",
       "      <td>14829846.7</td>\n",
       "    </tr>\n",
       "    <tr>\n",
       "      <th>1</th>\n",
       "      <td>6/20/24</td>\n",
       "      <td>10.1</td>\n",
       "      <td>10.2</td>\n",
       "      <td>10.0</td>\n",
       "      <td>10.1</td>\n",
       "      <td>187</td>\n",
       "      <td>365328</td>\n",
       "      <td>3687018.2</td>\n",
       "    </tr>\n",
       "    <tr>\n",
       "      <th>2</th>\n",
       "      <td>6/19/24</td>\n",
       "      <td>10.2</td>\n",
       "      <td>10.2</td>\n",
       "      <td>10.0</td>\n",
       "      <td>10.0</td>\n",
       "      <td>190</td>\n",
       "      <td>687677</td>\n",
       "      <td>6949878.2</td>\n",
       "    </tr>\n",
       "    <tr>\n",
       "      <th>3</th>\n",
       "      <td>6/18/24</td>\n",
       "      <td>10.4</td>\n",
       "      <td>10.4</td>\n",
       "      <td>10.1</td>\n",
       "      <td>10.1</td>\n",
       "      <td>274</td>\n",
       "      <td>616129</td>\n",
       "      <td>6251326.3</td>\n",
       "    </tr>\n",
       "    <tr>\n",
       "      <th>4</th>\n",
       "      <td>6/14/24</td>\n",
       "      <td>10.5</td>\n",
       "      <td>10.5</td>\n",
       "      <td>10.1</td>\n",
       "      <td>10.3</td>\n",
       "      <td>641</td>\n",
       "      <td>3216104</td>\n",
       "      <td>32891566.3</td>\n",
       "    </tr>\n",
       "  </tbody>\n",
       "</table>\n",
       "</div>"
      ],
      "text/plain": [
       "  Trade Date  Open (Rs.)  High (Rs.)  Low (Rs.)  Close (Rs.)  TradeVolume  \\\n",
       "0    6/24/24        10.2        10.2        9.9         10.0          331   \n",
       "1    6/20/24        10.1        10.2       10.0         10.1          187   \n",
       "2    6/19/24        10.2        10.2       10.0         10.0          190   \n",
       "3    6/18/24        10.4        10.4       10.1         10.1          274   \n",
       "4    6/14/24        10.5        10.5       10.1         10.3          641   \n",
       "\n",
       "   ShareVolume  Turnover (Rs.)  \n",
       "0      1482177      14829846.7  \n",
       "1       365328       3687018.2  \n",
       "2       687677       6949878.2  \n",
       "3       616129       6251326.3  \n",
       "4      3216104      32891566.3  "
      ]
     },
     "execution_count": 4,
     "metadata": {},
     "output_type": "execute_result"
    }
   ],
   "source": [
    "df.head()"
   ]
  },
  {
   "cell_type": "code",
   "execution_count": 5,
   "metadata": {},
   "outputs": [
    {
     "data": {
      "text/html": [
       "<div>\n",
       "<style scoped>\n",
       "    .dataframe tbody tr th:only-of-type {\n",
       "        vertical-align: middle;\n",
       "    }\n",
       "\n",
       "    .dataframe tbody tr th {\n",
       "        vertical-align: top;\n",
       "    }\n",
       "\n",
       "    .dataframe thead th {\n",
       "        text-align: right;\n",
       "    }\n",
       "</style>\n",
       "<table border=\"1\" class=\"dataframe\">\n",
       "  <thead>\n",
       "    <tr style=\"text-align: right;\">\n",
       "      <th></th>\n",
       "      <th>Trade Date</th>\n",
       "      <th>Open (Rs.)</th>\n",
       "      <th>High (Rs.)</th>\n",
       "      <th>Low (Rs.)</th>\n",
       "      <th>Close (Rs.)</th>\n",
       "      <th>TradeVolume</th>\n",
       "      <th>ShareVolume</th>\n",
       "      <th>Turnover (Rs.)</th>\n",
       "    </tr>\n",
       "  </thead>\n",
       "  <tbody>\n",
       "    <tr>\n",
       "      <th>0</th>\n",
       "      <td>6/24/24</td>\n",
       "      <td>10.20</td>\n",
       "      <td>10.20</td>\n",
       "      <td>9.90</td>\n",
       "      <td>10.00</td>\n",
       "      <td>331</td>\n",
       "      <td>1482177</td>\n",
       "      <td>1.482985e+07</td>\n",
       "    </tr>\n",
       "    <tr>\n",
       "      <th>1</th>\n",
       "      <td>6/20/24</td>\n",
       "      <td>10.10</td>\n",
       "      <td>10.20</td>\n",
       "      <td>10.00</td>\n",
       "      <td>10.10</td>\n",
       "      <td>187</td>\n",
       "      <td>365328</td>\n",
       "      <td>3.687018e+06</td>\n",
       "    </tr>\n",
       "    <tr>\n",
       "      <th>2</th>\n",
       "      <td>6/19/24</td>\n",
       "      <td>10.20</td>\n",
       "      <td>10.20</td>\n",
       "      <td>10.00</td>\n",
       "      <td>10.00</td>\n",
       "      <td>190</td>\n",
       "      <td>687677</td>\n",
       "      <td>6.949878e+06</td>\n",
       "    </tr>\n",
       "    <tr>\n",
       "      <th>3</th>\n",
       "      <td>6/18/24</td>\n",
       "      <td>10.40</td>\n",
       "      <td>10.40</td>\n",
       "      <td>10.10</td>\n",
       "      <td>10.10</td>\n",
       "      <td>274</td>\n",
       "      <td>616129</td>\n",
       "      <td>6.251326e+06</td>\n",
       "    </tr>\n",
       "    <tr>\n",
       "      <th>4</th>\n",
       "      <td>6/14/24</td>\n",
       "      <td>10.50</td>\n",
       "      <td>10.50</td>\n",
       "      <td>10.10</td>\n",
       "      <td>10.30</td>\n",
       "      <td>641</td>\n",
       "      <td>3216104</td>\n",
       "      <td>3.289157e+07</td>\n",
       "    </tr>\n",
       "    <tr>\n",
       "      <th>...</th>\n",
       "      <td>...</td>\n",
       "      <td>...</td>\n",
       "      <td>...</td>\n",
       "      <td>...</td>\n",
       "      <td>...</td>\n",
       "      <td>...</td>\n",
       "      <td>...</td>\n",
       "      <td>...</td>\n",
       "    </tr>\n",
       "    <tr>\n",
       "      <th>4489</th>\n",
       "      <td>8/3/05</td>\n",
       "      <td>15.75</td>\n",
       "      <td>16.00</td>\n",
       "      <td>15.75</td>\n",
       "      <td>15.75</td>\n",
       "      <td>364</td>\n",
       "      <td>4133600</td>\n",
       "      <td>6.512458e+07</td>\n",
       "    </tr>\n",
       "    <tr>\n",
       "      <th>4490</th>\n",
       "      <td>8/2/05</td>\n",
       "      <td>15.75</td>\n",
       "      <td>16.00</td>\n",
       "      <td>15.50</td>\n",
       "      <td>15.75</td>\n",
       "      <td>576</td>\n",
       "      <td>9040900</td>\n",
       "      <td>1.421166e+08</td>\n",
       "    </tr>\n",
       "    <tr>\n",
       "      <th>4491</th>\n",
       "      <td>8/1/05</td>\n",
       "      <td>15.50</td>\n",
       "      <td>16.00</td>\n",
       "      <td>15.25</td>\n",
       "      <td>15.75</td>\n",
       "      <td>1716</td>\n",
       "      <td>32127600</td>\n",
       "      <td>5.071680e+08</td>\n",
       "    </tr>\n",
       "    <tr>\n",
       "      <th>4492</th>\n",
       "      <td>7/29/05</td>\n",
       "      <td>15.00</td>\n",
       "      <td>15.75</td>\n",
       "      <td>15.00</td>\n",
       "      <td>15.50</td>\n",
       "      <td>2368</td>\n",
       "      <td>21069100</td>\n",
       "      <td>3.242842e+08</td>\n",
       "    </tr>\n",
       "    <tr>\n",
       "      <th>4493</th>\n",
       "      <td>7/28/05</td>\n",
       "      <td>15.00</td>\n",
       "      <td>15.25</td>\n",
       "      <td>14.00</td>\n",
       "      <td>15.00</td>\n",
       "      <td>10813</td>\n",
       "      <td>133275400</td>\n",
       "      <td>1.973664e+09</td>\n",
       "    </tr>\n",
       "  </tbody>\n",
       "</table>\n",
       "<p>4494 rows × 8 columns</p>\n",
       "</div>"
      ],
      "text/plain": [
       "     Trade Date  Open (Rs.)  High (Rs.)  Low (Rs.)  Close (Rs.)  TradeVolume  \\\n",
       "0       6/24/24       10.20       10.20       9.90        10.00          331   \n",
       "1       6/20/24       10.10       10.20      10.00        10.10          187   \n",
       "2       6/19/24       10.20       10.20      10.00        10.00          190   \n",
       "3       6/18/24       10.40       10.40      10.10        10.10          274   \n",
       "4       6/14/24       10.50       10.50      10.10        10.30          641   \n",
       "...         ...         ...         ...        ...          ...          ...   \n",
       "4489     8/3/05       15.75       16.00      15.75        15.75          364   \n",
       "4490     8/2/05       15.75       16.00      15.50        15.75          576   \n",
       "4491     8/1/05       15.50       16.00      15.25        15.75         1716   \n",
       "4492    7/29/05       15.00       15.75      15.00        15.50         2368   \n",
       "4493    7/28/05       15.00       15.25      14.00        15.00        10813   \n",
       "\n",
       "      ShareVolume  Turnover (Rs.)  \n",
       "0         1482177    1.482985e+07  \n",
       "1          365328    3.687018e+06  \n",
       "2          687677    6.949878e+06  \n",
       "3          616129    6.251326e+06  \n",
       "4         3216104    3.289157e+07  \n",
       "...           ...             ...  \n",
       "4489      4133600    6.512458e+07  \n",
       "4490      9040900    1.421166e+08  \n",
       "4491     32127600    5.071680e+08  \n",
       "4492     21069100    3.242842e+08  \n",
       "4493    133275400    1.973664e+09  \n",
       "\n",
       "[4494 rows x 8 columns]"
      ]
     },
     "execution_count": 5,
     "metadata": {},
     "output_type": "execute_result"
    }
   ],
   "source": [
    "df"
   ]
  },
  {
   "cell_type": "code",
   "execution_count": 6,
   "metadata": {},
   "outputs": [
    {
     "name": "stdout",
     "output_type": "stream",
     "text": [
      "     Trade Date  Open (Rs.)  High (Rs.)  Low (Rs.)  Close (Rs.)  TradeVolume  \\\n",
      "0    2024-06-24        10.2        10.2        9.9         10.0          331   \n",
      "1    2024-06-20        10.1        10.2       10.0         10.1          187   \n",
      "2    2024-06-19        10.2        10.2       10.0         10.0          190   \n",
      "3    2024-06-18        10.4        10.4       10.1         10.1          274   \n",
      "4    2024-06-14        10.5        10.5       10.1         10.3          641   \n",
      "...         ...         ...         ...        ...          ...          ...   \n",
      "2359 2014-06-30        10.6        10.6       10.4         10.5           20   \n",
      "2360 2014-06-27        10.5        10.6       10.5         10.6           56   \n",
      "2361 2014-06-26        10.6        10.6       10.5         10.5           16   \n",
      "2362 2014-06-25        10.4        10.6       10.4         10.6           44   \n",
      "2363 2014-06-24        10.4        10.6       10.4         10.5          114   \n",
      "\n",
      "      ShareVolume  Turnover (Rs.)  \n",
      "0         1482177      14829846.7  \n",
      "1          365328       3687018.2  \n",
      "2          687677       6949878.2  \n",
      "3          616129       6251326.3  \n",
      "4         3216104      32891566.3  \n",
      "...           ...             ...  \n",
      "2359        27655        290439.5  \n",
      "2360       186363       1974534.4  \n",
      "2361        10550        110957.0  \n",
      "2362       954457      10032323.5  \n",
      "2363      2557100      26855707.9  \n",
      "\n",
      "[2364 rows x 8 columns]\n"
     ]
    },
    {
     "name": "stderr",
     "output_type": "stream",
     "text": [
      "C:\\Users\\udith\\AppData\\Local\\Temp\\ipykernel_1052\\4235463591.py:1: UserWarning: Could not infer format, so each element will be parsed individually, falling back to `dateutil`. To ensure parsing is consistent and as-expected, please specify a format.\n",
      "  df['Trade Date'] = pd.to_datetime(df['Trade Date'])\n"
     ]
    }
   ],
   "source": [
    "df['Trade Date'] = pd.to_datetime(df['Trade Date'])\n",
    "\n",
    "# Define the date range for the last 10 years\n",
    "end_date = df['Trade Date'].max()\n",
    "start_date = end_date - pd.DateOffset(years=10)\n",
    "\n",
    "# Filter the DataFrame to include only the last 10 years of data\n",
    "filtered_df = df[(df['Trade Date'] >= start_date) & (df['Trade Date'] <= end_date)]\n",
    "\n",
    "# Display the filtered DataFrame\n",
    "print(filtered_df)"
   ]
  },
  {
   "cell_type": "code",
   "execution_count": 7,
   "metadata": {},
   "outputs": [
    {
     "data": {
      "text/html": [
       "<div>\n",
       "<style scoped>\n",
       "    .dataframe tbody tr th:only-of-type {\n",
       "        vertical-align: middle;\n",
       "    }\n",
       "\n",
       "    .dataframe tbody tr th {\n",
       "        vertical-align: top;\n",
       "    }\n",
       "\n",
       "    .dataframe thead th {\n",
       "        text-align: right;\n",
       "    }\n",
       "</style>\n",
       "<table border=\"1\" class=\"dataframe\">\n",
       "  <thead>\n",
       "    <tr style=\"text-align: right;\">\n",
       "      <th></th>\n",
       "      <th>Trade Date</th>\n",
       "      <th>Open (Rs.)</th>\n",
       "      <th>High (Rs.)</th>\n",
       "      <th>Low (Rs.)</th>\n",
       "      <th>Close (Rs.)</th>\n",
       "      <th>TradeVolume</th>\n",
       "      <th>ShareVolume</th>\n",
       "      <th>Turnover (Rs.)</th>\n",
       "    </tr>\n",
       "  </thead>\n",
       "  <tbody>\n",
       "    <tr>\n",
       "      <th>2359</th>\n",
       "      <td>2014-06-30</td>\n",
       "      <td>10.6</td>\n",
       "      <td>10.6</td>\n",
       "      <td>10.4</td>\n",
       "      <td>10.5</td>\n",
       "      <td>20</td>\n",
       "      <td>27655</td>\n",
       "      <td>290439.5</td>\n",
       "    </tr>\n",
       "    <tr>\n",
       "      <th>2360</th>\n",
       "      <td>2014-06-27</td>\n",
       "      <td>10.5</td>\n",
       "      <td>10.6</td>\n",
       "      <td>10.5</td>\n",
       "      <td>10.6</td>\n",
       "      <td>56</td>\n",
       "      <td>186363</td>\n",
       "      <td>1974534.4</td>\n",
       "    </tr>\n",
       "    <tr>\n",
       "      <th>2361</th>\n",
       "      <td>2014-06-26</td>\n",
       "      <td>10.6</td>\n",
       "      <td>10.6</td>\n",
       "      <td>10.5</td>\n",
       "      <td>10.5</td>\n",
       "      <td>16</td>\n",
       "      <td>10550</td>\n",
       "      <td>110957.0</td>\n",
       "    </tr>\n",
       "    <tr>\n",
       "      <th>2362</th>\n",
       "      <td>2014-06-25</td>\n",
       "      <td>10.4</td>\n",
       "      <td>10.6</td>\n",
       "      <td>10.4</td>\n",
       "      <td>10.6</td>\n",
       "      <td>44</td>\n",
       "      <td>954457</td>\n",
       "      <td>10032323.5</td>\n",
       "    </tr>\n",
       "    <tr>\n",
       "      <th>2363</th>\n",
       "      <td>2014-06-24</td>\n",
       "      <td>10.4</td>\n",
       "      <td>10.6</td>\n",
       "      <td>10.4</td>\n",
       "      <td>10.5</td>\n",
       "      <td>114</td>\n",
       "      <td>2557100</td>\n",
       "      <td>26855707.9</td>\n",
       "    </tr>\n",
       "  </tbody>\n",
       "</table>\n",
       "</div>"
      ],
      "text/plain": [
       "     Trade Date  Open (Rs.)  High (Rs.)  Low (Rs.)  Close (Rs.)  TradeVolume  \\\n",
       "2359 2014-06-30        10.6        10.6       10.4         10.5           20   \n",
       "2360 2014-06-27        10.5        10.6       10.5         10.6           56   \n",
       "2361 2014-06-26        10.6        10.6       10.5         10.5           16   \n",
       "2362 2014-06-25        10.4        10.6       10.4         10.6           44   \n",
       "2363 2014-06-24        10.4        10.6       10.4         10.5          114   \n",
       "\n",
       "      ShareVolume  Turnover (Rs.)  \n",
       "2359        27655        290439.5  \n",
       "2360       186363       1974534.4  \n",
       "2361        10550        110957.0  \n",
       "2362       954457      10032323.5  \n",
       "2363      2557100      26855707.9  "
      ]
     },
     "execution_count": 7,
     "metadata": {},
     "output_type": "execute_result"
    }
   ],
   "source": [
    "filtered_df.tail()"
   ]
  },
  {
   "cell_type": "code",
   "execution_count": 8,
   "metadata": {},
   "outputs": [],
   "source": [
    "df1=filtered_df.reset_index()['Close (Rs.)']"
   ]
  },
  {
   "cell_type": "code",
   "execution_count": 9,
   "metadata": {},
   "outputs": [
    {
     "data": {
      "text/plain": [
       "0       10.0\n",
       "1       10.1\n",
       "2       10.0\n",
       "3       10.1\n",
       "4       10.3\n",
       "        ... \n",
       "2359    10.5\n",
       "2360    10.6\n",
       "2361    10.5\n",
       "2362    10.6\n",
       "2363    10.5\n",
       "Name: Close (Rs.), Length: 2364, dtype: float64"
      ]
     },
     "execution_count": 9,
     "metadata": {},
     "output_type": "execute_result"
    }
   ],
   "source": [
    "df1"
   ]
  },
  {
   "cell_type": "code",
   "execution_count": 10,
   "metadata": {},
   "outputs": [
    {
     "data": {
      "text/plain": [
       "[<matplotlib.lines.Line2D at 0x2c0e3bb2ab0>]"
      ]
     },
     "execution_count": 10,
     "metadata": {},
     "output_type": "execute_result"
    },
    {
     "data": {
      "image/png": "[encoded data removed]",
      "text/plain": [
       "<Figure size 640x480 with 1 Axes>"
      ]
     },
     "metadata": {},
     "output_type": "display_data"
    }
   ],
   "source": [
    "import matplotlib.pyplot as plt\n",
    "plt.plot(df1)"
   ]
  },
  {
   "cell_type": "code",
   "execution_count": 11,
   "metadata": {},
   "outputs": [],
   "source": [
    "### LSTM are sensitive to the scale of the data. so we apply MinMax scaler "
   ]
  },
  {
   "cell_type": "code",
   "execution_count": 12,
   "metadata": {},
   "outputs": [],
   "source": [
    "import numpy as np"
   ]
  },
  {
   "cell_type": "code",
   "execution_count": 13,
   "metadata": {},
   "outputs": [
    {
     "data": {
      "text/plain": [
       "0       10.0\n",
       "1       10.1\n",
       "2       10.0\n",
       "3       10.1\n",
       "4       10.3\n",
       "        ... \n",
       "2359    10.5\n",
       "2360    10.6\n",
       "2361    10.5\n",
       "2362    10.6\n",
       "2363    10.5\n",
       "Name: Close (Rs.), Length: 2364, dtype: float64"
      ]
     },
     "execution_count": 13,
     "metadata": {},
     "output_type": "execute_result"
    }
   ],
   "source": [
    "df1"
   ]
  },
  {
   "cell_type": "code",
   "execution_count": 14,
   "metadata": {},
   "outputs": [],
   "source": [
    "from sklearn.preprocessing import MinMaxScaler\n",
    "scaler=MinMaxScaler(feature_range=(0,1))\n",
    "df1=scaler.fit_transform(np.array(df1).reshape(-1,1))"
   ]
  },
  {
   "cell_type": "code",
   "execution_count": 15,
   "metadata": {},
   "outputs": [
    {
     "name": "stdout",
     "output_type": "stream",
     "text": [
      "[[0.31343284]\n",
      " [0.32835821]\n",
      " [0.31343284]\n",
      " ...\n",
      " [0.3880597 ]\n",
      " [0.40298507]\n",
      " [0.3880597 ]]\n"
     ]
    }
   ],
   "source": [
    "print(df1)"
   ]
  },
  {
   "cell_type": "code",
   "execution_count": 16,
   "metadata": {},
   "outputs": [],
   "source": [
    "##splitting dataset into train and test split\n",
    "training_size=int(len(df1)*0.65)\n",
    "test_size=len(df1)-training_size\n",
    "train_data,test_data=df1[0:training_size,:],df1[training_size:len(df1),:1]"
   ]
  },
  {
   "cell_type": "code",
   "execution_count": 17,
   "metadata": {},
   "outputs": [
    {
     "data": {
      "text/plain": [
       "(1536, 828)"
      ]
     },
     "execution_count": 17,
     "metadata": {},
     "output_type": "execute_result"
    }
   ],
   "source": [
    "training_size,test_size"
   ]
  },
  {
   "cell_type": "code",
   "execution_count": 18,
   "metadata": {},
   "outputs": [
    {
     "data": {
      "text/plain": [
       "array([[0.31343284],\n",
       "       [0.32835821],\n",
       "       [0.31343284],\n",
       "       ...,\n",
       "       [0.76119403],\n",
       "       [0.76119403],\n",
       "       [0.76119403]])"
      ]
     },
     "execution_count": 18,
     "metadata": {},
     "output_type": "execute_result"
    }
   ],
   "source": [
    "train_data"
   ]
  },
  {
   "cell_type": "code",
   "execution_count": 19,
   "metadata": {},
   "outputs": [],
   "source": [
    "import numpy\n",
    "# convert an array of values into a dataset matrix\n",
    "def create_dataset(dataset, time_step=1):\n",
    "\tdataX, dataY = [], []\n",
    "\tfor i in range(len(dataset)-time_step-1):\n",
    "\t\ta = dataset[i:(i+time_step), 0]   ###i=0, 0,1,2,3-----99   100 \n",
    "\t\tdataX.append(a)\n",
    "\t\tdataY.append(dataset[i + time_step, 0])\n",
    "\treturn numpy.array(dataX), numpy.array(dataY)"
   ]
  },
  {
   "cell_type": "code",
   "execution_count": 20,
   "metadata": {},
   "outputs": [],
   "source": [
    "# reshape into X=t,t+1,t+2,t+3 and Y=t+4\n",
    "time_step = 100\n",
    "X_train, y_train = create_dataset(train_data, time_step)\n",
    "X_test, ytest = create_dataset(test_data, time_step)"
   ]
  },
  {
   "cell_type": "code",
   "execution_count": 21,
   "metadata": {},
   "outputs": [
    {
     "name": "stdout",
     "output_type": "stream",
     "text": [
      "(1435, 100)\n",
      "(1435,)\n"
     ]
    },
    {
     "data": {
      "text/plain": [
       "(None, None)"
      ]
     },
     "execution_count": 21,
     "metadata": {},
     "output_type": "execute_result"
    }
   ],
   "source": [
    "print(X_train.shape), print(y_train.shape)"
   ]
  },
  {
   "cell_type": "code",
   "execution_count": 22,
   "metadata": {},
   "outputs": [
    {
     "name": "stdout",
     "output_type": "stream",
     "text": [
      "(727, 100)\n",
      "(727,)\n"
     ]
    },
    {
     "data": {
      "text/plain": [
       "(None, None)"
      ]
     },
     "execution_count": 22,
     "metadata": {},
     "output_type": "execute_result"
    }
   ],
   "source": [
    "print(X_test.shape), print(ytest.shape)"
   ]
  },
  {
   "cell_type": "code",
   "execution_count": 23,
   "metadata": {},
   "outputs": [],
   "source": [
    "# reshape input to be [samples, time steps, features] which is required for LSTM\n",
    "X_train =X_train.reshape(X_train.shape[0],X_train.shape[1] , 1)\n",
    "X_test = X_test.reshape(X_test.shape[0],X_test.shape[1] , 1)"
   ]
  },
  {
   "cell_type": "code",
   "execution_count": null,
   "metadata": {},
   "outputs": [],
   "source": []
  },
  {
   "cell_type": "code",
   "execution_count": 24,
   "metadata": {},
   "outputs": [],
   "source": [
    "### Create the Stacked LSTM model\n",
    "from tensorflow.keras.models import Sequential\n",
    "from tensorflow.keras.layers import Dense\n",
    "from tensorflow.keras.layers import LSTM\n",
    "from keras.layers import GRU, Dense"
   ]
  },
  {
   "cell_type": "code",
   "execution_count": 25,
   "metadata": {},
   "outputs": [
    {
     "name": "stderr",
     "output_type": "stream",
     "text": [
      "C:\\Users\\udith\\AppData\\Local\\Programs\\Python\\Python312\\Lib\\site-packages\\keras\\src\\layers\\rnn\\rnn.py:204: UserWarning: Do not pass an `input_shape`/`input_dim` argument to a layer. When using Sequential models, prefer using an `Input(shape)` object as the first layer in the model instead.\n",
      "  super().__init__(**kwargs)\n"
     ]
    },
    {
     "data": {
      "text/html": [
       "<pre style=\"white-space:pre;overflow-x:auto;line-height:normal;font-family:Menlo,'DejaVu Sans Mono',consolas,'Courier New',monospace\"><span style=\"font-weight: bold\">Model: \"sequential\"</span>\n",
       "</pre>\n"
      ],
      "text/plain": [
       "\u001b[1mModel: \"sequential\"\u001b[0m\n"
      ]
     },
     "metadata": {},
     "output_type": "display_data"
    },
    {
     "data": {
      "text/html": [
       "<pre style=\"white-space:pre;overflow-x:auto;line-height:normal;font-family:Menlo,'DejaVu Sans Mono',consolas,'Courier New',monospace\">┏━━━━━━━━━━━━━━━━━━━━━━━━━━━━━━━━━━━━━━┳━━━━━━━━━━━━━━━━━━━━━━━━━━━━━┳━━━━━━━━━━━━━━━━━┓\n",
       "┃<span style=\"font-weight: bold\"> Layer (type)                         </span>┃<span style=\"font-weight: bold\"> Output Shape                </span>┃<span style=\"font-weight: bold\">         Param # </span>┃\n",
       "┡━━━━━━━━━━━━━━━━━━━━━━━━━━━━━━━━━━━━━━╇━━━━━━━━━━━━━━━━━━━━━━━━━━━━━╇━━━━━━━━━━━━━━━━━┩\n",
       "│ gru (<span style=\"color: #0087ff; text-decoration-color: #0087ff\">GRU</span>)                            │ (<span style=\"color: #00d7ff; text-decoration-color: #00d7ff\">None</span>, <span style=\"color: #00af00; text-decoration-color: #00af00\">100</span>, <span style=\"color: #00af00; text-decoration-color: #00af00\">100</span>)            │          <span style=\"color: #00af00; text-decoration-color: #00af00\">30,900</span> │\n",
       "├──────────────────────────────────────┼─────────────────────────────┼─────────────────┤\n",
       "│ batch_normalization                  │ (<span style=\"color: #00d7ff; text-decoration-color: #00d7ff\">None</span>, <span style=\"color: #00af00; text-decoration-color: #00af00\">100</span>, <span style=\"color: #00af00; text-decoration-color: #00af00\">100</span>)            │             <span style=\"color: #00af00; text-decoration-color: #00af00\">400</span> │\n",
       "│ (<span style=\"color: #0087ff; text-decoration-color: #0087ff\">BatchNormalization</span>)                 │                             │                 │\n",
       "├──────────────────────────────────────┼─────────────────────────────┼─────────────────┤\n",
       "│ dropout (<span style=\"color: #0087ff; text-decoration-color: #0087ff\">Dropout</span>)                    │ (<span style=\"color: #00d7ff; text-decoration-color: #00d7ff\">None</span>, <span style=\"color: #00af00; text-decoration-color: #00af00\">100</span>, <span style=\"color: #00af00; text-decoration-color: #00af00\">100</span>)            │               <span style=\"color: #00af00; text-decoration-color: #00af00\">0</span> │\n",
       "├──────────────────────────────────────┼─────────────────────────────┼─────────────────┤\n",
       "│ gru_1 (<span style=\"color: #0087ff; text-decoration-color: #0087ff\">GRU</span>)                          │ (<span style=\"color: #00d7ff; text-decoration-color: #00d7ff\">None</span>, <span style=\"color: #00af00; text-decoration-color: #00af00\">100</span>, <span style=\"color: #00af00; text-decoration-color: #00af00\">100</span>)            │          <span style=\"color: #00af00; text-decoration-color: #00af00\">60,600</span> │\n",
       "├──────────────────────────────────────┼─────────────────────────────┼─────────────────┤\n",
       "│ batch_normalization_1                │ (<span style=\"color: #00d7ff; text-decoration-color: #00d7ff\">None</span>, <span style=\"color: #00af00; text-decoration-color: #00af00\">100</span>, <span style=\"color: #00af00; text-decoration-color: #00af00\">100</span>)            │             <span style=\"color: #00af00; text-decoration-color: #00af00\">400</span> │\n",
       "│ (<span style=\"color: #0087ff; text-decoration-color: #0087ff\">BatchNormalization</span>)                 │                             │                 │\n",
       "├──────────────────────────────────────┼─────────────────────────────┼─────────────────┤\n",
       "│ dropout_1 (<span style=\"color: #0087ff; text-decoration-color: #0087ff\">Dropout</span>)                  │ (<span style=\"color: #00d7ff; text-decoration-color: #00d7ff\">None</span>, <span style=\"color: #00af00; text-decoration-color: #00af00\">100</span>, <span style=\"color: #00af00; text-decoration-color: #00af00\">100</span>)            │               <span style=\"color: #00af00; text-decoration-color: #00af00\">0</span> │\n",
       "├──────────────────────────────────────┼─────────────────────────────┼─────────────────┤\n",
       "│ gru_2 (<span style=\"color: #0087ff; text-decoration-color: #0087ff\">GRU</span>)                          │ (<span style=\"color: #00d7ff; text-decoration-color: #00d7ff\">None</span>, <span style=\"color: #00af00; text-decoration-color: #00af00\">100</span>, <span style=\"color: #00af00; text-decoration-color: #00af00\">100</span>)            │          <span style=\"color: #00af00; text-decoration-color: #00af00\">60,600</span> │\n",
       "├──────────────────────────────────────┼─────────────────────────────┼─────────────────┤\n",
       "│ batch_normalization_2                │ (<span style=\"color: #00d7ff; text-decoration-color: #00d7ff\">None</span>, <span style=\"color: #00af00; text-decoration-color: #00af00\">100</span>, <span style=\"color: #00af00; text-decoration-color: #00af00\">100</span>)            │             <span style=\"color: #00af00; text-decoration-color: #00af00\">400</span> │\n",
       "│ (<span style=\"color: #0087ff; text-decoration-color: #0087ff\">BatchNormalization</span>)                 │                             │                 │\n",
       "├──────────────────────────────────────┼─────────────────────────────┼─────────────────┤\n",
       "│ dropout_2 (<span style=\"color: #0087ff; text-decoration-color: #0087ff\">Dropout</span>)                  │ (<span style=\"color: #00d7ff; text-decoration-color: #00d7ff\">None</span>, <span style=\"color: #00af00; text-decoration-color: #00af00\">100</span>, <span style=\"color: #00af00; text-decoration-color: #00af00\">100</span>)            │               <span style=\"color: #00af00; text-decoration-color: #00af00\">0</span> │\n",
       "├──────────────────────────────────────┼─────────────────────────────┼─────────────────┤\n",
       "│ gru_3 (<span style=\"color: #0087ff; text-decoration-color: #0087ff\">GRU</span>)                          │ (<span style=\"color: #00d7ff; text-decoration-color: #00d7ff\">None</span>, <span style=\"color: #00af00; text-decoration-color: #00af00\">50</span>)                  │          <span style=\"color: #00af00; text-decoration-color: #00af00\">22,800</span> │\n",
       "├──────────────────────────────────────┼─────────────────────────────┼─────────────────┤\n",
       "│ batch_normalization_3                │ (<span style=\"color: #00d7ff; text-decoration-color: #00d7ff\">None</span>, <span style=\"color: #00af00; text-decoration-color: #00af00\">50</span>)                  │             <span style=\"color: #00af00; text-decoration-color: #00af00\">200</span> │\n",
       "│ (<span style=\"color: #0087ff; text-decoration-color: #0087ff\">BatchNormalization</span>)                 │                             │                 │\n",
       "├──────────────────────────────────────┼─────────────────────────────┼─────────────────┤\n",
       "│ dropout_3 (<span style=\"color: #0087ff; text-decoration-color: #0087ff\">Dropout</span>)                  │ (<span style=\"color: #00d7ff; text-decoration-color: #00d7ff\">None</span>, <span style=\"color: #00af00; text-decoration-color: #00af00\">50</span>)                  │               <span style=\"color: #00af00; text-decoration-color: #00af00\">0</span> │\n",
       "├──────────────────────────────────────┼─────────────────────────────┼─────────────────┤\n",
       "│ dense (<span style=\"color: #0087ff; text-decoration-color: #0087ff\">Dense</span>)                        │ (<span style=\"color: #00d7ff; text-decoration-color: #00d7ff\">None</span>, <span style=\"color: #00af00; text-decoration-color: #00af00\">1</span>)                   │              <span style=\"color: #00af00; text-decoration-color: #00af00\">51</span> │\n",
       "└──────────────────────────────────────┴─────────────────────────────┴─────────────────┘\n",
       "</pre>\n"
      ],
      "text/plain": [
       "┏━━━━━━━━━━━━━━━━━━━━━━━━━━━━━━━━━━━━━━┳━━━━━━━━━━━━━━━━━━━━━━━━━━━━━┳━━━━━━━━━━━━━━━━━┓\n",
       "┃\u001b[1m \u001b[0m\u001b[1mLayer (type)                        \u001b[0m\u001b[1m \u001b[0m┃\u001b[1m \u001b[0m\u001b[1mOutput Shape               \u001b[0m\u001b[1m \u001b[0m┃\u001b[1m \u001b[0m\u001b[1m        Param #\u001b[0m\u001b[1m \u001b[0m┃\n",
       "┡━━━━━━━━━━━━━━━━━━━━━━━━━━━━━━━━━━━━━━╇━━━━━━━━━━━━━━━━━━━━━━━━━━━━━╇━━━━━━━━━━━━━━━━━┩\n",
       "│ gru (\u001b[38;5;33mGRU\u001b[0m)                            │ (\u001b[38;5;45mNone\u001b[0m, \u001b[38;5;34m100\u001b[0m, \u001b[38;5;34m100\u001b[0m)            │          \u001b[38;5;34m30,900\u001b[0m │\n",
       "├──────────────────────────────────────┼─────────────────────────────┼─────────────────┤\n",
       "│ batch_normalization                  │ (\u001b[38;5;45mNone\u001b[0m, \u001b[38;5;34m100\u001b[0m, \u001b[38;5;34m100\u001b[0m)            │             \u001b[38;5;34m400\u001b[0m │\n",
       "│ (\u001b[38;5;33mBatchNormalization\u001b[0m)                 │                             │                 │\n",
       "├──────────────────────────────────────┼─────────────────────────────┼─────────────────┤\n",
       "│ dropout (\u001b[38;5;33mDropout\u001b[0m)                    │ (\u001b[38;5;45mNone\u001b[0m, \u001b[38;5;34m100\u001b[0m, \u001b[38;5;34m100\u001b[0m)            │               \u001b[38;5;34m0\u001b[0m │\n",
       "├──────────────────────────────────────┼─────────────────────────────┼─────────────────┤\n",
       "│ gru_1 (\u001b[38;5;33mGRU\u001b[0m)                          │ (\u001b[38;5;45mNone\u001b[0m, \u001b[38;5;34m100\u001b[0m, \u001b[38;5;34m100\u001b[0m)            │          \u001b[38;5;34m60,600\u001b[0m │\n",
       "├──────────────────────────────────────┼─────────────────────────────┼─────────────────┤\n",
       "│ batch_normalization_1                │ (\u001b[38;5;45mNone\u001b[0m, \u001b[38;5;34m100\u001b[0m, \u001b[38;5;34m100\u001b[0m)            │             \u001b[38;5;34m400\u001b[0m │\n",
       "│ (\u001b[38;5;33mBatchNormalization\u001b[0m)                 │                             │                 │\n",
       "├──────────────────────────────────────┼─────────────────────────────┼─────────────────┤\n",
       "│ dropout_1 (\u001b[38;5;33mDropout\u001b[0m)                  │ (\u001b[38;5;45mNone\u001b[0m, \u001b[38;5;34m100\u001b[0m, \u001b[38;5;34m100\u001b[0m)            │               \u001b[38;5;34m0\u001b[0m │\n",
       "├──────────────────────────────────────┼─────────────────────────────┼─────────────────┤\n",
       "│ gru_2 (\u001b[38;5;33mGRU\u001b[0m)                          │ (\u001b[38;5;45mNone\u001b[0m, \u001b[38;5;34m100\u001b[0m, \u001b[38;5;34m100\u001b[0m)            │          \u001b[38;5;34m60,600\u001b[0m │\n",
       "├──────────────────────────────────────┼─────────────────────────────┼─────────────────┤\n",
       "│ batch_normalization_2                │ (\u001b[38;5;45mNone\u001b[0m, \u001b[38;5;34m100\u001b[0m, \u001b[38;5;34m100\u001b[0m)            │             \u001b[38;5;34m400\u001b[0m │\n",
       "│ (\u001b[38;5;33mBatchNormalization\u001b[0m)                 │                             │                 │\n",
       "├──────────────────────────────────────┼─────────────────────────────┼─────────────────┤\n",
       "│ dropout_2 (\u001b[38;5;33mDropout\u001b[0m)                  │ (\u001b[38;5;45mNone\u001b[0m, \u001b[38;5;34m100\u001b[0m, \u001b[38;5;34m100\u001b[0m)            │               \u001b[38;5;34m0\u001b[0m │\n",
       "├──────────────────────────────────────┼─────────────────────────────┼─────────────────┤\n",
       "│ gru_3 (\u001b[38;5;33mGRU\u001b[0m)                          │ (\u001b[38;5;45mNone\u001b[0m, \u001b[38;5;34m50\u001b[0m)                  │          \u001b[38;5;34m22,800\u001b[0m │\n",
       "├──────────────────────────────────────┼─────────────────────────────┼─────────────────┤\n",
       "│ batch_normalization_3                │ (\u001b[38;5;45mNone\u001b[0m, \u001b[38;5;34m50\u001b[0m)                  │             \u001b[38;5;34m200\u001b[0m │\n",
       "│ (\u001b[38;5;33mBatchNormalization\u001b[0m)                 │                             │                 │\n",
       "├──────────────────────────────────────┼─────────────────────────────┼─────────────────┤\n",
       "│ dropout_3 (\u001b[38;5;33mDropout\u001b[0m)                  │ (\u001b[38;5;45mNone\u001b[0m, \u001b[38;5;34m50\u001b[0m)                  │               \u001b[38;5;34m0\u001b[0m │\n",
       "├──────────────────────────────────────┼─────────────────────────────┼─────────────────┤\n",
       "│ dense (\u001b[38;5;33mDense\u001b[0m)                        │ (\u001b[38;5;45mNone\u001b[0m, \u001b[38;5;34m1\u001b[0m)                   │              \u001b[38;5;34m51\u001b[0m │\n",
       "└──────────────────────────────────────┴─────────────────────────────┴─────────────────┘\n"
      ]
     },
     "metadata": {},
     "output_type": "display_data"
    },
    {
     "data": {
      "text/html": [
       "<pre style=\"white-space:pre;overflow-x:auto;line-height:normal;font-family:Menlo,'DejaVu Sans Mono',consolas,'Courier New',monospace\"><span style=\"font-weight: bold\"> Total params: </span><span style=\"color: #00af00; text-decoration-color: #00af00\">176,351</span> (688.87 KB)\n",
       "</pre>\n"
      ],
      "text/plain": [
       "\u001b[1m Total params: \u001b[0m\u001b[38;5;34m176,351\u001b[0m (688.87 KB)\n"
      ]
     },
     "metadata": {},
     "output_type": "display_data"
    },
    {
     "data": {
      "text/html": [
       "<pre style=\"white-space:pre;overflow-x:auto;line-height:normal;font-family:Menlo,'DejaVu Sans Mono',consolas,'Courier New',monospace\"><span style=\"font-weight: bold\"> Trainable params: </span><span style=\"color: #00af00; text-decoration-color: #00af00\">175,651</span> (686.14 KB)\n",
       "</pre>\n"
      ],
      "text/plain": [
       "\u001b[1m Trainable params: \u001b[0m\u001b[38;5;34m175,651\u001b[0m (686.14 KB)\n"
      ]
     },
     "metadata": {},
     "output_type": "display_data"
    },
    {
     "data": {
      "text/html": [
       "<pre style=\"white-space:pre;overflow-x:auto;line-height:normal;font-family:Menlo,'DejaVu Sans Mono',consolas,'Courier New',monospace\"><span style=\"font-weight: bold\"> Non-trainable params: </span><span style=\"color: #00af00; text-decoration-color: #00af00\">700</span> (2.73 KB)\n",
       "</pre>\n"
      ],
      "text/plain": [
       "\u001b[1m Non-trainable params: \u001b[0m\u001b[38;5;34m700\u001b[0m (2.73 KB)\n"
      ]
     },
     "metadata": {},
     "output_type": "display_data"
    }
   ],
   "source": [
    "from tensorflow.keras.models import Sequential\n",
    "from tensorflow.keras.layers import GRU, Dense, Dropout, BatchNormalization\n",
    "from tensorflow.keras.optimizers import Adam\n",
    "\n",
    "# Initialize the model\n",
    "model = Sequential()\n",
    "\n",
    "# Add GRU layers with more units, batch normalization, and dropout to avoid overfitting\n",
    "model.add(GRU(100, return_sequences=True, input_shape=(100, 1)))\n",
    "model.add(BatchNormalization())  # Normalizing the layer's output\n",
    "model.add(Dropout(0.2))  # Dropout to prevent overfitting\n",
    "\n",
    "model.add(GRU(100, return_sequences=True))\n",
    "model.add(BatchNormalization())\n",
    "model.add(Dropout(0.2))\n",
    "\n",
    "model.add(GRU(100, return_sequences=True))\n",
    "model.add(BatchNormalization())\n",
    "model.add(Dropout(0.2))\n",
    "\n",
    "model.add(GRU(50))  # The last GRU layer\n",
    "model.add(BatchNormalization())\n",
    "model.add(Dropout(0.2))\n",
    "\n",
    "# Add Dense output layer\n",
    "model.add(Dense(1))\n",
    "\n",
    "# Compile the model with Adam optimizer and a tuned learning rate\n",
    "optimizer = Adam(learning_rate=0.001)  # Tuned learning rate\n",
    "model.compile(loss='mean_squared_error', optimizer=optimizer)\n",
    "\n",
    "# Summary of the model\n",
    "model.summary()\n"
   ]
  },
  {
   "cell_type": "code",
   "execution_count": 26,
   "metadata": {},
   "outputs": [
    {
     "name": "stdout",
     "output_type": "stream",
     "text": [
      "Epoch 1/100\n",
      "\u001b[1m45/45\u001b[0m \u001b[32m━━━━━━━━━━━━━━━━━━━━\u001b[0m\u001b[37m\u001b[0m \u001b[1m12s\u001b[0m 148ms/step - loss: 1.0909 - val_loss: 0.0210\n",
      "Epoch 2/100\n",
      "\u001b[1m45/45\u001b[0m \u001b[32m━━━━━━━━━━━━━━━━━━━━\u001b[0m\u001b[37m\u001b[0m \u001b[1m6s\u001b[0m 135ms/step - loss: 0.4451 - val_loss: 0.0360\n",
      "Epoch 3/100\n",
      "\u001b[1m45/45\u001b[0m \u001b[32m━━━━━━━━━━━━━━━━━━━━\u001b[0m\u001b[37m\u001b[0m \u001b[1m6s\u001b[0m 132ms/step - loss: 0.3617 - val_loss: 0.0219\n",
      "Epoch 4/100\n",
      "\u001b[1m45/45\u001b[0m \u001b[32m━━━━━━━━━━━━━━━━━━━━\u001b[0m\u001b[37m\u001b[0m \u001b[1m6s\u001b[0m 134ms/step - loss: 0.3044 - val_loss: 0.0174\n",
      "Epoch 5/100\n",
      "\u001b[1m45/45\u001b[0m \u001b[32m━━━━━━━━━━━━━━━━━━━━\u001b[0m\u001b[37m\u001b[0m \u001b[1m6s\u001b[0m 138ms/step - loss: 0.2819 - val_loss: 0.0205\n",
      "Epoch 6/100\n",
      "\u001b[1m45/45\u001b[0m \u001b[32m━━━━━━━━━━━━━━━━━━━━\u001b[0m\u001b[37m\u001b[0m \u001b[1m6s\u001b[0m 136ms/step - loss: 0.2429 - val_loss: 0.0196\n",
      "Epoch 7/100\n",
      "\u001b[1m45/45\u001b[0m \u001b[32m━━━━━━━━━━━━━━━━━━━━\u001b[0m\u001b[37m\u001b[0m \u001b[1m7s\u001b[0m 146ms/step - loss: 0.2096 - val_loss: 0.0136\n",
      "Epoch 8/100\n",
      "\u001b[1m45/45\u001b[0m \u001b[32m━━━━━━━━━━━━━━━━━━━━\u001b[0m\u001b[37m\u001b[0m \u001b[1m6s\u001b[0m 134ms/step - loss: 0.1883 - val_loss: 0.0220\n",
      "Epoch 9/100\n",
      "\u001b[1m45/45\u001b[0m \u001b[32m━━━━━━━━━━━━━━━━━━━━\u001b[0m\u001b[37m\u001b[0m \u001b[1m6s\u001b[0m 142ms/step - loss: 0.1494 - val_loss: 0.0093\n",
      "Epoch 10/100\n",
      "\u001b[1m45/45\u001b[0m \u001b[32m━━━━━━━━━━━━━━━━━━━━\u001b[0m\u001b[37m\u001b[0m \u001b[1m6s\u001b[0m 139ms/step - loss: 0.1310 - val_loss: 0.0129\n",
      "Epoch 11/100\n",
      "\u001b[1m45/45\u001b[0m \u001b[32m━━━━━━━━━━━━━━━━━━━━\u001b[0m\u001b[37m\u001b[0m \u001b[1m6s\u001b[0m 143ms/step - loss: 0.1183 - val_loss: 0.0154\n",
      "Epoch 12/100\n",
      "\u001b[1m45/45\u001b[0m \u001b[32m━━━━━━━━━━━━━━━━━━━━\u001b[0m\u001b[37m\u001b[0m \u001b[1m6s\u001b[0m 139ms/step - loss: 0.0990 - val_loss: 0.0045\n",
      "Epoch 13/100\n",
      "\u001b[1m45/45\u001b[0m \u001b[32m━━━━━━━━━━━━━━━━━━━━\u001b[0m\u001b[37m\u001b[0m \u001b[1m6s\u001b[0m 138ms/step - loss: 0.0848 - val_loss: 0.0032\n",
      "Epoch 14/100\n",
      "\u001b[1m45/45\u001b[0m \u001b[32m━━━━━━━━━━━━━━━━━━━━\u001b[0m\u001b[37m\u001b[0m \u001b[1m6s\u001b[0m 138ms/step - loss: 0.0787 - val_loss: 0.0039\n",
      "Epoch 15/100\n",
      "\u001b[1m45/45\u001b[0m \u001b[32m━━━━━━━━━━━━━━━━━━━━\u001b[0m\u001b[37m\u001b[0m \u001b[1m6s\u001b[0m 140ms/step - loss: 0.0679 - val_loss: 0.0020\n",
      "Epoch 16/100\n",
      "\u001b[1m45/45\u001b[0m \u001b[32m━━━━━━━━━━━━━━━━━━━━\u001b[0m\u001b[37m\u001b[0m \u001b[1m6s\u001b[0m 139ms/step - loss: 0.0609 - val_loss: 0.0036\n",
      "Epoch 17/100\n",
      "\u001b[1m45/45\u001b[0m \u001b[32m━━━━━━━━━━━━━━━━━━━━\u001b[0m\u001b[37m\u001b[0m \u001b[1m6s\u001b[0m 138ms/step - loss: 0.0453 - val_loss: 0.0018\n",
      "Epoch 18/100\n",
      "\u001b[1m45/45\u001b[0m \u001b[32m━━━━━━━━━━━━━━━━━━━━\u001b[0m\u001b[37m\u001b[0m \u001b[1m6s\u001b[0m 138ms/step - loss: 0.0454 - val_loss: 0.0023\n",
      "Epoch 19/100\n",
      "\u001b[1m45/45\u001b[0m \u001b[32m━━━━━━━━━━━━━━━━━━━━\u001b[0m\u001b[37m\u001b[0m \u001b[1m6s\u001b[0m 139ms/step - loss: 0.0377 - val_loss: 0.0031\n",
      "Epoch 20/100\n",
      "\u001b[1m45/45\u001b[0m \u001b[32m━━━━━━━━━━━━━━━━━━━━\u001b[0m\u001b[37m\u001b[0m \u001b[1m6s\u001b[0m 140ms/step - loss: 0.0357 - val_loss: 0.0052\n",
      "Epoch 21/100\n",
      "\u001b[1m45/45\u001b[0m \u001b[32m━━━━━━━━━━━━━━━━━━━━\u001b[0m\u001b[37m\u001b[0m \u001b[1m6s\u001b[0m 137ms/step - loss: 0.0299 - val_loss: 0.0031\n",
      "Epoch 22/100\n",
      "\u001b[1m45/45\u001b[0m \u001b[32m━━━━━━━━━━━━━━━━━━━━\u001b[0m\u001b[37m\u001b[0m \u001b[1m6s\u001b[0m 138ms/step - loss: 0.0260 - val_loss: 0.0028\n"
     ]
    }
   ],
   "source": [
    "from tensorflow.keras.callbacks import EarlyStopping\n",
    "\n",
    "# Define EarlyStopping callback\n",
    "early_stop = EarlyStopping(\n",
    "    monitor='val_loss',  # Monitor the validation loss\n",
    "    patience=5,          # Number of epochs with no improvement after which training will be stopped\n",
    "    restore_best_weights=True  # Restore model weights from the epoch with the best validation loss\n",
    ")\n",
    "\n",
    "# Train the model with EarlyStopping\n",
    "history = model.fit(\n",
    "    X_train, y_train, \n",
    "    validation_data=(X_test,ytest),  # Use validation data for early stopping\n",
    "    epochs=100, \n",
    "    batch_size=32, \n",
    "    callbacks=[early_stop],  # Add EarlyStopping to the training process\n",
    "    verbose=1\n",
    ")\n"
   ]
  },
  {
   "cell_type": "code",
   "execution_count": 27,
   "metadata": {},
   "outputs": [],
   "source": [
    "import tensorflow as tf"
   ]
  },
  {
   "cell_type": "code",
   "execution_count": 28,
   "metadata": {},
   "outputs": [
    {
     "data": {
      "text/plain": [
       "'2.16.1'"
      ]
     },
     "execution_count": 28,
     "metadata": {},
     "output_type": "execute_result"
    }
   ],
   "source": [
    "tf.__version__"
   ]
  },
  {
   "cell_type": "code",
   "execution_count": 29,
   "metadata": {},
   "outputs": [
    {
     "name": "stdout",
     "output_type": "stream",
     "text": [
      "\u001b[1m45/45\u001b[0m \u001b[32m━━━━━━━━━━━━━━━━━━━━\u001b[0m\u001b[37m\u001b[0m \u001b[1m2s\u001b[0m 40ms/step\n",
      "\u001b[1m23/23\u001b[0m \u001b[32m━━━━━━━━━━━━━━━━━━━━\u001b[0m\u001b[37m\u001b[0m \u001b[1m1s\u001b[0m 30ms/step\n"
     ]
    }
   ],
   "source": [
    "### Lets Do the prediction and check performance metrics\n",
    "train_predict=model.predict(X_train)\n",
    "test_predict=model.predict(X_test)"
   ]
  },
  {
   "cell_type": "code",
   "execution_count": 30,
   "metadata": {},
   "outputs": [],
   "source": [
    "##Transformback to original form\n",
    "train_predict=scaler.inverse_transform(train_predict)\n",
    "test_predict=scaler.inverse_transform(test_predict)"
   ]
  },
  {
   "cell_type": "code",
   "execution_count": 31,
   "metadata": {},
   "outputs": [
    {
     "data": {
      "text/plain": [
       "10.620994015615834"
      ]
     },
     "execution_count": 31,
     "metadata": {},
     "output_type": "execute_result"
    }
   ],
   "source": [
    "### Calculate RMSE performance metrics\n",
    "import math\n",
    "from sklearn.metrics import mean_squared_error\n",
    "math.sqrt(mean_squared_error(y_train,train_predict))"
   ]
  },
  {
   "cell_type": "code",
   "execution_count": 32,
   "metadata": {},
   "outputs": [
    {
     "name": "stdout",
     "output_type": "stream",
     "text": [
      "Mean Absolute Error (MAE): 10.540848713247481\n",
      "Mean Squared Error (MSE): 112.80551387974737\n",
      "Root Mean Squared Error (RMSE): 10.620994015615834\n"
     ]
    }
   ],
   "source": [
    "import math\n",
    "from sklearn.metrics import mean_absolute_error, mean_squared_error\n",
    "\n",
    "# Calculate Mean Absolute Error (MAE)\n",
    "mae = mean_absolute_error(y_train, train_predict)\n",
    "\n",
    "# Calculate Mean Squared Error (MSE)\n",
    "mse = mean_squared_error(y_train, train_predict)\n",
    "\n",
    "# Calculate Root Mean Squared Error (RMSE)\n",
    "rmse = math.sqrt(mse)\n",
    "\n",
    "# Print all the metrics\n",
    "print(f\"Mean Absolute Error (MAE): {mae}\")\n",
    "print(f\"Mean Squared Error (MSE): {mse}\")\n",
    "print(f\"Root Mean Squared Error (RMSE): {rmse}\")"
   ]
  },
  {
   "cell_type": "code",
   "execution_count": 33,
   "metadata": {},
   "outputs": [
    {
     "data": {
      "text/plain": [
       "10.785501059278928"
      ]
     },
     "execution_count": 33,
     "metadata": {},
     "output_type": "execute_result"
    }
   ],
   "source": [
    "### Test Data RMSE\n",
    "math.sqrt(mean_squared_error(ytest,test_predict))"
   ]
  },
  {
   "cell_type": "code",
   "execution_count": 34,
   "metadata": {},
   "outputs": [
    {
     "name": "stdout",
     "output_type": "stream",
     "text": [
      "Mean Absolute Error (MAE): 10.764029717180568\n",
      "Mean Squared Error (MSE): 116.32703309970688\n",
      "Root Mean Squared Error (RMSE): 10.785501059278928\n"
     ]
    }
   ],
   "source": [
    "import math\n",
    "from sklearn.metrics import mean_absolute_error, mean_squared_error\n",
    "\n",
    "# Calculate Mean Absolute Error (MAE)\n",
    "mae = mean_absolute_error(ytest, test_predict)\n",
    "\n",
    "# Calculate Mean Squared Error (MSE)\n",
    "mse = mean_squared_error(ytest, test_predict)\n",
    "\n",
    "# Calculate Root Mean Squared Error (RMSE)\n",
    "rmse = math.sqrt(mse)\n",
    "\n",
    "# Print all the metrics\n",
    "print(f\"Mean Absolute Error (MAE): {mae}\")\n",
    "print(f\"Mean Squared Error (MSE): {mse}\")\n",
    "print(f\"Root Mean Squared Error (RMSE): {rmse}\")"
   ]
  },
  {
   "cell_type": "code",
   "execution_count": 36,
   "metadata": {},
   "outputs": [
    {
     "data": {
      "image/png": "[encoded data removed]",
      "text/plain": [
       "<Figure size 1000x600 with 1 Axes>"
      ]
     },
     "metadata": {},
     "output_type": "display_data"
    }
   ],
   "source": [
    "# shift train predictions for plotting\n",
    "look_back = 100\n",
    "trainPredictPlot = numpy.empty_like(df1)\n",
    "trainPredictPlot[:, :] = np.nan\n",
    "trainPredictPlot[look_back:len(train_predict) + look_back, :] = train_predict\n",
    "\n",
    "# shift test predictions for plotting\n",
    "testPredictPlot = numpy.empty_like(df1)\n",
    "testPredictPlot[:, :] = np.nan\n",
    "testPredictPlot[len(train_predict) + (look_back * 2) + 1:len(df1) - 1, :] = test_predict\n",
    "\n",
    "# plot baseline and predictions\n",
    "plt.figure(figsize=(10, 6))\n",
    "plt.plot(scaler.inverse_transform(df1), label='Original Data', color='blue')\n",
    "plt.plot(trainPredictPlot, label='Train Predictions', color='orange')\n",
    "plt.plot(testPredictPlot, label='Test Predictions', color='green')\n",
    "\n",
    "# Add title and labels\n",
    "plt.title('Original Data vs Predictions - Dialog PLC')\n",
    "plt.xlabel('Time')\n",
    "plt.ylabel('Value (Rs.)')\n",
    "\n",
    "# Add a legend\n",
    "plt.legend(loc='upper left')\n",
    "\n",
    "# Show the plot\n",
    "plt.show()"
   ]
  },
  {
   "cell_type": "code",
   "execution_count": 34,
   "metadata": {},
   "outputs": [
    {
     "data": {
      "text/plain": [
       "828"
      ]
     },
     "execution_count": 34,
     "metadata": {},
     "output_type": "execute_result"
    }
   ],
   "source": [
    "len(test_data)"
   ]
  },
  {
   "cell_type": "code",
   "execution_count": 35,
   "metadata": {},
   "outputs": [],
   "source": [
    "a = len(test_data) - 100"
   ]
  },
  {
   "cell_type": "code",
   "execution_count": 36,
   "metadata": {},
   "outputs": [
    {
     "data": {
      "text/plain": [
       "(1, 100)"
      ]
     },
     "execution_count": 36,
     "metadata": {},
     "output_type": "execute_result"
    }
   ],
   "source": [
    "x_input=test_data[a:].reshape(1,-1)\n",
    "x_input.shape\n"
   ]
  },
  {
   "cell_type": "code",
   "execution_count": 37,
   "metadata": {},
   "outputs": [],
   "source": [
    "temp_input=list(x_input)\n",
    "temp_input=temp_input[0].tolist()"
   ]
  },
  {
   "cell_type": "code",
   "execution_count": 38,
   "metadata": {},
   "outputs": [
    {
     "data": {
      "text/plain": [
       "[0.91044776119403,\n",
       " 0.791044776119403,\n",
       " 0.6865671641791047,\n",
       " 0.6865671641791047,\n",
       " 0.6716417910447763,\n",
       " 0.6865671641791047,\n",
       " 0.6716417910447763,\n",
       " 0.6865671641791047,\n",
       " 0.6417910447761195,\n",
       " 0.6268656716417911,\n",
       " 0.6716417910447763,\n",
       " 0.6567164179104479,\n",
       " 0.6865671641791047,\n",
       " 0.6716417910447763,\n",
       " 0.6567164179104479,\n",
       " 0.6417910447761195,\n",
       " 0.6119402985074629,\n",
       " 0.5970149253731345,\n",
       " 0.6119402985074629,\n",
       " 0.6268656716417911,\n",
       " 0.6268656716417911,\n",
       " 0.6417910447761195,\n",
       " 0.6268656716417911,\n",
       " 0.6417910447761195,\n",
       " 0.6716417910447763,\n",
       " 0.6716417910447763,\n",
       " 0.6865671641791047,\n",
       " 0.6865671641791047,\n",
       " 0.6865671641791047,\n",
       " 0.6268656716417911,\n",
       " 0.6119402985074629,\n",
       " 0.5373134328358209,\n",
       " 0.5074626865671643,\n",
       " 0.5074626865671643,\n",
       " 0.5223880597014927,\n",
       " 0.5074626865671643,\n",
       " 0.4925373134328359,\n",
       " 0.5074626865671643,\n",
       " 0.4776119402985075,\n",
       " 0.4925373134328359,\n",
       " 0.4925373134328359,\n",
       " 0.4925373134328359,\n",
       " 0.4925373134328359,\n",
       " 0.4925373134328359,\n",
       " 0.4925373134328359,\n",
       " 0.4776119402985075,\n",
       " 0.4776119402985075,\n",
       " 0.4626865671641791,\n",
       " 0.4776119402985075,\n",
       " 0.4925373134328359,\n",
       " 0.4776119402985075,\n",
       " 0.5074626865671643,\n",
       " 0.4925373134328359,\n",
       " 0.4776119402985075,\n",
       " 0.4925373134328359,\n",
       " 0.4925373134328359,\n",
       " 0.4776119402985075,\n",
       " 0.4925373134328359,\n",
       " 0.5074626865671643,\n",
       " 0.5223880597014927,\n",
       " 0.4776119402985075,\n",
       " 0.4626865671641791,\n",
       " 0.44776119402985093,\n",
       " 0.44776119402985093,\n",
       " 0.4626865671641791,\n",
       " 0.4626865671641791,\n",
       " 0.4626865671641791,\n",
       " 0.4328358208955225,\n",
       " 0.4328358208955225,\n",
       " 0.4328358208955225,\n",
       " 0.4328358208955225,\n",
       " 0.44776119402985093,\n",
       " 0.4328358208955225,\n",
       " 0.4328358208955225,\n",
       " 0.44776119402985093,\n",
       " 0.4328358208955225,\n",
       " 0.4328358208955225,\n",
       " 0.4328358208955225,\n",
       " 0.44776119402985093,\n",
       " 0.4626865671641791,\n",
       " 0.4626865671641791,\n",
       " 0.44776119402985093,\n",
       " 0.4626865671641791,\n",
       " 0.4626865671641791,\n",
       " 0.4776119402985075,\n",
       " 0.4925373134328359,\n",
       " 0.44776119402985093,\n",
       " 0.4626865671641791,\n",
       " 0.4626865671641791,\n",
       " 0.4626865671641791,\n",
       " 0.4179104477611939,\n",
       " 0.3880597014925373,\n",
       " 0.3880597014925373,\n",
       " 0.3880597014925373,\n",
       " 0.37313432835820914,\n",
       " 0.3880597014925373,\n",
       " 0.4029850746268657,\n",
       " 0.3880597014925373,\n",
       " 0.4029850746268657,\n",
       " 0.3880597014925373]"
      ]
     },
     "execution_count": 38,
     "metadata": {},
     "output_type": "execute_result"
    }
   ],
   "source": [
    "temp_input"
   ]
  },
  {
   "cell_type": "code",
   "execution_count": 39,
   "metadata": {},
   "outputs": [
    {
     "name": "stdout",
     "output_type": "stream",
     "text": [
      "[0.4167889]\n",
      "101\n",
      "1 day input [0.79104478 0.68656716 0.68656716 0.67164179 0.68656716 0.67164179\n",
      " 0.68656716 0.64179104 0.62686567 0.67164179 0.65671642 0.68656716\n",
      " 0.67164179 0.65671642 0.64179104 0.6119403  0.59701493 0.6119403\n",
      " 0.62686567 0.62686567 0.64179104 0.62686567 0.64179104 0.67164179\n",
      " 0.67164179 0.68656716 0.68656716 0.68656716 0.62686567 0.6119403\n",
      " 0.53731343 0.50746269 0.50746269 0.52238806 0.50746269 0.49253731\n",
      " 0.50746269 0.47761194 0.49253731 0.49253731 0.49253731 0.49253731\n",
      " 0.49253731 0.49253731 0.47761194 0.47761194 0.46268657 0.47761194\n",
      " 0.49253731 0.47761194 0.50746269 0.49253731 0.47761194 0.49253731\n",
      " 0.49253731 0.47761194 0.49253731 0.50746269 0.52238806 0.47761194\n",
      " 0.46268657 0.44776119 0.44776119 0.46268657 0.46268657 0.46268657\n",
      " 0.43283582 0.43283582 0.43283582 0.43283582 0.44776119 0.43283582\n",
      " 0.43283582 0.44776119 0.43283582 0.43283582 0.43283582 0.44776119\n",
      " 0.46268657 0.46268657 0.44776119 0.46268657 0.46268657 0.47761194\n",
      " 0.49253731 0.44776119 0.46268657 0.46268657 0.46268657 0.41791045\n",
      " 0.3880597  0.3880597  0.3880597  0.37313433 0.3880597  0.40298507\n",
      " 0.3880597  0.40298507 0.3880597  0.41678891]\n",
      "1 day output [[0.42615378]]\n",
      "2 day input [0.68656716 0.68656716 0.67164179 0.68656716 0.67164179 0.68656716\n",
      " 0.64179104 0.62686567 0.67164179 0.65671642 0.68656716 0.67164179\n",
      " 0.65671642 0.64179104 0.6119403  0.59701493 0.6119403  0.62686567\n",
      " 0.62686567 0.64179104 0.62686567 0.64179104 0.67164179 0.67164179\n",
      " 0.68656716 0.68656716 0.68656716 0.62686567 0.6119403  0.53731343\n",
      " 0.50746269 0.50746269 0.52238806 0.50746269 0.49253731 0.50746269\n",
      " 0.47761194 0.49253731 0.49253731 0.49253731 0.49253731 0.49253731\n",
      " 0.49253731 0.47761194 0.47761194 0.46268657 0.47761194 0.49253731\n",
      " 0.47761194 0.50746269 0.49253731 0.47761194 0.49253731 0.49253731\n",
      " 0.47761194 0.49253731 0.50746269 0.52238806 0.47761194 0.46268657\n",
      " 0.44776119 0.44776119 0.46268657 0.46268657 0.46268657 0.43283582\n",
      " 0.43283582 0.43283582 0.43283582 0.44776119 0.43283582 0.43283582\n",
      " 0.44776119 0.43283582 0.43283582 0.43283582 0.44776119 0.46268657\n",
      " 0.46268657 0.44776119 0.46268657 0.46268657 0.47761194 0.49253731\n",
      " 0.44776119 0.46268657 0.46268657 0.46268657 0.41791045 0.3880597\n",
      " 0.3880597  0.3880597  0.37313433 0.3880597  0.40298507 0.3880597\n",
      " 0.40298507 0.3880597  0.41678891 0.42615378]\n",
      "2 day output [[0.43722883]]\n",
      "3 day input [0.68656716 0.67164179 0.68656716 0.67164179 0.68656716 0.64179104\n",
      " 0.62686567 0.67164179 0.65671642 0.68656716 0.67164179 0.65671642\n",
      " 0.64179104 0.6119403  0.59701493 0.6119403  0.62686567 0.62686567\n",
      " 0.64179104 0.62686567 0.64179104 0.67164179 0.67164179 0.68656716\n",
      " 0.68656716 0.68656716 0.62686567 0.6119403  0.53731343 0.50746269\n",
      " 0.50746269 0.52238806 0.50746269 0.49253731 0.50746269 0.47761194\n",
      " 0.49253731 0.49253731 0.49253731 0.49253731 0.49253731 0.49253731\n",
      " 0.47761194 0.47761194 0.46268657 0.47761194 0.49253731 0.47761194\n",
      " 0.50746269 0.49253731 0.47761194 0.49253731 0.49253731 0.47761194\n",
      " 0.49253731 0.50746269 0.52238806 0.47761194 0.46268657 0.44776119\n",
      " 0.44776119 0.46268657 0.46268657 0.46268657 0.43283582 0.43283582\n",
      " 0.43283582 0.43283582 0.44776119 0.43283582 0.43283582 0.44776119\n",
      " 0.43283582 0.43283582 0.43283582 0.44776119 0.46268657 0.46268657\n",
      " 0.44776119 0.46268657 0.46268657 0.47761194 0.49253731 0.44776119\n",
      " 0.46268657 0.46268657 0.46268657 0.41791045 0.3880597  0.3880597\n",
      " 0.3880597  0.37313433 0.3880597  0.40298507 0.3880597  0.40298507\n",
      " 0.3880597  0.41678891 0.42615378 0.43722883]\n",
      "3 day output [[0.4481168]]\n",
      "4 day input [0.67164179 0.68656716 0.67164179 0.68656716 0.64179104 0.62686567\n",
      " 0.67164179 0.65671642 0.68656716 0.67164179 0.65671642 0.64179104\n",
      " 0.6119403  0.59701493 0.6119403  0.62686567 0.62686567 0.64179104\n",
      " 0.62686567 0.64179104 0.67164179 0.67164179 0.68656716 0.68656716\n",
      " 0.68656716 0.62686567 0.6119403  0.53731343 0.50746269 0.50746269\n",
      " 0.52238806 0.50746269 0.49253731 0.50746269 0.47761194 0.49253731\n",
      " 0.49253731 0.49253731 0.49253731 0.49253731 0.49253731 0.47761194\n",
      " 0.47761194 0.46268657 0.47761194 0.49253731 0.47761194 0.50746269\n",
      " 0.49253731 0.47761194 0.49253731 0.49253731 0.47761194 0.49253731\n",
      " 0.50746269 0.52238806 0.47761194 0.46268657 0.44776119 0.44776119\n",
      " 0.46268657 0.46268657 0.46268657 0.43283582 0.43283582 0.43283582\n",
      " 0.43283582 0.44776119 0.43283582 0.43283582 0.44776119 0.43283582\n",
      " 0.43283582 0.43283582 0.44776119 0.46268657 0.46268657 0.44776119\n",
      " 0.46268657 0.46268657 0.47761194 0.49253731 0.44776119 0.46268657\n",
      " 0.46268657 0.46268657 0.41791045 0.3880597  0.3880597  0.3880597\n",
      " 0.37313433 0.3880597  0.40298507 0.3880597  0.40298507 0.3880597\n",
      " 0.41678891 0.42615378 0.43722883 0.44811681]\n",
      "4 day output [[0.45671913]]\n",
      "5 day input [0.68656716 0.67164179 0.68656716 0.64179104 0.62686567 0.67164179\n",
      " 0.65671642 0.68656716 0.67164179 0.65671642 0.64179104 0.6119403\n",
      " 0.59701493 0.6119403  0.62686567 0.62686567 0.64179104 0.62686567\n",
      " 0.64179104 0.67164179 0.67164179 0.68656716 0.68656716 0.68656716\n",
      " 0.62686567 0.6119403  0.53731343 0.50746269 0.50746269 0.52238806\n",
      " 0.50746269 0.49253731 0.50746269 0.47761194 0.49253731 0.49253731\n",
      " 0.49253731 0.49253731 0.49253731 0.49253731 0.47761194 0.47761194\n",
      " 0.46268657 0.47761194 0.49253731 0.47761194 0.50746269 0.49253731\n",
      " 0.47761194 0.49253731 0.49253731 0.47761194 0.49253731 0.50746269\n",
      " 0.52238806 0.47761194 0.46268657 0.44776119 0.44776119 0.46268657\n",
      " 0.46268657 0.46268657 0.43283582 0.43283582 0.43283582 0.43283582\n",
      " 0.44776119 0.43283582 0.43283582 0.44776119 0.43283582 0.43283582\n",
      " 0.43283582 0.44776119 0.46268657 0.46268657 0.44776119 0.46268657\n",
      " 0.46268657 0.47761194 0.49253731 0.44776119 0.46268657 0.46268657\n",
      " 0.46268657 0.41791045 0.3880597  0.3880597  0.3880597  0.37313433\n",
      " 0.3880597  0.40298507 0.3880597  0.40298507 0.3880597  0.41678891\n",
      " 0.42615378 0.43722883 0.44811681 0.45671913]\n",
      "5 day output [[0.46141562]]\n",
      "6 day input [0.67164179 0.68656716 0.64179104 0.62686567 0.67164179 0.65671642\n",
      " 0.68656716 0.67164179 0.65671642 0.64179104 0.6119403  0.59701493\n",
      " 0.6119403  0.62686567 0.62686567 0.64179104 0.62686567 0.64179104\n",
      " 0.67164179 0.67164179 0.68656716 0.68656716 0.68656716 0.62686567\n",
      " 0.6119403  0.53731343 0.50746269 0.50746269 0.52238806 0.50746269\n",
      " 0.49253731 0.50746269 0.47761194 0.49253731 0.49253731 0.49253731\n",
      " 0.49253731 0.49253731 0.49253731 0.47761194 0.47761194 0.46268657\n",
      " 0.47761194 0.49253731 0.47761194 0.50746269 0.49253731 0.47761194\n",
      " 0.49253731 0.49253731 0.47761194 0.49253731 0.50746269 0.52238806\n",
      " 0.47761194 0.46268657 0.44776119 0.44776119 0.46268657 0.46268657\n",
      " 0.46268657 0.43283582 0.43283582 0.43283582 0.43283582 0.44776119\n",
      " 0.43283582 0.43283582 0.44776119 0.43283582 0.43283582 0.43283582\n",
      " 0.44776119 0.46268657 0.46268657 0.44776119 0.46268657 0.46268657\n",
      " 0.47761194 0.49253731 0.44776119 0.46268657 0.46268657 0.46268657\n",
      " 0.41791045 0.3880597  0.3880597  0.3880597  0.37313433 0.3880597\n",
      " 0.40298507 0.3880597  0.40298507 0.3880597  0.41678891 0.42615378\n",
      " 0.43722883 0.44811681 0.45671913 0.46141562]\n",
      "6 day output [[0.4614225]]\n",
      "7 day input [0.68656716 0.64179104 0.62686567 0.67164179 0.65671642 0.68656716\n",
      " 0.67164179 0.65671642 0.64179104 0.6119403  0.59701493 0.6119403\n",
      " 0.62686567 0.62686567 0.64179104 0.62686567 0.64179104 0.67164179\n",
      " 0.67164179 0.68656716 0.68656716 0.68656716 0.62686567 0.6119403\n",
      " 0.53731343 0.50746269 0.50746269 0.52238806 0.50746269 0.49253731\n",
      " 0.50746269 0.47761194 0.49253731 0.49253731 0.49253731 0.49253731\n",
      " 0.49253731 0.49253731 0.47761194 0.47761194 0.46268657 0.47761194\n",
      " 0.49253731 0.47761194 0.50746269 0.49253731 0.47761194 0.49253731\n",
      " 0.49253731 0.47761194 0.49253731 0.50746269 0.52238806 0.47761194\n",
      " 0.46268657 0.44776119 0.44776119 0.46268657 0.46268657 0.46268657\n",
      " 0.43283582 0.43283582 0.43283582 0.43283582 0.44776119 0.43283582\n",
      " 0.43283582 0.44776119 0.43283582 0.43283582 0.43283582 0.44776119\n",
      " 0.46268657 0.46268657 0.44776119 0.46268657 0.46268657 0.47761194\n",
      " 0.49253731 0.44776119 0.46268657 0.46268657 0.46268657 0.41791045\n",
      " 0.3880597  0.3880597  0.3880597  0.37313433 0.3880597  0.40298507\n",
      " 0.3880597  0.40298507 0.3880597  0.41678891 0.42615378 0.43722883\n",
      " 0.44811681 0.45671913 0.46141562 0.4614225 ]\n",
      "7 day output [[0.45704544]]\n",
      "8 day input [0.64179104 0.62686567 0.67164179 0.65671642 0.68656716 0.67164179\n",
      " 0.65671642 0.64179104 0.6119403  0.59701493 0.6119403  0.62686567\n",
      " 0.62686567 0.64179104 0.62686567 0.64179104 0.67164179 0.67164179\n",
      " 0.68656716 0.68656716 0.68656716 0.62686567 0.6119403  0.53731343\n",
      " 0.50746269 0.50746269 0.52238806 0.50746269 0.49253731 0.50746269\n",
      " 0.47761194 0.49253731 0.49253731 0.49253731 0.49253731 0.49253731\n",
      " 0.49253731 0.47761194 0.47761194 0.46268657 0.47761194 0.49253731\n",
      " 0.47761194 0.50746269 0.49253731 0.47761194 0.49253731 0.49253731\n",
      " 0.47761194 0.49253731 0.50746269 0.52238806 0.47761194 0.46268657\n",
      " 0.44776119 0.44776119 0.46268657 0.46268657 0.46268657 0.43283582\n",
      " 0.43283582 0.43283582 0.43283582 0.44776119 0.43283582 0.43283582\n",
      " 0.44776119 0.43283582 0.43283582 0.43283582 0.44776119 0.46268657\n",
      " 0.46268657 0.44776119 0.46268657 0.46268657 0.47761194 0.49253731\n",
      " 0.44776119 0.46268657 0.46268657 0.46268657 0.41791045 0.3880597\n",
      " 0.3880597  0.3880597  0.37313433 0.3880597  0.40298507 0.3880597\n",
      " 0.40298507 0.3880597  0.41678891 0.42615378 0.43722883 0.44811681\n",
      " 0.45671913 0.46141562 0.4614225  0.45704544]\n",
      "8 day output [[0.44958168]]\n",
      "9 day input [0.62686567 0.67164179 0.65671642 0.68656716 0.67164179 0.65671642\n",
      " 0.64179104 0.6119403  0.59701493 0.6119403  0.62686567 0.62686567\n",
      " 0.64179104 0.62686567 0.64179104 0.67164179 0.67164179 0.68656716\n",
      " 0.68656716 0.68656716 0.62686567 0.6119403  0.53731343 0.50746269\n",
      " 0.50746269 0.52238806 0.50746269 0.49253731 0.50746269 0.47761194\n",
      " 0.49253731 0.49253731 0.49253731 0.49253731 0.49253731 0.49253731\n",
      " 0.47761194 0.47761194 0.46268657 0.47761194 0.49253731 0.47761194\n",
      " 0.50746269 0.49253731 0.47761194 0.49253731 0.49253731 0.47761194\n",
      " 0.49253731 0.50746269 0.52238806 0.47761194 0.46268657 0.44776119\n",
      " 0.44776119 0.46268657 0.46268657 0.46268657 0.43283582 0.43283582\n",
      " 0.43283582 0.43283582 0.44776119 0.43283582 0.43283582 0.44776119\n",
      " 0.43283582 0.43283582 0.43283582 0.44776119 0.46268657 0.46268657\n",
      " 0.44776119 0.46268657 0.46268657 0.47761194 0.49253731 0.44776119\n",
      " 0.46268657 0.46268657 0.46268657 0.41791045 0.3880597  0.3880597\n",
      " 0.3880597  0.37313433 0.3880597  0.40298507 0.3880597  0.40298507\n",
      " 0.3880597  0.41678891 0.42615378 0.43722883 0.44811681 0.45671913\n",
      " 0.46141562 0.4614225  0.45704544 0.44958168]\n",
      "9 day output [[0.44078583]]\n",
      "10 day input [0.67164179 0.65671642 0.68656716 0.67164179 0.65671642 0.64179104\n",
      " 0.6119403  0.59701493 0.6119403  0.62686567 0.62686567 0.64179104\n",
      " 0.62686567 0.64179104 0.67164179 0.67164179 0.68656716 0.68656716\n",
      " 0.68656716 0.62686567 0.6119403  0.53731343 0.50746269 0.50746269\n",
      " 0.52238806 0.50746269 0.49253731 0.50746269 0.47761194 0.49253731\n",
      " 0.49253731 0.49253731 0.49253731 0.49253731 0.49253731 0.47761194\n",
      " 0.47761194 0.46268657 0.47761194 0.49253731 0.47761194 0.50746269\n",
      " 0.49253731 0.47761194 0.49253731 0.49253731 0.47761194 0.49253731\n",
      " 0.50746269 0.52238806 0.47761194 0.46268657 0.44776119 0.44776119\n",
      " 0.46268657 0.46268657 0.46268657 0.43283582 0.43283582 0.43283582\n",
      " 0.43283582 0.44776119 0.43283582 0.43283582 0.44776119 0.43283582\n",
      " 0.43283582 0.43283582 0.44776119 0.46268657 0.46268657 0.44776119\n",
      " 0.46268657 0.46268657 0.47761194 0.49253731 0.44776119 0.46268657\n",
      " 0.46268657 0.46268657 0.41791045 0.3880597  0.3880597  0.3880597\n",
      " 0.37313433 0.3880597  0.40298507 0.3880597  0.40298507 0.3880597\n",
      " 0.41678891 0.42615378 0.43722883 0.44811681 0.45671913 0.46141562\n",
      " 0.4614225  0.45704544 0.44958168 0.44078583]\n",
      "10 day output [[0.43222347]]\n",
      "11 day input [0.65671642 0.68656716 0.67164179 0.65671642 0.64179104 0.6119403\n",
      " 0.59701493 0.6119403  0.62686567 0.62686567 0.64179104 0.62686567\n",
      " 0.64179104 0.67164179 0.67164179 0.68656716 0.68656716 0.68656716\n",
      " 0.62686567 0.6119403  0.53731343 0.50746269 0.50746269 0.52238806\n",
      " 0.50746269 0.49253731 0.50746269 0.47761194 0.49253731 0.49253731\n",
      " 0.49253731 0.49253731 0.49253731 0.49253731 0.47761194 0.47761194\n",
      " 0.46268657 0.47761194 0.49253731 0.47761194 0.50746269 0.49253731\n",
      " 0.47761194 0.49253731 0.49253731 0.47761194 0.49253731 0.50746269\n",
      " 0.52238806 0.47761194 0.46268657 0.44776119 0.44776119 0.46268657\n",
      " 0.46268657 0.46268657 0.43283582 0.43283582 0.43283582 0.43283582\n",
      " 0.44776119 0.43283582 0.43283582 0.44776119 0.43283582 0.43283582\n",
      " 0.43283582 0.44776119 0.46268657 0.46268657 0.44776119 0.46268657\n",
      " 0.46268657 0.47761194 0.49253731 0.44776119 0.46268657 0.46268657\n",
      " 0.46268657 0.41791045 0.3880597  0.3880597  0.3880597  0.37313433\n",
      " 0.3880597  0.40298507 0.3880597  0.40298507 0.3880597  0.41678891\n",
      " 0.42615378 0.43722883 0.44811681 0.45671913 0.46141562 0.4614225\n",
      " 0.45704544 0.44958168 0.44078583 0.43222347]\n",
      "11 day output [[0.42490545]]\n",
      "12 day input [0.68656716 0.67164179 0.65671642 0.64179104 0.6119403  0.59701493\n",
      " 0.6119403  0.62686567 0.62686567 0.64179104 0.62686567 0.64179104\n",
      " 0.67164179 0.67164179 0.68656716 0.68656716 0.68656716 0.62686567\n",
      " 0.6119403  0.53731343 0.50746269 0.50746269 0.52238806 0.50746269\n",
      " 0.49253731 0.50746269 0.47761194 0.49253731 0.49253731 0.49253731\n",
      " 0.49253731 0.49253731 0.49253731 0.47761194 0.47761194 0.46268657\n",
      " 0.47761194 0.49253731 0.47761194 0.50746269 0.49253731 0.47761194\n",
      " 0.49253731 0.49253731 0.47761194 0.49253731 0.50746269 0.52238806\n",
      " 0.47761194 0.46268657 0.44776119 0.44776119 0.46268657 0.46268657\n",
      " 0.46268657 0.43283582 0.43283582 0.43283582 0.43283582 0.44776119\n",
      " 0.43283582 0.43283582 0.44776119 0.43283582 0.43283582 0.43283582\n",
      " 0.44776119 0.46268657 0.46268657 0.44776119 0.46268657 0.46268657\n",
      " 0.47761194 0.49253731 0.44776119 0.46268657 0.46268657 0.46268657\n",
      " 0.41791045 0.3880597  0.3880597  0.3880597  0.37313433 0.3880597\n",
      " 0.40298507 0.3880597  0.40298507 0.3880597  0.41678891 0.42615378\n",
      " 0.43722883 0.44811681 0.45671913 0.46141562 0.4614225  0.45704544\n",
      " 0.44958168 0.44078583 0.43222347 0.42490545]\n",
      "12 day output [[0.41925332]]\n",
      "13 day input [0.67164179 0.65671642 0.64179104 0.6119403  0.59701493 0.6119403\n",
      " 0.62686567 0.62686567 0.64179104 0.62686567 0.64179104 0.67164179\n",
      " 0.67164179 0.68656716 0.68656716 0.68656716 0.62686567 0.6119403\n",
      " 0.53731343 0.50746269 0.50746269 0.52238806 0.50746269 0.49253731\n",
      " 0.50746269 0.47761194 0.49253731 0.49253731 0.49253731 0.49253731\n",
      " 0.49253731 0.49253731 0.47761194 0.47761194 0.46268657 0.47761194\n",
      " 0.49253731 0.47761194 0.50746269 0.49253731 0.47761194 0.49253731\n",
      " 0.49253731 0.47761194 0.49253731 0.50746269 0.52238806 0.47761194\n",
      " 0.46268657 0.44776119 0.44776119 0.46268657 0.46268657 0.46268657\n",
      " 0.43283582 0.43283582 0.43283582 0.43283582 0.44776119 0.43283582\n",
      " 0.43283582 0.44776119 0.43283582 0.43283582 0.43283582 0.44776119\n",
      " 0.46268657 0.46268657 0.44776119 0.46268657 0.46268657 0.47761194\n",
      " 0.49253731 0.44776119 0.46268657 0.46268657 0.46268657 0.41791045\n",
      " 0.3880597  0.3880597  0.3880597  0.37313433 0.3880597  0.40298507\n",
      " 0.3880597  0.40298507 0.3880597  0.41678891 0.42615378 0.43722883\n",
      " 0.44811681 0.45671913 0.46141562 0.4614225  0.45704544 0.44958168\n",
      " 0.44078583 0.43222347 0.42490545 0.41925332]\n",
      "13 day output [[0.41523382]]\n",
      "14 day input [0.65671642 0.64179104 0.6119403  0.59701493 0.6119403  0.62686567\n",
      " 0.62686567 0.64179104 0.62686567 0.64179104 0.67164179 0.67164179\n",
      " 0.68656716 0.68656716 0.68656716 0.62686567 0.6119403  0.53731343\n",
      " 0.50746269 0.50746269 0.52238806 0.50746269 0.49253731 0.50746269\n",
      " 0.47761194 0.49253731 0.49253731 0.49253731 0.49253731 0.49253731\n",
      " 0.49253731 0.47761194 0.47761194 0.46268657 0.47761194 0.49253731\n",
      " 0.47761194 0.50746269 0.49253731 0.47761194 0.49253731 0.49253731\n",
      " 0.47761194 0.49253731 0.50746269 0.52238806 0.47761194 0.46268657\n",
      " 0.44776119 0.44776119 0.46268657 0.46268657 0.46268657 0.43283582\n",
      " 0.43283582 0.43283582 0.43283582 0.44776119 0.43283582 0.43283582\n",
      " 0.44776119 0.43283582 0.43283582 0.43283582 0.44776119 0.46268657\n",
      " 0.46268657 0.44776119 0.46268657 0.46268657 0.47761194 0.49253731\n",
      " 0.44776119 0.46268657 0.46268657 0.46268657 0.41791045 0.3880597\n",
      " 0.3880597  0.3880597  0.37313433 0.3880597  0.40298507 0.3880597\n",
      " 0.40298507 0.3880597  0.41678891 0.42615378 0.43722883 0.44811681\n",
      " 0.45671913 0.46141562 0.4614225  0.45704544 0.44958168 0.44078583\n",
      " 0.43222347 0.42490545 0.41925332 0.41523382]\n",
      "14 day output [[0.4125617]]\n",
      "15 day input [0.64179104 0.6119403  0.59701493 0.6119403  0.62686567 0.62686567\n",
      " 0.64179104 0.62686567 0.64179104 0.67164179 0.67164179 0.68656716\n",
      " 0.68656716 0.68656716 0.62686567 0.6119403  0.53731343 0.50746269\n",
      " 0.50746269 0.52238806 0.50746269 0.49253731 0.50746269 0.47761194\n",
      " 0.49253731 0.49253731 0.49253731 0.49253731 0.49253731 0.49253731\n",
      " 0.47761194 0.47761194 0.46268657 0.47761194 0.49253731 0.47761194\n",
      " 0.50746269 0.49253731 0.47761194 0.49253731 0.49253731 0.47761194\n",
      " 0.49253731 0.50746269 0.52238806 0.47761194 0.46268657 0.44776119\n",
      " 0.44776119 0.46268657 0.46268657 0.46268657 0.43283582 0.43283582\n",
      " 0.43283582 0.43283582 0.44776119 0.43283582 0.43283582 0.44776119\n",
      " 0.43283582 0.43283582 0.43283582 0.44776119 0.46268657 0.46268657\n",
      " 0.44776119 0.46268657 0.46268657 0.47761194 0.49253731 0.44776119\n",
      " 0.46268657 0.46268657 0.46268657 0.41791045 0.3880597  0.3880597\n",
      " 0.3880597  0.37313433 0.3880597  0.40298507 0.3880597  0.40298507\n",
      " 0.3880597  0.41678891 0.42615378 0.43722883 0.44811681 0.45671913\n",
      " 0.46141562 0.4614225  0.45704544 0.44958168 0.44078583 0.43222347\n",
      " 0.42490545 0.41925332 0.41523382 0.41256171]\n",
      "15 day output [[0.41092893]]\n",
      "16 day input [0.6119403  0.59701493 0.6119403  0.62686567 0.62686567 0.64179104\n",
      " 0.62686567 0.64179104 0.67164179 0.67164179 0.68656716 0.68656716\n",
      " 0.68656716 0.62686567 0.6119403  0.53731343 0.50746269 0.50746269\n",
      " 0.52238806 0.50746269 0.49253731 0.50746269 0.47761194 0.49253731\n",
      " 0.49253731 0.49253731 0.49253731 0.49253731 0.49253731 0.47761194\n",
      " 0.47761194 0.46268657 0.47761194 0.49253731 0.47761194 0.50746269\n",
      " 0.49253731 0.47761194 0.49253731 0.49253731 0.47761194 0.49253731\n",
      " 0.50746269 0.52238806 0.47761194 0.46268657 0.44776119 0.44776119\n",
      " 0.46268657 0.46268657 0.46268657 0.43283582 0.43283582 0.43283582\n",
      " 0.43283582 0.44776119 0.43283582 0.43283582 0.44776119 0.43283582\n",
      " 0.43283582 0.43283582 0.44776119 0.46268657 0.46268657 0.44776119\n",
      " 0.46268657 0.46268657 0.47761194 0.49253731 0.44776119 0.46268657\n",
      " 0.46268657 0.46268657 0.41791045 0.3880597  0.3880597  0.3880597\n",
      " 0.37313433 0.3880597  0.40298507 0.3880597  0.40298507 0.3880597\n",
      " 0.41678891 0.42615378 0.43722883 0.44811681 0.45671913 0.46141562\n",
      " 0.4614225  0.45704544 0.44958168 0.44078583 0.43222347 0.42490545\n",
      " 0.41925332 0.41523382 0.41256171 0.41092893]\n",
      "16 day output [[0.4101713]]\n",
      "17 day input [0.59701493 0.6119403  0.62686567 0.62686567 0.64179104 0.62686567\n",
      " 0.64179104 0.67164179 0.67164179 0.68656716 0.68656716 0.68656716\n",
      " 0.62686567 0.6119403  0.53731343 0.50746269 0.50746269 0.52238806\n",
      " 0.50746269 0.49253731 0.50746269 0.47761194 0.49253731 0.49253731\n",
      " 0.49253731 0.49253731 0.49253731 0.49253731 0.47761194 0.47761194\n",
      " 0.46268657 0.47761194 0.49253731 0.47761194 0.50746269 0.49253731\n",
      " 0.47761194 0.49253731 0.49253731 0.47761194 0.49253731 0.50746269\n",
      " 0.52238806 0.47761194 0.46268657 0.44776119 0.44776119 0.46268657\n",
      " 0.46268657 0.46268657 0.43283582 0.43283582 0.43283582 0.43283582\n",
      " 0.44776119 0.43283582 0.43283582 0.44776119 0.43283582 0.43283582\n",
      " 0.43283582 0.44776119 0.46268657 0.46268657 0.44776119 0.46268657\n",
      " 0.46268657 0.47761194 0.49253731 0.44776119 0.46268657 0.46268657\n",
      " 0.46268657 0.41791045 0.3880597  0.3880597  0.3880597  0.37313433\n",
      " 0.3880597  0.40298507 0.3880597  0.40298507 0.3880597  0.41678891\n",
      " 0.42615378 0.43722883 0.44811681 0.45671913 0.46141562 0.4614225\n",
      " 0.45704544 0.44958168 0.44078583 0.43222347 0.42490545 0.41925332\n",
      " 0.41523382 0.41256171 0.41092893 0.4101713 ]\n",
      "17 day output [[0.410293]]\n",
      "18 day input [0.6119403  0.62686567 0.62686567 0.64179104 0.62686567 0.64179104\n",
      " 0.67164179 0.67164179 0.68656716 0.68656716 0.68656716 0.62686567\n",
      " 0.6119403  0.53731343 0.50746269 0.50746269 0.52238806 0.50746269\n",
      " 0.49253731 0.50746269 0.47761194 0.49253731 0.49253731 0.49253731\n",
      " 0.49253731 0.49253731 0.49253731 0.47761194 0.47761194 0.46268657\n",
      " 0.47761194 0.49253731 0.47761194 0.50746269 0.49253731 0.47761194\n",
      " 0.49253731 0.49253731 0.47761194 0.49253731 0.50746269 0.52238806\n",
      " 0.47761194 0.46268657 0.44776119 0.44776119 0.46268657 0.46268657\n",
      " 0.46268657 0.43283582 0.43283582 0.43283582 0.43283582 0.44776119\n",
      " 0.43283582 0.43283582 0.44776119 0.43283582 0.43283582 0.43283582\n",
      " 0.44776119 0.46268657 0.46268657 0.44776119 0.46268657 0.46268657\n",
      " 0.47761194 0.49253731 0.44776119 0.46268657 0.46268657 0.46268657\n",
      " 0.41791045 0.3880597  0.3880597  0.3880597  0.37313433 0.3880597\n",
      " 0.40298507 0.3880597  0.40298507 0.3880597  0.41678891 0.42615378\n",
      " 0.43722883 0.44811681 0.45671913 0.46141562 0.4614225  0.45704544\n",
      " 0.44958168 0.44078583 0.43222347 0.42490545 0.41925332 0.41523382\n",
      " 0.41256171 0.41092893 0.4101713  0.41029301]\n",
      "18 day output [[0.41136965]]\n",
      "19 day input [0.62686567 0.62686567 0.64179104 0.62686567 0.64179104 0.67164179\n",
      " 0.67164179 0.68656716 0.68656716 0.68656716 0.62686567 0.6119403\n",
      " 0.53731343 0.50746269 0.50746269 0.52238806 0.50746269 0.49253731\n",
      " 0.50746269 0.47761194 0.49253731 0.49253731 0.49253731 0.49253731\n",
      " 0.49253731 0.49253731 0.47761194 0.47761194 0.46268657 0.47761194\n",
      " 0.49253731 0.47761194 0.50746269 0.49253731 0.47761194 0.49253731\n",
      " 0.49253731 0.47761194 0.49253731 0.50746269 0.52238806 0.47761194\n",
      " 0.46268657 0.44776119 0.44776119 0.46268657 0.46268657 0.46268657\n",
      " 0.43283582 0.43283582 0.43283582 0.43283582 0.44776119 0.43283582\n",
      " 0.43283582 0.44776119 0.43283582 0.43283582 0.43283582 0.44776119\n",
      " 0.46268657 0.46268657 0.44776119 0.46268657 0.46268657 0.47761194\n",
      " 0.49253731 0.44776119 0.46268657 0.46268657 0.46268657 0.41791045\n",
      " 0.3880597  0.3880597  0.3880597  0.37313433 0.3880597  0.40298507\n",
      " 0.3880597  0.40298507 0.3880597  0.41678891 0.42615378 0.43722883\n",
      " 0.44811681 0.45671913 0.46141562 0.4614225  0.45704544 0.44958168\n",
      " 0.44078583 0.43222347 0.42490545 0.41925332 0.41523382 0.41256171\n",
      " 0.41092893 0.4101713  0.41029301 0.41136965]\n",
      "19 day output [[0.41342998]]\n",
      "20 day input [0.62686567 0.64179104 0.62686567 0.64179104 0.67164179 0.67164179\n",
      " 0.68656716 0.68656716 0.68656716 0.62686567 0.6119403  0.53731343\n",
      " 0.50746269 0.50746269 0.52238806 0.50746269 0.49253731 0.50746269\n",
      " 0.47761194 0.49253731 0.49253731 0.49253731 0.49253731 0.49253731\n",
      " 0.49253731 0.47761194 0.47761194 0.46268657 0.47761194 0.49253731\n",
      " 0.47761194 0.50746269 0.49253731 0.47761194 0.49253731 0.49253731\n",
      " 0.47761194 0.49253731 0.50746269 0.52238806 0.47761194 0.46268657\n",
      " 0.44776119 0.44776119 0.46268657 0.46268657 0.46268657 0.43283582\n",
      " 0.43283582 0.43283582 0.43283582 0.44776119 0.43283582 0.43283582\n",
      " 0.44776119 0.43283582 0.43283582 0.43283582 0.44776119 0.46268657\n",
      " 0.46268657 0.44776119 0.46268657 0.46268657 0.47761194 0.49253731\n",
      " 0.44776119 0.46268657 0.46268657 0.46268657 0.41791045 0.3880597\n",
      " 0.3880597  0.3880597  0.37313433 0.3880597  0.40298507 0.3880597\n",
      " 0.40298507 0.3880597  0.41678891 0.42615378 0.43722883 0.44811681\n",
      " 0.45671913 0.46141562 0.4614225  0.45704544 0.44958168 0.44078583\n",
      " 0.43222347 0.42490545 0.41925332 0.41523382 0.41256171 0.41092893\n",
      " 0.4101713  0.41029301 0.41136965 0.41342998]\n",
      "20 day output [[0.41638625]]\n",
      "21 day input [0.64179104 0.62686567 0.64179104 0.67164179 0.67164179 0.68656716\n",
      " 0.68656716 0.68656716 0.62686567 0.6119403  0.53731343 0.50746269\n",
      " 0.50746269 0.52238806 0.50746269 0.49253731 0.50746269 0.47761194\n",
      " 0.49253731 0.49253731 0.49253731 0.49253731 0.49253731 0.49253731\n",
      " 0.47761194 0.47761194 0.46268657 0.47761194 0.49253731 0.47761194\n",
      " 0.50746269 0.49253731 0.47761194 0.49253731 0.49253731 0.47761194\n",
      " 0.49253731 0.50746269 0.52238806 0.47761194 0.46268657 0.44776119\n",
      " 0.44776119 0.46268657 0.46268657 0.46268657 0.43283582 0.43283582\n",
      " 0.43283582 0.43283582 0.44776119 0.43283582 0.43283582 0.44776119\n",
      " 0.43283582 0.43283582 0.43283582 0.44776119 0.46268657 0.46268657\n",
      " 0.44776119 0.46268657 0.46268657 0.47761194 0.49253731 0.44776119\n",
      " 0.46268657 0.46268657 0.46268657 0.41791045 0.3880597  0.3880597\n",
      " 0.3880597  0.37313433 0.3880597  0.40298507 0.3880597  0.40298507\n",
      " 0.3880597  0.41678891 0.42615378 0.43722883 0.44811681 0.45671913\n",
      " 0.46141562 0.4614225  0.45704544 0.44958168 0.44078583 0.43222347\n",
      " 0.42490545 0.41925332 0.41523382 0.41256171 0.41092893 0.4101713\n",
      " 0.41029301 0.41136965 0.41342998 0.41638625]\n",
      "21 day output [[0.42002335]]\n",
      "22 day input [0.62686567 0.64179104 0.67164179 0.67164179 0.68656716 0.68656716\n",
      " 0.68656716 0.62686567 0.6119403  0.53731343 0.50746269 0.50746269\n",
      " 0.52238806 0.50746269 0.49253731 0.50746269 0.47761194 0.49253731\n",
      " 0.49253731 0.49253731 0.49253731 0.49253731 0.49253731 0.47761194\n",
      " 0.47761194 0.46268657 0.47761194 0.49253731 0.47761194 0.50746269\n",
      " 0.49253731 0.47761194 0.49253731 0.49253731 0.47761194 0.49253731\n",
      " 0.50746269 0.52238806 0.47761194 0.46268657 0.44776119 0.44776119\n",
      " 0.46268657 0.46268657 0.46268657 0.43283582 0.43283582 0.43283582\n",
      " 0.43283582 0.44776119 0.43283582 0.43283582 0.44776119 0.43283582\n",
      " 0.43283582 0.43283582 0.44776119 0.46268657 0.46268657 0.44776119\n",
      " 0.46268657 0.46268657 0.47761194 0.49253731 0.44776119 0.46268657\n",
      " 0.46268657 0.46268657 0.41791045 0.3880597  0.3880597  0.3880597\n",
      " 0.37313433 0.3880597  0.40298507 0.3880597  0.40298507 0.3880597\n",
      " 0.41678891 0.42615378 0.43722883 0.44811681 0.45671913 0.46141562\n",
      " 0.4614225  0.45704544 0.44958168 0.44078583 0.43222347 0.42490545\n",
      " 0.41925332 0.41523382 0.41256171 0.41092893 0.4101713  0.41029301\n",
      " 0.41136965 0.41342998 0.41638625 0.42002335]\n",
      "22 day output [[0.42402238]]\n",
      "23 day input [0.64179104 0.67164179 0.67164179 0.68656716 0.68656716 0.68656716\n",
      " 0.62686567 0.6119403  0.53731343 0.50746269 0.50746269 0.52238806\n",
      " 0.50746269 0.49253731 0.50746269 0.47761194 0.49253731 0.49253731\n",
      " 0.49253731 0.49253731 0.49253731 0.49253731 0.47761194 0.47761194\n",
      " 0.46268657 0.47761194 0.49253731 0.47761194 0.50746269 0.49253731\n",
      " 0.47761194 0.49253731 0.49253731 0.47761194 0.49253731 0.50746269\n",
      " 0.52238806 0.47761194 0.46268657 0.44776119 0.44776119 0.46268657\n",
      " 0.46268657 0.46268657 0.43283582 0.43283582 0.43283582 0.43283582\n",
      " 0.44776119 0.43283582 0.43283582 0.44776119 0.43283582 0.43283582\n",
      " 0.43283582 0.44776119 0.46268657 0.46268657 0.44776119 0.46268657\n",
      " 0.46268657 0.47761194 0.49253731 0.44776119 0.46268657 0.46268657\n",
      " 0.46268657 0.41791045 0.3880597  0.3880597  0.3880597  0.37313433\n",
      " 0.3880597  0.40298507 0.3880597  0.40298507 0.3880597  0.41678891\n",
      " 0.42615378 0.43722883 0.44811681 0.45671913 0.46141562 0.4614225\n",
      " 0.45704544 0.44958168 0.44078583 0.43222347 0.42490545 0.41925332\n",
      " 0.41523382 0.41256171 0.41092893 0.4101713  0.41029301 0.41136965\n",
      " 0.41342998 0.41638625 0.42002335 0.42402238]\n",
      "23 day output [[0.42799467]]\n",
      "24 day input [0.67164179 0.67164179 0.68656716 0.68656716 0.68656716 0.62686567\n",
      " 0.6119403  0.53731343 0.50746269 0.50746269 0.52238806 0.50746269\n",
      " 0.49253731 0.50746269 0.47761194 0.49253731 0.49253731 0.49253731\n",
      " 0.49253731 0.49253731 0.49253731 0.47761194 0.47761194 0.46268657\n",
      " 0.47761194 0.49253731 0.47761194 0.50746269 0.49253731 0.47761194\n",
      " 0.49253731 0.49253731 0.47761194 0.49253731 0.50746269 0.52238806\n",
      " 0.47761194 0.46268657 0.44776119 0.44776119 0.46268657 0.46268657\n",
      " 0.46268657 0.43283582 0.43283582 0.43283582 0.43283582 0.44776119\n",
      " 0.43283582 0.43283582 0.44776119 0.43283582 0.43283582 0.43283582\n",
      " 0.44776119 0.46268657 0.46268657 0.44776119 0.46268657 0.46268657\n",
      " 0.47761194 0.49253731 0.44776119 0.46268657 0.46268657 0.46268657\n",
      " 0.41791045 0.3880597  0.3880597  0.3880597  0.37313433 0.3880597\n",
      " 0.40298507 0.3880597  0.40298507 0.3880597  0.41678891 0.42615378\n",
      " 0.43722883 0.44811681 0.45671913 0.46141562 0.4614225  0.45704544\n",
      " 0.44958168 0.44078583 0.43222347 0.42490545 0.41925332 0.41523382\n",
      " 0.41256171 0.41092893 0.4101713  0.41029301 0.41136965 0.41342998\n",
      " 0.41638625 0.42002335 0.42402238 0.42799467]\n",
      "24 day output [[0.4315267]]\n",
      "25 day input [0.67164179 0.68656716 0.68656716 0.68656716 0.62686567 0.6119403\n",
      " 0.53731343 0.50746269 0.50746269 0.52238806 0.50746269 0.49253731\n",
      " 0.50746269 0.47761194 0.49253731 0.49253731 0.49253731 0.49253731\n",
      " 0.49253731 0.49253731 0.47761194 0.47761194 0.46268657 0.47761194\n",
      " 0.49253731 0.47761194 0.50746269 0.49253731 0.47761194 0.49253731\n",
      " 0.49253731 0.47761194 0.49253731 0.50746269 0.52238806 0.47761194\n",
      " 0.46268657 0.44776119 0.44776119 0.46268657 0.46268657 0.46268657\n",
      " 0.43283582 0.43283582 0.43283582 0.43283582 0.44776119 0.43283582\n",
      " 0.43283582 0.44776119 0.43283582 0.43283582 0.43283582 0.44776119\n",
      " 0.46268657 0.46268657 0.44776119 0.46268657 0.46268657 0.47761194\n",
      " 0.49253731 0.44776119 0.46268657 0.46268657 0.46268657 0.41791045\n",
      " 0.3880597  0.3880597  0.3880597  0.37313433 0.3880597  0.40298507\n",
      " 0.3880597  0.40298507 0.3880597  0.41678891 0.42615378 0.43722883\n",
      " 0.44811681 0.45671913 0.46141562 0.4614225  0.45704544 0.44958168\n",
      " 0.44078583 0.43222347 0.42490545 0.41925332 0.41523382 0.41256171\n",
      " 0.41092893 0.4101713  0.41029301 0.41136965 0.41342998 0.41638625\n",
      " 0.42002335 0.42402238 0.42799467 0.43152669]\n",
      "25 day output [[0.43423453]]\n",
      "26 day input [0.68656716 0.68656716 0.68656716 0.62686567 0.6119403  0.53731343\n",
      " 0.50746269 0.50746269 0.52238806 0.50746269 0.49253731 0.50746269\n",
      " 0.47761194 0.49253731 0.49253731 0.49253731 0.49253731 0.49253731\n",
      " 0.49253731 0.47761194 0.47761194 0.46268657 0.47761194 0.49253731\n",
      " 0.47761194 0.50746269 0.49253731 0.47761194 0.49253731 0.49253731\n",
      " 0.47761194 0.49253731 0.50746269 0.52238806 0.47761194 0.46268657\n",
      " 0.44776119 0.44776119 0.46268657 0.46268657 0.46268657 0.43283582\n",
      " 0.43283582 0.43283582 0.43283582 0.44776119 0.43283582 0.43283582\n",
      " 0.44776119 0.43283582 0.43283582 0.43283582 0.44776119 0.46268657\n",
      " 0.46268657 0.44776119 0.46268657 0.46268657 0.47761194 0.49253731\n",
      " 0.44776119 0.46268657 0.46268657 0.46268657 0.41791045 0.3880597\n",
      " 0.3880597  0.3880597  0.37313433 0.3880597  0.40298507 0.3880597\n",
      " 0.40298507 0.3880597  0.41678891 0.42615378 0.43722883 0.44811681\n",
      " 0.45671913 0.46141562 0.4614225  0.45704544 0.44958168 0.44078583\n",
      " 0.43222347 0.42490545 0.41925332 0.41523382 0.41256171 0.41092893\n",
      " 0.4101713  0.41029301 0.41136965 0.41342998 0.41638625 0.42002335\n",
      " 0.42402238 0.42799467 0.43152669 0.43423453]\n",
      "26 day output [[0.43582582]]\n",
      "27 day input [0.68656716 0.68656716 0.62686567 0.6119403  0.53731343 0.50746269\n",
      " 0.50746269 0.52238806 0.50746269 0.49253731 0.50746269 0.47761194\n",
      " 0.49253731 0.49253731 0.49253731 0.49253731 0.49253731 0.49253731\n",
      " 0.47761194 0.47761194 0.46268657 0.47761194 0.49253731 0.47761194\n",
      " 0.50746269 0.49253731 0.47761194 0.49253731 0.49253731 0.47761194\n",
      " 0.49253731 0.50746269 0.52238806 0.47761194 0.46268657 0.44776119\n",
      " 0.44776119 0.46268657 0.46268657 0.46268657 0.43283582 0.43283582\n",
      " 0.43283582 0.43283582 0.44776119 0.43283582 0.43283582 0.44776119\n",
      " 0.43283582 0.43283582 0.43283582 0.44776119 0.46268657 0.46268657\n",
      " 0.44776119 0.46268657 0.46268657 0.47761194 0.49253731 0.44776119\n",
      " 0.46268657 0.46268657 0.46268657 0.41791045 0.3880597  0.3880597\n",
      " 0.3880597  0.37313433 0.3880597  0.40298507 0.3880597  0.40298507\n",
      " 0.3880597  0.41678891 0.42615378 0.43722883 0.44811681 0.45671913\n",
      " 0.46141562 0.4614225  0.45704544 0.44958168 0.44078583 0.43222347\n",
      " 0.42490545 0.41925332 0.41523382 0.41256171 0.41092893 0.4101713\n",
      " 0.41029301 0.41136965 0.41342998 0.41638625 0.42002335 0.42402238\n",
      " 0.42799467 0.43152669 0.43423453 0.43582582]\n",
      "27 day output [[0.43615636]]\n",
      "28 day input [0.68656716 0.62686567 0.6119403  0.53731343 0.50746269 0.50746269\n",
      " 0.52238806 0.50746269 0.49253731 0.50746269 0.47761194 0.49253731\n",
      " 0.49253731 0.49253731 0.49253731 0.49253731 0.49253731 0.47761194\n",
      " 0.47761194 0.46268657 0.47761194 0.49253731 0.47761194 0.50746269\n",
      " 0.49253731 0.47761194 0.49253731 0.49253731 0.47761194 0.49253731\n",
      " 0.50746269 0.52238806 0.47761194 0.46268657 0.44776119 0.44776119\n",
      " 0.46268657 0.46268657 0.46268657 0.43283582 0.43283582 0.43283582\n",
      " 0.43283582 0.44776119 0.43283582 0.43283582 0.44776119 0.43283582\n",
      " 0.43283582 0.43283582 0.44776119 0.46268657 0.46268657 0.44776119\n",
      " 0.46268657 0.46268657 0.47761194 0.49253731 0.44776119 0.46268657\n",
      " 0.46268657 0.46268657 0.41791045 0.3880597  0.3880597  0.3880597\n",
      " 0.37313433 0.3880597  0.40298507 0.3880597  0.40298507 0.3880597\n",
      " 0.41678891 0.42615378 0.43722883 0.44811681 0.45671913 0.46141562\n",
      " 0.4614225  0.45704544 0.44958168 0.44078583 0.43222347 0.42490545\n",
      " 0.41925332 0.41523382 0.41256171 0.41092893 0.4101713  0.41029301\n",
      " 0.41136965 0.41342998 0.41638625 0.42002335 0.42402238 0.42799467\n",
      " 0.43152669 0.43423453 0.43582582 0.43615636]\n",
      "28 day output [[0.4352604]]\n",
      "29 day input [0.62686567 0.6119403  0.53731343 0.50746269 0.50746269 0.52238806\n",
      " 0.50746269 0.49253731 0.50746269 0.47761194 0.49253731 0.49253731\n",
      " 0.49253731 0.49253731 0.49253731 0.49253731 0.47761194 0.47761194\n",
      " 0.46268657 0.47761194 0.49253731 0.47761194 0.50746269 0.49253731\n",
      " 0.47761194 0.49253731 0.49253731 0.47761194 0.49253731 0.50746269\n",
      " 0.52238806 0.47761194 0.46268657 0.44776119 0.44776119 0.46268657\n",
      " 0.46268657 0.46268657 0.43283582 0.43283582 0.43283582 0.43283582\n",
      " 0.44776119 0.43283582 0.43283582 0.44776119 0.43283582 0.43283582\n",
      " 0.43283582 0.44776119 0.46268657 0.46268657 0.44776119 0.46268657\n",
      " 0.46268657 0.47761194 0.49253731 0.44776119 0.46268657 0.46268657\n",
      " 0.46268657 0.41791045 0.3880597  0.3880597  0.3880597  0.37313433\n",
      " 0.3880597  0.40298507 0.3880597  0.40298507 0.3880597  0.41678891\n",
      " 0.42615378 0.43722883 0.44811681 0.45671913 0.46141562 0.4614225\n",
      " 0.45704544 0.44958168 0.44078583 0.43222347 0.42490545 0.41925332\n",
      " 0.41523382 0.41256171 0.41092893 0.4101713  0.41029301 0.41136965\n",
      " 0.41342998 0.41638625 0.42002335 0.42402238 0.42799467 0.43152669\n",
      " 0.43423453 0.43582582 0.43615636 0.43526039]\n",
      "29 day output [[0.4333397]]\n",
      "[[0.41678890585899353], [0.4261537790298462], [0.43722882866859436], [0.44811680912971497], [0.45671913027763367], [0.4614156186580658], [0.46142250299453735], [0.45704543590545654], [0.44958168268203735], [0.44078582525253296], [0.43222346901893616], [0.4249054491519928], [0.41925331950187683], [0.4152338206768036], [0.41256171464920044], [0.4109289348125458], [0.4101713001728058], [0.41029301285743713], [0.411369651556015], [0.41342997550964355], [0.4163862466812134], [0.4200233519077301], [0.424022376537323], [0.42799466848373413], [0.43152669072151184], [0.43423452973365784], [0.43582582473754883], [0.43615636229515076], [0.4352603852748871], [0.4333396852016449]]\n"
     ]
    }
   ],
   "source": [
    "# demonstrate prediction for next 10 days\n",
    "from numpy import array\n",
    "\n",
    "lst_output=[]\n",
    "n_steps=100\n",
    "i=0\n",
    "while(i<30):\n",
    "    \n",
    "    if(len(temp_input)>100):\n",
    "        #print(temp_input)\n",
    "        x_input=np.array(temp_input[1:])\n",
    "        print(\"{} day input {}\".format(i,x_input))\n",
    "        x_input=x_input.reshape(1,-1)\n",
    "        x_input = x_input.reshape((1, n_steps, 1))\n",
    "        #print(x_input)\n",
    "        yhat = model.predict(x_input, verbose=0)\n",
    "        print(\"{} day output {}\".format(i,yhat))\n",
    "        temp_input.extend(yhat[0].tolist())\n",
    "        temp_input=temp_input[1:]\n",
    "        #print(temp_input)\n",
    "        lst_output.extend(yhat.tolist())\n",
    "        i=i+1\n",
    "    else:\n",
    "        x_input = x_input.reshape((1, n_steps,1))\n",
    "        yhat = model.predict(x_input, verbose=0)\n",
    "        print(yhat[0])\n",
    "        temp_input.extend(yhat[0].tolist())\n",
    "        print(len(temp_input))\n",
    "        lst_output.extend(yhat.tolist())\n",
    "        i=i+1\n",
    "    \n",
    "\n",
    "print(lst_output)"
   ]
  },
  {
   "cell_type": "code",
   "execution_count": 40,
   "metadata": {},
   "outputs": [],
   "source": [
    "day_new=np.arange(1,101)\n",
    "day_pred=np.arange(101,131)"
   ]
  },
  {
   "cell_type": "code",
   "execution_count": 41,
   "metadata": {},
   "outputs": [],
   "source": [
    "import matplotlib.pyplot as plt"
   ]
  },
  {
   "cell_type": "code",
   "execution_count": 42,
   "metadata": {},
   "outputs": [
    {
     "data": {
      "text/plain": [
       "2364"
      ]
     },
     "execution_count": 42,
     "metadata": {},
     "output_type": "execute_result"
    }
   ],
   "source": [
    "len(df1)"
   ]
  },
  {
   "cell_type": "code",
   "execution_count": 43,
   "metadata": {},
   "outputs": [],
   "source": [
    "b = len(df1) - 100"
   ]
  },
  {
   "cell_type": "code",
   "execution_count": 44,
   "metadata": {},
   "outputs": [
    {
     "data": {
      "text/plain": [
       "[<matplotlib.lines.Line2D at 0x29b36c863f0>]"
      ]
     },
     "execution_count": 44,
     "metadata": {},
     "output_type": "execute_result"
    },
    {
     "data": {
      "image/png": "[encoded data removed]",
      "text/plain": [
       "<Figure size 640x480 with 1 Axes>"
      ]
     },
     "metadata": {},
     "output_type": "display_data"
    }
   ],
   "source": [
    "plt.plot(day_new,scaler.inverse_transform(df1[b:]))\n",
    "plt.plot(day_pred,scaler.inverse_transform(lst_output))"
   ]
  },
  {
   "cell_type": "code",
   "execution_count": 45,
   "metadata": {},
   "outputs": [],
   "source": [
    "c = len(df1) - 500"
   ]
  },
  {
   "cell_type": "code",
   "execution_count": 46,
   "metadata": {},
   "outputs": [
    {
     "data": {
      "text/plain": [
       "[<matplotlib.lines.Line2D at 0x29b36dedd90>]"
      ]
     },
     "execution_count": 46,
     "metadata": {},
     "output_type": "execute_result"
    },
    {
     "data": {
      "image/png": "[encoded data removed]",
      "text/plain": [
       "<Figure size 640x480 with 1 Axes>"
      ]
     },
     "metadata": {},
     "output_type": "display_data"
    }
   ],
   "source": [
    "df3=df1.tolist()\n",
    "df3.extend(lst_output)\n",
    "plt.plot(df3[700:])"
   ]
  },
  {
   "cell_type": "code",
   "execution_count": 47,
   "metadata": {},
   "outputs": [],
   "source": [
    "df3=scaler.inverse_transform(df3).tolist()"
   ]
  },
  {
   "cell_type": "code",
   "execution_count": 48,
   "metadata": {},
   "outputs": [
    {
     "data": {
      "text/plain": [
       "[<matplotlib.lines.Line2D at 0x29b36e01ca0>]"
      ]
     },
     "execution_count": 48,
     "metadata": {},
     "output_type": "execute_result"
    },
    {
     "data": {
      "image/png": "[encoded data removed]",
      "text/plain": [
       "<Figure size 640x480 with 1 Axes>"
      ]
     },
     "metadata": {},
     "output_type": "display_data"
    }
   ],
   "source": [
    "plt.plot(df3)"
   ]
  },
  {
   "cell_type": "code",
   "execution_count": null,
   "metadata": {},
   "outputs": [],
   "source": []
  },
  {
   "cell_type": "code",
   "execution_count": null,
   "metadata": {},
   "outputs": [],
   "source": []
  },
  {
   "cell_type": "code",
   "execution_count": null,
   "metadata": {},
   "outputs": [],
   "source": []
  },
  {
   "cell_type": "code",
   "execution_count": null,
   "metadata": {},
   "outputs": [],
   "source": []
  }
 ],
 "metadata": {
  "kernelspec": {
   "display_name": "Python 3 (ipykernel)",
   "language": "python",
   "name": "python3"
  },
  "language_info": {
   "codemirror_mode": {
    "name": "ipython",
    "version": 3
   },
   "file_extension": ".py",
   "mimetype": "text/x-python",
   "name": "python",
   "nbconvert_exporter": "python",
   "pygments_lexer": "ipython3",
   "version": "3.12.3"
  }
 },
 "nbformat": 4,
 "nbformat_minor": 4
}
