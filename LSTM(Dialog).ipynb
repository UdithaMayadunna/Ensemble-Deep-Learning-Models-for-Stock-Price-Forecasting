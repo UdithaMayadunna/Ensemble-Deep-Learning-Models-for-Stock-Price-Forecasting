{
 "cells": [
  {
   "cell_type": "markdown",
   "metadata": {},
   "source": [
    "### Stock Market Prediction And Forecasting Using Stacked LSTM"
   ]
  },
  {
   "cell_type": "code",
   "execution_count": 1,
   "metadata": {},
   "outputs": [],
   "source": [
    "### Keras and Tensorflow >2.0"
   ]
  },
  {
   "cell_type": "code",
   "execution_count": 2,
   "metadata": {},
   "outputs": [],
   "source": [
    "import pandas as pd"
   ]
  },
  {
   "cell_type": "code",
   "execution_count": 3,
   "metadata": {},
   "outputs": [],
   "source": [
    "df=pd.read_csv('Dialog.csv')"
   ]
  },
  {
   "cell_type": "code",
   "execution_count": 4,
   "metadata": {},
   "outputs": [
    {
     "data": {
      "text/html": [
       "<div>\n",
       "<style scoped>\n",
       "    .dataframe tbody tr th:only-of-type {\n",
       "        vertical-align: middle;\n",
       "    }\n",
       "\n",
       "    .dataframe tbody tr th {\n",
       "        vertical-align: top;\n",
       "    }\n",
       "\n",
       "    .dataframe thead th {\n",
       "        text-align: right;\n",
       "    }\n",
       "</style>\n",
       "<table border=\"1\" class=\"dataframe\">\n",
       "  <thead>\n",
       "    <tr style=\"text-align: right;\">\n",
       "      <th></th>\n",
       "      <th>Trade Date</th>\n",
       "      <th>Open (Rs.)</th>\n",
       "      <th>High (Rs.)</th>\n",
       "      <th>Low (Rs.)</th>\n",
       "      <th>Close (Rs.)</th>\n",
       "      <th>TradeVolume</th>\n",
       "      <th>ShareVolume</th>\n",
       "      <th>Turnover (Rs.)</th>\n",
       "    </tr>\n",
       "  </thead>\n",
       "  <tbody>\n",
       "    <tr>\n",
       "      <th>0</th>\n",
       "      <td>6/24/24</td>\n",
       "      <td>10.2</td>\n",
       "      <td>10.2</td>\n",
       "      <td>9.9</td>\n",
       "      <td>10.0</td>\n",
       "      <td>331</td>\n",
       "      <td>1482177</td>\n",
       "      <td>14829846.7</td>\n",
       "    </tr>\n",
       "    <tr>\n",
       "      <th>1</th>\n",
       "      <td>6/20/24</td>\n",
       "      <td>10.1</td>\n",
       "      <td>10.2</td>\n",
       "      <td>10.0</td>\n",
       "      <td>10.1</td>\n",
       "      <td>187</td>\n",
       "      <td>365328</td>\n",
       "      <td>3687018.2</td>\n",
       "    </tr>\n",
       "    <tr>\n",
       "      <th>2</th>\n",
       "      <td>6/19/24</td>\n",
       "      <td>10.2</td>\n",
       "      <td>10.2</td>\n",
       "      <td>10.0</td>\n",
       "      <td>10.0</td>\n",
       "      <td>190</td>\n",
       "      <td>687677</td>\n",
       "      <td>6949878.2</td>\n",
       "    </tr>\n",
       "    <tr>\n",
       "      <th>3</th>\n",
       "      <td>6/18/24</td>\n",
       "      <td>10.4</td>\n",
       "      <td>10.4</td>\n",
       "      <td>10.1</td>\n",
       "      <td>10.1</td>\n",
       "      <td>274</td>\n",
       "      <td>616129</td>\n",
       "      <td>6251326.3</td>\n",
       "    </tr>\n",
       "    <tr>\n",
       "      <th>4</th>\n",
       "      <td>6/14/24</td>\n",
       "      <td>10.5</td>\n",
       "      <td>10.5</td>\n",
       "      <td>10.1</td>\n",
       "      <td>10.3</td>\n",
       "      <td>641</td>\n",
       "      <td>3216104</td>\n",
       "      <td>32891566.3</td>\n",
       "    </tr>\n",
       "  </tbody>\n",
       "</table>\n",
       "</div>"
      ],
      "text/plain": [
       "  Trade Date  Open (Rs.)  High (Rs.)  Low (Rs.)  Close (Rs.)  TradeVolume  \\\n",
       "0    6/24/24        10.2        10.2        9.9         10.0          331   \n",
       "1    6/20/24        10.1        10.2       10.0         10.1          187   \n",
       "2    6/19/24        10.2        10.2       10.0         10.0          190   \n",
       "3    6/18/24        10.4        10.4       10.1         10.1          274   \n",
       "4    6/14/24        10.5        10.5       10.1         10.3          641   \n",
       "\n",
       "   ShareVolume  Turnover (Rs.)  \n",
       "0      1482177      14829846.7  \n",
       "1       365328       3687018.2  \n",
       "2       687677       6949878.2  \n",
       "3       616129       6251326.3  \n",
       "4      3216104      32891566.3  "
      ]
     },
     "execution_count": 4,
     "metadata": {},
     "output_type": "execute_result"
    }
   ],
   "source": [
    "df.head()"
   ]
  },
  {
   "cell_type": "code",
   "execution_count": 5,
   "metadata": {},
   "outputs": [
    {
     "data": {
      "text/html": [
       "<div>\n",
       "<style scoped>\n",
       "    .dataframe tbody tr th:only-of-type {\n",
       "        vertical-align: middle;\n",
       "    }\n",
       "\n",
       "    .dataframe tbody tr th {\n",
       "        vertical-align: top;\n",
       "    }\n",
       "\n",
       "    .dataframe thead th {\n",
       "        text-align: right;\n",
       "    }\n",
       "</style>\n",
       "<table border=\"1\" class=\"dataframe\">\n",
       "  <thead>\n",
       "    <tr style=\"text-align: right;\">\n",
       "      <th></th>\n",
       "      <th>Trade Date</th>\n",
       "      <th>Open (Rs.)</th>\n",
       "      <th>High (Rs.)</th>\n",
       "      <th>Low (Rs.)</th>\n",
       "      <th>Close (Rs.)</th>\n",
       "      <th>TradeVolume</th>\n",
       "      <th>ShareVolume</th>\n",
       "      <th>Turnover (Rs.)</th>\n",
       "    </tr>\n",
       "  </thead>\n",
       "  <tbody>\n",
       "    <tr>\n",
       "      <th>0</th>\n",
       "      <td>6/24/24</td>\n",
       "      <td>10.20</td>\n",
       "      <td>10.20</td>\n",
       "      <td>9.90</td>\n",
       "      <td>10.00</td>\n",
       "      <td>331</td>\n",
       "      <td>1482177</td>\n",
       "      <td>1.482985e+07</td>\n",
       "    </tr>\n",
       "    <tr>\n",
       "      <th>1</th>\n",
       "      <td>6/20/24</td>\n",
       "      <td>10.10</td>\n",
       "      <td>10.20</td>\n",
       "      <td>10.00</td>\n",
       "      <td>10.10</td>\n",
       "      <td>187</td>\n",
       "      <td>365328</td>\n",
       "      <td>3.687018e+06</td>\n",
       "    </tr>\n",
       "    <tr>\n",
       "      <th>2</th>\n",
       "      <td>6/19/24</td>\n",
       "      <td>10.20</td>\n",
       "      <td>10.20</td>\n",
       "      <td>10.00</td>\n",
       "      <td>10.00</td>\n",
       "      <td>190</td>\n",
       "      <td>687677</td>\n",
       "      <td>6.949878e+06</td>\n",
       "    </tr>\n",
       "    <tr>\n",
       "      <th>3</th>\n",
       "      <td>6/18/24</td>\n",
       "      <td>10.40</td>\n",
       "      <td>10.40</td>\n",
       "      <td>10.10</td>\n",
       "      <td>10.10</td>\n",
       "      <td>274</td>\n",
       "      <td>616129</td>\n",
       "      <td>6.251326e+06</td>\n",
       "    </tr>\n",
       "    <tr>\n",
       "      <th>4</th>\n",
       "      <td>6/14/24</td>\n",
       "      <td>10.50</td>\n",
       "      <td>10.50</td>\n",
       "      <td>10.10</td>\n",
       "      <td>10.30</td>\n",
       "      <td>641</td>\n",
       "      <td>3216104</td>\n",
       "      <td>3.289157e+07</td>\n",
       "    </tr>\n",
       "    <tr>\n",
       "      <th>...</th>\n",
       "      <td>...</td>\n",
       "      <td>...</td>\n",
       "      <td>...</td>\n",
       "      <td>...</td>\n",
       "      <td>...</td>\n",
       "      <td>...</td>\n",
       "      <td>...</td>\n",
       "      <td>...</td>\n",
       "    </tr>\n",
       "    <tr>\n",
       "      <th>4489</th>\n",
       "      <td>8/3/05</td>\n",
       "      <td>15.75</td>\n",
       "      <td>16.00</td>\n",
       "      <td>15.75</td>\n",
       "      <td>15.75</td>\n",
       "      <td>364</td>\n",
       "      <td>4133600</td>\n",
       "      <td>6.512458e+07</td>\n",
       "    </tr>\n",
       "    <tr>\n",
       "      <th>4490</th>\n",
       "      <td>8/2/05</td>\n",
       "      <td>15.75</td>\n",
       "      <td>16.00</td>\n",
       "      <td>15.50</td>\n",
       "      <td>15.75</td>\n",
       "      <td>576</td>\n",
       "      <td>9040900</td>\n",
       "      <td>1.421166e+08</td>\n",
       "    </tr>\n",
       "    <tr>\n",
       "      <th>4491</th>\n",
       "      <td>8/1/05</td>\n",
       "      <td>15.50</td>\n",
       "      <td>16.00</td>\n",
       "      <td>15.25</td>\n",
       "      <td>15.75</td>\n",
       "      <td>1716</td>\n",
       "      <td>32127600</td>\n",
       "      <td>5.071680e+08</td>\n",
       "    </tr>\n",
       "    <tr>\n",
       "      <th>4492</th>\n",
       "      <td>7/29/05</td>\n",
       "      <td>15.00</td>\n",
       "      <td>15.75</td>\n",
       "      <td>15.00</td>\n",
       "      <td>15.50</td>\n",
       "      <td>2368</td>\n",
       "      <td>21069100</td>\n",
       "      <td>3.242842e+08</td>\n",
       "    </tr>\n",
       "    <tr>\n",
       "      <th>4493</th>\n",
       "      <td>7/28/05</td>\n",
       "      <td>15.00</td>\n",
       "      <td>15.25</td>\n",
       "      <td>14.00</td>\n",
       "      <td>15.00</td>\n",
       "      <td>10813</td>\n",
       "      <td>133275400</td>\n",
       "      <td>1.973664e+09</td>\n",
       "    </tr>\n",
       "  </tbody>\n",
       "</table>\n",
       "<p>4494 rows × 8 columns</p>\n",
       "</div>"
      ],
      "text/plain": [
       "     Trade Date  Open (Rs.)  High (Rs.)  Low (Rs.)  Close (Rs.)  TradeVolume  \\\n",
       "0       6/24/24       10.20       10.20       9.90        10.00          331   \n",
       "1       6/20/24       10.10       10.20      10.00        10.10          187   \n",
       "2       6/19/24       10.20       10.20      10.00        10.00          190   \n",
       "3       6/18/24       10.40       10.40      10.10        10.10          274   \n",
       "4       6/14/24       10.50       10.50      10.10        10.30          641   \n",
       "...         ...         ...         ...        ...          ...          ...   \n",
       "4489     8/3/05       15.75       16.00      15.75        15.75          364   \n",
       "4490     8/2/05       15.75       16.00      15.50        15.75          576   \n",
       "4491     8/1/05       15.50       16.00      15.25        15.75         1716   \n",
       "4492    7/29/05       15.00       15.75      15.00        15.50         2368   \n",
       "4493    7/28/05       15.00       15.25      14.00        15.00        10813   \n",
       "\n",
       "      ShareVolume  Turnover (Rs.)  \n",
       "0         1482177    1.482985e+07  \n",
       "1          365328    3.687018e+06  \n",
       "2          687677    6.949878e+06  \n",
       "3          616129    6.251326e+06  \n",
       "4         3216104    3.289157e+07  \n",
       "...           ...             ...  \n",
       "4489      4133600    6.512458e+07  \n",
       "4490      9040900    1.421166e+08  \n",
       "4491     32127600    5.071680e+08  \n",
       "4492     21069100    3.242842e+08  \n",
       "4493    133275400    1.973664e+09  \n",
       "\n",
       "[4494 rows x 8 columns]"
      ]
     },
     "execution_count": 5,
     "metadata": {},
     "output_type": "execute_result"
    }
   ],
   "source": [
    "df"
   ]
  },
  {
   "cell_type": "code",
   "execution_count": 6,
   "metadata": {},
   "outputs": [
    {
     "name": "stderr",
     "output_type": "stream",
     "text": [
      "C:\\Users\\udith\\AppData\\Local\\Temp\\ipykernel_7716\\4235463591.py:1: UserWarning: Could not infer format, so each element will be parsed individually, falling back to `dateutil`. To ensure parsing is consistent and as-expected, please specify a format.\n",
      "  df['Trade Date'] = pd.to_datetime(df['Trade Date'])\n"
     ]
    },
    {
     "name": "stdout",
     "output_type": "stream",
     "text": [
      "     Trade Date  Open (Rs.)  High (Rs.)  Low (Rs.)  Close (Rs.)  TradeVolume  \\\n",
      "0    2024-06-24        10.2        10.2        9.9         10.0          331   \n",
      "1    2024-06-20        10.1        10.2       10.0         10.1          187   \n",
      "2    2024-06-19        10.2        10.2       10.0         10.0          190   \n",
      "3    2024-06-18        10.4        10.4       10.1         10.1          274   \n",
      "4    2024-06-14        10.5        10.5       10.1         10.3          641   \n",
      "...         ...         ...         ...        ...          ...          ...   \n",
      "2359 2014-06-30        10.6        10.6       10.4         10.5           20   \n",
      "2360 2014-06-27        10.5        10.6       10.5         10.6           56   \n",
      "2361 2014-06-26        10.6        10.6       10.5         10.5           16   \n",
      "2362 2014-06-25        10.4        10.6       10.4         10.6           44   \n",
      "2363 2014-06-24        10.4        10.6       10.4         10.5          114   \n",
      "\n",
      "      ShareVolume  Turnover (Rs.)  \n",
      "0         1482177      14829846.7  \n",
      "1          365328       3687018.2  \n",
      "2          687677       6949878.2  \n",
      "3          616129       6251326.3  \n",
      "4         3216104      32891566.3  \n",
      "...           ...             ...  \n",
      "2359        27655        290439.5  \n",
      "2360       186363       1974534.4  \n",
      "2361        10550        110957.0  \n",
      "2362       954457      10032323.5  \n",
      "2363      2557100      26855707.9  \n",
      "\n",
      "[2364 rows x 8 columns]\n"
     ]
    }
   ],
   "source": [
    "df['Trade Date'] = pd.to_datetime(df['Trade Date'])\n",
    "\n",
    "# Define the date range for the last 10 years\n",
    "end_date = df['Trade Date'].max()\n",
    "start_date = end_date - pd.DateOffset(years=10)\n",
    "\n",
    "# Filter the DataFrame to include only the last 10 years of data\n",
    "filtered_df = df[(df['Trade Date'] >= start_date) & (df['Trade Date'] <= end_date)]\n",
    "\n",
    "# Display the filtered DataFrame\n",
    "print(filtered_df)"
   ]
  },
  {
   "cell_type": "code",
   "execution_count": 7,
   "metadata": {},
   "outputs": [
    {
     "data": {
      "text/html": [
       "<div>\n",
       "<style scoped>\n",
       "    .dataframe tbody tr th:only-of-type {\n",
       "        vertical-align: middle;\n",
       "    }\n",
       "\n",
       "    .dataframe tbody tr th {\n",
       "        vertical-align: top;\n",
       "    }\n",
       "\n",
       "    .dataframe thead th {\n",
       "        text-align: right;\n",
       "    }\n",
       "</style>\n",
       "<table border=\"1\" class=\"dataframe\">\n",
       "  <thead>\n",
       "    <tr style=\"text-align: right;\">\n",
       "      <th></th>\n",
       "      <th>Trade Date</th>\n",
       "      <th>Open (Rs.)</th>\n",
       "      <th>High (Rs.)</th>\n",
       "      <th>Low (Rs.)</th>\n",
       "      <th>Close (Rs.)</th>\n",
       "      <th>TradeVolume</th>\n",
       "      <th>ShareVolume</th>\n",
       "      <th>Turnover (Rs.)</th>\n",
       "    </tr>\n",
       "  </thead>\n",
       "  <tbody>\n",
       "    <tr>\n",
       "      <th>2359</th>\n",
       "      <td>2014-06-30</td>\n",
       "      <td>10.6</td>\n",
       "      <td>10.6</td>\n",
       "      <td>10.4</td>\n",
       "      <td>10.5</td>\n",
       "      <td>20</td>\n",
       "      <td>27655</td>\n",
       "      <td>290439.5</td>\n",
       "    </tr>\n",
       "    <tr>\n",
       "      <th>2360</th>\n",
       "      <td>2014-06-27</td>\n",
       "      <td>10.5</td>\n",
       "      <td>10.6</td>\n",
       "      <td>10.5</td>\n",
       "      <td>10.6</td>\n",
       "      <td>56</td>\n",
       "      <td>186363</td>\n",
       "      <td>1974534.4</td>\n",
       "    </tr>\n",
       "    <tr>\n",
       "      <th>2361</th>\n",
       "      <td>2014-06-26</td>\n",
       "      <td>10.6</td>\n",
       "      <td>10.6</td>\n",
       "      <td>10.5</td>\n",
       "      <td>10.5</td>\n",
       "      <td>16</td>\n",
       "      <td>10550</td>\n",
       "      <td>110957.0</td>\n",
       "    </tr>\n",
       "    <tr>\n",
       "      <th>2362</th>\n",
       "      <td>2014-06-25</td>\n",
       "      <td>10.4</td>\n",
       "      <td>10.6</td>\n",
       "      <td>10.4</td>\n",
       "      <td>10.6</td>\n",
       "      <td>44</td>\n",
       "      <td>954457</td>\n",
       "      <td>10032323.5</td>\n",
       "    </tr>\n",
       "    <tr>\n",
       "      <th>2363</th>\n",
       "      <td>2014-06-24</td>\n",
       "      <td>10.4</td>\n",
       "      <td>10.6</td>\n",
       "      <td>10.4</td>\n",
       "      <td>10.5</td>\n",
       "      <td>114</td>\n",
       "      <td>2557100</td>\n",
       "      <td>26855707.9</td>\n",
       "    </tr>\n",
       "  </tbody>\n",
       "</table>\n",
       "</div>"
      ],
      "text/plain": [
       "     Trade Date  Open (Rs.)  High (Rs.)  Low (Rs.)  Close (Rs.)  TradeVolume  \\\n",
       "2359 2014-06-30        10.6        10.6       10.4         10.5           20   \n",
       "2360 2014-06-27        10.5        10.6       10.5         10.6           56   \n",
       "2361 2014-06-26        10.6        10.6       10.5         10.5           16   \n",
       "2362 2014-06-25        10.4        10.6       10.4         10.6           44   \n",
       "2363 2014-06-24        10.4        10.6       10.4         10.5          114   \n",
       "\n",
       "      ShareVolume  Turnover (Rs.)  \n",
       "2359        27655        290439.5  \n",
       "2360       186363       1974534.4  \n",
       "2361        10550        110957.0  \n",
       "2362       954457      10032323.5  \n",
       "2363      2557100      26855707.9  "
      ]
     },
     "execution_count": 7,
     "metadata": {},
     "output_type": "execute_result"
    }
   ],
   "source": [
    "filtered_df.tail()"
   ]
  },
  {
   "cell_type": "code",
   "execution_count": 8,
   "metadata": {},
   "outputs": [],
   "source": [
    "df1=filtered_df.reset_index()['Close (Rs.)']"
   ]
  },
  {
   "cell_type": "code",
   "execution_count": 9,
   "metadata": {},
   "outputs": [
    {
     "data": {
      "text/plain": [
       "0       10.0\n",
       "1       10.1\n",
       "2       10.0\n",
       "3       10.1\n",
       "4       10.3\n",
       "        ... \n",
       "2359    10.5\n",
       "2360    10.6\n",
       "2361    10.5\n",
       "2362    10.6\n",
       "2363    10.5\n",
       "Name: Close (Rs.), Length: 2364, dtype: float64"
      ]
     },
     "execution_count": 9,
     "metadata": {},
     "output_type": "execute_result"
    }
   ],
   "source": [
    "df1"
   ]
  },
  {
   "cell_type": "code",
   "execution_count": 10,
   "metadata": {},
   "outputs": [
    {
     "data": {
      "text/plain": [
       "[<matplotlib.lines.Line2D at 0x2a8efe847a0>]"
      ]
     },
     "execution_count": 10,
     "metadata": {},
     "output_type": "execute_result"
    },
    {
     "data": {
      "image/png": "[encoded data removed]",
      "text/plain": [
       "<Figure size 640x480 with 1 Axes>"
      ]
     },
     "metadata": {},
     "output_type": "display_data"
    }
   ],
   "source": [
    "import matplotlib.pyplot as plt\n",
    "plt.plot(df1)"
   ]
  },
  {
   "cell_type": "code",
   "execution_count": 11,
   "metadata": {},
   "outputs": [],
   "source": [
    "### LSTM are sensitive to the scale of the data. so we apply MinMax scaler "
   ]
  },
  {
   "cell_type": "code",
   "execution_count": 12,
   "metadata": {},
   "outputs": [],
   "source": [
    "import numpy as np"
   ]
  },
  {
   "cell_type": "code",
   "execution_count": 13,
   "metadata": {},
   "outputs": [
    {
     "data": {
      "text/plain": [
       "0       10.0\n",
       "1       10.1\n",
       "2       10.0\n",
       "3       10.1\n",
       "4       10.3\n",
       "        ... \n",
       "2359    10.5\n",
       "2360    10.6\n",
       "2361    10.5\n",
       "2362    10.6\n",
       "2363    10.5\n",
       "Name: Close (Rs.), Length: 2364, dtype: float64"
      ]
     },
     "execution_count": 13,
     "metadata": {},
     "output_type": "execute_result"
    }
   ],
   "source": [
    "df1"
   ]
  },
  {
   "cell_type": "code",
   "execution_count": 14,
   "metadata": {},
   "outputs": [],
   "source": [
    "from sklearn.preprocessing import MinMaxScaler\n",
    "scaler=MinMaxScaler(feature_range=(0,1))\n",
    "df1=scaler.fit_transform(np.array(df1).reshape(-1,1))"
   ]
  },
  {
   "cell_type": "code",
   "execution_count": 15,
   "metadata": {},
   "outputs": [
    {
     "name": "stdout",
     "output_type": "stream",
     "text": [
      "[[0.31343284]\n",
      " [0.32835821]\n",
      " [0.31343284]\n",
      " ...\n",
      " [0.3880597 ]\n",
      " [0.40298507]\n",
      " [0.3880597 ]]\n"
     ]
    }
   ],
   "source": [
    "print(df1)"
   ]
  },
  {
   "cell_type": "code",
   "execution_count": 16,
   "metadata": {},
   "outputs": [],
   "source": [
    "##splitting dataset into train and test split\n",
    "training_size=int(len(df1)*0.65)\n",
    "test_size=len(df1)-training_size\n",
    "train_data,test_data=df1[0:training_size,:],df1[training_size:len(df1),:1]"
   ]
  },
  {
   "cell_type": "code",
   "execution_count": 17,
   "metadata": {},
   "outputs": [
    {
     "data": {
      "text/plain": [
       "(1536, 828)"
      ]
     },
     "execution_count": 17,
     "metadata": {},
     "output_type": "execute_result"
    }
   ],
   "source": [
    "training_size,test_size"
   ]
  },
  {
   "cell_type": "code",
   "execution_count": 18,
   "metadata": {},
   "outputs": [
    {
     "data": {
      "text/plain": [
       "array([[0.31343284],\n",
       "       [0.32835821],\n",
       "       [0.31343284],\n",
       "       ...,\n",
       "       [0.76119403],\n",
       "       [0.76119403],\n",
       "       [0.76119403]])"
      ]
     },
     "execution_count": 18,
     "metadata": {},
     "output_type": "execute_result"
    }
   ],
   "source": [
    "train_data"
   ]
  },
  {
   "cell_type": "code",
   "execution_count": 19,
   "metadata": {},
   "outputs": [],
   "source": [
    "import numpy\n",
    "# convert an array of values into a dataset matrix\n",
    "def create_dataset(dataset, time_step=1):\n",
    "\tdataX, dataY = [], []\n",
    "\tfor i in range(len(dataset)-time_step-1):\n",
    "\t\ta = dataset[i:(i+time_step), 0]   ###i=0, 0,1,2,3-----99   100 \n",
    "\t\tdataX.append(a)\n",
    "\t\tdataY.append(dataset[i + time_step, 0])\n",
    "\treturn numpy.array(dataX), numpy.array(dataY)"
   ]
  },
  {
   "cell_type": "code",
   "execution_count": 20,
   "metadata": {},
   "outputs": [],
   "source": [
    "# reshape into X=t,t+1,t+2,t+3 and Y=t+4\n",
    "time_step = 100\n",
    "X_train, y_train = create_dataset(train_data, time_step)\n",
    "X_test, ytest = create_dataset(test_data, time_step)"
   ]
  },
  {
   "cell_type": "code",
   "execution_count": 21,
   "metadata": {},
   "outputs": [
    {
     "name": "stdout",
     "output_type": "stream",
     "text": [
      "(1435, 100)\n",
      "(1435,)\n"
     ]
    },
    {
     "data": {
      "text/plain": [
       "(None, None)"
      ]
     },
     "execution_count": 21,
     "metadata": {},
     "output_type": "execute_result"
    }
   ],
   "source": [
    "print(X_train.shape), print(y_train.shape)"
   ]
  },
  {
   "cell_type": "code",
   "execution_count": 22,
   "metadata": {},
   "outputs": [
    {
     "name": "stdout",
     "output_type": "stream",
     "text": [
      "(727, 100)\n",
      "(727,)\n"
     ]
    },
    {
     "data": {
      "text/plain": [
       "(None, None)"
      ]
     },
     "execution_count": 22,
     "metadata": {},
     "output_type": "execute_result"
    }
   ],
   "source": [
    "print(X_test.shape), print(ytest.shape)"
   ]
  },
  {
   "cell_type": "code",
   "execution_count": 23,
   "metadata": {},
   "outputs": [],
   "source": [
    "# reshape input to be [samples, time steps, features] which is required for LSTM\n",
    "X_train =X_train.reshape(X_train.shape[0],X_train.shape[1] , 1)\n",
    "X_test = X_test.reshape(X_test.shape[0],X_test.shape[1] , 1)"
   ]
  },
  {
   "cell_type": "code",
   "execution_count": null,
   "metadata": {},
   "outputs": [],
   "source": []
  },
  {
   "cell_type": "code",
   "execution_count": 24,
   "metadata": {},
   "outputs": [],
   "source": [
    "### Create the Stacked LSTM model\n",
    "from tensorflow.keras.models import Sequential\n",
    "from tensorflow.keras.layers import Dense\n",
    "from tensorflow.keras.layers import LSTM"
   ]
  },
  {
   "cell_type": "code",
   "execution_count": 25,
   "metadata": {},
   "outputs": [
    {
     "name": "stderr",
     "output_type": "stream",
     "text": [
      "C:\\Users\\udith\\AppData\\Local\\Programs\\Python\\Python312\\Lib\\site-packages\\keras\\src\\layers\\rnn\\rnn.py:204: UserWarning: Do not pass an `input_shape`/`input_dim` argument to a layer. When using Sequential models, prefer using an `Input(shape)` object as the first layer in the model instead.\n",
      "  super().__init__(**kwargs)\n"
     ]
    },
    {
     "data": {
      "text/html": [
       "<pre style=\"white-space:pre;overflow-x:auto;line-height:normal;font-family:Menlo,'DejaVu Sans Mono',consolas,'Courier New',monospace\"><span style=\"font-weight: bold\">Model: \"sequential\"</span>\n",
       "</pre>\n"
      ],
      "text/plain": [
       "\u001b[1mModel: \"sequential\"\u001b[0m\n"
      ]
     },
     "metadata": {},
     "output_type": "display_data"
    },
    {
     "data": {
      "text/html": [
       "<pre style=\"white-space:pre;overflow-x:auto;line-height:normal;font-family:Menlo,'DejaVu Sans Mono',consolas,'Courier New',monospace\">┏━━━━━━━━━━━━━━━━━━━━━━━━━━━━━━━━━━━━━━┳━━━━━━━━━━━━━━━━━━━━━━━━━━━━━┳━━━━━━━━━━━━━━━━━┓\n",
       "┃<span style=\"font-weight: bold\"> Layer (type)                         </span>┃<span style=\"font-weight: bold\"> Output Shape                </span>┃<span style=\"font-weight: bold\">         Param # </span>┃\n",
       "┡━━━━━━━━━━━━━━━━━━━━━━━━━━━━━━━━━━━━━━╇━━━━━━━━━━━━━━━━━━━━━━━━━━━━━╇━━━━━━━━━━━━━━━━━┩\n",
       "│ lstm (<span style=\"color: #0087ff; text-decoration-color: #0087ff\">LSTM</span>)                          │ (<span style=\"color: #00d7ff; text-decoration-color: #00d7ff\">None</span>, <span style=\"color: #00af00; text-decoration-color: #00af00\">100</span>, <span style=\"color: #00af00; text-decoration-color: #00af00\">100</span>)            │          <span style=\"color: #00af00; text-decoration-color: #00af00\">40,800</span> │\n",
       "├──────────────────────────────────────┼─────────────────────────────┼─────────────────┤\n",
       "│ batch_normalization                  │ (<span style=\"color: #00d7ff; text-decoration-color: #00d7ff\">None</span>, <span style=\"color: #00af00; text-decoration-color: #00af00\">100</span>, <span style=\"color: #00af00; text-decoration-color: #00af00\">100</span>)            │             <span style=\"color: #00af00; text-decoration-color: #00af00\">400</span> │\n",
       "│ (<span style=\"color: #0087ff; text-decoration-color: #0087ff\">BatchNormalization</span>)                 │                             │                 │\n",
       "├──────────────────────────────────────┼─────────────────────────────┼─────────────────┤\n",
       "│ dropout (<span style=\"color: #0087ff; text-decoration-color: #0087ff\">Dropout</span>)                    │ (<span style=\"color: #00d7ff; text-decoration-color: #00d7ff\">None</span>, <span style=\"color: #00af00; text-decoration-color: #00af00\">100</span>, <span style=\"color: #00af00; text-decoration-color: #00af00\">100</span>)            │               <span style=\"color: #00af00; text-decoration-color: #00af00\">0</span> │\n",
       "├──────────────────────────────────────┼─────────────────────────────┼─────────────────┤\n",
       "│ lstm_1 (<span style=\"color: #0087ff; text-decoration-color: #0087ff\">LSTM</span>)                        │ (<span style=\"color: #00d7ff; text-decoration-color: #00d7ff\">None</span>, <span style=\"color: #00af00; text-decoration-color: #00af00\">100</span>, <span style=\"color: #00af00; text-decoration-color: #00af00\">100</span>)            │          <span style=\"color: #00af00; text-decoration-color: #00af00\">80,400</span> │\n",
       "├──────────────────────────────────────┼─────────────────────────────┼─────────────────┤\n",
       "│ batch_normalization_1                │ (<span style=\"color: #00d7ff; text-decoration-color: #00d7ff\">None</span>, <span style=\"color: #00af00; text-decoration-color: #00af00\">100</span>, <span style=\"color: #00af00; text-decoration-color: #00af00\">100</span>)            │             <span style=\"color: #00af00; text-decoration-color: #00af00\">400</span> │\n",
       "│ (<span style=\"color: #0087ff; text-decoration-color: #0087ff\">BatchNormalization</span>)                 │                             │                 │\n",
       "├──────────────────────────────────────┼─────────────────────────────┼─────────────────┤\n",
       "│ dropout_1 (<span style=\"color: #0087ff; text-decoration-color: #0087ff\">Dropout</span>)                  │ (<span style=\"color: #00d7ff; text-decoration-color: #00d7ff\">None</span>, <span style=\"color: #00af00; text-decoration-color: #00af00\">100</span>, <span style=\"color: #00af00; text-decoration-color: #00af00\">100</span>)            │               <span style=\"color: #00af00; text-decoration-color: #00af00\">0</span> │\n",
       "├──────────────────────────────────────┼─────────────────────────────┼─────────────────┤\n",
       "│ lstm_2 (<span style=\"color: #0087ff; text-decoration-color: #0087ff\">LSTM</span>)                        │ (<span style=\"color: #00d7ff; text-decoration-color: #00d7ff\">None</span>, <span style=\"color: #00af00; text-decoration-color: #00af00\">100</span>, <span style=\"color: #00af00; text-decoration-color: #00af00\">100</span>)            │          <span style=\"color: #00af00; text-decoration-color: #00af00\">80,400</span> │\n",
       "├──────────────────────────────────────┼─────────────────────────────┼─────────────────┤\n",
       "│ batch_normalization_2                │ (<span style=\"color: #00d7ff; text-decoration-color: #00d7ff\">None</span>, <span style=\"color: #00af00; text-decoration-color: #00af00\">100</span>, <span style=\"color: #00af00; text-decoration-color: #00af00\">100</span>)            │             <span style=\"color: #00af00; text-decoration-color: #00af00\">400</span> │\n",
       "│ (<span style=\"color: #0087ff; text-decoration-color: #0087ff\">BatchNormalization</span>)                 │                             │                 │\n",
       "├──────────────────────────────────────┼─────────────────────────────┼─────────────────┤\n",
       "│ dropout_2 (<span style=\"color: #0087ff; text-decoration-color: #0087ff\">Dropout</span>)                  │ (<span style=\"color: #00d7ff; text-decoration-color: #00d7ff\">None</span>, <span style=\"color: #00af00; text-decoration-color: #00af00\">100</span>, <span style=\"color: #00af00; text-decoration-color: #00af00\">100</span>)            │               <span style=\"color: #00af00; text-decoration-color: #00af00\">0</span> │\n",
       "├──────────────────────────────────────┼─────────────────────────────┼─────────────────┤\n",
       "│ lstm_3 (<span style=\"color: #0087ff; text-decoration-color: #0087ff\">LSTM</span>)                        │ (<span style=\"color: #00d7ff; text-decoration-color: #00d7ff\">None</span>, <span style=\"color: #00af00; text-decoration-color: #00af00\">50</span>)                  │          <span style=\"color: #00af00; text-decoration-color: #00af00\">30,200</span> │\n",
       "├──────────────────────────────────────┼─────────────────────────────┼─────────────────┤\n",
       "│ batch_normalization_3                │ (<span style=\"color: #00d7ff; text-decoration-color: #00d7ff\">None</span>, <span style=\"color: #00af00; text-decoration-color: #00af00\">50</span>)                  │             <span style=\"color: #00af00; text-decoration-color: #00af00\">200</span> │\n",
       "│ (<span style=\"color: #0087ff; text-decoration-color: #0087ff\">BatchNormalization</span>)                 │                             │                 │\n",
       "├──────────────────────────────────────┼─────────────────────────────┼─────────────────┤\n",
       "│ dropout_3 (<span style=\"color: #0087ff; text-decoration-color: #0087ff\">Dropout</span>)                  │ (<span style=\"color: #00d7ff; text-decoration-color: #00d7ff\">None</span>, <span style=\"color: #00af00; text-decoration-color: #00af00\">50</span>)                  │               <span style=\"color: #00af00; text-decoration-color: #00af00\">0</span> │\n",
       "├──────────────────────────────────────┼─────────────────────────────┼─────────────────┤\n",
       "│ dense (<span style=\"color: #0087ff; text-decoration-color: #0087ff\">Dense</span>)                        │ (<span style=\"color: #00d7ff; text-decoration-color: #00d7ff\">None</span>, <span style=\"color: #00af00; text-decoration-color: #00af00\">1</span>)                   │              <span style=\"color: #00af00; text-decoration-color: #00af00\">51</span> │\n",
       "└──────────────────────────────────────┴─────────────────────────────┴─────────────────┘\n",
       "</pre>\n"
      ],
      "text/plain": [
       "┏━━━━━━━━━━━━━━━━━━━━━━━━━━━━━━━━━━━━━━┳━━━━━━━━━━━━━━━━━━━━━━━━━━━━━┳━━━━━━━━━━━━━━━━━┓\n",
       "┃\u001b[1m \u001b[0m\u001b[1mLayer (type)                        \u001b[0m\u001b[1m \u001b[0m┃\u001b[1m \u001b[0m\u001b[1mOutput Shape               \u001b[0m\u001b[1m \u001b[0m┃\u001b[1m \u001b[0m\u001b[1m        Param #\u001b[0m\u001b[1m \u001b[0m┃\n",
       "┡━━━━━━━━━━━━━━━━━━━━━━━━━━━━━━━━━━━━━━╇━━━━━━━━━━━━━━━━━━━━━━━━━━━━━╇━━━━━━━━━━━━━━━━━┩\n",
       "│ lstm (\u001b[38;5;33mLSTM\u001b[0m)                          │ (\u001b[38;5;45mNone\u001b[0m, \u001b[38;5;34m100\u001b[0m, \u001b[38;5;34m100\u001b[0m)            │          \u001b[38;5;34m40,800\u001b[0m │\n",
       "├──────────────────────────────────────┼─────────────────────────────┼─────────────────┤\n",
       "│ batch_normalization                  │ (\u001b[38;5;45mNone\u001b[0m, \u001b[38;5;34m100\u001b[0m, \u001b[38;5;34m100\u001b[0m)            │             \u001b[38;5;34m400\u001b[0m │\n",
       "│ (\u001b[38;5;33mBatchNormalization\u001b[0m)                 │                             │                 │\n",
       "├──────────────────────────────────────┼─────────────────────────────┼─────────────────┤\n",
       "│ dropout (\u001b[38;5;33mDropout\u001b[0m)                    │ (\u001b[38;5;45mNone\u001b[0m, \u001b[38;5;34m100\u001b[0m, \u001b[38;5;34m100\u001b[0m)            │               \u001b[38;5;34m0\u001b[0m │\n",
       "├──────────────────────────────────────┼─────────────────────────────┼─────────────────┤\n",
       "│ lstm_1 (\u001b[38;5;33mLSTM\u001b[0m)                        │ (\u001b[38;5;45mNone\u001b[0m, \u001b[38;5;34m100\u001b[0m, \u001b[38;5;34m100\u001b[0m)            │          \u001b[38;5;34m80,400\u001b[0m │\n",
       "├──────────────────────────────────────┼─────────────────────────────┼─────────────────┤\n",
       "│ batch_normalization_1                │ (\u001b[38;5;45mNone\u001b[0m, \u001b[38;5;34m100\u001b[0m, \u001b[38;5;34m100\u001b[0m)            │             \u001b[38;5;34m400\u001b[0m │\n",
       "│ (\u001b[38;5;33mBatchNormalization\u001b[0m)                 │                             │                 │\n",
       "├──────────────────────────────────────┼─────────────────────────────┼─────────────────┤\n",
       "│ dropout_1 (\u001b[38;5;33mDropout\u001b[0m)                  │ (\u001b[38;5;45mNone\u001b[0m, \u001b[38;5;34m100\u001b[0m, \u001b[38;5;34m100\u001b[0m)            │               \u001b[38;5;34m0\u001b[0m │\n",
       "├──────────────────────────────────────┼─────────────────────────────┼─────────────────┤\n",
       "│ lstm_2 (\u001b[38;5;33mLSTM\u001b[0m)                        │ (\u001b[38;5;45mNone\u001b[0m, \u001b[38;5;34m100\u001b[0m, \u001b[38;5;34m100\u001b[0m)            │          \u001b[38;5;34m80,400\u001b[0m │\n",
       "├──────────────────────────────────────┼─────────────────────────────┼─────────────────┤\n",
       "│ batch_normalization_2                │ (\u001b[38;5;45mNone\u001b[0m, \u001b[38;5;34m100\u001b[0m, \u001b[38;5;34m100\u001b[0m)            │             \u001b[38;5;34m400\u001b[0m │\n",
       "│ (\u001b[38;5;33mBatchNormalization\u001b[0m)                 │                             │                 │\n",
       "├──────────────────────────────────────┼─────────────────────────────┼─────────────────┤\n",
       "│ dropout_2 (\u001b[38;5;33mDropout\u001b[0m)                  │ (\u001b[38;5;45mNone\u001b[0m, \u001b[38;5;34m100\u001b[0m, \u001b[38;5;34m100\u001b[0m)            │               \u001b[38;5;34m0\u001b[0m │\n",
       "├──────────────────────────────────────┼─────────────────────────────┼─────────────────┤\n",
       "│ lstm_3 (\u001b[38;5;33mLSTM\u001b[0m)                        │ (\u001b[38;5;45mNone\u001b[0m, \u001b[38;5;34m50\u001b[0m)                  │          \u001b[38;5;34m30,200\u001b[0m │\n",
       "├──────────────────────────────────────┼─────────────────────────────┼─────────────────┤\n",
       "│ batch_normalization_3                │ (\u001b[38;5;45mNone\u001b[0m, \u001b[38;5;34m50\u001b[0m)                  │             \u001b[38;5;34m200\u001b[0m │\n",
       "│ (\u001b[38;5;33mBatchNormalization\u001b[0m)                 │                             │                 │\n",
       "├──────────────────────────────────────┼─────────────────────────────┼─────────────────┤\n",
       "│ dropout_3 (\u001b[38;5;33mDropout\u001b[0m)                  │ (\u001b[38;5;45mNone\u001b[0m, \u001b[38;5;34m50\u001b[0m)                  │               \u001b[38;5;34m0\u001b[0m │\n",
       "├──────────────────────────────────────┼─────────────────────────────┼─────────────────┤\n",
       "│ dense (\u001b[38;5;33mDense\u001b[0m)                        │ (\u001b[38;5;45mNone\u001b[0m, \u001b[38;5;34m1\u001b[0m)                   │              \u001b[38;5;34m51\u001b[0m │\n",
       "└──────────────────────────────────────┴─────────────────────────────┴─────────────────┘\n"
      ]
     },
     "metadata": {},
     "output_type": "display_data"
    },
    {
     "data": {
      "text/html": [
       "<pre style=\"white-space:pre;overflow-x:auto;line-height:normal;font-family:Menlo,'DejaVu Sans Mono',consolas,'Courier New',monospace\"><span style=\"font-weight: bold\"> Total params: </span><span style=\"color: #00af00; text-decoration-color: #00af00\">233,251</span> (911.14 KB)\n",
       "</pre>\n"
      ],
      "text/plain": [
       "\u001b[1m Total params: \u001b[0m\u001b[38;5;34m233,251\u001b[0m (911.14 KB)\n"
      ]
     },
     "metadata": {},
     "output_type": "display_data"
    },
    {
     "data": {
      "text/html": [
       "<pre style=\"white-space:pre;overflow-x:auto;line-height:normal;font-family:Menlo,'DejaVu Sans Mono',consolas,'Courier New',monospace\"><span style=\"font-weight: bold\"> Trainable params: </span><span style=\"color: #00af00; text-decoration-color: #00af00\">232,551</span> (908.40 KB)\n",
       "</pre>\n"
      ],
      "text/plain": [
       "\u001b[1m Trainable params: \u001b[0m\u001b[38;5;34m232,551\u001b[0m (908.40 KB)\n"
      ]
     },
     "metadata": {},
     "output_type": "display_data"
    },
    {
     "data": {
      "text/html": [
       "<pre style=\"white-space:pre;overflow-x:auto;line-height:normal;font-family:Menlo,'DejaVu Sans Mono',consolas,'Courier New',monospace\"><span style=\"font-weight: bold\"> Non-trainable params: </span><span style=\"color: #00af00; text-decoration-color: #00af00\">700</span> (2.73 KB)\n",
       "</pre>\n"
      ],
      "text/plain": [
       "\u001b[1m Non-trainable params: \u001b[0m\u001b[38;5;34m700\u001b[0m (2.73 KB)\n"
      ]
     },
     "metadata": {},
     "output_type": "display_data"
    }
   ],
   "source": [
    "from tensorflow.keras.models import Sequential\n",
    "from tensorflow.keras.layers import LSTM, Dense, Dropout, BatchNormalization\n",
    "from tensorflow.keras.optimizers import Adam\n",
    "\n",
    "# Initialize the model\n",
    "model = Sequential()\n",
    "\n",
    "# Add LSTM layers with more units, batch normalization, and dropout to avoid overfitting\n",
    "model.add(LSTM(100, return_sequences=True, input_shape=(100, 1)))\n",
    "model.add(BatchNormalization())  # Normalizing the layer's output\n",
    "model.add(Dropout(0.2))  # Dropout to prevent overfitting\n",
    "\n",
    "model.add(LSTM(100, return_sequences=True))\n",
    "model.add(BatchNormalization())\n",
    "model.add(Dropout(0.2))\n",
    "\n",
    "model.add(LSTM(100, return_sequences=True))\n",
    "model.add(BatchNormalization())\n",
    "model.add(Dropout(0.2))\n",
    "\n",
    "model.add(LSTM(50))  # The last LSTM layer\n",
    "model.add(BatchNormalization())\n",
    "model.add(Dropout(0.2))\n",
    "\n",
    "# Add Dense output layer\n",
    "model.add(Dense(1))\n",
    "\n",
    "# Compile the model with Adam optimizer and a tuned learning rate\n",
    "optimizer = Adam(learning_rate=0.001)  # Tuned learning rate\n",
    "model.compile(loss='mean_squared_error', optimizer=optimizer)\n",
    "\n",
    "# Summary of the model\n",
    "model.summary()\n",
    "\n"
   ]
  },
  {
   "cell_type": "code",
   "execution_count": 26,
   "metadata": {},
   "outputs": [
    {
     "name": "stdout",
     "output_type": "stream",
     "text": [
      "Epoch 1/100\n",
      "\u001b[1m45/45\u001b[0m \u001b[32m━━━━━━━━━━━━━━━━━━━━\u001b[0m\u001b[37m\u001b[0m \u001b[1m10s\u001b[0m 124ms/step - loss: 1.5675 - val_loss: 0.0261\n",
      "Epoch 2/100\n",
      "\u001b[1m45/45\u001b[0m \u001b[32m━━━━━━━━━━━━━━━━━━━━\u001b[0m\u001b[37m\u001b[0m \u001b[1m5s\u001b[0m 107ms/step - loss: 0.6399 - val_loss: 0.0161\n",
      "Epoch 3/100\n",
      "\u001b[1m45/45\u001b[0m \u001b[32m━━━━━━━━━━━━━━━━━━━━\u001b[0m\u001b[37m\u001b[0m \u001b[1m5s\u001b[0m 111ms/step - loss: 0.5462 - val_loss: 0.0128\n",
      "Epoch 4/100\n",
      "\u001b[1m45/45\u001b[0m \u001b[32m━━━━━━━━━━━━━━━━━━━━\u001b[0m\u001b[37m\u001b[0m \u001b[1m5s\u001b[0m 107ms/step - loss: 0.4095 - val_loss: 0.0103\n",
      "Epoch 5/100\n",
      "\u001b[1m45/45\u001b[0m \u001b[32m━━━━━━━━━━━━━━━━━━━━\u001b[0m\u001b[37m\u001b[0m \u001b[1m5s\u001b[0m 104ms/step - loss: 0.3431 - val_loss: 0.0206\n",
      "Epoch 6/100\n",
      "\u001b[1m45/45\u001b[0m \u001b[32m━━━━━━━━━━━━━━━━━━━━\u001b[0m\u001b[37m\u001b[0m \u001b[1m5s\u001b[0m 108ms/step - loss: 0.3120 - val_loss: 0.0176\n",
      "Epoch 7/100\n",
      "\u001b[1m45/45\u001b[0m \u001b[32m━━━━━━━━━━━━━━━━━━━━\u001b[0m\u001b[37m\u001b[0m \u001b[1m5s\u001b[0m 112ms/step - loss: 0.2774 - val_loss: 0.0099\n",
      "Epoch 8/100\n",
      "\u001b[1m45/45\u001b[0m \u001b[32m━━━━━━━━━━━━━━━━━━━━\u001b[0m\u001b[37m\u001b[0m \u001b[1m5s\u001b[0m 108ms/step - loss: 0.2368 - val_loss: 0.0180\n",
      "Epoch 9/100\n",
      "\u001b[1m45/45\u001b[0m \u001b[32m━━━━━━━━━━━━━━━━━━━━\u001b[0m\u001b[37m\u001b[0m \u001b[1m5s\u001b[0m 103ms/step - loss: 0.2048 - val_loss: 0.0234\n",
      "Epoch 10/100\n",
      "\u001b[1m45/45\u001b[0m \u001b[32m━━━━━━━━━━━━━━━━━━━━\u001b[0m\u001b[37m\u001b[0m \u001b[1m5s\u001b[0m 105ms/step - loss: 0.1890 - val_loss: 0.0251\n",
      "Epoch 11/100\n",
      "\u001b[1m45/45\u001b[0m \u001b[32m━━━━━━━━━━━━━━━━━━━━\u001b[0m\u001b[37m\u001b[0m \u001b[1m5s\u001b[0m 104ms/step - loss: 0.1629 - val_loss: 0.0122\n",
      "Epoch 12/100\n",
      "\u001b[1m45/45\u001b[0m \u001b[32m━━━━━━━━━━━━━━━━━━━━\u001b[0m\u001b[37m\u001b[0m \u001b[1m5s\u001b[0m 109ms/step - loss: 0.1497 - val_loss: 0.0064\n",
      "Epoch 13/100\n",
      "\u001b[1m45/45\u001b[0m \u001b[32m━━━━━━━━━━━━━━━━━━━━\u001b[0m\u001b[37m\u001b[0m \u001b[1m5s\u001b[0m 107ms/step - loss: 0.1352 - val_loss: 0.0113\n",
      "Epoch 14/100\n",
      "\u001b[1m45/45\u001b[0m \u001b[32m━━━━━━━━━━━━━━━━━━━━\u001b[0m\u001b[37m\u001b[0m \u001b[1m5s\u001b[0m 105ms/step - loss: 0.1023 - val_loss: 0.0043\n",
      "Epoch 15/100\n",
      "\u001b[1m45/45\u001b[0m \u001b[32m━━━━━━━━━━━━━━━━━━━━\u001b[0m\u001b[37m\u001b[0m \u001b[1m5s\u001b[0m 104ms/step - loss: 0.0980 - val_loss: 0.0035\n",
      "Epoch 16/100\n",
      "\u001b[1m45/45\u001b[0m \u001b[32m━━━━━━━━━━━━━━━━━━━━\u001b[0m\u001b[37m\u001b[0m \u001b[1m5s\u001b[0m 105ms/step - loss: 0.0861 - val_loss: 0.0033\n",
      "Epoch 17/100\n",
      "\u001b[1m45/45\u001b[0m \u001b[32m━━━━━━━━━━━━━━━━━━━━\u001b[0m\u001b[37m\u001b[0m \u001b[1m4s\u001b[0m 100ms/step - loss: 0.0799 - val_loss: 0.0047\n",
      "Epoch 18/100\n",
      "\u001b[1m45/45\u001b[0m \u001b[32m━━━━━━━━━━━━━━━━━━━━\u001b[0m\u001b[37m\u001b[0m \u001b[1m5s\u001b[0m 105ms/step - loss: 0.0677 - val_loss: 0.0036\n",
      "Epoch 19/100\n",
      "\u001b[1m45/45\u001b[0m \u001b[32m━━━━━━━━━━━━━━━━━━━━\u001b[0m\u001b[37m\u001b[0m \u001b[1m5s\u001b[0m 104ms/step - loss: 0.0590 - val_loss: 0.0037\n",
      "Epoch 20/100\n",
      "\u001b[1m45/45\u001b[0m \u001b[32m━━━━━━━━━━━━━━━━━━━━\u001b[0m\u001b[37m\u001b[0m \u001b[1m5s\u001b[0m 105ms/step - loss: 0.0490 - val_loss: 0.0027\n",
      "Epoch 21/100\n",
      "\u001b[1m45/45\u001b[0m \u001b[32m━━━━━━━━━━━━━━━━━━━━\u001b[0m\u001b[37m\u001b[0m \u001b[1m5s\u001b[0m 106ms/step - loss: 0.0462 - val_loss: 0.0035\n",
      "Epoch 22/100\n",
      "\u001b[1m45/45\u001b[0m \u001b[32m━━━━━━━━━━━━━━━━━━━━\u001b[0m\u001b[37m\u001b[0m \u001b[1m5s\u001b[0m 106ms/step - loss: 0.0381 - val_loss: 0.0022\n",
      "Epoch 23/100\n",
      "\u001b[1m45/45\u001b[0m \u001b[32m━━━━━━━━━━━━━━━━━━━━\u001b[0m\u001b[37m\u001b[0m \u001b[1m5s\u001b[0m 108ms/step - loss: 0.0374 - val_loss: 0.0037\n",
      "Epoch 24/100\n",
      "\u001b[1m45/45\u001b[0m \u001b[32m━━━━━━━━━━━━━━━━━━━━\u001b[0m\u001b[37m\u001b[0m \u001b[1m5s\u001b[0m 103ms/step - loss: 0.0355 - val_loss: 0.0029\n",
      "Epoch 25/100\n",
      "\u001b[1m45/45\u001b[0m \u001b[32m━━━━━━━━━━━━━━━━━━━━\u001b[0m\u001b[37m\u001b[0m \u001b[1m5s\u001b[0m 105ms/step - loss: 0.0293 - val_loss: 0.0031\n",
      "Epoch 26/100\n",
      "\u001b[1m45/45\u001b[0m \u001b[32m━━━━━━━━━━━━━━━━━━━━\u001b[0m\u001b[37m\u001b[0m \u001b[1m5s\u001b[0m 104ms/step - loss: 0.0272 - val_loss: 0.0039\n",
      "Epoch 27/100\n",
      "\u001b[1m45/45\u001b[0m \u001b[32m━━━━━━━━━━━━━━━━━━━━\u001b[0m\u001b[37m\u001b[0m \u001b[1m5s\u001b[0m 105ms/step - loss: 0.0231 - val_loss: 0.0046\n"
     ]
    }
   ],
   "source": [
    "from tensorflow.keras.callbacks import EarlyStopping\n",
    "\n",
    "# Define EarlyStopping callback\n",
    "early_stop = EarlyStopping(\n",
    "    monitor='val_loss',  # Monitor the validation loss\n",
    "    patience=5,          # Number of epochs with no improvement after which training will be stopped\n",
    "    restore_best_weights=True  # Restore model weights from the epoch with the best validation loss\n",
    ")\n",
    "\n",
    "# Train the model with EarlyStopping\n",
    "history = model.fit(\n",
    "    X_train, y_train, \n",
    "    validation_data=(X_test,ytest),  # Use validation data for early stopping\n",
    "    epochs=100, \n",
    "    batch_size=32, \n",
    "    callbacks=[early_stop],  # Add EarlyStopping to the training process\n",
    "    verbose=1\n",
    ")\n"
   ]
  },
  {
   "cell_type": "code",
   "execution_count": 27,
   "metadata": {},
   "outputs": [],
   "source": [
    "import tensorflow as tf"
   ]
  },
  {
   "cell_type": "code",
   "execution_count": 28,
   "metadata": {},
   "outputs": [
    {
     "data": {
      "text/plain": [
       "'2.16.1'"
      ]
     },
     "execution_count": 28,
     "metadata": {},
     "output_type": "execute_result"
    }
   ],
   "source": [
    "tf.__version__"
   ]
  },
  {
   "cell_type": "code",
   "execution_count": 29,
   "metadata": {},
   "outputs": [
    {
     "name": "stdout",
     "output_type": "stream",
     "text": [
      "\u001b[1m45/45\u001b[0m \u001b[32m━━━━━━━━━━━━━━━━━━━━\u001b[0m\u001b[37m\u001b[0m \u001b[1m2s\u001b[0m 44ms/step\n",
      "\u001b[1m23/23\u001b[0m \u001b[32m━━━━━━━━━━━━━━━━━━━━\u001b[0m\u001b[37m\u001b[0m \u001b[1m1s\u001b[0m 36ms/step\n"
     ]
    }
   ],
   "source": [
    "### Lets Do the prediction and check performance metrics\n",
    "train_predict=model.predict(X_train)\n",
    "test_predict=model.predict(X_test)"
   ]
  },
  {
   "cell_type": "code",
   "execution_count": 30,
   "metadata": {},
   "outputs": [],
   "source": [
    "##Transformback to original form\n",
    "train_predict=scaler.inverse_transform(train_predict)\n",
    "test_predict=scaler.inverse_transform(test_predict)"
   ]
  },
  {
   "cell_type": "code",
   "execution_count": 31,
   "metadata": {},
   "outputs": [
    {
     "data": {
      "text/plain": [
       "10.620749462808561"
      ]
     },
     "execution_count": 31,
     "metadata": {},
     "output_type": "execute_result"
    }
   ],
   "source": [
    "### Calculate RMSE performance metrics\n",
    "import math\n",
    "from sklearn.metrics import mean_squared_error\n",
    "math.sqrt(mean_squared_error(y_train,train_predict))"
   ]
  },
  {
   "cell_type": "code",
   "execution_count": 32,
   "metadata": {},
   "outputs": [
    {
     "data": {
      "text/plain": [
       "10.739090139651166"
      ]
     },
     "execution_count": 32,
     "metadata": {},
     "output_type": "execute_result"
    }
   ],
   "source": [
    "### Test Data RMSE\n",
    "math.sqrt(mean_squared_error(ytest,test_predict))"
   ]
  },
  {
   "cell_type": "code",
   "execution_count": 33,
   "metadata": {},
   "outputs": [
    {
     "name": "stdout",
     "output_type": "stream",
     "text": [
      "Mean Absolute Error (MAE): 10.520416162597872\n",
      "Mean Squared Error (MSE): 112.80031915174833\n",
      "Root Mean Squared Error (RMSE): 10.620749462808561\n"
     ]
    }
   ],
   "source": [
    "import math\n",
    "from sklearn.metrics import mean_absolute_error, mean_squared_error\n",
    "\n",
    "# Calculate Mean Absolute Error (MAE)\n",
    "mae = mean_absolute_error(y_train, train_predict)\n",
    "\n",
    "# Calculate Mean Squared Error (MSE)\n",
    "mse = mean_squared_error(y_train, train_predict)\n",
    "\n",
    "# Calculate Root Mean Squared Error (RMSE)\n",
    "rmse = math.sqrt(mse)\n",
    "\n",
    "# Print all the metrics\n",
    "print(f\"Mean Absolute Error (MAE): {mae}\")\n",
    "print(f\"Mean Squared Error (MSE): {mse}\")\n",
    "print(f\"Root Mean Squared Error (RMSE): {rmse}\")"
   ]
  },
  {
   "cell_type": "code",
   "execution_count": 34,
   "metadata": {},
   "outputs": [
    {
     "name": "stdout",
     "output_type": "stream",
     "text": [
      "Mean Absolute Error (MAE): 10.714745674203002\n",
      "Mean Squared Error (MSE): 115.32805702755292\n",
      "Root Mean Squared Error (RMSE): 10.739090139651166\n"
     ]
    }
   ],
   "source": [
    "import math\n",
    "from sklearn.metrics import mean_absolute_error, mean_squared_error\n",
    "\n",
    "# Calculate Mean Absolute Error (MAE)\n",
    "mae = mean_absolute_error(ytest, test_predict)\n",
    "\n",
    "# Calculate Mean Squared Error (MSE)\n",
    "mse = mean_squared_error(ytest, test_predict)\n",
    "\n",
    "# Calculate Root Mean Squared Error (RMSE)\n",
    "rmse = math.sqrt(mse)\n",
    "\n",
    "# Print all the metrics\n",
    "print(f\"Mean Absolute Error (MAE): {mae}\")\n",
    "print(f\"Mean Squared Error (MSE): {mse}\")\n",
    "print(f\"Root Mean Squared Error (RMSE): {rmse}\")"
   ]
  },
  {
   "cell_type": "code",
   "execution_count": 51,
   "metadata": {},
   "outputs": [
    {
     "data": {
      "image/png": "[encoded data removed]",
      "text/plain": [
       "<Figure size 1000x600 with 1 Axes>"
      ]
     },
     "metadata": {},
     "output_type": "display_data"
    }
   ],
   "source": [
    "# shift train predictions for plotting\n",
    "look_back = 100\n",
    "trainPredictPlot = numpy.empty_like(df1)\n",
    "trainPredictPlot[:, :] = np.nan\n",
    "trainPredictPlot[look_back:len(train_predict) + look_back, :] = train_predict\n",
    "\n",
    "# shift test predictions for plotting\n",
    "testPredictPlot = numpy.empty_like(df1)\n",
    "testPredictPlot[:, :] = np.nan\n",
    "testPredictPlot[len(train_predict) + (look_back * 2) + 1:len(df1) - 1, :] = test_predict\n",
    "\n",
    "# plot baseline and predictions\n",
    "plt.figure(figsize=(10, 6))\n",
    "plt.plot(scaler.inverse_transform(df1), label='Original Data', color='blue')\n",
    "plt.plot(trainPredictPlot, label='Train Predictions', color='orange')\n",
    "plt.plot(testPredictPlot, label='Test Predictions', color='green')\n",
    "\n",
    "# Add title and labels\n",
    "plt.title('Original Data vs Predictions - Dialog PLC')\n",
    "plt.xlabel('Time')\n",
    "plt.ylabel('Value (Rs.)')\n",
    "\n",
    "# Add a legend\n",
    "plt.legend(loc='upper left')\n",
    "\n",
    "# Show the plot\n",
    "plt.show()"
   ]
  },
  {
   "cell_type": "code",
   "execution_count": 36,
   "metadata": {},
   "outputs": [
    {
     "data": {
      "text/plain": [
       "828"
      ]
     },
     "execution_count": 36,
     "metadata": {},
     "output_type": "execute_result"
    }
   ],
   "source": [
    "len(test_data)"
   ]
  },
  {
   "cell_type": "code",
   "execution_count": 37,
   "metadata": {},
   "outputs": [],
   "source": [
    "a = len(test_data) - 100"
   ]
  },
  {
   "cell_type": "code",
   "execution_count": 38,
   "metadata": {},
   "outputs": [
    {
     "data": {
      "text/plain": [
       "(1, 100)"
      ]
     },
     "execution_count": 38,
     "metadata": {},
     "output_type": "execute_result"
    }
   ],
   "source": [
    "x_input=test_data[a:].reshape(1,-1)\n",
    "x_input.shape\n"
   ]
  },
  {
   "cell_type": "code",
   "execution_count": 39,
   "metadata": {},
   "outputs": [],
   "source": [
    "temp_input=list(x_input)\n",
    "temp_input=temp_input[0].tolist()"
   ]
  },
  {
   "cell_type": "code",
   "execution_count": 40,
   "metadata": {},
   "outputs": [
    {
     "data": {
      "text/plain": [
       "[0.91044776119403,\n",
       " 0.791044776119403,\n",
       " 0.6865671641791047,\n",
       " 0.6865671641791047,\n",
       " 0.6716417910447763,\n",
       " 0.6865671641791047,\n",
       " 0.6716417910447763,\n",
       " 0.6865671641791047,\n",
       " 0.6417910447761195,\n",
       " 0.6268656716417911,\n",
       " 0.6716417910447763,\n",
       " 0.6567164179104479,\n",
       " 0.6865671641791047,\n",
       " 0.6716417910447763,\n",
       " 0.6567164179104479,\n",
       " 0.6417910447761195,\n",
       " 0.6119402985074629,\n",
       " 0.5970149253731345,\n",
       " 0.6119402985074629,\n",
       " 0.6268656716417911,\n",
       " 0.6268656716417911,\n",
       " 0.6417910447761195,\n",
       " 0.6268656716417911,\n",
       " 0.6417910447761195,\n",
       " 0.6716417910447763,\n",
       " 0.6716417910447763,\n",
       " 0.6865671641791047,\n",
       " 0.6865671641791047,\n",
       " 0.6865671641791047,\n",
       " 0.6268656716417911,\n",
       " 0.6119402985074629,\n",
       " 0.5373134328358209,\n",
       " 0.5074626865671643,\n",
       " 0.5074626865671643,\n",
       " 0.5223880597014927,\n",
       " 0.5074626865671643,\n",
       " 0.4925373134328359,\n",
       " 0.5074626865671643,\n",
       " 0.4776119402985075,\n",
       " 0.4925373134328359,\n",
       " 0.4925373134328359,\n",
       " 0.4925373134328359,\n",
       " 0.4925373134328359,\n",
       " 0.4925373134328359,\n",
       " 0.4925373134328359,\n",
       " 0.4776119402985075,\n",
       " 0.4776119402985075,\n",
       " 0.4626865671641791,\n",
       " 0.4776119402985075,\n",
       " 0.4925373134328359,\n",
       " 0.4776119402985075,\n",
       " 0.5074626865671643,\n",
       " 0.4925373134328359,\n",
       " 0.4776119402985075,\n",
       " 0.4925373134328359,\n",
       " 0.4925373134328359,\n",
       " 0.4776119402985075,\n",
       " 0.4925373134328359,\n",
       " 0.5074626865671643,\n",
       " 0.5223880597014927,\n",
       " 0.4776119402985075,\n",
       " 0.4626865671641791,\n",
       " 0.44776119402985093,\n",
       " 0.44776119402985093,\n",
       " 0.4626865671641791,\n",
       " 0.4626865671641791,\n",
       " 0.4626865671641791,\n",
       " 0.4328358208955225,\n",
       " 0.4328358208955225,\n",
       " 0.4328358208955225,\n",
       " 0.4328358208955225,\n",
       " 0.44776119402985093,\n",
       " 0.4328358208955225,\n",
       " 0.4328358208955225,\n",
       " 0.44776119402985093,\n",
       " 0.4328358208955225,\n",
       " 0.4328358208955225,\n",
       " 0.4328358208955225,\n",
       " 0.44776119402985093,\n",
       " 0.4626865671641791,\n",
       " 0.4626865671641791,\n",
       " 0.44776119402985093,\n",
       " 0.4626865671641791,\n",
       " 0.4626865671641791,\n",
       " 0.4776119402985075,\n",
       " 0.4925373134328359,\n",
       " 0.44776119402985093,\n",
       " 0.4626865671641791,\n",
       " 0.4626865671641791,\n",
       " 0.4626865671641791,\n",
       " 0.4179104477611939,\n",
       " 0.3880597014925373,\n",
       " 0.3880597014925373,\n",
       " 0.3880597014925373,\n",
       " 0.37313432835820914,\n",
       " 0.3880597014925373,\n",
       " 0.4029850746268657,\n",
       " 0.3880597014925373,\n",
       " 0.4029850746268657,\n",
       " 0.3880597014925373]"
      ]
     },
     "execution_count": 40,
     "metadata": {},
     "output_type": "execute_result"
    }
   ],
   "source": [
    "temp_input"
   ]
  },
  {
   "cell_type": "code",
   "execution_count": 41,
   "metadata": {},
   "outputs": [
    {
     "name": "stdout",
     "output_type": "stream",
     "text": [
      "[0.38948837]\n",
      "101\n",
      "1 day input [0.79104478 0.68656716 0.68656716 0.67164179 0.68656716 0.67164179\n",
      " 0.68656716 0.64179104 0.62686567 0.67164179 0.65671642 0.68656716\n",
      " 0.67164179 0.65671642 0.64179104 0.6119403  0.59701493 0.6119403\n",
      " 0.62686567 0.62686567 0.64179104 0.62686567 0.64179104 0.67164179\n",
      " 0.67164179 0.68656716 0.68656716 0.68656716 0.62686567 0.6119403\n",
      " 0.53731343 0.50746269 0.50746269 0.52238806 0.50746269 0.49253731\n",
      " 0.50746269 0.47761194 0.49253731 0.49253731 0.49253731 0.49253731\n",
      " 0.49253731 0.49253731 0.47761194 0.47761194 0.46268657 0.47761194\n",
      " 0.49253731 0.47761194 0.50746269 0.49253731 0.47761194 0.49253731\n",
      " 0.49253731 0.47761194 0.49253731 0.50746269 0.52238806 0.47761194\n",
      " 0.46268657 0.44776119 0.44776119 0.46268657 0.46268657 0.46268657\n",
      " 0.43283582 0.43283582 0.43283582 0.43283582 0.44776119 0.43283582\n",
      " 0.43283582 0.44776119 0.43283582 0.43283582 0.43283582 0.44776119\n",
      " 0.46268657 0.46268657 0.44776119 0.46268657 0.46268657 0.47761194\n",
      " 0.49253731 0.44776119 0.46268657 0.46268657 0.46268657 0.41791045\n",
      " 0.3880597  0.3880597  0.3880597  0.37313433 0.3880597  0.40298507\n",
      " 0.3880597  0.40298507 0.3880597  0.38948837]\n",
      "1 day output [[0.37773585]]\n",
      "2 day input [0.68656716 0.68656716 0.67164179 0.68656716 0.67164179 0.68656716\n",
      " 0.64179104 0.62686567 0.67164179 0.65671642 0.68656716 0.67164179\n",
      " 0.65671642 0.64179104 0.6119403  0.59701493 0.6119403  0.62686567\n",
      " 0.62686567 0.64179104 0.62686567 0.64179104 0.67164179 0.67164179\n",
      " 0.68656716 0.68656716 0.68656716 0.62686567 0.6119403  0.53731343\n",
      " 0.50746269 0.50746269 0.52238806 0.50746269 0.49253731 0.50746269\n",
      " 0.47761194 0.49253731 0.49253731 0.49253731 0.49253731 0.49253731\n",
      " 0.49253731 0.47761194 0.47761194 0.46268657 0.47761194 0.49253731\n",
      " 0.47761194 0.50746269 0.49253731 0.47761194 0.49253731 0.49253731\n",
      " 0.47761194 0.49253731 0.50746269 0.52238806 0.47761194 0.46268657\n",
      " 0.44776119 0.44776119 0.46268657 0.46268657 0.46268657 0.43283582\n",
      " 0.43283582 0.43283582 0.43283582 0.44776119 0.43283582 0.43283582\n",
      " 0.44776119 0.43283582 0.43283582 0.43283582 0.44776119 0.46268657\n",
      " 0.46268657 0.44776119 0.46268657 0.46268657 0.47761194 0.49253731\n",
      " 0.44776119 0.46268657 0.46268657 0.46268657 0.41791045 0.3880597\n",
      " 0.3880597  0.3880597  0.37313433 0.3880597  0.40298507 0.3880597\n",
      " 0.40298507 0.3880597  0.38948837 0.37773585]\n",
      "2 day output [[0.36722004]]\n",
      "3 day input [0.68656716 0.67164179 0.68656716 0.67164179 0.68656716 0.64179104\n",
      " 0.62686567 0.67164179 0.65671642 0.68656716 0.67164179 0.65671642\n",
      " 0.64179104 0.6119403  0.59701493 0.6119403  0.62686567 0.62686567\n",
      " 0.64179104 0.62686567 0.64179104 0.67164179 0.67164179 0.68656716\n",
      " 0.68656716 0.68656716 0.62686567 0.6119403  0.53731343 0.50746269\n",
      " 0.50746269 0.52238806 0.50746269 0.49253731 0.50746269 0.47761194\n",
      " 0.49253731 0.49253731 0.49253731 0.49253731 0.49253731 0.49253731\n",
      " 0.47761194 0.47761194 0.46268657 0.47761194 0.49253731 0.47761194\n",
      " 0.50746269 0.49253731 0.47761194 0.49253731 0.49253731 0.47761194\n",
      " 0.49253731 0.50746269 0.52238806 0.47761194 0.46268657 0.44776119\n",
      " 0.44776119 0.46268657 0.46268657 0.46268657 0.43283582 0.43283582\n",
      " 0.43283582 0.43283582 0.44776119 0.43283582 0.43283582 0.44776119\n",
      " 0.43283582 0.43283582 0.43283582 0.44776119 0.46268657 0.46268657\n",
      " 0.44776119 0.46268657 0.46268657 0.47761194 0.49253731 0.44776119\n",
      " 0.46268657 0.46268657 0.46268657 0.41791045 0.3880597  0.3880597\n",
      " 0.3880597  0.37313433 0.3880597  0.40298507 0.3880597  0.40298507\n",
      " 0.3880597  0.38948837 0.37773585 0.36722004]\n",
      "3 day output [[0.3582818]]\n",
      "4 day input [0.67164179 0.68656716 0.67164179 0.68656716 0.64179104 0.62686567\n",
      " 0.67164179 0.65671642 0.68656716 0.67164179 0.65671642 0.64179104\n",
      " 0.6119403  0.59701493 0.6119403  0.62686567 0.62686567 0.64179104\n",
      " 0.62686567 0.64179104 0.67164179 0.67164179 0.68656716 0.68656716\n",
      " 0.68656716 0.62686567 0.6119403  0.53731343 0.50746269 0.50746269\n",
      " 0.52238806 0.50746269 0.49253731 0.50746269 0.47761194 0.49253731\n",
      " 0.49253731 0.49253731 0.49253731 0.49253731 0.49253731 0.47761194\n",
      " 0.47761194 0.46268657 0.47761194 0.49253731 0.47761194 0.50746269\n",
      " 0.49253731 0.47761194 0.49253731 0.49253731 0.47761194 0.49253731\n",
      " 0.50746269 0.52238806 0.47761194 0.46268657 0.44776119 0.44776119\n",
      " 0.46268657 0.46268657 0.46268657 0.43283582 0.43283582 0.43283582\n",
      " 0.43283582 0.44776119 0.43283582 0.43283582 0.44776119 0.43283582\n",
      " 0.43283582 0.43283582 0.44776119 0.46268657 0.46268657 0.44776119\n",
      " 0.46268657 0.46268657 0.47761194 0.49253731 0.44776119 0.46268657\n",
      " 0.46268657 0.46268657 0.41791045 0.3880597  0.3880597  0.3880597\n",
      " 0.37313433 0.3880597  0.40298507 0.3880597  0.40298507 0.3880597\n",
      " 0.38948837 0.37773585 0.36722004 0.35828179]\n",
      "4 day output [[0.35039628]]\n",
      "5 day input [0.68656716 0.67164179 0.68656716 0.64179104 0.62686567 0.67164179\n",
      " 0.65671642 0.68656716 0.67164179 0.65671642 0.64179104 0.6119403\n",
      " 0.59701493 0.6119403  0.62686567 0.62686567 0.64179104 0.62686567\n",
      " 0.64179104 0.67164179 0.67164179 0.68656716 0.68656716 0.68656716\n",
      " 0.62686567 0.6119403  0.53731343 0.50746269 0.50746269 0.52238806\n",
      " 0.50746269 0.49253731 0.50746269 0.47761194 0.49253731 0.49253731\n",
      " 0.49253731 0.49253731 0.49253731 0.49253731 0.47761194 0.47761194\n",
      " 0.46268657 0.47761194 0.49253731 0.47761194 0.50746269 0.49253731\n",
      " 0.47761194 0.49253731 0.49253731 0.47761194 0.49253731 0.50746269\n",
      " 0.52238806 0.47761194 0.46268657 0.44776119 0.44776119 0.46268657\n",
      " 0.46268657 0.46268657 0.43283582 0.43283582 0.43283582 0.43283582\n",
      " 0.44776119 0.43283582 0.43283582 0.44776119 0.43283582 0.43283582\n",
      " 0.43283582 0.44776119 0.46268657 0.46268657 0.44776119 0.46268657\n",
      " 0.46268657 0.47761194 0.49253731 0.44776119 0.46268657 0.46268657\n",
      " 0.46268657 0.41791045 0.3880597  0.3880597  0.3880597  0.37313433\n",
      " 0.3880597  0.40298507 0.3880597  0.40298507 0.3880597  0.38948837\n",
      " 0.37773585 0.36722004 0.35828179 0.35039628]\n",
      "5 day output [[0.3428774]]\n",
      "6 day input [0.67164179 0.68656716 0.64179104 0.62686567 0.67164179 0.65671642\n",
      " 0.68656716 0.67164179 0.65671642 0.64179104 0.6119403  0.59701493\n",
      " 0.6119403  0.62686567 0.62686567 0.64179104 0.62686567 0.64179104\n",
      " 0.67164179 0.67164179 0.68656716 0.68656716 0.68656716 0.62686567\n",
      " 0.6119403  0.53731343 0.50746269 0.50746269 0.52238806 0.50746269\n",
      " 0.49253731 0.50746269 0.47761194 0.49253731 0.49253731 0.49253731\n",
      " 0.49253731 0.49253731 0.49253731 0.47761194 0.47761194 0.46268657\n",
      " 0.47761194 0.49253731 0.47761194 0.50746269 0.49253731 0.47761194\n",
      " 0.49253731 0.49253731 0.47761194 0.49253731 0.50746269 0.52238806\n",
      " 0.47761194 0.46268657 0.44776119 0.44776119 0.46268657 0.46268657\n",
      " 0.46268657 0.43283582 0.43283582 0.43283582 0.43283582 0.44776119\n",
      " 0.43283582 0.43283582 0.44776119 0.43283582 0.43283582 0.43283582\n",
      " 0.44776119 0.46268657 0.46268657 0.44776119 0.46268657 0.46268657\n",
      " 0.47761194 0.49253731 0.44776119 0.46268657 0.46268657 0.46268657\n",
      " 0.41791045 0.3880597  0.3880597  0.3880597  0.37313433 0.3880597\n",
      " 0.40298507 0.3880597  0.40298507 0.3880597  0.38948837 0.37773585\n",
      " 0.36722004 0.35828179 0.35039628 0.34287739]\n",
      "6 day output [[0.33559048]]\n",
      "7 day input [0.68656716 0.64179104 0.62686567 0.67164179 0.65671642 0.68656716\n",
      " 0.67164179 0.65671642 0.64179104 0.6119403  0.59701493 0.6119403\n",
      " 0.62686567 0.62686567 0.64179104 0.62686567 0.64179104 0.67164179\n",
      " 0.67164179 0.68656716 0.68656716 0.68656716 0.62686567 0.6119403\n",
      " 0.53731343 0.50746269 0.50746269 0.52238806 0.50746269 0.49253731\n",
      " 0.50746269 0.47761194 0.49253731 0.49253731 0.49253731 0.49253731\n",
      " 0.49253731 0.49253731 0.47761194 0.47761194 0.46268657 0.47761194\n",
      " 0.49253731 0.47761194 0.50746269 0.49253731 0.47761194 0.49253731\n",
      " 0.49253731 0.47761194 0.49253731 0.50746269 0.52238806 0.47761194\n",
      " 0.46268657 0.44776119 0.44776119 0.46268657 0.46268657 0.46268657\n",
      " 0.43283582 0.43283582 0.43283582 0.43283582 0.44776119 0.43283582\n",
      " 0.43283582 0.44776119 0.43283582 0.43283582 0.43283582 0.44776119\n",
      " 0.46268657 0.46268657 0.44776119 0.46268657 0.46268657 0.47761194\n",
      " 0.49253731 0.44776119 0.46268657 0.46268657 0.46268657 0.41791045\n",
      " 0.3880597  0.3880597  0.3880597  0.37313433 0.3880597  0.40298507\n",
      " 0.3880597  0.40298507 0.3880597  0.38948837 0.37773585 0.36722004\n",
      " 0.35828179 0.35039628 0.34287739 0.33559048]\n",
      "7 day output [[0.32890844]]\n",
      "8 day input [0.64179104 0.62686567 0.67164179 0.65671642 0.68656716 0.67164179\n",
      " 0.65671642 0.64179104 0.6119403  0.59701493 0.6119403  0.62686567\n",
      " 0.62686567 0.64179104 0.62686567 0.64179104 0.67164179 0.67164179\n",
      " 0.68656716 0.68656716 0.68656716 0.62686567 0.6119403  0.53731343\n",
      " 0.50746269 0.50746269 0.52238806 0.50746269 0.49253731 0.50746269\n",
      " 0.47761194 0.49253731 0.49253731 0.49253731 0.49253731 0.49253731\n",
      " 0.49253731 0.47761194 0.47761194 0.46268657 0.47761194 0.49253731\n",
      " 0.47761194 0.50746269 0.49253731 0.47761194 0.49253731 0.49253731\n",
      " 0.47761194 0.49253731 0.50746269 0.52238806 0.47761194 0.46268657\n",
      " 0.44776119 0.44776119 0.46268657 0.46268657 0.46268657 0.43283582\n",
      " 0.43283582 0.43283582 0.43283582 0.44776119 0.43283582 0.43283582\n",
      " 0.44776119 0.43283582 0.43283582 0.43283582 0.44776119 0.46268657\n",
      " 0.46268657 0.44776119 0.46268657 0.46268657 0.47761194 0.49253731\n",
      " 0.44776119 0.46268657 0.46268657 0.46268657 0.41791045 0.3880597\n",
      " 0.3880597  0.3880597  0.37313433 0.3880597  0.40298507 0.3880597\n",
      " 0.40298507 0.3880597  0.38948837 0.37773585 0.36722004 0.35828179\n",
      " 0.35039628 0.34287739 0.33559048 0.32890844]\n",
      "8 day output [[0.32315034]]\n",
      "9 day input [0.62686567 0.67164179 0.65671642 0.68656716 0.67164179 0.65671642\n",
      " 0.64179104 0.6119403  0.59701493 0.6119403  0.62686567 0.62686567\n",
      " 0.64179104 0.62686567 0.64179104 0.67164179 0.67164179 0.68656716\n",
      " 0.68656716 0.68656716 0.62686567 0.6119403  0.53731343 0.50746269\n",
      " 0.50746269 0.52238806 0.50746269 0.49253731 0.50746269 0.47761194\n",
      " 0.49253731 0.49253731 0.49253731 0.49253731 0.49253731 0.49253731\n",
      " 0.47761194 0.47761194 0.46268657 0.47761194 0.49253731 0.47761194\n",
      " 0.50746269 0.49253731 0.47761194 0.49253731 0.49253731 0.47761194\n",
      " 0.49253731 0.50746269 0.52238806 0.47761194 0.46268657 0.44776119\n",
      " 0.44776119 0.46268657 0.46268657 0.46268657 0.43283582 0.43283582\n",
      " 0.43283582 0.43283582 0.44776119 0.43283582 0.43283582 0.44776119\n",
      " 0.43283582 0.43283582 0.43283582 0.44776119 0.46268657 0.46268657\n",
      " 0.44776119 0.46268657 0.46268657 0.47761194 0.49253731 0.44776119\n",
      " 0.46268657 0.46268657 0.46268657 0.41791045 0.3880597  0.3880597\n",
      " 0.3880597  0.37313433 0.3880597  0.40298507 0.3880597  0.40298507\n",
      " 0.3880597  0.38948837 0.37773585 0.36722004 0.35828179 0.35039628\n",
      " 0.34287739 0.33559048 0.32890844 0.32315034]\n",
      "9 day output [[0.31837186]]\n",
      "10 day input [0.67164179 0.65671642 0.68656716 0.67164179 0.65671642 0.64179104\n",
      " 0.6119403  0.59701493 0.6119403  0.62686567 0.62686567 0.64179104\n",
      " 0.62686567 0.64179104 0.67164179 0.67164179 0.68656716 0.68656716\n",
      " 0.68656716 0.62686567 0.6119403  0.53731343 0.50746269 0.50746269\n",
      " 0.52238806 0.50746269 0.49253731 0.50746269 0.47761194 0.49253731\n",
      " 0.49253731 0.49253731 0.49253731 0.49253731 0.49253731 0.47761194\n",
      " 0.47761194 0.46268657 0.47761194 0.49253731 0.47761194 0.50746269\n",
      " 0.49253731 0.47761194 0.49253731 0.49253731 0.47761194 0.49253731\n",
      " 0.50746269 0.52238806 0.47761194 0.46268657 0.44776119 0.44776119\n",
      " 0.46268657 0.46268657 0.46268657 0.43283582 0.43283582 0.43283582\n",
      " 0.43283582 0.44776119 0.43283582 0.43283582 0.44776119 0.43283582\n",
      " 0.43283582 0.43283582 0.44776119 0.46268657 0.46268657 0.44776119\n",
      " 0.46268657 0.46268657 0.47761194 0.49253731 0.44776119 0.46268657\n",
      " 0.46268657 0.46268657 0.41791045 0.3880597  0.3880597  0.3880597\n",
      " 0.37313433 0.3880597  0.40298507 0.3880597  0.40298507 0.3880597\n",
      " 0.38948837 0.37773585 0.36722004 0.35828179 0.35039628 0.34287739\n",
      " 0.33559048 0.32890844 0.32315034 0.31837186]\n",
      "10 day output [[0.3144406]]\n",
      "11 day input [0.65671642 0.68656716 0.67164179 0.65671642 0.64179104 0.6119403\n",
      " 0.59701493 0.6119403  0.62686567 0.62686567 0.64179104 0.62686567\n",
      " 0.64179104 0.67164179 0.67164179 0.68656716 0.68656716 0.68656716\n",
      " 0.62686567 0.6119403  0.53731343 0.50746269 0.50746269 0.52238806\n",
      " 0.50746269 0.49253731 0.50746269 0.47761194 0.49253731 0.49253731\n",
      " 0.49253731 0.49253731 0.49253731 0.49253731 0.47761194 0.47761194\n",
      " 0.46268657 0.47761194 0.49253731 0.47761194 0.50746269 0.49253731\n",
      " 0.47761194 0.49253731 0.49253731 0.47761194 0.49253731 0.50746269\n",
      " 0.52238806 0.47761194 0.46268657 0.44776119 0.44776119 0.46268657\n",
      " 0.46268657 0.46268657 0.43283582 0.43283582 0.43283582 0.43283582\n",
      " 0.44776119 0.43283582 0.43283582 0.44776119 0.43283582 0.43283582\n",
      " 0.43283582 0.44776119 0.46268657 0.46268657 0.44776119 0.46268657\n",
      " 0.46268657 0.47761194 0.49253731 0.44776119 0.46268657 0.46268657\n",
      " 0.46268657 0.41791045 0.3880597  0.3880597  0.3880597  0.37313433\n",
      " 0.3880597  0.40298507 0.3880597  0.40298507 0.3880597  0.38948837\n",
      " 0.37773585 0.36722004 0.35828179 0.35039628 0.34287739 0.33559048\n",
      " 0.32890844 0.32315034 0.31837186 0.31444061]\n",
      "11 day output [[0.3111168]]\n",
      "12 day input [0.68656716 0.67164179 0.65671642 0.64179104 0.6119403  0.59701493\n",
      " 0.6119403  0.62686567 0.62686567 0.64179104 0.62686567 0.64179104\n",
      " 0.67164179 0.67164179 0.68656716 0.68656716 0.68656716 0.62686567\n",
      " 0.6119403  0.53731343 0.50746269 0.50746269 0.52238806 0.50746269\n",
      " 0.49253731 0.50746269 0.47761194 0.49253731 0.49253731 0.49253731\n",
      " 0.49253731 0.49253731 0.49253731 0.47761194 0.47761194 0.46268657\n",
      " 0.47761194 0.49253731 0.47761194 0.50746269 0.49253731 0.47761194\n",
      " 0.49253731 0.49253731 0.47761194 0.49253731 0.50746269 0.52238806\n",
      " 0.47761194 0.46268657 0.44776119 0.44776119 0.46268657 0.46268657\n",
      " 0.46268657 0.43283582 0.43283582 0.43283582 0.43283582 0.44776119\n",
      " 0.43283582 0.43283582 0.44776119 0.43283582 0.43283582 0.43283582\n",
      " 0.44776119 0.46268657 0.46268657 0.44776119 0.46268657 0.46268657\n",
      " 0.47761194 0.49253731 0.44776119 0.46268657 0.46268657 0.46268657\n",
      " 0.41791045 0.3880597  0.3880597  0.3880597  0.37313433 0.3880597\n",
      " 0.40298507 0.3880597  0.40298507 0.3880597  0.38948837 0.37773585\n",
      " 0.36722004 0.35828179 0.35039628 0.34287739 0.33559048 0.32890844\n",
      " 0.32315034 0.31837186 0.31444061 0.31111681]\n",
      "12 day output [[0.30814946]]\n",
      "13 day input [0.67164179 0.65671642 0.64179104 0.6119403  0.59701493 0.6119403\n",
      " 0.62686567 0.62686567 0.64179104 0.62686567 0.64179104 0.67164179\n",
      " 0.67164179 0.68656716 0.68656716 0.68656716 0.62686567 0.6119403\n",
      " 0.53731343 0.50746269 0.50746269 0.52238806 0.50746269 0.49253731\n",
      " 0.50746269 0.47761194 0.49253731 0.49253731 0.49253731 0.49253731\n",
      " 0.49253731 0.49253731 0.47761194 0.47761194 0.46268657 0.47761194\n",
      " 0.49253731 0.47761194 0.50746269 0.49253731 0.47761194 0.49253731\n",
      " 0.49253731 0.47761194 0.49253731 0.50746269 0.52238806 0.47761194\n",
      " 0.46268657 0.44776119 0.44776119 0.46268657 0.46268657 0.46268657\n",
      " 0.43283582 0.43283582 0.43283582 0.43283582 0.44776119 0.43283582\n",
      " 0.43283582 0.44776119 0.43283582 0.43283582 0.43283582 0.44776119\n",
      " 0.46268657 0.46268657 0.44776119 0.46268657 0.46268657 0.47761194\n",
      " 0.49253731 0.44776119 0.46268657 0.46268657 0.46268657 0.41791045\n",
      " 0.3880597  0.3880597  0.3880597  0.37313433 0.3880597  0.40298507\n",
      " 0.3880597  0.40298507 0.3880597  0.38948837 0.37773585 0.36722004\n",
      " 0.35828179 0.35039628 0.34287739 0.33559048 0.32890844 0.32315034\n",
      " 0.31837186 0.31444061 0.31111681 0.30814946]\n",
      "13 day output [[0.30535483]]\n",
      "14 day input [0.65671642 0.64179104 0.6119403  0.59701493 0.6119403  0.62686567\n",
      " 0.62686567 0.64179104 0.62686567 0.64179104 0.67164179 0.67164179\n",
      " 0.68656716 0.68656716 0.68656716 0.62686567 0.6119403  0.53731343\n",
      " 0.50746269 0.50746269 0.52238806 0.50746269 0.49253731 0.50746269\n",
      " 0.47761194 0.49253731 0.49253731 0.49253731 0.49253731 0.49253731\n",
      " 0.49253731 0.47761194 0.47761194 0.46268657 0.47761194 0.49253731\n",
      " 0.47761194 0.50746269 0.49253731 0.47761194 0.49253731 0.49253731\n",
      " 0.47761194 0.49253731 0.50746269 0.52238806 0.47761194 0.46268657\n",
      " 0.44776119 0.44776119 0.46268657 0.46268657 0.46268657 0.43283582\n",
      " 0.43283582 0.43283582 0.43283582 0.44776119 0.43283582 0.43283582\n",
      " 0.44776119 0.43283582 0.43283582 0.43283582 0.44776119 0.46268657\n",
      " 0.46268657 0.44776119 0.46268657 0.46268657 0.47761194 0.49253731\n",
      " 0.44776119 0.46268657 0.46268657 0.46268657 0.41791045 0.3880597\n",
      " 0.3880597  0.3880597  0.37313433 0.3880597  0.40298507 0.3880597\n",
      " 0.40298507 0.3880597  0.38948837 0.37773585 0.36722004 0.35828179\n",
      " 0.35039628 0.34287739 0.33559048 0.32890844 0.32315034 0.31837186\n",
      " 0.31444061 0.31111681 0.30814946 0.30535483]\n",
      "14 day output [[0.30263805]]\n",
      "15 day input [0.64179104 0.6119403  0.59701493 0.6119403  0.62686567 0.62686567\n",
      " 0.64179104 0.62686567 0.64179104 0.67164179 0.67164179 0.68656716\n",
      " 0.68656716 0.68656716 0.62686567 0.6119403  0.53731343 0.50746269\n",
      " 0.50746269 0.52238806 0.50746269 0.49253731 0.50746269 0.47761194\n",
      " 0.49253731 0.49253731 0.49253731 0.49253731 0.49253731 0.49253731\n",
      " 0.47761194 0.47761194 0.46268657 0.47761194 0.49253731 0.47761194\n",
      " 0.50746269 0.49253731 0.47761194 0.49253731 0.49253731 0.47761194\n",
      " 0.49253731 0.50746269 0.52238806 0.47761194 0.46268657 0.44776119\n",
      " 0.44776119 0.46268657 0.46268657 0.46268657 0.43283582 0.43283582\n",
      " 0.43283582 0.43283582 0.44776119 0.43283582 0.43283582 0.44776119\n",
      " 0.43283582 0.43283582 0.43283582 0.44776119 0.46268657 0.46268657\n",
      " 0.44776119 0.46268657 0.46268657 0.47761194 0.49253731 0.44776119\n",
      " 0.46268657 0.46268657 0.46268657 0.41791045 0.3880597  0.3880597\n",
      " 0.3880597  0.37313433 0.3880597  0.40298507 0.3880597  0.40298507\n",
      " 0.3880597  0.38948837 0.37773585 0.36722004 0.35828179 0.35039628\n",
      " 0.34287739 0.33559048 0.32890844 0.32315034 0.31837186 0.31444061\n",
      " 0.31111681 0.30814946 0.30535483 0.30263805]\n",
      "15 day output [[0.29997015]]\n",
      "16 day input [0.6119403  0.59701493 0.6119403  0.62686567 0.62686567 0.64179104\n",
      " 0.62686567 0.64179104 0.67164179 0.67164179 0.68656716 0.68656716\n",
      " 0.68656716 0.62686567 0.6119403  0.53731343 0.50746269 0.50746269\n",
      " 0.52238806 0.50746269 0.49253731 0.50746269 0.47761194 0.49253731\n",
      " 0.49253731 0.49253731 0.49253731 0.49253731 0.49253731 0.47761194\n",
      " 0.47761194 0.46268657 0.47761194 0.49253731 0.47761194 0.50746269\n",
      " 0.49253731 0.47761194 0.49253731 0.49253731 0.47761194 0.49253731\n",
      " 0.50746269 0.52238806 0.47761194 0.46268657 0.44776119 0.44776119\n",
      " 0.46268657 0.46268657 0.46268657 0.43283582 0.43283582 0.43283582\n",
      " 0.43283582 0.44776119 0.43283582 0.43283582 0.44776119 0.43283582\n",
      " 0.43283582 0.43283582 0.44776119 0.46268657 0.46268657 0.44776119\n",
      " 0.46268657 0.46268657 0.47761194 0.49253731 0.44776119 0.46268657\n",
      " 0.46268657 0.46268657 0.41791045 0.3880597  0.3880597  0.3880597\n",
      " 0.37313433 0.3880597  0.40298507 0.3880597  0.40298507 0.3880597\n",
      " 0.38948837 0.37773585 0.36722004 0.35828179 0.35039628 0.34287739\n",
      " 0.33559048 0.32890844 0.32315034 0.31837186 0.31444061 0.31111681\n",
      " 0.30814946 0.30535483 0.30263805 0.29997015]\n",
      "16 day output [[0.2973559]]\n",
      "17 day input [0.59701493 0.6119403  0.62686567 0.62686567 0.64179104 0.62686567\n",
      " 0.64179104 0.67164179 0.67164179 0.68656716 0.68656716 0.68656716\n",
      " 0.62686567 0.6119403  0.53731343 0.50746269 0.50746269 0.52238806\n",
      " 0.50746269 0.49253731 0.50746269 0.47761194 0.49253731 0.49253731\n",
      " 0.49253731 0.49253731 0.49253731 0.49253731 0.47761194 0.47761194\n",
      " 0.46268657 0.47761194 0.49253731 0.47761194 0.50746269 0.49253731\n",
      " 0.47761194 0.49253731 0.49253731 0.47761194 0.49253731 0.50746269\n",
      " 0.52238806 0.47761194 0.46268657 0.44776119 0.44776119 0.46268657\n",
      " 0.46268657 0.46268657 0.43283582 0.43283582 0.43283582 0.43283582\n",
      " 0.44776119 0.43283582 0.43283582 0.44776119 0.43283582 0.43283582\n",
      " 0.43283582 0.44776119 0.46268657 0.46268657 0.44776119 0.46268657\n",
      " 0.46268657 0.47761194 0.49253731 0.44776119 0.46268657 0.46268657\n",
      " 0.46268657 0.41791045 0.3880597  0.3880597  0.3880597  0.37313433\n",
      " 0.3880597  0.40298507 0.3880597  0.40298507 0.3880597  0.38948837\n",
      " 0.37773585 0.36722004 0.35828179 0.35039628 0.34287739 0.33559048\n",
      " 0.32890844 0.32315034 0.31837186 0.31444061 0.31111681 0.30814946\n",
      " 0.30535483 0.30263805 0.29997015 0.29735589]\n",
      "17 day output [[0.29481044]]\n",
      "18 day input [0.6119403  0.62686567 0.62686567 0.64179104 0.62686567 0.64179104\n",
      " 0.67164179 0.67164179 0.68656716 0.68656716 0.68656716 0.62686567\n",
      " 0.6119403  0.53731343 0.50746269 0.50746269 0.52238806 0.50746269\n",
      " 0.49253731 0.50746269 0.47761194 0.49253731 0.49253731 0.49253731\n",
      " 0.49253731 0.49253731 0.49253731 0.47761194 0.47761194 0.46268657\n",
      " 0.47761194 0.49253731 0.47761194 0.50746269 0.49253731 0.47761194\n",
      " 0.49253731 0.49253731 0.47761194 0.49253731 0.50746269 0.52238806\n",
      " 0.47761194 0.46268657 0.44776119 0.44776119 0.46268657 0.46268657\n",
      " 0.46268657 0.43283582 0.43283582 0.43283582 0.43283582 0.44776119\n",
      " 0.43283582 0.43283582 0.44776119 0.43283582 0.43283582 0.43283582\n",
      " 0.44776119 0.46268657 0.46268657 0.44776119 0.46268657 0.46268657\n",
      " 0.47761194 0.49253731 0.44776119 0.46268657 0.46268657 0.46268657\n",
      " 0.41791045 0.3880597  0.3880597  0.3880597  0.37313433 0.3880597\n",
      " 0.40298507 0.3880597  0.40298507 0.3880597  0.38948837 0.37773585\n",
      " 0.36722004 0.35828179 0.35039628 0.34287739 0.33559048 0.32890844\n",
      " 0.32315034 0.31837186 0.31444061 0.31111681 0.30814946 0.30535483\n",
      " 0.30263805 0.29997015 0.29735589 0.29481044]\n",
      "18 day output [[0.2923459]]\n",
      "19 day input [0.62686567 0.62686567 0.64179104 0.62686567 0.64179104 0.67164179\n",
      " 0.67164179 0.68656716 0.68656716 0.68656716 0.62686567 0.6119403\n",
      " 0.53731343 0.50746269 0.50746269 0.52238806 0.50746269 0.49253731\n",
      " 0.50746269 0.47761194 0.49253731 0.49253731 0.49253731 0.49253731\n",
      " 0.49253731 0.49253731 0.47761194 0.47761194 0.46268657 0.47761194\n",
      " 0.49253731 0.47761194 0.50746269 0.49253731 0.47761194 0.49253731\n",
      " 0.49253731 0.47761194 0.49253731 0.50746269 0.52238806 0.47761194\n",
      " 0.46268657 0.44776119 0.44776119 0.46268657 0.46268657 0.46268657\n",
      " 0.43283582 0.43283582 0.43283582 0.43283582 0.44776119 0.43283582\n",
      " 0.43283582 0.44776119 0.43283582 0.43283582 0.43283582 0.44776119\n",
      " 0.46268657 0.46268657 0.44776119 0.46268657 0.46268657 0.47761194\n",
      " 0.49253731 0.44776119 0.46268657 0.46268657 0.46268657 0.41791045\n",
      " 0.3880597  0.3880597  0.3880597  0.37313433 0.3880597  0.40298507\n",
      " 0.3880597  0.40298507 0.3880597  0.38948837 0.37773585 0.36722004\n",
      " 0.35828179 0.35039628 0.34287739 0.33559048 0.32890844 0.32315034\n",
      " 0.31837186 0.31444061 0.31111681 0.30814946 0.30535483 0.30263805\n",
      " 0.29997015 0.29735589 0.29481044 0.29234591]\n",
      "19 day output [[0.289968]]\n",
      "20 day input [0.62686567 0.64179104 0.62686567 0.64179104 0.67164179 0.67164179\n",
      " 0.68656716 0.68656716 0.68656716 0.62686567 0.6119403  0.53731343\n",
      " 0.50746269 0.50746269 0.52238806 0.50746269 0.49253731 0.50746269\n",
      " 0.47761194 0.49253731 0.49253731 0.49253731 0.49253731 0.49253731\n",
      " 0.49253731 0.47761194 0.47761194 0.46268657 0.47761194 0.49253731\n",
      " 0.47761194 0.50746269 0.49253731 0.47761194 0.49253731 0.49253731\n",
      " 0.47761194 0.49253731 0.50746269 0.52238806 0.47761194 0.46268657\n",
      " 0.44776119 0.44776119 0.46268657 0.46268657 0.46268657 0.43283582\n",
      " 0.43283582 0.43283582 0.43283582 0.44776119 0.43283582 0.43283582\n",
      " 0.44776119 0.43283582 0.43283582 0.43283582 0.44776119 0.46268657\n",
      " 0.46268657 0.44776119 0.46268657 0.46268657 0.47761194 0.49253731\n",
      " 0.44776119 0.46268657 0.46268657 0.46268657 0.41791045 0.3880597\n",
      " 0.3880597  0.3880597  0.37313433 0.3880597  0.40298507 0.3880597\n",
      " 0.40298507 0.3880597  0.38948837 0.37773585 0.36722004 0.35828179\n",
      " 0.35039628 0.34287739 0.33559048 0.32890844 0.32315034 0.31837186\n",
      " 0.31444061 0.31111681 0.30814946 0.30535483 0.30263805 0.29997015\n",
      " 0.29735589 0.29481044 0.29234591 0.28996801]\n",
      "20 day output [[0.2876755]]\n",
      "21 day input [0.64179104 0.62686567 0.64179104 0.67164179 0.67164179 0.68656716\n",
      " 0.68656716 0.68656716 0.62686567 0.6119403  0.53731343 0.50746269\n",
      " 0.50746269 0.52238806 0.50746269 0.49253731 0.50746269 0.47761194\n",
      " 0.49253731 0.49253731 0.49253731 0.49253731 0.49253731 0.49253731\n",
      " 0.47761194 0.47761194 0.46268657 0.47761194 0.49253731 0.47761194\n",
      " 0.50746269 0.49253731 0.47761194 0.49253731 0.49253731 0.47761194\n",
      " 0.49253731 0.50746269 0.52238806 0.47761194 0.46268657 0.44776119\n",
      " 0.44776119 0.46268657 0.46268657 0.46268657 0.43283582 0.43283582\n",
      " 0.43283582 0.43283582 0.44776119 0.43283582 0.43283582 0.44776119\n",
      " 0.43283582 0.43283582 0.43283582 0.44776119 0.46268657 0.46268657\n",
      " 0.44776119 0.46268657 0.46268657 0.47761194 0.49253731 0.44776119\n",
      " 0.46268657 0.46268657 0.46268657 0.41791045 0.3880597  0.3880597\n",
      " 0.3880597  0.37313433 0.3880597  0.40298507 0.3880597  0.40298507\n",
      " 0.3880597  0.38948837 0.37773585 0.36722004 0.35828179 0.35039628\n",
      " 0.34287739 0.33559048 0.32890844 0.32315034 0.31837186 0.31444061\n",
      " 0.31111681 0.30814946 0.30535483 0.30263805 0.29997015 0.29735589\n",
      " 0.29481044 0.29234591 0.28996801 0.2876755 ]\n",
      "21 day output [[0.28546214]]\n",
      "22 day input [0.62686567 0.64179104 0.67164179 0.67164179 0.68656716 0.68656716\n",
      " 0.68656716 0.62686567 0.6119403  0.53731343 0.50746269 0.50746269\n",
      " 0.52238806 0.50746269 0.49253731 0.50746269 0.47761194 0.49253731\n",
      " 0.49253731 0.49253731 0.49253731 0.49253731 0.49253731 0.47761194\n",
      " 0.47761194 0.46268657 0.47761194 0.49253731 0.47761194 0.50746269\n",
      " 0.49253731 0.47761194 0.49253731 0.49253731 0.47761194 0.49253731\n",
      " 0.50746269 0.52238806 0.47761194 0.46268657 0.44776119 0.44776119\n",
      " 0.46268657 0.46268657 0.46268657 0.43283582 0.43283582 0.43283582\n",
      " 0.43283582 0.44776119 0.43283582 0.43283582 0.44776119 0.43283582\n",
      " 0.43283582 0.43283582 0.44776119 0.46268657 0.46268657 0.44776119\n",
      " 0.46268657 0.46268657 0.47761194 0.49253731 0.44776119 0.46268657\n",
      " 0.46268657 0.46268657 0.41791045 0.3880597  0.3880597  0.3880597\n",
      " 0.37313433 0.3880597  0.40298507 0.3880597  0.40298507 0.3880597\n",
      " 0.38948837 0.37773585 0.36722004 0.35828179 0.35039628 0.34287739\n",
      " 0.33559048 0.32890844 0.32315034 0.31837186 0.31444061 0.31111681\n",
      " 0.30814946 0.30535483 0.30263805 0.29997015 0.29735589 0.29481044\n",
      " 0.29234591 0.28996801 0.2876755  0.28546214]\n",
      "22 day output [[0.28331816]]\n",
      "23 day input [0.64179104 0.67164179 0.67164179 0.68656716 0.68656716 0.68656716\n",
      " 0.62686567 0.6119403  0.53731343 0.50746269 0.50746269 0.52238806\n",
      " 0.50746269 0.49253731 0.50746269 0.47761194 0.49253731 0.49253731\n",
      " 0.49253731 0.49253731 0.49253731 0.49253731 0.47761194 0.47761194\n",
      " 0.46268657 0.47761194 0.49253731 0.47761194 0.50746269 0.49253731\n",
      " 0.47761194 0.49253731 0.49253731 0.47761194 0.49253731 0.50746269\n",
      " 0.52238806 0.47761194 0.46268657 0.44776119 0.44776119 0.46268657\n",
      " 0.46268657 0.46268657 0.43283582 0.43283582 0.43283582 0.43283582\n",
      " 0.44776119 0.43283582 0.43283582 0.44776119 0.43283582 0.43283582\n",
      " 0.43283582 0.44776119 0.46268657 0.46268657 0.44776119 0.46268657\n",
      " 0.46268657 0.47761194 0.49253731 0.44776119 0.46268657 0.46268657\n",
      " 0.46268657 0.41791045 0.3880597  0.3880597  0.3880597  0.37313433\n",
      " 0.3880597  0.40298507 0.3880597  0.40298507 0.3880597  0.38948837\n",
      " 0.37773585 0.36722004 0.35828179 0.35039628 0.34287739 0.33559048\n",
      " 0.32890844 0.32315034 0.31837186 0.31444061 0.31111681 0.30814946\n",
      " 0.30535483 0.30263805 0.29997015 0.29735589 0.29481044 0.29234591\n",
      " 0.28996801 0.2876755  0.28546214 0.28331816]\n",
      "23 day output [[0.281232]]\n",
      "24 day input [0.67164179 0.67164179 0.68656716 0.68656716 0.68656716 0.62686567\n",
      " 0.6119403  0.53731343 0.50746269 0.50746269 0.52238806 0.50746269\n",
      " 0.49253731 0.50746269 0.47761194 0.49253731 0.49253731 0.49253731\n",
      " 0.49253731 0.49253731 0.49253731 0.47761194 0.47761194 0.46268657\n",
      " 0.47761194 0.49253731 0.47761194 0.50746269 0.49253731 0.47761194\n",
      " 0.49253731 0.49253731 0.47761194 0.49253731 0.50746269 0.52238806\n",
      " 0.47761194 0.46268657 0.44776119 0.44776119 0.46268657 0.46268657\n",
      " 0.46268657 0.43283582 0.43283582 0.43283582 0.43283582 0.44776119\n",
      " 0.43283582 0.43283582 0.44776119 0.43283582 0.43283582 0.43283582\n",
      " 0.44776119 0.46268657 0.46268657 0.44776119 0.46268657 0.46268657\n",
      " 0.47761194 0.49253731 0.44776119 0.46268657 0.46268657 0.46268657\n",
      " 0.41791045 0.3880597  0.3880597  0.3880597  0.37313433 0.3880597\n",
      " 0.40298507 0.3880597  0.40298507 0.3880597  0.38948837 0.37773585\n",
      " 0.36722004 0.35828179 0.35039628 0.34287739 0.33559048 0.32890844\n",
      " 0.32315034 0.31837186 0.31444061 0.31111681 0.30814946 0.30535483\n",
      " 0.30263805 0.29997015 0.29735589 0.29481044 0.29234591 0.28996801\n",
      " 0.2876755  0.28546214 0.28331816 0.281232  ]\n",
      "24 day output [[0.279191]]\n",
      "25 day input [0.67164179 0.68656716 0.68656716 0.68656716 0.62686567 0.6119403\n",
      " 0.53731343 0.50746269 0.50746269 0.52238806 0.50746269 0.49253731\n",
      " 0.50746269 0.47761194 0.49253731 0.49253731 0.49253731 0.49253731\n",
      " 0.49253731 0.49253731 0.47761194 0.47761194 0.46268657 0.47761194\n",
      " 0.49253731 0.47761194 0.50746269 0.49253731 0.47761194 0.49253731\n",
      " 0.49253731 0.47761194 0.49253731 0.50746269 0.52238806 0.47761194\n",
      " 0.46268657 0.44776119 0.44776119 0.46268657 0.46268657 0.46268657\n",
      " 0.43283582 0.43283582 0.43283582 0.43283582 0.44776119 0.43283582\n",
      " 0.43283582 0.44776119 0.43283582 0.43283582 0.43283582 0.44776119\n",
      " 0.46268657 0.46268657 0.44776119 0.46268657 0.46268657 0.47761194\n",
      " 0.49253731 0.44776119 0.46268657 0.46268657 0.46268657 0.41791045\n",
      " 0.3880597  0.3880597  0.3880597  0.37313433 0.3880597  0.40298507\n",
      " 0.3880597  0.40298507 0.3880597  0.38948837 0.37773585 0.36722004\n",
      " 0.35828179 0.35039628 0.34287739 0.33559048 0.32890844 0.32315034\n",
      " 0.31837186 0.31444061 0.31111681 0.30814946 0.30535483 0.30263805\n",
      " 0.29997015 0.29735589 0.29481044 0.29234591 0.28996801 0.2876755\n",
      " 0.28546214 0.28331816 0.281232   0.27919099]\n",
      "25 day output [[0.27718195]]\n",
      "26 day input [0.68656716 0.68656716 0.68656716 0.62686567 0.6119403  0.53731343\n",
      " 0.50746269 0.50746269 0.52238806 0.50746269 0.49253731 0.50746269\n",
      " 0.47761194 0.49253731 0.49253731 0.49253731 0.49253731 0.49253731\n",
      " 0.49253731 0.47761194 0.47761194 0.46268657 0.47761194 0.49253731\n",
      " 0.47761194 0.50746269 0.49253731 0.47761194 0.49253731 0.49253731\n",
      " 0.47761194 0.49253731 0.50746269 0.52238806 0.47761194 0.46268657\n",
      " 0.44776119 0.44776119 0.46268657 0.46268657 0.46268657 0.43283582\n",
      " 0.43283582 0.43283582 0.43283582 0.44776119 0.43283582 0.43283582\n",
      " 0.44776119 0.43283582 0.43283582 0.43283582 0.44776119 0.46268657\n",
      " 0.46268657 0.44776119 0.46268657 0.46268657 0.47761194 0.49253731\n",
      " 0.44776119 0.46268657 0.46268657 0.46268657 0.41791045 0.3880597\n",
      " 0.3880597  0.3880597  0.37313433 0.3880597  0.40298507 0.3880597\n",
      " 0.40298507 0.3880597  0.38948837 0.37773585 0.36722004 0.35828179\n",
      " 0.35039628 0.34287739 0.33559048 0.32890844 0.32315034 0.31837186\n",
      " 0.31444061 0.31111681 0.30814946 0.30535483 0.30263805 0.29997015\n",
      " 0.29735589 0.29481044 0.29234591 0.28996801 0.2876755  0.28546214\n",
      " 0.28331816 0.281232   0.27919099 0.27718195]\n",
      "26 day output [[0.27519238]]\n",
      "27 day input [0.68656716 0.68656716 0.62686567 0.6119403  0.53731343 0.50746269\n",
      " 0.50746269 0.52238806 0.50746269 0.49253731 0.50746269 0.47761194\n",
      " 0.49253731 0.49253731 0.49253731 0.49253731 0.49253731 0.49253731\n",
      " 0.47761194 0.47761194 0.46268657 0.47761194 0.49253731 0.47761194\n",
      " 0.50746269 0.49253731 0.47761194 0.49253731 0.49253731 0.47761194\n",
      " 0.49253731 0.50746269 0.52238806 0.47761194 0.46268657 0.44776119\n",
      " 0.44776119 0.46268657 0.46268657 0.46268657 0.43283582 0.43283582\n",
      " 0.43283582 0.43283582 0.44776119 0.43283582 0.43283582 0.44776119\n",
      " 0.43283582 0.43283582 0.43283582 0.44776119 0.46268657 0.46268657\n",
      " 0.44776119 0.46268657 0.46268657 0.47761194 0.49253731 0.44776119\n",
      " 0.46268657 0.46268657 0.46268657 0.41791045 0.3880597  0.3880597\n",
      " 0.3880597  0.37313433 0.3880597  0.40298507 0.3880597  0.40298507\n",
      " 0.3880597  0.38948837 0.37773585 0.36722004 0.35828179 0.35039628\n",
      " 0.34287739 0.33559048 0.32890844 0.32315034 0.31837186 0.31444061\n",
      " 0.31111681 0.30814946 0.30535483 0.30263805 0.29997015 0.29735589\n",
      " 0.29481044 0.29234591 0.28996801 0.2876755  0.28546214 0.28331816\n",
      " 0.281232   0.27919099 0.27718195 0.27519238]\n",
      "27 day output [[0.27320966]]\n",
      "28 day input [0.68656716 0.62686567 0.6119403  0.53731343 0.50746269 0.50746269\n",
      " 0.52238806 0.50746269 0.49253731 0.50746269 0.47761194 0.49253731\n",
      " 0.49253731 0.49253731 0.49253731 0.49253731 0.49253731 0.47761194\n",
      " 0.47761194 0.46268657 0.47761194 0.49253731 0.47761194 0.50746269\n",
      " 0.49253731 0.47761194 0.49253731 0.49253731 0.47761194 0.49253731\n",
      " 0.50746269 0.52238806 0.47761194 0.46268657 0.44776119 0.44776119\n",
      " 0.46268657 0.46268657 0.46268657 0.43283582 0.43283582 0.43283582\n",
      " 0.43283582 0.44776119 0.43283582 0.43283582 0.44776119 0.43283582\n",
      " 0.43283582 0.43283582 0.44776119 0.46268657 0.46268657 0.44776119\n",
      " 0.46268657 0.46268657 0.47761194 0.49253731 0.44776119 0.46268657\n",
      " 0.46268657 0.46268657 0.41791045 0.3880597  0.3880597  0.3880597\n",
      " 0.37313433 0.3880597  0.40298507 0.3880597  0.40298507 0.3880597\n",
      " 0.38948837 0.37773585 0.36722004 0.35828179 0.35039628 0.34287739\n",
      " 0.33559048 0.32890844 0.32315034 0.31837186 0.31444061 0.31111681\n",
      " 0.30814946 0.30535483 0.30263805 0.29997015 0.29735589 0.29481044\n",
      " 0.29234591 0.28996801 0.2876755  0.28546214 0.28331816 0.281232\n",
      " 0.27919099 0.27718195 0.27519238 0.27320966]\n",
      "28 day output [[0.27122158]]\n",
      "29 day input [0.62686567 0.6119403  0.53731343 0.50746269 0.50746269 0.52238806\n",
      " 0.50746269 0.49253731 0.50746269 0.47761194 0.49253731 0.49253731\n",
      " 0.49253731 0.49253731 0.49253731 0.49253731 0.47761194 0.47761194\n",
      " 0.46268657 0.47761194 0.49253731 0.47761194 0.50746269 0.49253731\n",
      " 0.47761194 0.49253731 0.49253731 0.47761194 0.49253731 0.50746269\n",
      " 0.52238806 0.47761194 0.46268657 0.44776119 0.44776119 0.46268657\n",
      " 0.46268657 0.46268657 0.43283582 0.43283582 0.43283582 0.43283582\n",
      " 0.44776119 0.43283582 0.43283582 0.44776119 0.43283582 0.43283582\n",
      " 0.43283582 0.44776119 0.46268657 0.46268657 0.44776119 0.46268657\n",
      " 0.46268657 0.47761194 0.49253731 0.44776119 0.46268657 0.46268657\n",
      " 0.46268657 0.41791045 0.3880597  0.3880597  0.3880597  0.37313433\n",
      " 0.3880597  0.40298507 0.3880597  0.40298507 0.3880597  0.38948837\n",
      " 0.37773585 0.36722004 0.35828179 0.35039628 0.34287739 0.33559048\n",
      " 0.32890844 0.32315034 0.31837186 0.31444061 0.31111681 0.30814946\n",
      " 0.30535483 0.30263805 0.29997015 0.29735589 0.29481044 0.29234591\n",
      " 0.28996801 0.2876755  0.28546214 0.28331816 0.281232   0.27919099\n",
      " 0.27718195 0.27519238 0.27320966 0.27122158]\n",
      "29 day output [[0.2692165]]\n",
      "[[0.3894883692264557], [0.37773585319519043], [0.36722004413604736], [0.35828179121017456], [0.3503962755203247], [0.3428773880004883], [0.3355904817581177], [0.32890844345092773], [0.3231503367424011], [0.31837186217308044], [0.31444060802459717], [0.3111168146133423], [0.30814945697784424], [0.3053548336029053], [0.30263805389404297], [0.2999701499938965], [0.29735589027404785], [0.2948104441165924], [0.29234591126441956], [0.28996801376342773], [0.28767549991607666], [0.2854621410369873], [0.2833181619644165], [0.28123199939727783], [0.2791909873485565], [0.2771819531917572], [0.27519237995147705], [0.27320966124534607], [0.2712215781211853], [0.26921650767326355]]\n"
     ]
    }
   ],
   "source": [
    "# demonstrate prediction for next 10 days\n",
    "from numpy import array\n",
    "\n",
    "lst_output=[]\n",
    "n_steps=100\n",
    "i=0\n",
    "while(i<30):\n",
    "    \n",
    "    if(len(temp_input)>100):\n",
    "        #print(temp_input)\n",
    "        x_input=np.array(temp_input[1:])\n",
    "        print(\"{} day input {}\".format(i,x_input))\n",
    "        x_input=x_input.reshape(1,-1)\n",
    "        x_input = x_input.reshape((1, n_steps, 1))\n",
    "        #print(x_input)\n",
    "        yhat = model.predict(x_input, verbose=0)\n",
    "        print(\"{} day output {}\".format(i,yhat))\n",
    "        temp_input.extend(yhat[0].tolist())\n",
    "        temp_input=temp_input[1:]\n",
    "        #print(temp_input)\n",
    "        lst_output.extend(yhat.tolist())\n",
    "        i=i+1\n",
    "    else:\n",
    "        x_input = x_input.reshape((1, n_steps,1))\n",
    "        yhat = model.predict(x_input, verbose=0)\n",
    "        print(yhat[0])\n",
    "        temp_input.extend(yhat[0].tolist())\n",
    "        print(len(temp_input))\n",
    "        lst_output.extend(yhat.tolist())\n",
    "        i=i+1\n",
    "    \n",
    "\n",
    "print(lst_output)"
   ]
  },
  {
   "cell_type": "code",
   "execution_count": 42,
   "metadata": {},
   "outputs": [],
   "source": [
    "day_new=np.arange(1,101)\n",
    "day_pred=np.arange(101,131)"
   ]
  },
  {
   "cell_type": "code",
   "execution_count": 43,
   "metadata": {},
   "outputs": [],
   "source": [
    "import matplotlib.pyplot as plt"
   ]
  },
  {
   "cell_type": "code",
   "execution_count": 44,
   "metadata": {},
   "outputs": [
    {
     "data": {
      "text/plain": [
       "2364"
      ]
     },
     "execution_count": 44,
     "metadata": {},
     "output_type": "execute_result"
    }
   ],
   "source": [
    "len(df1)"
   ]
  },
  {
   "cell_type": "code",
   "execution_count": 45,
   "metadata": {},
   "outputs": [],
   "source": [
    "b = len(df1) - 100"
   ]
  },
  {
   "cell_type": "code",
   "execution_count": 46,
   "metadata": {},
   "outputs": [
    {
     "data": {
      "text/plain": [
       "[<matplotlib.lines.Line2D at 0x2a8ad1f63f0>]"
      ]
     },
     "execution_count": 46,
     "metadata": {},
     "output_type": "execute_result"
    },
    {
     "data": {
      "image/png": "[encoded data removed]",
      "text/plain": [
       "<Figure size 640x480 with 1 Axes>"
      ]
     },
     "metadata": {},
     "output_type": "display_data"
    }
   ],
   "source": [
    "plt.plot(day_new,scaler.inverse_transform(df1[b:]))\n",
    "plt.plot(day_pred,scaler.inverse_transform(lst_output))"
   ]
  },
  {
   "cell_type": "code",
   "execution_count": 47,
   "metadata": {},
   "outputs": [],
   "source": [
    "c = len(df1) - 500"
   ]
  },
  {
   "cell_type": "code",
   "execution_count": 48,
   "metadata": {},
   "outputs": [
    {
     "data": {
      "text/plain": [
       "[<matplotlib.lines.Line2D at 0x2a8ad2550a0>]"
      ]
     },
     "execution_count": 48,
     "metadata": {},
     "output_type": "execute_result"
    },
    {
     "data": {
      "image/png": "[encoded data removed]",
      "text/plain": [
       "<Figure size 640x480 with 1 Axes>"
      ]
     },
     "metadata": {},
     "output_type": "display_data"
    }
   ],
   "source": [
    "df3=df1.tolist()\n",
    "df3.extend(lst_output)\n",
    "plt.plot(df3[700:])"
   ]
  },
  {
   "cell_type": "code",
   "execution_count": 49,
   "metadata": {},
   "outputs": [],
   "source": [
    "df3=scaler.inverse_transform(df3).tolist()"
   ]
  },
  {
   "cell_type": "code",
   "execution_count": 50,
   "metadata": {},
   "outputs": [
    {
     "data": {
      "text/plain": [
       "[<matplotlib.lines.Line2D at 0x2a8ad22dfa0>]"
      ]
     },
     "execution_count": 50,
     "metadata": {},
     "output_type": "execute_result"
    },
    {
     "data": {
      "image/png": "[encoded data removed]",
      "text/plain": [
       "<Figure size 640x480 with 1 Axes>"
      ]
     },
     "metadata": {},
     "output_type": "display_data"
    }
   ],
   "source": [
    "plt.plot(df3)"
   ]
  },
  {
   "cell_type": "code",
   "execution_count": null,
   "metadata": {},
   "outputs": [],
   "source": []
  },
  {
   "cell_type": "code",
   "execution_count": null,
   "metadata": {},
   "outputs": [],
   "source": []
  },
  {
   "cell_type": "code",
   "execution_count": null,
   "metadata": {},
   "outputs": [],
   "source": []
  }
 ],
 "metadata": {
  "kernelspec": {
   "display_name": "Python 3 (ipykernel)",
   "language": "python",
   "name": "python3"
  },
  "language_info": {
   "codemirror_mode": {
    "name": "ipython",
    "version": 3
   },
   "file_extension": ".py",
   "mimetype": "text/x-python",
   "name": "python",
   "nbconvert_exporter": "python",
   "pygments_lexer": "ipython3",
   "version": "3.12.3"
  }
 },
 "nbformat": 4,
 "nbformat_minor": 4
}
