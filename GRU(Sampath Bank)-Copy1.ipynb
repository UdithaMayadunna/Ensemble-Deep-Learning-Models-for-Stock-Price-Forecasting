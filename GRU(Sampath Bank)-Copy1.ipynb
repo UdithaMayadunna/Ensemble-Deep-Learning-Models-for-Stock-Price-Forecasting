{
 "cells": [
  {
   "cell_type": "markdown",
   "metadata": {},
   "source": [
    "### Stock Market Prediction And Forecasting Using Stacked LSTM"
   ]
  },
  {
   "cell_type": "code",
   "execution_count": 64,
   "metadata": {},
   "outputs": [],
   "source": [
    "### Keras and Tensorflow >2.0"
   ]
  },
  {
   "cell_type": "code",
   "execution_count": 65,
   "metadata": {},
   "outputs": [],
   "source": [
    "import pandas as pd"
   ]
  },
  {
   "cell_type": "code",
   "execution_count": 66,
   "metadata": {},
   "outputs": [],
   "source": [
    "df=pd.read_csv('Sampath_Bank.csv')"
   ]
  },
  {
   "cell_type": "code",
   "execution_count": 67,
   "metadata": {},
   "outputs": [
    {
     "data": {
      "text/html": [
       "<div>\n",
       "<style scoped>\n",
       "    .dataframe tbody tr th:only-of-type {\n",
       "        vertical-align: middle;\n",
       "    }\n",
       "\n",
       "    .dataframe tbody tr th {\n",
       "        vertical-align: top;\n",
       "    }\n",
       "\n",
       "    .dataframe thead th {\n",
       "        text-align: right;\n",
       "    }\n",
       "</style>\n",
       "<table border=\"1\" class=\"dataframe\">\n",
       "  <thead>\n",
       "    <tr style=\"text-align: right;\">\n",
       "      <th></th>\n",
       "      <th>Trade Date</th>\n",
       "      <th>Open (Rs.)</th>\n",
       "      <th>High (Rs.)</th>\n",
       "      <th>Low (Rs.)</th>\n",
       "      <th>Close (Rs.)</th>\n",
       "      <th>TradeVolume</th>\n",
       "      <th>ShareVolume</th>\n",
       "      <th>Turnover (Rs.)</th>\n",
       "    </tr>\n",
       "  </thead>\n",
       "  <tbody>\n",
       "    <tr>\n",
       "      <th>0</th>\n",
       "      <td>6/24/24</td>\n",
       "      <td>79.7</td>\n",
       "      <td>80.0</td>\n",
       "      <td>79.2</td>\n",
       "      <td>79.7</td>\n",
       "      <td>219</td>\n",
       "      <td>503956</td>\n",
       "      <td>40274883.2</td>\n",
       "    </tr>\n",
       "    <tr>\n",
       "      <th>1</th>\n",
       "      <td>6/20/24</td>\n",
       "      <td>79.5</td>\n",
       "      <td>79.7</td>\n",
       "      <td>79.1</td>\n",
       "      <td>79.5</td>\n",
       "      <td>129</td>\n",
       "      <td>115933</td>\n",
       "      <td>9203781.9</td>\n",
       "    </tr>\n",
       "    <tr>\n",
       "      <th>2</th>\n",
       "      <td>6/19/24</td>\n",
       "      <td>79.8</td>\n",
       "      <td>79.8</td>\n",
       "      <td>79.0</td>\n",
       "      <td>79.0</td>\n",
       "      <td>188</td>\n",
       "      <td>167967</td>\n",
       "      <td>13299048.0</td>\n",
       "    </tr>\n",
       "    <tr>\n",
       "      <th>3</th>\n",
       "      <td>6/18/24</td>\n",
       "      <td>80.1</td>\n",
       "      <td>80.1</td>\n",
       "      <td>79.1</td>\n",
       "      <td>79.7</td>\n",
       "      <td>186</td>\n",
       "      <td>193671</td>\n",
       "      <td>15471438.5</td>\n",
       "    </tr>\n",
       "    <tr>\n",
       "      <th>4</th>\n",
       "      <td>6/14/24</td>\n",
       "      <td>80.5</td>\n",
       "      <td>80.5</td>\n",
       "      <td>79.6</td>\n",
       "      <td>80.1</td>\n",
       "      <td>138</td>\n",
       "      <td>199417</td>\n",
       "      <td>15955350.3</td>\n",
       "    </tr>\n",
       "  </tbody>\n",
       "</table>\n",
       "</div>"
      ],
      "text/plain": [
       "  Trade Date  Open (Rs.)  High (Rs.)  Low (Rs.)  Close (Rs.)  TradeVolume  \\\n",
       "0    6/24/24        79.7        80.0       79.2         79.7          219   \n",
       "1    6/20/24        79.5        79.7       79.1         79.5          129   \n",
       "2    6/19/24        79.8        79.8       79.0         79.0          188   \n",
       "3    6/18/24        80.1        80.1       79.1         79.7          186   \n",
       "4    6/14/24        80.5        80.5       79.6         80.1          138   \n",
       "\n",
       "   ShareVolume  Turnover (Rs.)  \n",
       "0       503956      40274883.2  \n",
       "1       115933       9203781.9  \n",
       "2       167967      13299048.0  \n",
       "3       193671      15471438.5  \n",
       "4       199417      15955350.3  "
      ]
     },
     "execution_count": 67,
     "metadata": {},
     "output_type": "execute_result"
    }
   ],
   "source": [
    "df.head()"
   ]
  },
  {
   "cell_type": "code",
   "execution_count": 68,
   "metadata": {},
   "outputs": [
    {
     "data": {
      "text/html": [
       "<div>\n",
       "<style scoped>\n",
       "    .dataframe tbody tr th:only-of-type {\n",
       "        vertical-align: middle;\n",
       "    }\n",
       "\n",
       "    .dataframe tbody tr th {\n",
       "        vertical-align: top;\n",
       "    }\n",
       "\n",
       "    .dataframe thead th {\n",
       "        text-align: right;\n",
       "    }\n",
       "</style>\n",
       "<table border=\"1\" class=\"dataframe\">\n",
       "  <thead>\n",
       "    <tr style=\"text-align: right;\">\n",
       "      <th></th>\n",
       "      <th>Trade Date</th>\n",
       "      <th>Open (Rs.)</th>\n",
       "      <th>High (Rs.)</th>\n",
       "      <th>Low (Rs.)</th>\n",
       "      <th>Close (Rs.)</th>\n",
       "      <th>TradeVolume</th>\n",
       "      <th>ShareVolume</th>\n",
       "      <th>Turnover (Rs.)</th>\n",
       "    </tr>\n",
       "  </thead>\n",
       "  <tbody>\n",
       "    <tr>\n",
       "      <th>0</th>\n",
       "      <td>6/24/24</td>\n",
       "      <td>79.7</td>\n",
       "      <td>80.0</td>\n",
       "      <td>79.20</td>\n",
       "      <td>79.7</td>\n",
       "      <td>219</td>\n",
       "      <td>503956</td>\n",
       "      <td>40274883.20</td>\n",
       "    </tr>\n",
       "    <tr>\n",
       "      <th>1</th>\n",
       "      <td>6/20/24</td>\n",
       "      <td>79.5</td>\n",
       "      <td>79.7</td>\n",
       "      <td>79.10</td>\n",
       "      <td>79.5</td>\n",
       "      <td>129</td>\n",
       "      <td>115933</td>\n",
       "      <td>9203781.90</td>\n",
       "    </tr>\n",
       "    <tr>\n",
       "      <th>2</th>\n",
       "      <td>6/19/24</td>\n",
       "      <td>79.8</td>\n",
       "      <td>79.8</td>\n",
       "      <td>79.00</td>\n",
       "      <td>79.0</td>\n",
       "      <td>188</td>\n",
       "      <td>167967</td>\n",
       "      <td>13299048.00</td>\n",
       "    </tr>\n",
       "    <tr>\n",
       "      <th>3</th>\n",
       "      <td>6/18/24</td>\n",
       "      <td>80.1</td>\n",
       "      <td>80.1</td>\n",
       "      <td>79.10</td>\n",
       "      <td>79.7</td>\n",
       "      <td>186</td>\n",
       "      <td>193671</td>\n",
       "      <td>15471438.50</td>\n",
       "    </tr>\n",
       "    <tr>\n",
       "      <th>4</th>\n",
       "      <td>6/14/24</td>\n",
       "      <td>80.5</td>\n",
       "      <td>80.5</td>\n",
       "      <td>79.60</td>\n",
       "      <td>80.1</td>\n",
       "      <td>138</td>\n",
       "      <td>199417</td>\n",
       "      <td>15955350.30</td>\n",
       "    </tr>\n",
       "    <tr>\n",
       "      <th>...</th>\n",
       "      <td>...</td>\n",
       "      <td>...</td>\n",
       "      <td>...</td>\n",
       "      <td>...</td>\n",
       "      <td>...</td>\n",
       "      <td>...</td>\n",
       "      <td>...</td>\n",
       "      <td>...</td>\n",
       "    </tr>\n",
       "    <tr>\n",
       "      <th>7631</th>\n",
       "      <td>9/3/91</td>\n",
       "      <td>NaN</td>\n",
       "      <td>20.0</td>\n",
       "      <td>17.75</td>\n",
       "      <td>20.0</td>\n",
       "      <td>58</td>\n",
       "      <td>40050</td>\n",
       "      <td>781125.00</td>\n",
       "    </tr>\n",
       "    <tr>\n",
       "      <th>7632</th>\n",
       "      <td>9/2/91</td>\n",
       "      <td>NaN</td>\n",
       "      <td>19.0</td>\n",
       "      <td>17.50</td>\n",
       "      <td>17.5</td>\n",
       "      <td>29</td>\n",
       "      <td>18700</td>\n",
       "      <td>338625.00</td>\n",
       "    </tr>\n",
       "    <tr>\n",
       "      <th>7633</th>\n",
       "      <td>8/29/91</td>\n",
       "      <td>NaN</td>\n",
       "      <td>23.0</td>\n",
       "      <td>22.00</td>\n",
       "      <td>22.0</td>\n",
       "      <td>55</td>\n",
       "      <td>40007</td>\n",
       "      <td>912151.75</td>\n",
       "    </tr>\n",
       "    <tr>\n",
       "      <th>7634</th>\n",
       "      <td>8/28/91</td>\n",
       "      <td>NaN</td>\n",
       "      <td>23.0</td>\n",
       "      <td>23.00</td>\n",
       "      <td>23.0</td>\n",
       "      <td>2</td>\n",
       "      <td>600</td>\n",
       "      <td>13800.00</td>\n",
       "    </tr>\n",
       "    <tr>\n",
       "      <th>7635</th>\n",
       "      <td>8/27/91</td>\n",
       "      <td>NaN</td>\n",
       "      <td>23.0</td>\n",
       "      <td>23.00</td>\n",
       "      <td>23.0</td>\n",
       "      <td>3</td>\n",
       "      <td>15586</td>\n",
       "      <td>358478.00</td>\n",
       "    </tr>\n",
       "  </tbody>\n",
       "</table>\n",
       "<p>7636 rows × 8 columns</p>\n",
       "</div>"
      ],
      "text/plain": [
       "     Trade Date  Open (Rs.)  High (Rs.)  Low (Rs.)  Close (Rs.)  TradeVolume  \\\n",
       "0       6/24/24        79.7        80.0      79.20         79.7          219   \n",
       "1       6/20/24        79.5        79.7      79.10         79.5          129   \n",
       "2       6/19/24        79.8        79.8      79.00         79.0          188   \n",
       "3       6/18/24        80.1        80.1      79.10         79.7          186   \n",
       "4       6/14/24        80.5        80.5      79.60         80.1          138   \n",
       "...         ...         ...         ...        ...          ...          ...   \n",
       "7631     9/3/91         NaN        20.0      17.75         20.0           58   \n",
       "7632     9/2/91         NaN        19.0      17.50         17.5           29   \n",
       "7633    8/29/91         NaN        23.0      22.00         22.0           55   \n",
       "7634    8/28/91         NaN        23.0      23.00         23.0            2   \n",
       "7635    8/27/91         NaN        23.0      23.00         23.0            3   \n",
       "\n",
       "      ShareVolume  Turnover (Rs.)  \n",
       "0          503956     40274883.20  \n",
       "1          115933      9203781.90  \n",
       "2          167967     13299048.00  \n",
       "3          193671     15471438.50  \n",
       "4          199417     15955350.30  \n",
       "...           ...             ...  \n",
       "7631        40050       781125.00  \n",
       "7632        18700       338625.00  \n",
       "7633        40007       912151.75  \n",
       "7634          600        13800.00  \n",
       "7635        15586       358478.00  \n",
       "\n",
       "[7636 rows x 8 columns]"
      ]
     },
     "execution_count": 68,
     "metadata": {},
     "output_type": "execute_result"
    }
   ],
   "source": [
    "df"
   ]
  },
  {
   "cell_type": "code",
   "execution_count": 69,
   "metadata": {},
   "outputs": [
    {
     "name": "stderr",
     "output_type": "stream",
     "text": [
      "C:\\Users\\udith\\AppData\\Local\\Temp\\ipykernel_13340\\4235463591.py:1: UserWarning: Could not infer format, so each element will be parsed individually, falling back to `dateutil`. To ensure parsing is consistent and as-expected, please specify a format.\n",
      "  df['Trade Date'] = pd.to_datetime(df['Trade Date'])\n"
     ]
    },
    {
     "name": "stdout",
     "output_type": "stream",
     "text": [
      "     Trade Date  Open (Rs.)  High (Rs.)  Low (Rs.)  Close (Rs.)  TradeVolume  \\\n",
      "0    2024-06-24        79.7        80.0       79.2         79.7          219   \n",
      "1    2024-06-20        79.5        79.7       79.1         79.5          129   \n",
      "2    2024-06-19        79.8        79.8       79.0         79.0          188   \n",
      "3    2024-06-18        80.1        80.1       79.1         79.7          186   \n",
      "4    2024-06-14        80.5        80.5       79.6         80.1          138   \n",
      "...         ...         ...         ...        ...          ...          ...   \n",
      "2357 2014-06-30       196.9       202.0      196.5        200.2          147   \n",
      "2358 2014-06-27       195.0       196.9      195.0        196.6           35   \n",
      "2359 2014-06-26       194.0       197.0      194.0        195.6           39   \n",
      "2360 2014-06-25       193.0       193.6      193.0        193.5           72   \n",
      "2361 2014-06-24       192.6       193.5      192.6        193.3           47   \n",
      "\n",
      "      ShareVolume  Turnover (Rs.)  \n",
      "0          503956      40274883.2  \n",
      "1          115933       9203781.9  \n",
      "2          167967      13299048.0  \n",
      "3          193671      15471438.5  \n",
      "4          199417      15955350.3  \n",
      "...           ...             ...  \n",
      "2357       186569      37220898.0  \n",
      "2358        16356       3204298.5  \n",
      "2359        23986       4681481.8  \n",
      "2360       110628      21386372.7  \n",
      "2361        51461       9935983.1  \n",
      "\n",
      "[2362 rows x 8 columns]\n"
     ]
    }
   ],
   "source": [
    "df['Trade Date'] = pd.to_datetime(df['Trade Date'])\n",
    "\n",
    "# Define the date range for the last 10 years\n",
    "end_date = df['Trade Date'].max()\n",
    "start_date = end_date - pd.DateOffset(years=10)\n",
    "\n",
    "# Filter the DataFrame to include only the last 10 years of data\n",
    "filtered_df = df[(df['Trade Date'] >= start_date) & (df['Trade Date'] <= end_date)]\n",
    "\n",
    "# Display the filtered DataFrame\n",
    "print(filtered_df)"
   ]
  },
  {
   "cell_type": "code",
   "execution_count": 70,
   "metadata": {},
   "outputs": [
    {
     "data": {
      "text/html": [
       "<div>\n",
       "<style scoped>\n",
       "    .dataframe tbody tr th:only-of-type {\n",
       "        vertical-align: middle;\n",
       "    }\n",
       "\n",
       "    .dataframe tbody tr th {\n",
       "        vertical-align: top;\n",
       "    }\n",
       "\n",
       "    .dataframe thead th {\n",
       "        text-align: right;\n",
       "    }\n",
       "</style>\n",
       "<table border=\"1\" class=\"dataframe\">\n",
       "  <thead>\n",
       "    <tr style=\"text-align: right;\">\n",
       "      <th></th>\n",
       "      <th>Trade Date</th>\n",
       "      <th>Open (Rs.)</th>\n",
       "      <th>High (Rs.)</th>\n",
       "      <th>Low (Rs.)</th>\n",
       "      <th>Close (Rs.)</th>\n",
       "      <th>TradeVolume</th>\n",
       "      <th>ShareVolume</th>\n",
       "      <th>Turnover (Rs.)</th>\n",
       "    </tr>\n",
       "  </thead>\n",
       "  <tbody>\n",
       "    <tr>\n",
       "      <th>2357</th>\n",
       "      <td>2014-06-30</td>\n",
       "      <td>196.9</td>\n",
       "      <td>202.0</td>\n",
       "      <td>196.5</td>\n",
       "      <td>200.2</td>\n",
       "      <td>147</td>\n",
       "      <td>186569</td>\n",
       "      <td>37220898.0</td>\n",
       "    </tr>\n",
       "    <tr>\n",
       "      <th>2358</th>\n",
       "      <td>2014-06-27</td>\n",
       "      <td>195.0</td>\n",
       "      <td>196.9</td>\n",
       "      <td>195.0</td>\n",
       "      <td>196.6</td>\n",
       "      <td>35</td>\n",
       "      <td>16356</td>\n",
       "      <td>3204298.5</td>\n",
       "    </tr>\n",
       "    <tr>\n",
       "      <th>2359</th>\n",
       "      <td>2014-06-26</td>\n",
       "      <td>194.0</td>\n",
       "      <td>197.0</td>\n",
       "      <td>194.0</td>\n",
       "      <td>195.6</td>\n",
       "      <td>39</td>\n",
       "      <td>23986</td>\n",
       "      <td>4681481.8</td>\n",
       "    </tr>\n",
       "    <tr>\n",
       "      <th>2360</th>\n",
       "      <td>2014-06-25</td>\n",
       "      <td>193.0</td>\n",
       "      <td>193.6</td>\n",
       "      <td>193.0</td>\n",
       "      <td>193.5</td>\n",
       "      <td>72</td>\n",
       "      <td>110628</td>\n",
       "      <td>21386372.7</td>\n",
       "    </tr>\n",
       "    <tr>\n",
       "      <th>2361</th>\n",
       "      <td>2014-06-24</td>\n",
       "      <td>192.6</td>\n",
       "      <td>193.5</td>\n",
       "      <td>192.6</td>\n",
       "      <td>193.3</td>\n",
       "      <td>47</td>\n",
       "      <td>51461</td>\n",
       "      <td>9935983.1</td>\n",
       "    </tr>\n",
       "  </tbody>\n",
       "</table>\n",
       "</div>"
      ],
      "text/plain": [
       "     Trade Date  Open (Rs.)  High (Rs.)  Low (Rs.)  Close (Rs.)  TradeVolume  \\\n",
       "2357 2014-06-30       196.9       202.0      196.5        200.2          147   \n",
       "2358 2014-06-27       195.0       196.9      195.0        196.6           35   \n",
       "2359 2014-06-26       194.0       197.0      194.0        195.6           39   \n",
       "2360 2014-06-25       193.0       193.6      193.0        193.5           72   \n",
       "2361 2014-06-24       192.6       193.5      192.6        193.3           47   \n",
       "\n",
       "      ShareVolume  Turnover (Rs.)  \n",
       "2357       186569      37220898.0  \n",
       "2358        16356       3204298.5  \n",
       "2359        23986       4681481.8  \n",
       "2360       110628      21386372.7  \n",
       "2361        51461       9935983.1  "
      ]
     },
     "execution_count": 70,
     "metadata": {},
     "output_type": "execute_result"
    }
   ],
   "source": [
    "filtered_df.tail()"
   ]
  },
  {
   "cell_type": "code",
   "execution_count": 71,
   "metadata": {},
   "outputs": [],
   "source": [
    "df1=filtered_df.reset_index()['Close (Rs.)']"
   ]
  },
  {
   "cell_type": "code",
   "execution_count": 72,
   "metadata": {},
   "outputs": [
    {
     "data": {
      "text/plain": [
       "0        79.7\n",
       "1        79.5\n",
       "2        79.0\n",
       "3        79.7\n",
       "4        80.1\n",
       "        ...  \n",
       "2357    200.2\n",
       "2358    196.6\n",
       "2359    195.6\n",
       "2360    193.5\n",
       "2361    193.3\n",
       "Name: Close (Rs.), Length: 2362, dtype: float64"
      ]
     },
     "execution_count": 72,
     "metadata": {},
     "output_type": "execute_result"
    }
   ],
   "source": [
    "df1"
   ]
  },
  {
   "cell_type": "code",
   "execution_count": 73,
   "metadata": {},
   "outputs": [
    {
     "data": {
      "text/plain": [
       "[<matplotlib.lines.Line2D at 0x20aeadae2d0>]"
      ]
     },
     "execution_count": 73,
     "metadata": {},
     "output_type": "execute_result"
    },
    {
     "data": {
      "image/png": "[encoded data removed]",
      "text/plain": [
       "<Figure size 640x480 with 1 Axes>"
      ]
     },
     "metadata": {},
     "output_type": "display_data"
    }
   ],
   "source": [
    "import matplotlib.pyplot as plt\n",
    "plt.plot(df1)"
   ]
  },
  {
   "cell_type": "code",
   "execution_count": 74,
   "metadata": {},
   "outputs": [],
   "source": [
    "### LSTM are sensitive to the scale of the data. so we apply MinMax scaler "
   ]
  },
  {
   "cell_type": "code",
   "execution_count": 75,
   "metadata": {},
   "outputs": [],
   "source": [
    "import numpy as np"
   ]
  },
  {
   "cell_type": "code",
   "execution_count": 76,
   "metadata": {},
   "outputs": [
    {
     "data": {
      "text/plain": [
       "0        79.7\n",
       "1        79.5\n",
       "2        79.0\n",
       "3        79.7\n",
       "4        80.1\n",
       "        ...  \n",
       "2357    200.2\n",
       "2358    196.6\n",
       "2359    195.6\n",
       "2360    193.5\n",
       "2361    193.3\n",
       "Name: Close (Rs.), Length: 2362, dtype: float64"
      ]
     },
     "execution_count": 76,
     "metadata": {},
     "output_type": "execute_result"
    }
   ],
   "source": [
    "df1"
   ]
  },
  {
   "cell_type": "code",
   "execution_count": 77,
   "metadata": {},
   "outputs": [],
   "source": [
    "from sklearn.preprocessing import MinMaxScaler\n",
    "scaler=MinMaxScaler(feature_range=(0,1))\n",
    "df1=scaler.fit_transform(np.array(df1).reshape(-1,1))"
   ]
  },
  {
   "cell_type": "code",
   "execution_count": 78,
   "metadata": {},
   "outputs": [
    {
     "name": "stdout",
     "output_type": "stream",
     "text": [
      "[[0.16496756]\n",
      " [0.16434971]\n",
      " [0.16280507]\n",
      " ...\n",
      " [0.52301514]\n",
      " [0.51652765]\n",
      " [0.51590979]]\n"
     ]
    }
   ],
   "source": [
    "print(df1)"
   ]
  },
  {
   "cell_type": "code",
   "execution_count": 79,
   "metadata": {},
   "outputs": [],
   "source": [
    "##splitting dataset into train and test split\n",
    "training_size=int(len(df1)*0.65)\n",
    "test_size=len(df1)-training_size\n",
    "train_data,test_data=df1[0:training_size,:],df1[training_size:len(df1),:1]"
   ]
  },
  {
   "cell_type": "code",
   "execution_count": 80,
   "metadata": {},
   "outputs": [
    {
     "data": {
      "text/plain": [
       "(1535, 827)"
      ]
     },
     "execution_count": 80,
     "metadata": {},
     "output_type": "execute_result"
    }
   ],
   "source": [
    "training_size,test_size"
   ]
  },
  {
   "cell_type": "code",
   "execution_count": 81,
   "metadata": {},
   "outputs": [
    {
     "data": {
      "text/plain": [
       "array([[0.16496756],\n",
       "       [0.16434971],\n",
       "       [0.16280507],\n",
       "       ...,\n",
       "       [0.95057152],\n",
       "       [0.9459376 ],\n",
       "       [0.95335187]])"
      ]
     },
     "execution_count": 81,
     "metadata": {},
     "output_type": "execute_result"
    }
   ],
   "source": [
    "train_data"
   ]
  },
  {
   "cell_type": "code",
   "execution_count": 82,
   "metadata": {},
   "outputs": [],
   "source": [
    "import numpy\n",
    "# convert an array of values into a dataset matrix\n",
    "def create_dataset(dataset, time_step=1):\n",
    "\tdataX, dataY = [], []\n",
    "\tfor i in range(len(dataset)-time_step-1):\n",
    "\t\ta = dataset[i:(i+time_step), 0]   ###i=0, 0,1,2,3-----99   100 \n",
    "\t\tdataX.append(a)\n",
    "\t\tdataY.append(dataset[i + time_step, 0])\n",
    "\treturn numpy.array(dataX), numpy.array(dataY)"
   ]
  },
  {
   "cell_type": "code",
   "execution_count": 83,
   "metadata": {},
   "outputs": [],
   "source": [
    "# reshape into X=t,t+1,t+2,t+3 and Y=t+4\n",
    "time_step = 100\n",
    "X_train, y_train = create_dataset(train_data, time_step)\n",
    "X_test, ytest = create_dataset(test_data, time_step)"
   ]
  },
  {
   "cell_type": "code",
   "execution_count": 84,
   "metadata": {},
   "outputs": [
    {
     "name": "stdout",
     "output_type": "stream",
     "text": [
      "(1434, 100)\n",
      "(1434,)\n"
     ]
    },
    {
     "data": {
      "text/plain": [
       "(None, None)"
      ]
     },
     "execution_count": 84,
     "metadata": {},
     "output_type": "execute_result"
    }
   ],
   "source": [
    "print(X_train.shape), print(y_train.shape)"
   ]
  },
  {
   "cell_type": "code",
   "execution_count": 85,
   "metadata": {},
   "outputs": [
    {
     "name": "stdout",
     "output_type": "stream",
     "text": [
      "(726, 100)\n",
      "(726,)\n"
     ]
    },
    {
     "data": {
      "text/plain": [
       "(None, None)"
      ]
     },
     "execution_count": 85,
     "metadata": {},
     "output_type": "execute_result"
    }
   ],
   "source": [
    "print(X_test.shape), print(ytest.shape)"
   ]
  },
  {
   "cell_type": "code",
   "execution_count": 86,
   "metadata": {},
   "outputs": [],
   "source": [
    "# reshape input to be [samples, time steps, features] which is required for LSTM\n",
    "X_train =X_train.reshape(X_train.shape[0],X_train.shape[1] , 1)\n",
    "X_test = X_test.reshape(X_test.shape[0],X_test.shape[1] , 1)"
   ]
  },
  {
   "cell_type": "code",
   "execution_count": null,
   "metadata": {},
   "outputs": [],
   "source": []
  },
  {
   "cell_type": "code",
   "execution_count": 87,
   "metadata": {},
   "outputs": [],
   "source": [
    "### Create the Stacked LSTM model\n",
    "from tensorflow.keras.models import Sequential\n",
    "from tensorflow.keras.layers import Dense\n",
    "from tensorflow.keras.layers import LSTM\n",
    "from keras.layers import GRU"
   ]
  },
  {
   "cell_type": "code",
   "execution_count": 101,
   "metadata": {},
   "outputs": [
    {
     "name": "stderr",
     "output_type": "stream",
     "text": [
      "C:\\Users\\udith\\AppData\\Local\\Programs\\Python\\Python312\\Lib\\site-packages\\keras\\src\\layers\\rnn\\rnn.py:204: UserWarning: Do not pass an `input_shape`/`input_dim` argument to a layer. When using Sequential models, prefer using an `Input(shape)` object as the first layer in the model instead.\n",
      "  super().__init__(**kwargs)\n"
     ]
    },
    {
     "data": {
      "text/html": [
       "<pre style=\"white-space:pre;overflow-x:auto;line-height:normal;font-family:Menlo,'DejaVu Sans Mono',consolas,'Courier New',monospace\"><span style=\"font-weight: bold\">Model: \"sequential_3\"</span>\n",
       "</pre>\n"
      ],
      "text/plain": [
       "\u001b[1mModel: \"sequential_3\"\u001b[0m\n"
      ]
     },
     "metadata": {},
     "output_type": "display_data"
    },
    {
     "data": {
      "text/html": [
       "<pre style=\"white-space:pre;overflow-x:auto;line-height:normal;font-family:Menlo,'DejaVu Sans Mono',consolas,'Courier New',monospace\">┏━━━━━━━━━━━━━━━━━━━━━━━━━━━━━━━━━━━━━━┳━━━━━━━━━━━━━━━━━━━━━━━━━━━━━┳━━━━━━━━━━━━━━━━━┓\n",
       "┃<span style=\"font-weight: bold\"> Layer (type)                         </span>┃<span style=\"font-weight: bold\"> Output Shape                </span>┃<span style=\"font-weight: bold\">         Param # </span>┃\n",
       "┡━━━━━━━━━━━━━━━━━━━━━━━━━━━━━━━━━━━━━━╇━━━━━━━━━━━━━━━━━━━━━━━━━━━━━╇━━━━━━━━━━━━━━━━━┩\n",
       "│ gru_4 (<span style=\"color: #0087ff; text-decoration-color: #0087ff\">GRU</span>)                          │ (<span style=\"color: #00d7ff; text-decoration-color: #00d7ff\">None</span>, <span style=\"color: #00af00; text-decoration-color: #00af00\">100</span>, <span style=\"color: #00af00; text-decoration-color: #00af00\">50</span>)             │           <span style=\"color: #00af00; text-decoration-color: #00af00\">7,950</span> │\n",
       "├──────────────────────────────────────┼─────────────────────────────┼─────────────────┤\n",
       "│ gru_5 (<span style=\"color: #0087ff; text-decoration-color: #0087ff\">GRU</span>)                          │ (<span style=\"color: #00d7ff; text-decoration-color: #00d7ff\">None</span>, <span style=\"color: #00af00; text-decoration-color: #00af00\">100</span>, <span style=\"color: #00af00; text-decoration-color: #00af00\">50</span>)             │          <span style=\"color: #00af00; text-decoration-color: #00af00\">15,300</span> │\n",
       "├──────────────────────────────────────┼─────────────────────────────┼─────────────────┤\n",
       "│ gru_6 (<span style=\"color: #0087ff; text-decoration-color: #0087ff\">GRU</span>)                          │ (<span style=\"color: #00d7ff; text-decoration-color: #00d7ff\">None</span>, <span style=\"color: #00af00; text-decoration-color: #00af00\">50</span>)                  │          <span style=\"color: #00af00; text-decoration-color: #00af00\">15,300</span> │\n",
       "├──────────────────────────────────────┼─────────────────────────────┼─────────────────┤\n",
       "│ dense_3 (<span style=\"color: #0087ff; text-decoration-color: #0087ff\">Dense</span>)                      │ (<span style=\"color: #00d7ff; text-decoration-color: #00d7ff\">None</span>, <span style=\"color: #00af00; text-decoration-color: #00af00\">1</span>)                   │              <span style=\"color: #00af00; text-decoration-color: #00af00\">51</span> │\n",
       "└──────────────────────────────────────┴─────────────────────────────┴─────────────────┘\n",
       "</pre>\n"
      ],
      "text/plain": [
       "┏━━━━━━━━━━━━━━━━━━━━━━━━━━━━━━━━━━━━━━┳━━━━━━━━━━━━━━━━━━━━━━━━━━━━━┳━━━━━━━━━━━━━━━━━┓\n",
       "┃\u001b[1m \u001b[0m\u001b[1mLayer (type)                        \u001b[0m\u001b[1m \u001b[0m┃\u001b[1m \u001b[0m\u001b[1mOutput Shape               \u001b[0m\u001b[1m \u001b[0m┃\u001b[1m \u001b[0m\u001b[1m        Param #\u001b[0m\u001b[1m \u001b[0m┃\n",
       "┡━━━━━━━━━━━━━━━━━━━━━━━━━━━━━━━━━━━━━━╇━━━━━━━━━━━━━━━━━━━━━━━━━━━━━╇━━━━━━━━━━━━━━━━━┩\n",
       "│ gru_4 (\u001b[38;5;33mGRU\u001b[0m)                          │ (\u001b[38;5;45mNone\u001b[0m, \u001b[38;5;34m100\u001b[0m, \u001b[38;5;34m50\u001b[0m)             │           \u001b[38;5;34m7,950\u001b[0m │\n",
       "├──────────────────────────────────────┼─────────────────────────────┼─────────────────┤\n",
       "│ gru_5 (\u001b[38;5;33mGRU\u001b[0m)                          │ (\u001b[38;5;45mNone\u001b[0m, \u001b[38;5;34m100\u001b[0m, \u001b[38;5;34m50\u001b[0m)             │          \u001b[38;5;34m15,300\u001b[0m │\n",
       "├──────────────────────────────────────┼─────────────────────────────┼─────────────────┤\n",
       "│ gru_6 (\u001b[38;5;33mGRU\u001b[0m)                          │ (\u001b[38;5;45mNone\u001b[0m, \u001b[38;5;34m50\u001b[0m)                  │          \u001b[38;5;34m15,300\u001b[0m │\n",
       "├──────────────────────────────────────┼─────────────────────────────┼─────────────────┤\n",
       "│ dense_3 (\u001b[38;5;33mDense\u001b[0m)                      │ (\u001b[38;5;45mNone\u001b[0m, \u001b[38;5;34m1\u001b[0m)                   │              \u001b[38;5;34m51\u001b[0m │\n",
       "└──────────────────────────────────────┴─────────────────────────────┴─────────────────┘\n"
      ]
     },
     "metadata": {},
     "output_type": "display_data"
    },
    {
     "data": {
      "text/html": [
       "<pre style=\"white-space:pre;overflow-x:auto;line-height:normal;font-family:Menlo,'DejaVu Sans Mono',consolas,'Courier New',monospace\"><span style=\"font-weight: bold\"> Total params: </span><span style=\"color: #00af00; text-decoration-color: #00af00\">38,601</span> (150.79 KB)\n",
       "</pre>\n"
      ],
      "text/plain": [
       "\u001b[1m Total params: \u001b[0m\u001b[38;5;34m38,601\u001b[0m (150.79 KB)\n"
      ]
     },
     "metadata": {},
     "output_type": "display_data"
    },
    {
     "data": {
      "text/html": [
       "<pre style=\"white-space:pre;overflow-x:auto;line-height:normal;font-family:Menlo,'DejaVu Sans Mono',consolas,'Courier New',monospace\"><span style=\"font-weight: bold\"> Trainable params: </span><span style=\"color: #00af00; text-decoration-color: #00af00\">38,601</span> (150.79 KB)\n",
       "</pre>\n"
      ],
      "text/plain": [
       "\u001b[1m Trainable params: \u001b[0m\u001b[38;5;34m38,601\u001b[0m (150.79 KB)\n"
      ]
     },
     "metadata": {},
     "output_type": "display_data"
    },
    {
     "data": {
      "text/html": [
       "<pre style=\"white-space:pre;overflow-x:auto;line-height:normal;font-family:Menlo,'DejaVu Sans Mono',consolas,'Courier New',monospace\"><span style=\"font-weight: bold\"> Non-trainable params: </span><span style=\"color: #00af00; text-decoration-color: #00af00\">0</span> (0.00 B)\n",
       "</pre>\n"
      ],
      "text/plain": [
       "\u001b[1m Non-trainable params: \u001b[0m\u001b[38;5;34m0\u001b[0m (0.00 B)\n"
      ]
     },
     "metadata": {},
     "output_type": "display_data"
    }
   ],
   "source": [
    "from tensorflow.keras.models import Sequential\n",
    "from tensorflow.keras.layers import GRU, Dense, Dropout, BatchNormalization\n",
    "from tensorflow.keras.optimizers import Adam\n",
    "\n",
    "\n",
    "model=Sequential()\n",
    "model.add(GRU(50,return_sequences=True,input_shape=(100,1)))\n",
    "model.add(GRU(50,return_sequences=True))\n",
    "model.add(GRU(50))\n",
    "model.add(Dense(1))\n",
    "model.compile(loss='mean_squared_error',optimizer='adam')\n",
    "\n",
    "\n",
    "\n",
    "\n",
    "# Summary of the model\n",
    "model.summary()\n"
   ]
  },
  {
   "cell_type": "code",
   "execution_count": 102,
   "metadata": {},
   "outputs": [
    {
     "name": "stdout",
     "output_type": "stream",
     "text": [
      "Epoch 1/100\n",
      "\u001b[1m45/45\u001b[0m \u001b[32m━━━━━━━━━━━━━━━━━━━━\u001b[0m\u001b[37m\u001b[0m \u001b[1m7s\u001b[0m 74ms/step - loss: 0.0318 - val_loss: 7.5897e-04\n",
      "Epoch 2/100\n",
      "\u001b[1m45/45\u001b[0m \u001b[32m━━━━━━━━━━━━━━━━━━━━\u001b[0m\u001b[37m\u001b[0m \u001b[1m3s\u001b[0m 63ms/step - loss: 4.6793e-04 - val_loss: 4.2113e-04\n",
      "Epoch 3/100\n",
      "\u001b[1m45/45\u001b[0m \u001b[32m━━━━━━━━━━━━━━━━━━━━\u001b[0m\u001b[37m\u001b[0m \u001b[1m3s\u001b[0m 65ms/step - loss: 4.6124e-04 - val_loss: 3.9423e-04\n",
      "Epoch 4/100\n",
      "\u001b[1m45/45\u001b[0m \u001b[32m━━━━━━━━━━━━━━━━━━━━\u001b[0m\u001b[37m\u001b[0m \u001b[1m3s\u001b[0m 63ms/step - loss: 3.5138e-04 - val_loss: 2.6079e-04\n",
      "Epoch 5/100\n",
      "\u001b[1m45/45\u001b[0m \u001b[32m━━━━━━━━━━━━━━━━━━━━\u001b[0m\u001b[37m\u001b[0m \u001b[1m3s\u001b[0m 68ms/step - loss: 4.0071e-04 - val_loss: 1.6150e-04\n",
      "Epoch 6/100\n",
      "\u001b[1m45/45\u001b[0m \u001b[32m━━━━━━━━━━━━━━━━━━━━\u001b[0m\u001b[37m\u001b[0m \u001b[1m3s\u001b[0m 67ms/step - loss: 3.2918e-04 - val_loss: 1.3697e-04\n",
      "Epoch 7/100\n",
      "\u001b[1m45/45\u001b[0m \u001b[32m━━━━━━━━━━━━━━━━━━━━\u001b[0m\u001b[37m\u001b[0m \u001b[1m3s\u001b[0m 64ms/step - loss: 2.9010e-04 - val_loss: 1.3799e-04\n",
      "Epoch 8/100\n",
      "\u001b[1m45/45\u001b[0m \u001b[32m━━━━━━━━━━━━━━━━━━━━\u001b[0m\u001b[37m\u001b[0m \u001b[1m3s\u001b[0m 65ms/step - loss: 2.7847e-04 - val_loss: 1.2916e-04\n",
      "Epoch 9/100\n",
      "\u001b[1m45/45\u001b[0m \u001b[32m━━━━━━━━━━━━━━━━━━━━\u001b[0m\u001b[37m\u001b[0m \u001b[1m3s\u001b[0m 61ms/step - loss: 2.5554e-04 - val_loss: 9.4301e-05\n",
      "Epoch 10/100\n",
      "\u001b[1m45/45\u001b[0m \u001b[32m━━━━━━━━━━━━━━━━━━━━\u001b[0m\u001b[37m\u001b[0m \u001b[1m3s\u001b[0m 63ms/step - loss: 3.4834e-04 - val_loss: 8.9640e-05\n",
      "Epoch 11/100\n",
      "\u001b[1m45/45\u001b[0m \u001b[32m━━━━━━━━━━━━━━━━━━━━\u001b[0m\u001b[37m\u001b[0m \u001b[1m3s\u001b[0m 61ms/step - loss: 2.0053e-04 - val_loss: 8.6239e-05\n",
      "Epoch 12/100\n",
      "\u001b[1m45/45\u001b[0m \u001b[32m━━━━━━━━━━━━━━━━━━━━\u001b[0m\u001b[37m\u001b[0m \u001b[1m3s\u001b[0m 62ms/step - loss: 1.9208e-04 - val_loss: 7.9898e-05\n",
      "Epoch 13/100\n",
      "\u001b[1m45/45\u001b[0m \u001b[32m━━━━━━━━━━━━━━━━━━━━\u001b[0m\u001b[37m\u001b[0m \u001b[1m3s\u001b[0m 63ms/step - loss: 1.9078e-04 - val_loss: 4.1310e-04\n",
      "Epoch 14/100\n",
      "\u001b[1m45/45\u001b[0m \u001b[32m━━━━━━━━━━━━━━━━━━━━\u001b[0m\u001b[37m\u001b[0m \u001b[1m3s\u001b[0m 62ms/step - loss: 3.2430e-04 - val_loss: 1.8384e-04\n",
      "Epoch 15/100\n",
      "\u001b[1m45/45\u001b[0m \u001b[32m━━━━━━━━━━━━━━━━━━━━\u001b[0m\u001b[37m\u001b[0m \u001b[1m3s\u001b[0m 62ms/step - loss: 3.6342e-04 - val_loss: 1.4942e-04\n",
      "Epoch 16/100\n",
      "\u001b[1m45/45\u001b[0m \u001b[32m━━━━━━━━━━━━━━━━━━━━\u001b[0m\u001b[37m\u001b[0m \u001b[1m3s\u001b[0m 62ms/step - loss: 2.0910e-04 - val_loss: 7.2853e-05\n",
      "Epoch 17/100\n",
      "\u001b[1m45/45\u001b[0m \u001b[32m━━━━━━━━━━━━━━━━━━━━\u001b[0m\u001b[37m\u001b[0m \u001b[1m3s\u001b[0m 60ms/step - loss: 2.1388e-04 - val_loss: 1.6595e-04\n",
      "Epoch 18/100\n",
      "\u001b[1m45/45\u001b[0m \u001b[32m━━━━━━━━━━━━━━━━━━━━\u001b[0m\u001b[37m\u001b[0m \u001b[1m3s\u001b[0m 62ms/step - loss: 1.8029e-04 - val_loss: 1.5577e-04\n",
      "Epoch 19/100\n",
      "\u001b[1m45/45\u001b[0m \u001b[32m━━━━━━━━━━━━━━━━━━━━\u001b[0m\u001b[37m\u001b[0m \u001b[1m3s\u001b[0m 61ms/step - loss: 2.8720e-04 - val_loss: 1.0320e-04\n",
      "Epoch 20/100\n",
      "\u001b[1m45/45\u001b[0m \u001b[32m━━━━━━━━━━━━━━━━━━━━\u001b[0m\u001b[37m\u001b[0m \u001b[1m3s\u001b[0m 65ms/step - loss: 1.6716e-04 - val_loss: 1.8650e-04\n",
      "Epoch 21/100\n",
      "\u001b[1m45/45\u001b[0m \u001b[32m━━━━━━━━━━━━━━━━━━━━\u001b[0m\u001b[37m\u001b[0m \u001b[1m3s\u001b[0m 61ms/step - loss: 2.1850e-04 - val_loss: 6.3872e-05\n",
      "Epoch 22/100\n",
      "\u001b[1m45/45\u001b[0m \u001b[32m━━━━━━━━━━━━━━━━━━━━\u001b[0m\u001b[37m\u001b[0m \u001b[1m3s\u001b[0m 60ms/step - loss: 2.2513e-04 - val_loss: 6.8760e-05\n",
      "Epoch 23/100\n",
      "\u001b[1m45/45\u001b[0m \u001b[32m━━━━━━━━━━━━━━━━━━━━\u001b[0m\u001b[37m\u001b[0m \u001b[1m3s\u001b[0m 60ms/step - loss: 1.4475e-04 - val_loss: 6.9602e-05\n",
      "Epoch 24/100\n",
      "\u001b[1m45/45\u001b[0m \u001b[32m━━━━━━━━━━━━━━━━━━━━\u001b[0m\u001b[37m\u001b[0m \u001b[1m3s\u001b[0m 63ms/step - loss: 4.1342e-04 - val_loss: 7.6001e-05\n",
      "Epoch 25/100\n",
      "\u001b[1m45/45\u001b[0m \u001b[32m━━━━━━━━━━━━━━━━━━━━\u001b[0m\u001b[37m\u001b[0m \u001b[1m3s\u001b[0m 62ms/step - loss: 3.2807e-04 - val_loss: 5.3834e-05\n",
      "Epoch 26/100\n",
      "\u001b[1m45/45\u001b[0m \u001b[32m━━━━━━━━━━━━━━━━━━━━\u001b[0m\u001b[37m\u001b[0m \u001b[1m3s\u001b[0m 64ms/step - loss: 1.8330e-04 - val_loss: 1.5184e-04\n",
      "Epoch 27/100\n",
      "\u001b[1m45/45\u001b[0m \u001b[32m━━━━━━━━━━━━━━━━━━━━\u001b[0m\u001b[37m\u001b[0m \u001b[1m3s\u001b[0m 63ms/step - loss: 1.2377e-04 - val_loss: 2.6723e-04\n",
      "Epoch 28/100\n",
      "\u001b[1m45/45\u001b[0m \u001b[32m━━━━━━━━━━━━━━━━━━━━\u001b[0m\u001b[37m\u001b[0m \u001b[1m3s\u001b[0m 61ms/step - loss: 1.5897e-04 - val_loss: 6.1167e-05\n",
      "Epoch 29/100\n",
      "\u001b[1m45/45\u001b[0m \u001b[32m━━━━━━━━━━━━━━━━━━━━\u001b[0m\u001b[37m\u001b[0m \u001b[1m3s\u001b[0m 63ms/step - loss: 1.5303e-04 - val_loss: 6.9690e-05\n",
      "Epoch 30/100\n",
      "\u001b[1m45/45\u001b[0m \u001b[32m━━━━━━━━━━━━━━━━━━━━\u001b[0m\u001b[37m\u001b[0m \u001b[1m3s\u001b[0m 61ms/step - loss: 2.4627e-04 - val_loss: 8.8288e-05\n"
     ]
    }
   ],
   "source": [
    "from tensorflow.keras.callbacks import EarlyStopping\n",
    "\n",
    "# Define EarlyStopping callback\n",
    "early_stop = EarlyStopping(\n",
    "    monitor='val_loss',  # Monitor the validation loss\n",
    "    patience=5,          # Number of epochs with no improvement after which training will be stopped\n",
    "    restore_best_weights=True  # Restore model weights from the epoch with the best validation loss\n",
    ")\n",
    "\n",
    "# Train the model with EarlyStopping\n",
    "history = model.fit(\n",
    "    X_train, y_train, \n",
    "    validation_data=(X_test,ytest),  # Use validation data for early stopping\n",
    "    epochs=100, \n",
    "    batch_size=32, \n",
    "    callbacks=[early_stop],  # Add EarlyStopping to the training process\n",
    "    verbose=1\n",
    ")\n"
   ]
  },
  {
   "cell_type": "code",
   "execution_count": 103,
   "metadata": {},
   "outputs": [],
   "source": [
    "import tensorflow as tf"
   ]
  },
  {
   "cell_type": "code",
   "execution_count": 104,
   "metadata": {},
   "outputs": [
    {
     "data": {
      "text/plain": [
       "'2.16.1'"
      ]
     },
     "execution_count": 104,
     "metadata": {},
     "output_type": "execute_result"
    }
   ],
   "source": [
    "tf.__version__"
   ]
  },
  {
   "cell_type": "code",
   "execution_count": 105,
   "metadata": {},
   "outputs": [
    {
     "name": "stdout",
     "output_type": "stream",
     "text": [
      "\u001b[1m45/45\u001b[0m \u001b[32m━━━━━━━━━━━━━━━━━━━━\u001b[0m\u001b[37m\u001b[0m \u001b[1m1s\u001b[0m 26ms/step\n",
      "\u001b[1m23/23\u001b[0m \u001b[32m━━━━━━━━━━━━━━━━━━━━\u001b[0m\u001b[37m\u001b[0m \u001b[1m0s\u001b[0m 17ms/step\n"
     ]
    }
   ],
   "source": [
    "### Lets Do the prediction and check performance metrics\n",
    "train_predict=model.predict(X_train)\n",
    "test_predict=model.predict(X_test)"
   ]
  },
  {
   "cell_type": "code",
   "execution_count": 106,
   "metadata": {},
   "outputs": [],
   "source": [
    "##Transformback to original form\n",
    "train_predict=scaler.inverse_transform(train_predict)\n",
    "test_predict=scaler.inverse_transform(test_predict)"
   ]
  },
  {
   "cell_type": "code",
   "execution_count": 107,
   "metadata": {},
   "outputs": [
    {
     "data": {
      "text/plain": [
       "157.55960476606612"
      ]
     },
     "execution_count": 107,
     "metadata": {},
     "output_type": "execute_result"
    }
   ],
   "source": [
    "### Calculate RMSE performance metrics\n",
    "import math\n",
    "from sklearn.metrics import mean_squared_error\n",
    "math.sqrt(mean_squared_error(y_train,train_predict))"
   ]
  },
  {
   "cell_type": "code",
   "execution_count": 108,
   "metadata": {},
   "outputs": [
    {
     "data": {
      "text/plain": [
       "250.61496504185826"
      ]
     },
     "execution_count": 108,
     "metadata": {},
     "output_type": "execute_result"
    }
   ],
   "source": [
    "### Test Data RMSE\n",
    "math.sqrt(mean_squared_error(ytest,test_predict))"
   ]
  },
  {
   "cell_type": "code",
   "execution_count": 109,
   "metadata": {},
   "outputs": [
    {
     "name": "stdout",
     "output_type": "stream",
     "text": [
      "Mean Absolute Error (MAE): 129.68020376760825\n",
      "Mean Squared Error (MSE): 24825.029054038965\n",
      "Root Mean Squared Error (RMSE): 157.55960476606612\n"
     ]
    }
   ],
   "source": [
    "import math\n",
    "from sklearn.metrics import mean_absolute_error, mean_squared_error\n",
    "\n",
    "# Calculate Mean Absolute Error (MAE)\n",
    "mae = mean_absolute_error(y_train, train_predict)\n",
    "\n",
    "# Calculate Mean Squared Error (MSE)\n",
    "mse = mean_squared_error(y_train, train_predict)\n",
    "\n",
    "# Calculate Root Mean Squared Error (RMSE)\n",
    "rmse = math.sqrt(mse)\n",
    "\n",
    "# Print all the metrics\n",
    "print(f\"Mean Absolute Error (MAE): {mae}\")\n",
    "print(f\"Mean Squared Error (MSE): {mse}\")\n",
    "print(f\"Root Mean Squared Error (RMSE): {rmse}\")"
   ]
  },
  {
   "cell_type": "code",
   "execution_count": 110,
   "metadata": {},
   "outputs": [
    {
     "name": "stdout",
     "output_type": "stream",
     "text": [
      "Mean Absolute Error (MAE): 249.9383079774962\n",
      "Mean Squared Error (MSE): 62807.86070293184\n",
      "Root Mean Squared Error (RMSE): 250.61496504185826\n"
     ]
    }
   ],
   "source": [
    "import math\n",
    "from sklearn.metrics import mean_absolute_error, mean_squared_error\n",
    "\n",
    "# Calculate Mean Absolute Error (MAE)\n",
    "mae = mean_absolute_error(ytest, test_predict)\n",
    "\n",
    "# Calculate Mean Squared Error (MSE)\n",
    "mse = mean_squared_error(ytest, test_predict)\n",
    "\n",
    "# Calculate Root Mean Squared Error (RMSE)\n",
    "rmse = math.sqrt(mse)\n",
    "\n",
    "# Print all the metrics\n",
    "print(f\"Mean Absolute Error (MAE): {mae}\")\n",
    "print(f\"Mean Squared Error (MSE): {mse}\")\n",
    "print(f\"Root Mean Squared Error (RMSE): {rmse}\")"
   ]
  },
  {
   "cell_type": "code",
   "execution_count": 111,
   "metadata": {},
   "outputs": [
    {
     "data": {
      "image/png": "[encoded data removed]",
      "text/plain": [
       "<Figure size 1000x600 with 1 Axes>"
      ]
     },
     "metadata": {},
     "output_type": "display_data"
    }
   ],
   "source": [
    "# shift train predictions for plotting\n",
    "look_back = 100\n",
    "trainPredictPlot = numpy.empty_like(df1)\n",
    "trainPredictPlot[:, :] = np.nan\n",
    "trainPredictPlot[look_back:len(train_predict) + look_back, :] = train_predict\n",
    "\n",
    "# shift test predictions for plotting\n",
    "testPredictPlot = numpy.empty_like(df1)\n",
    "testPredictPlot[:, :] = np.nan\n",
    "testPredictPlot[len(train_predict) + (look_back * 2) + 1:len(df1) - 1, :] = test_predict\n",
    "\n",
    "# plot baseline and predictions\n",
    "plt.figure(figsize=(10, 6))\n",
    "plt.plot(scaler.inverse_transform(df1), label='Original Data', color='blue')\n",
    "plt.plot(trainPredictPlot, label='Train Predictions', color='orange')\n",
    "plt.plot(testPredictPlot, label='Test Predictions', color='green')\n",
    "\n",
    "# Add title and labels\n",
    "plt.title('Original Data vs Predictions - Sampath Bank PLC')\n",
    "plt.xlabel('Time')\n",
    "plt.ylabel('Value (Rs.)')\n",
    "\n",
    "# Add a legend\n",
    "plt.legend(loc='upper left')\n",
    "\n",
    "# Show the plot\n",
    "plt.show()"
   ]
  },
  {
   "cell_type": "code",
   "execution_count": 99,
   "metadata": {},
   "outputs": [
    {
     "data": {
      "text/plain": [
       "827"
      ]
     },
     "execution_count": 99,
     "metadata": {},
     "output_type": "execute_result"
    }
   ],
   "source": [
    "len(test_data)"
   ]
  },
  {
   "cell_type": "code",
   "execution_count": 37,
   "metadata": {},
   "outputs": [],
   "source": [
    "a = len(test_data) - 100"
   ]
  },
  {
   "cell_type": "code",
   "execution_count": 38,
   "metadata": {},
   "outputs": [
    {
     "data": {
      "text/plain": [
       "(1, 100)"
      ]
     },
     "execution_count": 38,
     "metadata": {},
     "output_type": "execute_result"
    }
   ],
   "source": [
    "x_input=test_data[a:].reshape(1,-1)\n",
    "x_input.shape\n"
   ]
  },
  {
   "cell_type": "code",
   "execution_count": 39,
   "metadata": {},
   "outputs": [],
   "source": [
    "temp_input=list(x_input)\n",
    "temp_input=temp_input[0].tolist()"
   ]
  },
  {
   "cell_type": "code",
   "execution_count": 40,
   "metadata": {},
   "outputs": [
    {
     "data": {
      "text/plain": [
       "[0.664504170528267,\n",
       " 0.6694470188446091,\n",
       " 0.6601791782514674,\n",
       " 0.6601791782514674,\n",
       " 0.6468952734012974,\n",
       " 0.642570281124498,\n",
       " 0.6416434970651839,\n",
       " 0.6407167130058695,\n",
       " 0.6407167130058695,\n",
       " 0.6524559777571826,\n",
       " 0.6552363299351252,\n",
       " 0.659870250231696,\n",
       " 0.659870250231696,\n",
       " 0.651220265678097,\n",
       " 0.6509113376583255,\n",
       " 0.6595613222119248,\n",
       " 0.6533827618164969,\n",
       " 0.6447327772628977,\n",
       " 0.6385542168674698,\n",
       " 0.6468952734012974,\n",
       " 0.6478220574606117,\n",
       " 0.6573988260735248,\n",
       " 0.6694470188446091,\n",
       " 0.6536916898362681,\n",
       " 0.6564720420142107,\n",
       " 0.6814952116156936,\n",
       " 0.6848934198331789,\n",
       " 0.6861291319122644,\n",
       " 0.6910719802286067,\n",
       " 0.6827309236947792,\n",
       " 0.6675934507259809,\n",
       " 0.6657398826073526,\n",
       " 0.6570898980537534,\n",
       " 0.6694470188446091,\n",
       " 0.6722273710225517,\n",
       " 0.6694470188446091,\n",
       " 0.6743898671609514,\n",
       " 0.6756255792400372,\n",
       " 0.6654309545875812,\n",
       " 0.6577077540932963,\n",
       " 0.6540006178560396,\n",
       " 0.6530738337967252,\n",
       " 0.6540006178560396,\n",
       " 0.6546184738955823,\n",
       " 0.6570898980537534,\n",
       " 0.6564720420142107,\n",
       " 0.6567809700339822,\n",
       " 0.645659561322212,\n",
       " 0.6373185047883843,\n",
       " 0.6320667284522707,\n",
       " 0.6274328081556997,\n",
       " 0.6292863762743282,\n",
       " 0.6286685202347853,\n",
       " 0.6292863762743282,\n",
       " 0.6231078158789003,\n",
       " 0.6283595922150138,\n",
       " 0.6218721037998147,\n",
       " 0.6261970960766141,\n",
       " 0.6274328081556997,\n",
       " 0.6286685202347853,\n",
       " 0.6156935434043869,\n",
       " 0.6138399752857584,\n",
       " 0.6132221192462157,\n",
       " 0.6070435588507879,\n",
       " 0.6085881989496449,\n",
       " 0.609514983008959,\n",
       " 0.6116774791473587,\n",
       " 0.6042632066728453,\n",
       " 0.5949953660797034,\n",
       " 0.5894346617238184,\n",
       " 0.5829471733086191,\n",
       " 0.5832561013283906,\n",
       " 0.5826382452888477,\n",
       " 0.5780043249922768,\n",
       " 0.5798578931109051,\n",
       " 0.5739882607352487,\n",
       " 0.5770775409329627,\n",
       " 0.5767686129131913,\n",
       " 0.5798578931109051,\n",
       " 0.5786221810318195,\n",
       " 0.5767686129131913,\n",
       " 0.5715168365770775,\n",
       " 0.5739882607352487,\n",
       " 0.5761507568736486,\n",
       " 0.5798578931109051,\n",
       " 0.5770775409329627,\n",
       " 0.580475749150448,\n",
       " 0.5919060858819896,\n",
       " 0.5851096694470188,\n",
       " 0.5776953969725054,\n",
       " 0.5662650602409638,\n",
       " 0.56317578004325,\n",
       " 0.5520543713314798,\n",
       " 0.5424776027185667,\n",
       " 0.5384615384615385,\n",
       " 0.537225826382453,\n",
       " 0.5261044176706828,\n",
       " 0.5230151374729688,\n",
       " 0.5165276490577695,\n",
       " 0.5159097930182268]"
      ]
     },
     "execution_count": 40,
     "metadata": {},
     "output_type": "execute_result"
    }
   ],
   "source": [
    "temp_input"
   ]
  },
  {
   "cell_type": "code",
   "execution_count": 41,
   "metadata": {},
   "outputs": [
    {
     "name": "stdout",
     "output_type": "stream",
     "text": [
      "[0.47876164]\n",
      "101\n",
      "1 day input [0.66944702 0.66017918 0.66017918 0.64689527 0.64257028 0.6416435\n",
      " 0.64071671 0.64071671 0.65245598 0.65523633 0.65987025 0.65987025\n",
      " 0.65122027 0.65091134 0.65956132 0.65338276 0.64473278 0.63855422\n",
      " 0.64689527 0.64782206 0.65739883 0.66944702 0.65369169 0.65647204\n",
      " 0.68149521 0.68489342 0.68612913 0.69107198 0.68273092 0.66759345\n",
      " 0.66573988 0.6570899  0.66944702 0.67222737 0.66944702 0.67438987\n",
      " 0.67562558 0.66543095 0.65770775 0.65400062 0.65307383 0.65400062\n",
      " 0.65461847 0.6570899  0.65647204 0.65678097 0.64565956 0.6373185\n",
      " 0.63206673 0.62743281 0.62928638 0.62866852 0.62928638 0.62310782\n",
      " 0.62835959 0.6218721  0.6261971  0.62743281 0.62866852 0.61569354\n",
      " 0.61383998 0.61322212 0.60704356 0.6085882  0.60951498 0.61167748\n",
      " 0.60426321 0.59499537 0.58943466 0.58294717 0.5832561  0.58263825\n",
      " 0.57800432 0.57985789 0.57398826 0.57707754 0.57676861 0.57985789\n",
      " 0.57862218 0.57676861 0.57151684 0.57398826 0.57615076 0.57985789\n",
      " 0.57707754 0.58047575 0.59190609 0.58510967 0.5776954  0.56626506\n",
      " 0.56317578 0.55205437 0.5424776  0.53846154 0.53722583 0.52610442\n",
      " 0.52301514 0.51652765 0.51590979 0.47876164]\n",
      "1 day output [[0.47398764]]\n",
      "2 day input [0.66017918 0.66017918 0.64689527 0.64257028 0.6416435  0.64071671\n",
      " 0.64071671 0.65245598 0.65523633 0.65987025 0.65987025 0.65122027\n",
      " 0.65091134 0.65956132 0.65338276 0.64473278 0.63855422 0.64689527\n",
      " 0.64782206 0.65739883 0.66944702 0.65369169 0.65647204 0.68149521\n",
      " 0.68489342 0.68612913 0.69107198 0.68273092 0.66759345 0.66573988\n",
      " 0.6570899  0.66944702 0.67222737 0.66944702 0.67438987 0.67562558\n",
      " 0.66543095 0.65770775 0.65400062 0.65307383 0.65400062 0.65461847\n",
      " 0.6570899  0.65647204 0.65678097 0.64565956 0.6373185  0.63206673\n",
      " 0.62743281 0.62928638 0.62866852 0.62928638 0.62310782 0.62835959\n",
      " 0.6218721  0.6261971  0.62743281 0.62866852 0.61569354 0.61383998\n",
      " 0.61322212 0.60704356 0.6085882  0.60951498 0.61167748 0.60426321\n",
      " 0.59499537 0.58943466 0.58294717 0.5832561  0.58263825 0.57800432\n",
      " 0.57985789 0.57398826 0.57707754 0.57676861 0.57985789 0.57862218\n",
      " 0.57676861 0.57151684 0.57398826 0.57615076 0.57985789 0.57707754\n",
      " 0.58047575 0.59190609 0.58510967 0.5776954  0.56626506 0.56317578\n",
      " 0.55205437 0.5424776  0.53846154 0.53722583 0.52610442 0.52301514\n",
      " 0.51652765 0.51590979 0.47876164 0.47398764]\n",
      "2 day output [[0.46866742]]\n",
      "3 day input [0.66017918 0.64689527 0.64257028 0.6416435  0.64071671 0.64071671\n",
      " 0.65245598 0.65523633 0.65987025 0.65987025 0.65122027 0.65091134\n",
      " 0.65956132 0.65338276 0.64473278 0.63855422 0.64689527 0.64782206\n",
      " 0.65739883 0.66944702 0.65369169 0.65647204 0.68149521 0.68489342\n",
      " 0.68612913 0.69107198 0.68273092 0.66759345 0.66573988 0.6570899\n",
      " 0.66944702 0.67222737 0.66944702 0.67438987 0.67562558 0.66543095\n",
      " 0.65770775 0.65400062 0.65307383 0.65400062 0.65461847 0.6570899\n",
      " 0.65647204 0.65678097 0.64565956 0.6373185  0.63206673 0.62743281\n",
      " 0.62928638 0.62866852 0.62928638 0.62310782 0.62835959 0.6218721\n",
      " 0.6261971  0.62743281 0.62866852 0.61569354 0.61383998 0.61322212\n",
      " 0.60704356 0.6085882  0.60951498 0.61167748 0.60426321 0.59499537\n",
      " 0.58943466 0.58294717 0.5832561  0.58263825 0.57800432 0.57985789\n",
      " 0.57398826 0.57707754 0.57676861 0.57985789 0.57862218 0.57676861\n",
      " 0.57151684 0.57398826 0.57615076 0.57985789 0.57707754 0.58047575\n",
      " 0.59190609 0.58510967 0.5776954  0.56626506 0.56317578 0.55205437\n",
      " 0.5424776  0.53846154 0.53722583 0.52610442 0.52301514 0.51652765\n",
      " 0.51590979 0.47876164 0.47398764 0.46866742]\n",
      "3 day output [[0.4629586]]\n",
      "4 day input [0.64689527 0.64257028 0.6416435  0.64071671 0.64071671 0.65245598\n",
      " 0.65523633 0.65987025 0.65987025 0.65122027 0.65091134 0.65956132\n",
      " 0.65338276 0.64473278 0.63855422 0.64689527 0.64782206 0.65739883\n",
      " 0.66944702 0.65369169 0.65647204 0.68149521 0.68489342 0.68612913\n",
      " 0.69107198 0.68273092 0.66759345 0.66573988 0.6570899  0.66944702\n",
      " 0.67222737 0.66944702 0.67438987 0.67562558 0.66543095 0.65770775\n",
      " 0.65400062 0.65307383 0.65400062 0.65461847 0.6570899  0.65647204\n",
      " 0.65678097 0.64565956 0.6373185  0.63206673 0.62743281 0.62928638\n",
      " 0.62866852 0.62928638 0.62310782 0.62835959 0.6218721  0.6261971\n",
      " 0.62743281 0.62866852 0.61569354 0.61383998 0.61322212 0.60704356\n",
      " 0.6085882  0.60951498 0.61167748 0.60426321 0.59499537 0.58943466\n",
      " 0.58294717 0.5832561  0.58263825 0.57800432 0.57985789 0.57398826\n",
      " 0.57707754 0.57676861 0.57985789 0.57862218 0.57676861 0.57151684\n",
      " 0.57398826 0.57615076 0.57985789 0.57707754 0.58047575 0.59190609\n",
      " 0.58510967 0.5776954  0.56626506 0.56317578 0.55205437 0.5424776\n",
      " 0.53846154 0.53722583 0.52610442 0.52301514 0.51652765 0.51590979\n",
      " 0.47876164 0.47398764 0.46866742 0.4629586 ]\n",
      "4 day output [[0.45715642]]\n",
      "5 day input [0.64257028 0.6416435  0.64071671 0.64071671 0.65245598 0.65523633\n",
      " 0.65987025 0.65987025 0.65122027 0.65091134 0.65956132 0.65338276\n",
      " 0.64473278 0.63855422 0.64689527 0.64782206 0.65739883 0.66944702\n",
      " 0.65369169 0.65647204 0.68149521 0.68489342 0.68612913 0.69107198\n",
      " 0.68273092 0.66759345 0.66573988 0.6570899  0.66944702 0.67222737\n",
      " 0.66944702 0.67438987 0.67562558 0.66543095 0.65770775 0.65400062\n",
      " 0.65307383 0.65400062 0.65461847 0.6570899  0.65647204 0.65678097\n",
      " 0.64565956 0.6373185  0.63206673 0.62743281 0.62928638 0.62866852\n",
      " 0.62928638 0.62310782 0.62835959 0.6218721  0.6261971  0.62743281\n",
      " 0.62866852 0.61569354 0.61383998 0.61322212 0.60704356 0.6085882\n",
      " 0.60951498 0.61167748 0.60426321 0.59499537 0.58943466 0.58294717\n",
      " 0.5832561  0.58263825 0.57800432 0.57985789 0.57398826 0.57707754\n",
      " 0.57676861 0.57985789 0.57862218 0.57676861 0.57151684 0.57398826\n",
      " 0.57615076 0.57985789 0.57707754 0.58047575 0.59190609 0.58510967\n",
      " 0.5776954  0.56626506 0.56317578 0.55205437 0.5424776  0.53846154\n",
      " 0.53722583 0.52610442 0.52301514 0.51652765 0.51590979 0.47876164\n",
      " 0.47398764 0.46866742 0.4629586  0.45715642]\n",
      "5 day output [[0.4514556]]\n",
      "6 day input [0.6416435  0.64071671 0.64071671 0.65245598 0.65523633 0.65987025\n",
      " 0.65987025 0.65122027 0.65091134 0.65956132 0.65338276 0.64473278\n",
      " 0.63855422 0.64689527 0.64782206 0.65739883 0.66944702 0.65369169\n",
      " 0.65647204 0.68149521 0.68489342 0.68612913 0.69107198 0.68273092\n",
      " 0.66759345 0.66573988 0.6570899  0.66944702 0.67222737 0.66944702\n",
      " 0.67438987 0.67562558 0.66543095 0.65770775 0.65400062 0.65307383\n",
      " 0.65400062 0.65461847 0.6570899  0.65647204 0.65678097 0.64565956\n",
      " 0.6373185  0.63206673 0.62743281 0.62928638 0.62866852 0.62928638\n",
      " 0.62310782 0.62835959 0.6218721  0.6261971  0.62743281 0.62866852\n",
      " 0.61569354 0.61383998 0.61322212 0.60704356 0.6085882  0.60951498\n",
      " 0.61167748 0.60426321 0.59499537 0.58943466 0.58294717 0.5832561\n",
      " 0.58263825 0.57800432 0.57985789 0.57398826 0.57707754 0.57676861\n",
      " 0.57985789 0.57862218 0.57676861 0.57151684 0.57398826 0.57615076\n",
      " 0.57985789 0.57707754 0.58047575 0.59190609 0.58510967 0.5776954\n",
      " 0.56626506 0.56317578 0.55205437 0.5424776  0.53846154 0.53722583\n",
      " 0.52610442 0.52301514 0.51652765 0.51590979 0.47876164 0.47398764\n",
      " 0.46866742 0.4629586  0.45715642 0.45145559]\n",
      "6 day output [[0.44599003]]\n",
      "7 day input [0.64071671 0.64071671 0.65245598 0.65523633 0.65987025 0.65987025\n",
      " 0.65122027 0.65091134 0.65956132 0.65338276 0.64473278 0.63855422\n",
      " 0.64689527 0.64782206 0.65739883 0.66944702 0.65369169 0.65647204\n",
      " 0.68149521 0.68489342 0.68612913 0.69107198 0.68273092 0.66759345\n",
      " 0.66573988 0.6570899  0.66944702 0.67222737 0.66944702 0.67438987\n",
      " 0.67562558 0.66543095 0.65770775 0.65400062 0.65307383 0.65400062\n",
      " 0.65461847 0.6570899  0.65647204 0.65678097 0.64565956 0.6373185\n",
      " 0.63206673 0.62743281 0.62928638 0.62866852 0.62928638 0.62310782\n",
      " 0.62835959 0.6218721  0.6261971  0.62743281 0.62866852 0.61569354\n",
      " 0.61383998 0.61322212 0.60704356 0.6085882  0.60951498 0.61167748\n",
      " 0.60426321 0.59499537 0.58943466 0.58294717 0.5832561  0.58263825\n",
      " 0.57800432 0.57985789 0.57398826 0.57707754 0.57676861 0.57985789\n",
      " 0.57862218 0.57676861 0.57151684 0.57398826 0.57615076 0.57985789\n",
      " 0.57707754 0.58047575 0.59190609 0.58510967 0.5776954  0.56626506\n",
      " 0.56317578 0.55205437 0.5424776  0.53846154 0.53722583 0.52610442\n",
      " 0.52301514 0.51652765 0.51590979 0.47876164 0.47398764 0.46866742\n",
      " 0.4629586  0.45715642 0.45145559 0.44599003]\n",
      "7 day output [[0.44084126]]\n",
      "8 day input [0.64071671 0.65245598 0.65523633 0.65987025 0.65987025 0.65122027\n",
      " 0.65091134 0.65956132 0.65338276 0.64473278 0.63855422 0.64689527\n",
      " 0.64782206 0.65739883 0.66944702 0.65369169 0.65647204 0.68149521\n",
      " 0.68489342 0.68612913 0.69107198 0.68273092 0.66759345 0.66573988\n",
      " 0.6570899  0.66944702 0.67222737 0.66944702 0.67438987 0.67562558\n",
      " 0.66543095 0.65770775 0.65400062 0.65307383 0.65400062 0.65461847\n",
      " 0.6570899  0.65647204 0.65678097 0.64565956 0.6373185  0.63206673\n",
      " 0.62743281 0.62928638 0.62866852 0.62928638 0.62310782 0.62835959\n",
      " 0.6218721  0.6261971  0.62743281 0.62866852 0.61569354 0.61383998\n",
      " 0.61322212 0.60704356 0.6085882  0.60951498 0.61167748 0.60426321\n",
      " 0.59499537 0.58943466 0.58294717 0.5832561  0.58263825 0.57800432\n",
      " 0.57985789 0.57398826 0.57707754 0.57676861 0.57985789 0.57862218\n",
      " 0.57676861 0.57151684 0.57398826 0.57615076 0.57985789 0.57707754\n",
      " 0.58047575 0.59190609 0.58510967 0.5776954  0.56626506 0.56317578\n",
      " 0.55205437 0.5424776  0.53846154 0.53722583 0.52610442 0.52301514\n",
      " 0.51652765 0.51590979 0.47876164 0.47398764 0.46866742 0.4629586\n",
      " 0.45715642 0.45145559 0.44599003 0.44084126]\n",
      "8 day output [[0.43603593]]\n",
      "9 day input [0.65245598 0.65523633 0.65987025 0.65987025 0.65122027 0.65091134\n",
      " 0.65956132 0.65338276 0.64473278 0.63855422 0.64689527 0.64782206\n",
      " 0.65739883 0.66944702 0.65369169 0.65647204 0.68149521 0.68489342\n",
      " 0.68612913 0.69107198 0.68273092 0.66759345 0.66573988 0.6570899\n",
      " 0.66944702 0.67222737 0.66944702 0.67438987 0.67562558 0.66543095\n",
      " 0.65770775 0.65400062 0.65307383 0.65400062 0.65461847 0.6570899\n",
      " 0.65647204 0.65678097 0.64565956 0.6373185  0.63206673 0.62743281\n",
      " 0.62928638 0.62866852 0.62928638 0.62310782 0.62835959 0.6218721\n",
      " 0.6261971  0.62743281 0.62866852 0.61569354 0.61383998 0.61322212\n",
      " 0.60704356 0.6085882  0.60951498 0.61167748 0.60426321 0.59499537\n",
      " 0.58943466 0.58294717 0.5832561  0.58263825 0.57800432 0.57985789\n",
      " 0.57398826 0.57707754 0.57676861 0.57985789 0.57862218 0.57676861\n",
      " 0.57151684 0.57398826 0.57615076 0.57985789 0.57707754 0.58047575\n",
      " 0.59190609 0.58510967 0.5776954  0.56626506 0.56317578 0.55205437\n",
      " 0.5424776  0.53846154 0.53722583 0.52610442 0.52301514 0.51652765\n",
      " 0.51590979 0.47876164 0.47398764 0.46866742 0.4629586  0.45715642\n",
      " 0.45145559 0.44599003 0.44084126 0.43603593]\n",
      "9 day output [[0.4315442]]\n",
      "10 day input [0.65523633 0.65987025 0.65987025 0.65122027 0.65091134 0.65956132\n",
      " 0.65338276 0.64473278 0.63855422 0.64689527 0.64782206 0.65739883\n",
      " 0.66944702 0.65369169 0.65647204 0.68149521 0.68489342 0.68612913\n",
      " 0.69107198 0.68273092 0.66759345 0.66573988 0.6570899  0.66944702\n",
      " 0.67222737 0.66944702 0.67438987 0.67562558 0.66543095 0.65770775\n",
      " 0.65400062 0.65307383 0.65400062 0.65461847 0.6570899  0.65647204\n",
      " 0.65678097 0.64565956 0.6373185  0.63206673 0.62743281 0.62928638\n",
      " 0.62866852 0.62928638 0.62310782 0.62835959 0.6218721  0.6261971\n",
      " 0.62743281 0.62866852 0.61569354 0.61383998 0.61322212 0.60704356\n",
      " 0.6085882  0.60951498 0.61167748 0.60426321 0.59499537 0.58943466\n",
      " 0.58294717 0.5832561  0.58263825 0.57800432 0.57985789 0.57398826\n",
      " 0.57707754 0.57676861 0.57985789 0.57862218 0.57676861 0.57151684\n",
      " 0.57398826 0.57615076 0.57985789 0.57707754 0.58047575 0.59190609\n",
      " 0.58510967 0.5776954  0.56626506 0.56317578 0.55205437 0.5424776\n",
      " 0.53846154 0.53722583 0.52610442 0.52301514 0.51652765 0.51590979\n",
      " 0.47876164 0.47398764 0.46866742 0.4629586  0.45715642 0.45145559\n",
      " 0.44599003 0.44084126 0.43603593 0.43154421]\n",
      "10 day output [[0.42737216]]\n",
      "11 day input [0.65987025 0.65987025 0.65122027 0.65091134 0.65956132 0.65338276\n",
      " 0.64473278 0.63855422 0.64689527 0.64782206 0.65739883 0.66944702\n",
      " 0.65369169 0.65647204 0.68149521 0.68489342 0.68612913 0.69107198\n",
      " 0.68273092 0.66759345 0.66573988 0.6570899  0.66944702 0.67222737\n",
      " 0.66944702 0.67438987 0.67562558 0.66543095 0.65770775 0.65400062\n",
      " 0.65307383 0.65400062 0.65461847 0.6570899  0.65647204 0.65678097\n",
      " 0.64565956 0.6373185  0.63206673 0.62743281 0.62928638 0.62866852\n",
      " 0.62928638 0.62310782 0.62835959 0.6218721  0.6261971  0.62743281\n",
      " 0.62866852 0.61569354 0.61383998 0.61322212 0.60704356 0.6085882\n",
      " 0.60951498 0.61167748 0.60426321 0.59499537 0.58943466 0.58294717\n",
      " 0.5832561  0.58263825 0.57800432 0.57985789 0.57398826 0.57707754\n",
      " 0.57676861 0.57985789 0.57862218 0.57676861 0.57151684 0.57398826\n",
      " 0.57615076 0.57985789 0.57707754 0.58047575 0.59190609 0.58510967\n",
      " 0.5776954  0.56626506 0.56317578 0.55205437 0.5424776  0.53846154\n",
      " 0.53722583 0.52610442 0.52301514 0.51652765 0.51590979 0.47876164\n",
      " 0.47398764 0.46866742 0.4629586  0.45715642 0.45145559 0.44599003\n",
      " 0.44084126 0.43603593 0.43154421 0.42737216]\n",
      "11 day output [[0.42349]]\n",
      "12 day input [0.65987025 0.65122027 0.65091134 0.65956132 0.65338276 0.64473278\n",
      " 0.63855422 0.64689527 0.64782206 0.65739883 0.66944702 0.65369169\n",
      " 0.65647204 0.68149521 0.68489342 0.68612913 0.69107198 0.68273092\n",
      " 0.66759345 0.66573988 0.6570899  0.66944702 0.67222737 0.66944702\n",
      " 0.67438987 0.67562558 0.66543095 0.65770775 0.65400062 0.65307383\n",
      " 0.65400062 0.65461847 0.6570899  0.65647204 0.65678097 0.64565956\n",
      " 0.6373185  0.63206673 0.62743281 0.62928638 0.62866852 0.62928638\n",
      " 0.62310782 0.62835959 0.6218721  0.6261971  0.62743281 0.62866852\n",
      " 0.61569354 0.61383998 0.61322212 0.60704356 0.6085882  0.60951498\n",
      " 0.61167748 0.60426321 0.59499537 0.58943466 0.58294717 0.5832561\n",
      " 0.58263825 0.57800432 0.57985789 0.57398826 0.57707754 0.57676861\n",
      " 0.57985789 0.57862218 0.57676861 0.57151684 0.57398826 0.57615076\n",
      " 0.57985789 0.57707754 0.58047575 0.59190609 0.58510967 0.5776954\n",
      " 0.56626506 0.56317578 0.55205437 0.5424776  0.53846154 0.53722583\n",
      " 0.52610442 0.52301514 0.51652765 0.51590979 0.47876164 0.47398764\n",
      " 0.46866742 0.4629586  0.45715642 0.45145559 0.44599003 0.44084126\n",
      " 0.43603593 0.43154421 0.42737216 0.42348999]\n",
      "12 day output [[0.41988453]]\n",
      "13 day input [0.65122027 0.65091134 0.65956132 0.65338276 0.64473278 0.63855422\n",
      " 0.64689527 0.64782206 0.65739883 0.66944702 0.65369169 0.65647204\n",
      " 0.68149521 0.68489342 0.68612913 0.69107198 0.68273092 0.66759345\n",
      " 0.66573988 0.6570899  0.66944702 0.67222737 0.66944702 0.67438987\n",
      " 0.67562558 0.66543095 0.65770775 0.65400062 0.65307383 0.65400062\n",
      " 0.65461847 0.6570899  0.65647204 0.65678097 0.64565956 0.6373185\n",
      " 0.63206673 0.62743281 0.62928638 0.62866852 0.62928638 0.62310782\n",
      " 0.62835959 0.6218721  0.6261971  0.62743281 0.62866852 0.61569354\n",
      " 0.61383998 0.61322212 0.60704356 0.6085882  0.60951498 0.61167748\n",
      " 0.60426321 0.59499537 0.58943466 0.58294717 0.5832561  0.58263825\n",
      " 0.57800432 0.57985789 0.57398826 0.57707754 0.57676861 0.57985789\n",
      " 0.57862218 0.57676861 0.57151684 0.57398826 0.57615076 0.57985789\n",
      " 0.57707754 0.58047575 0.59190609 0.58510967 0.5776954  0.56626506\n",
      " 0.56317578 0.55205437 0.5424776  0.53846154 0.53722583 0.52610442\n",
      " 0.52301514 0.51652765 0.51590979 0.47876164 0.47398764 0.46866742\n",
      " 0.4629586  0.45715642 0.45145559 0.44599003 0.44084126 0.43603593\n",
      " 0.43154421 0.42737216 0.42348999 0.41988453]\n",
      "13 day output [[0.416555]]\n",
      "14 day input [0.65091134 0.65956132 0.65338276 0.64473278 0.63855422 0.64689527\n",
      " 0.64782206 0.65739883 0.66944702 0.65369169 0.65647204 0.68149521\n",
      " 0.68489342 0.68612913 0.69107198 0.68273092 0.66759345 0.66573988\n",
      " 0.6570899  0.66944702 0.67222737 0.66944702 0.67438987 0.67562558\n",
      " 0.66543095 0.65770775 0.65400062 0.65307383 0.65400062 0.65461847\n",
      " 0.6570899  0.65647204 0.65678097 0.64565956 0.6373185  0.63206673\n",
      " 0.62743281 0.62928638 0.62866852 0.62928638 0.62310782 0.62835959\n",
      " 0.6218721  0.6261971  0.62743281 0.62866852 0.61569354 0.61383998\n",
      " 0.61322212 0.60704356 0.6085882  0.60951498 0.61167748 0.60426321\n",
      " 0.59499537 0.58943466 0.58294717 0.5832561  0.58263825 0.57800432\n",
      " 0.57985789 0.57398826 0.57707754 0.57676861 0.57985789 0.57862218\n",
      " 0.57676861 0.57151684 0.57398826 0.57615076 0.57985789 0.57707754\n",
      " 0.58047575 0.59190609 0.58510967 0.5776954  0.56626506 0.56317578\n",
      " 0.55205437 0.5424776  0.53846154 0.53722583 0.52610442 0.52301514\n",
      " 0.51652765 0.51590979 0.47876164 0.47398764 0.46866742 0.4629586\n",
      " 0.45715642 0.45145559 0.44599003 0.44084126 0.43603593 0.43154421\n",
      " 0.42737216 0.42348999 0.41988453 0.41655499]\n",
      "14 day output [[0.4134604]]\n",
      "15 day input [0.65956132 0.65338276 0.64473278 0.63855422 0.64689527 0.64782206\n",
      " 0.65739883 0.66944702 0.65369169 0.65647204 0.68149521 0.68489342\n",
      " 0.68612913 0.69107198 0.68273092 0.66759345 0.66573988 0.6570899\n",
      " 0.66944702 0.67222737 0.66944702 0.67438987 0.67562558 0.66543095\n",
      " 0.65770775 0.65400062 0.65307383 0.65400062 0.65461847 0.6570899\n",
      " 0.65647204 0.65678097 0.64565956 0.6373185  0.63206673 0.62743281\n",
      " 0.62928638 0.62866852 0.62928638 0.62310782 0.62835959 0.6218721\n",
      " 0.6261971  0.62743281 0.62866852 0.61569354 0.61383998 0.61322212\n",
      " 0.60704356 0.6085882  0.60951498 0.61167748 0.60426321 0.59499537\n",
      " 0.58943466 0.58294717 0.5832561  0.58263825 0.57800432 0.57985789\n",
      " 0.57398826 0.57707754 0.57676861 0.57985789 0.57862218 0.57676861\n",
      " 0.57151684 0.57398826 0.57615076 0.57985789 0.57707754 0.58047575\n",
      " 0.59190609 0.58510967 0.5776954  0.56626506 0.56317578 0.55205437\n",
      " 0.5424776  0.53846154 0.53722583 0.52610442 0.52301514 0.51652765\n",
      " 0.51590979 0.47876164 0.47398764 0.46866742 0.4629586  0.45715642\n",
      " 0.45145559 0.44599003 0.44084126 0.43603593 0.43154421 0.42737216\n",
      " 0.42348999 0.41988453 0.41655499 0.4134604 ]\n",
      "15 day output [[0.4105603]]\n",
      "16 day input [0.65338276 0.64473278 0.63855422 0.64689527 0.64782206 0.65739883\n",
      " 0.66944702 0.65369169 0.65647204 0.68149521 0.68489342 0.68612913\n",
      " 0.69107198 0.68273092 0.66759345 0.66573988 0.6570899  0.66944702\n",
      " 0.67222737 0.66944702 0.67438987 0.67562558 0.66543095 0.65770775\n",
      " 0.65400062 0.65307383 0.65400062 0.65461847 0.6570899  0.65647204\n",
      " 0.65678097 0.64565956 0.6373185  0.63206673 0.62743281 0.62928638\n",
      " 0.62866852 0.62928638 0.62310782 0.62835959 0.6218721  0.6261971\n",
      " 0.62743281 0.62866852 0.61569354 0.61383998 0.61322212 0.60704356\n",
      " 0.6085882  0.60951498 0.61167748 0.60426321 0.59499537 0.58943466\n",
      " 0.58294717 0.5832561  0.58263825 0.57800432 0.57985789 0.57398826\n",
      " 0.57707754 0.57676861 0.57985789 0.57862218 0.57676861 0.57151684\n",
      " 0.57398826 0.57615076 0.57985789 0.57707754 0.58047575 0.59190609\n",
      " 0.58510967 0.5776954  0.56626506 0.56317578 0.55205437 0.5424776\n",
      " 0.53846154 0.53722583 0.52610442 0.52301514 0.51652765 0.51590979\n",
      " 0.47876164 0.47398764 0.46866742 0.4629586  0.45715642 0.45145559\n",
      " 0.44599003 0.44084126 0.43603593 0.43154421 0.42737216 0.42348999\n",
      " 0.41988453 0.41655499 0.4134604  0.41056031]\n",
      "16 day output [[0.40786287]]\n",
      "17 day input [0.64473278 0.63855422 0.64689527 0.64782206 0.65739883 0.66944702\n",
      " 0.65369169 0.65647204 0.68149521 0.68489342 0.68612913 0.69107198\n",
      " 0.68273092 0.66759345 0.66573988 0.6570899  0.66944702 0.67222737\n",
      " 0.66944702 0.67438987 0.67562558 0.66543095 0.65770775 0.65400062\n",
      " 0.65307383 0.65400062 0.65461847 0.6570899  0.65647204 0.65678097\n",
      " 0.64565956 0.6373185  0.63206673 0.62743281 0.62928638 0.62866852\n",
      " 0.62928638 0.62310782 0.62835959 0.6218721  0.6261971  0.62743281\n",
      " 0.62866852 0.61569354 0.61383998 0.61322212 0.60704356 0.6085882\n",
      " 0.60951498 0.61167748 0.60426321 0.59499537 0.58943466 0.58294717\n",
      " 0.5832561  0.58263825 0.57800432 0.57985789 0.57398826 0.57707754\n",
      " 0.57676861 0.57985789 0.57862218 0.57676861 0.57151684 0.57398826\n",
      " 0.57615076 0.57985789 0.57707754 0.58047575 0.59190609 0.58510967\n",
      " 0.5776954  0.56626506 0.56317578 0.55205437 0.5424776  0.53846154\n",
      " 0.53722583 0.52610442 0.52301514 0.51652765 0.51590979 0.47876164\n",
      " 0.47398764 0.46866742 0.4629586  0.45715642 0.45145559 0.44599003\n",
      " 0.44084126 0.43603593 0.43154421 0.42737216 0.42348999 0.41988453\n",
      " 0.41655499 0.4134604  0.41056031 0.40786287]\n",
      "17 day output [[0.40536094]]\n",
      "18 day input [0.63855422 0.64689527 0.64782206 0.65739883 0.66944702 0.65369169\n",
      " 0.65647204 0.68149521 0.68489342 0.68612913 0.69107198 0.68273092\n",
      " 0.66759345 0.66573988 0.6570899  0.66944702 0.67222737 0.66944702\n",
      " 0.67438987 0.67562558 0.66543095 0.65770775 0.65400062 0.65307383\n",
      " 0.65400062 0.65461847 0.6570899  0.65647204 0.65678097 0.64565956\n",
      " 0.6373185  0.63206673 0.62743281 0.62928638 0.62866852 0.62928638\n",
      " 0.62310782 0.62835959 0.6218721  0.6261971  0.62743281 0.62866852\n",
      " 0.61569354 0.61383998 0.61322212 0.60704356 0.6085882  0.60951498\n",
      " 0.61167748 0.60426321 0.59499537 0.58943466 0.58294717 0.5832561\n",
      " 0.58263825 0.57800432 0.57985789 0.57398826 0.57707754 0.57676861\n",
      " 0.57985789 0.57862218 0.57676861 0.57151684 0.57398826 0.57615076\n",
      " 0.57985789 0.57707754 0.58047575 0.59190609 0.58510967 0.5776954\n",
      " 0.56626506 0.56317578 0.55205437 0.5424776  0.53846154 0.53722583\n",
      " 0.52610442 0.52301514 0.51652765 0.51590979 0.47876164 0.47398764\n",
      " 0.46866742 0.4629586  0.45715642 0.45145559 0.44599003 0.44084126\n",
      " 0.43603593 0.43154421 0.42737216 0.42348999 0.41988453 0.41655499\n",
      " 0.4134604  0.41056031 0.40786287 0.40536094]\n",
      "18 day output [[0.40303668]]\n",
      "19 day input [0.64689527 0.64782206 0.65739883 0.66944702 0.65369169 0.65647204\n",
      " 0.68149521 0.68489342 0.68612913 0.69107198 0.68273092 0.66759345\n",
      " 0.66573988 0.6570899  0.66944702 0.67222737 0.66944702 0.67438987\n",
      " 0.67562558 0.66543095 0.65770775 0.65400062 0.65307383 0.65400062\n",
      " 0.65461847 0.6570899  0.65647204 0.65678097 0.64565956 0.6373185\n",
      " 0.63206673 0.62743281 0.62928638 0.62866852 0.62928638 0.62310782\n",
      " 0.62835959 0.6218721  0.6261971  0.62743281 0.62866852 0.61569354\n",
      " 0.61383998 0.61322212 0.60704356 0.6085882  0.60951498 0.61167748\n",
      " 0.60426321 0.59499537 0.58943466 0.58294717 0.5832561  0.58263825\n",
      " 0.57800432 0.57985789 0.57398826 0.57707754 0.57676861 0.57985789\n",
      " 0.57862218 0.57676861 0.57151684 0.57398826 0.57615076 0.57985789\n",
      " 0.57707754 0.58047575 0.59190609 0.58510967 0.5776954  0.56626506\n",
      " 0.56317578 0.55205437 0.5424776  0.53846154 0.53722583 0.52610442\n",
      " 0.52301514 0.51652765 0.51590979 0.47876164 0.47398764 0.46866742\n",
      " 0.4629586  0.45715642 0.45145559 0.44599003 0.44084126 0.43603593\n",
      " 0.43154421 0.42737216 0.42348999 0.41988453 0.41655499 0.4134604\n",
      " 0.41056031 0.40786287 0.40536094 0.40303668]\n",
      "19 day output [[0.40085617]]\n",
      "20 day input [0.64782206 0.65739883 0.66944702 0.65369169 0.65647204 0.68149521\n",
      " 0.68489342 0.68612913 0.69107198 0.68273092 0.66759345 0.66573988\n",
      " 0.6570899  0.66944702 0.67222737 0.66944702 0.67438987 0.67562558\n",
      " 0.66543095 0.65770775 0.65400062 0.65307383 0.65400062 0.65461847\n",
      " 0.6570899  0.65647204 0.65678097 0.64565956 0.6373185  0.63206673\n",
      " 0.62743281 0.62928638 0.62866852 0.62928638 0.62310782 0.62835959\n",
      " 0.6218721  0.6261971  0.62743281 0.62866852 0.61569354 0.61383998\n",
      " 0.61322212 0.60704356 0.6085882  0.60951498 0.61167748 0.60426321\n",
      " 0.59499537 0.58943466 0.58294717 0.5832561  0.58263825 0.57800432\n",
      " 0.57985789 0.57398826 0.57707754 0.57676861 0.57985789 0.57862218\n",
      " 0.57676861 0.57151684 0.57398826 0.57615076 0.57985789 0.57707754\n",
      " 0.58047575 0.59190609 0.58510967 0.5776954  0.56626506 0.56317578\n",
      " 0.55205437 0.5424776  0.53846154 0.53722583 0.52610442 0.52301514\n",
      " 0.51652765 0.51590979 0.47876164 0.47398764 0.46866742 0.4629586\n",
      " 0.45715642 0.45145559 0.44599003 0.44084126 0.43603593 0.43154421\n",
      " 0.42737216 0.42348999 0.41988453 0.41655499 0.4134604  0.41056031\n",
      " 0.40786287 0.40536094 0.40303668 0.40085617]\n",
      "20 day output [[0.3988202]]\n",
      "21 day input [0.65739883 0.66944702 0.65369169 0.65647204 0.68149521 0.68489342\n",
      " 0.68612913 0.69107198 0.68273092 0.66759345 0.66573988 0.6570899\n",
      " 0.66944702 0.67222737 0.66944702 0.67438987 0.67562558 0.66543095\n",
      " 0.65770775 0.65400062 0.65307383 0.65400062 0.65461847 0.6570899\n",
      " 0.65647204 0.65678097 0.64565956 0.6373185  0.63206673 0.62743281\n",
      " 0.62928638 0.62866852 0.62928638 0.62310782 0.62835959 0.6218721\n",
      " 0.6261971  0.62743281 0.62866852 0.61569354 0.61383998 0.61322212\n",
      " 0.60704356 0.6085882  0.60951498 0.61167748 0.60426321 0.59499537\n",
      " 0.58943466 0.58294717 0.5832561  0.58263825 0.57800432 0.57985789\n",
      " 0.57398826 0.57707754 0.57676861 0.57985789 0.57862218 0.57676861\n",
      " 0.57151684 0.57398826 0.57615076 0.57985789 0.57707754 0.58047575\n",
      " 0.59190609 0.58510967 0.5776954  0.56626506 0.56317578 0.55205437\n",
      " 0.5424776  0.53846154 0.53722583 0.52610442 0.52301514 0.51652765\n",
      " 0.51590979 0.47876164 0.47398764 0.46866742 0.4629586  0.45715642\n",
      " 0.45145559 0.44599003 0.44084126 0.43603593 0.43154421 0.42737216\n",
      " 0.42348999 0.41988453 0.41655499 0.4134604  0.41056031 0.40786287\n",
      " 0.40536094 0.40303668 0.40085617 0.39882019]\n",
      "21 day output [[0.39690313]]\n",
      "22 day input [0.66944702 0.65369169 0.65647204 0.68149521 0.68489342 0.68612913\n",
      " 0.69107198 0.68273092 0.66759345 0.66573988 0.6570899  0.66944702\n",
      " 0.67222737 0.66944702 0.67438987 0.67562558 0.66543095 0.65770775\n",
      " 0.65400062 0.65307383 0.65400062 0.65461847 0.6570899  0.65647204\n",
      " 0.65678097 0.64565956 0.6373185  0.63206673 0.62743281 0.62928638\n",
      " 0.62866852 0.62928638 0.62310782 0.62835959 0.6218721  0.6261971\n",
      " 0.62743281 0.62866852 0.61569354 0.61383998 0.61322212 0.60704356\n",
      " 0.6085882  0.60951498 0.61167748 0.60426321 0.59499537 0.58943466\n",
      " 0.58294717 0.5832561  0.58263825 0.57800432 0.57985789 0.57398826\n",
      " 0.57707754 0.57676861 0.57985789 0.57862218 0.57676861 0.57151684\n",
      " 0.57398826 0.57615076 0.57985789 0.57707754 0.58047575 0.59190609\n",
      " 0.58510967 0.5776954  0.56626506 0.56317578 0.55205437 0.5424776\n",
      " 0.53846154 0.53722583 0.52610442 0.52301514 0.51652765 0.51590979\n",
      " 0.47876164 0.47398764 0.46866742 0.4629586  0.45715642 0.45145559\n",
      " 0.44599003 0.44084126 0.43603593 0.43154421 0.42737216 0.42348999\n",
      " 0.41988453 0.41655499 0.4134604  0.41056031 0.40786287 0.40536094\n",
      " 0.40303668 0.40085617 0.39882019 0.39690313]\n",
      "22 day output [[0.395093]]\n",
      "23 day input [0.65369169 0.65647204 0.68149521 0.68489342 0.68612913 0.69107198\n",
      " 0.68273092 0.66759345 0.66573988 0.6570899  0.66944702 0.67222737\n",
      " 0.66944702 0.67438987 0.67562558 0.66543095 0.65770775 0.65400062\n",
      " 0.65307383 0.65400062 0.65461847 0.6570899  0.65647204 0.65678097\n",
      " 0.64565956 0.6373185  0.63206673 0.62743281 0.62928638 0.62866852\n",
      " 0.62928638 0.62310782 0.62835959 0.6218721  0.6261971  0.62743281\n",
      " 0.62866852 0.61569354 0.61383998 0.61322212 0.60704356 0.6085882\n",
      " 0.60951498 0.61167748 0.60426321 0.59499537 0.58943466 0.58294717\n",
      " 0.5832561  0.58263825 0.57800432 0.57985789 0.57398826 0.57707754\n",
      " 0.57676861 0.57985789 0.57862218 0.57676861 0.57151684 0.57398826\n",
      " 0.57615076 0.57985789 0.57707754 0.58047575 0.59190609 0.58510967\n",
      " 0.5776954  0.56626506 0.56317578 0.55205437 0.5424776  0.53846154\n",
      " 0.53722583 0.52610442 0.52301514 0.51652765 0.51590979 0.47876164\n",
      " 0.47398764 0.46866742 0.4629586  0.45715642 0.45145559 0.44599003\n",
      " 0.44084126 0.43603593 0.43154421 0.42737216 0.42348999 0.41988453\n",
      " 0.41655499 0.4134604  0.41056031 0.40786287 0.40536094 0.40303668\n",
      " 0.40085617 0.39882019 0.39690313 0.39509299]\n",
      "23 day output [[0.39341515]]\n",
      "24 day input [0.65647204 0.68149521 0.68489342 0.68612913 0.69107198 0.68273092\n",
      " 0.66759345 0.66573988 0.6570899  0.66944702 0.67222737 0.66944702\n",
      " 0.67438987 0.67562558 0.66543095 0.65770775 0.65400062 0.65307383\n",
      " 0.65400062 0.65461847 0.6570899  0.65647204 0.65678097 0.64565956\n",
      " 0.6373185  0.63206673 0.62743281 0.62928638 0.62866852 0.62928638\n",
      " 0.62310782 0.62835959 0.6218721  0.6261971  0.62743281 0.62866852\n",
      " 0.61569354 0.61383998 0.61322212 0.60704356 0.6085882  0.60951498\n",
      " 0.61167748 0.60426321 0.59499537 0.58943466 0.58294717 0.5832561\n",
      " 0.58263825 0.57800432 0.57985789 0.57398826 0.57707754 0.57676861\n",
      " 0.57985789 0.57862218 0.57676861 0.57151684 0.57398826 0.57615076\n",
      " 0.57985789 0.57707754 0.58047575 0.59190609 0.58510967 0.5776954\n",
      " 0.56626506 0.56317578 0.55205437 0.5424776  0.53846154 0.53722583\n",
      " 0.52610442 0.52301514 0.51652765 0.51590979 0.47876164 0.47398764\n",
      " 0.46866742 0.4629586  0.45715642 0.45145559 0.44599003 0.44084126\n",
      " 0.43603593 0.43154421 0.42737216 0.42348999 0.41988453 0.41655499\n",
      " 0.4134604  0.41056031 0.40786287 0.40536094 0.40303668 0.40085617\n",
      " 0.39882019 0.39690313 0.39509299 0.39341515]\n",
      "24 day output [[0.39184335]]\n",
      "25 day input [0.68149521 0.68489342 0.68612913 0.69107198 0.68273092 0.66759345\n",
      " 0.66573988 0.6570899  0.66944702 0.67222737 0.66944702 0.67438987\n",
      " 0.67562558 0.66543095 0.65770775 0.65400062 0.65307383 0.65400062\n",
      " 0.65461847 0.6570899  0.65647204 0.65678097 0.64565956 0.6373185\n",
      " 0.63206673 0.62743281 0.62928638 0.62866852 0.62928638 0.62310782\n",
      " 0.62835959 0.6218721  0.6261971  0.62743281 0.62866852 0.61569354\n",
      " 0.61383998 0.61322212 0.60704356 0.6085882  0.60951498 0.61167748\n",
      " 0.60426321 0.59499537 0.58943466 0.58294717 0.5832561  0.58263825\n",
      " 0.57800432 0.57985789 0.57398826 0.57707754 0.57676861 0.57985789\n",
      " 0.57862218 0.57676861 0.57151684 0.57398826 0.57615076 0.57985789\n",
      " 0.57707754 0.58047575 0.59190609 0.58510967 0.5776954  0.56626506\n",
      " 0.56317578 0.55205437 0.5424776  0.53846154 0.53722583 0.52610442\n",
      " 0.52301514 0.51652765 0.51590979 0.47876164 0.47398764 0.46866742\n",
      " 0.4629586  0.45715642 0.45145559 0.44599003 0.44084126 0.43603593\n",
      " 0.43154421 0.42737216 0.42348999 0.41988453 0.41655499 0.4134604\n",
      " 0.41056031 0.40786287 0.40536094 0.40303668 0.40085617 0.39882019\n",
      " 0.39690313 0.39509299 0.39341515 0.39184335]\n",
      "25 day output [[0.39034966]]\n",
      "26 day input [0.68489342 0.68612913 0.69107198 0.68273092 0.66759345 0.66573988\n",
      " 0.6570899  0.66944702 0.67222737 0.66944702 0.67438987 0.67562558\n",
      " 0.66543095 0.65770775 0.65400062 0.65307383 0.65400062 0.65461847\n",
      " 0.6570899  0.65647204 0.65678097 0.64565956 0.6373185  0.63206673\n",
      " 0.62743281 0.62928638 0.62866852 0.62928638 0.62310782 0.62835959\n",
      " 0.6218721  0.6261971  0.62743281 0.62866852 0.61569354 0.61383998\n",
      " 0.61322212 0.60704356 0.6085882  0.60951498 0.61167748 0.60426321\n",
      " 0.59499537 0.58943466 0.58294717 0.5832561  0.58263825 0.57800432\n",
      " 0.57985789 0.57398826 0.57707754 0.57676861 0.57985789 0.57862218\n",
      " 0.57676861 0.57151684 0.57398826 0.57615076 0.57985789 0.57707754\n",
      " 0.58047575 0.59190609 0.58510967 0.5776954  0.56626506 0.56317578\n",
      " 0.55205437 0.5424776  0.53846154 0.53722583 0.52610442 0.52301514\n",
      " 0.51652765 0.51590979 0.47876164 0.47398764 0.46866742 0.4629586\n",
      " 0.45715642 0.45145559 0.44599003 0.44084126 0.43603593 0.43154421\n",
      " 0.42737216 0.42348999 0.41988453 0.41655499 0.4134604  0.41056031\n",
      " 0.40786287 0.40536094 0.40303668 0.40085617 0.39882019 0.39690313\n",
      " 0.39509299 0.39341515 0.39184335 0.39034966]\n",
      "26 day output [[0.388944]]\n",
      "27 day input [0.68612913 0.69107198 0.68273092 0.66759345 0.66573988 0.6570899\n",
      " 0.66944702 0.67222737 0.66944702 0.67438987 0.67562558 0.66543095\n",
      " 0.65770775 0.65400062 0.65307383 0.65400062 0.65461847 0.6570899\n",
      " 0.65647204 0.65678097 0.64565956 0.6373185  0.63206673 0.62743281\n",
      " 0.62928638 0.62866852 0.62928638 0.62310782 0.62835959 0.6218721\n",
      " 0.6261971  0.62743281 0.62866852 0.61569354 0.61383998 0.61322212\n",
      " 0.60704356 0.6085882  0.60951498 0.61167748 0.60426321 0.59499537\n",
      " 0.58943466 0.58294717 0.5832561  0.58263825 0.57800432 0.57985789\n",
      " 0.57398826 0.57707754 0.57676861 0.57985789 0.57862218 0.57676861\n",
      " 0.57151684 0.57398826 0.57615076 0.57985789 0.57707754 0.58047575\n",
      " 0.59190609 0.58510967 0.5776954  0.56626506 0.56317578 0.55205437\n",
      " 0.5424776  0.53846154 0.53722583 0.52610442 0.52301514 0.51652765\n",
      " 0.51590979 0.47876164 0.47398764 0.46866742 0.4629586  0.45715642\n",
      " 0.45145559 0.44599003 0.44084126 0.43603593 0.43154421 0.42737216\n",
      " 0.42348999 0.41988453 0.41655499 0.4134604  0.41056031 0.40786287\n",
      " 0.40536094 0.40303668 0.40085617 0.39882019 0.39690313 0.39509299\n",
      " 0.39341515 0.39184335 0.39034966 0.388944  ]\n",
      "27 day output [[0.38762093]]\n",
      "28 day input [0.69107198 0.68273092 0.66759345 0.66573988 0.6570899  0.66944702\n",
      " 0.67222737 0.66944702 0.67438987 0.67562558 0.66543095 0.65770775\n",
      " 0.65400062 0.65307383 0.65400062 0.65461847 0.6570899  0.65647204\n",
      " 0.65678097 0.64565956 0.6373185  0.63206673 0.62743281 0.62928638\n",
      " 0.62866852 0.62928638 0.62310782 0.62835959 0.6218721  0.6261971\n",
      " 0.62743281 0.62866852 0.61569354 0.61383998 0.61322212 0.60704356\n",
      " 0.6085882  0.60951498 0.61167748 0.60426321 0.59499537 0.58943466\n",
      " 0.58294717 0.5832561  0.58263825 0.57800432 0.57985789 0.57398826\n",
      " 0.57707754 0.57676861 0.57985789 0.57862218 0.57676861 0.57151684\n",
      " 0.57398826 0.57615076 0.57985789 0.57707754 0.58047575 0.59190609\n",
      " 0.58510967 0.5776954  0.56626506 0.56317578 0.55205437 0.5424776\n",
      " 0.53846154 0.53722583 0.52610442 0.52301514 0.51652765 0.51590979\n",
      " 0.47876164 0.47398764 0.46866742 0.4629586  0.45715642 0.45145559\n",
      " 0.44599003 0.44084126 0.43603593 0.43154421 0.42737216 0.42348999\n",
      " 0.41988453 0.41655499 0.4134604  0.41056031 0.40786287 0.40536094\n",
      " 0.40303668 0.40085617 0.39882019 0.39690313 0.39509299 0.39341515\n",
      " 0.39184335 0.39034966 0.388944   0.38762093]\n",
      "28 day output [[0.38637003]]\n",
      "29 day input [0.68273092 0.66759345 0.66573988 0.6570899  0.66944702 0.67222737\n",
      " 0.66944702 0.67438987 0.67562558 0.66543095 0.65770775 0.65400062\n",
      " 0.65307383 0.65400062 0.65461847 0.6570899  0.65647204 0.65678097\n",
      " 0.64565956 0.6373185  0.63206673 0.62743281 0.62928638 0.62866852\n",
      " 0.62928638 0.62310782 0.62835959 0.6218721  0.6261971  0.62743281\n",
      " 0.62866852 0.61569354 0.61383998 0.61322212 0.60704356 0.6085882\n",
      " 0.60951498 0.61167748 0.60426321 0.59499537 0.58943466 0.58294717\n",
      " 0.5832561  0.58263825 0.57800432 0.57985789 0.57398826 0.57707754\n",
      " 0.57676861 0.57985789 0.57862218 0.57676861 0.57151684 0.57398826\n",
      " 0.57615076 0.57985789 0.57707754 0.58047575 0.59190609 0.58510967\n",
      " 0.5776954  0.56626506 0.56317578 0.55205437 0.5424776  0.53846154\n",
      " 0.53722583 0.52610442 0.52301514 0.51652765 0.51590979 0.47876164\n",
      " 0.47398764 0.46866742 0.4629586  0.45715642 0.45145559 0.44599003\n",
      " 0.44084126 0.43603593 0.43154421 0.42737216 0.42348999 0.41988453\n",
      " 0.41655499 0.4134604  0.41056031 0.40786287 0.40536094 0.40303668\n",
      " 0.40085617 0.39882019 0.39690313 0.39509299 0.39341515 0.39184335\n",
      " 0.39034966 0.388944   0.38762093 0.38637003]\n",
      "29 day output [[0.38519332]]\n",
      "[[0.4787616431713104], [0.4739876389503479], [0.4686674177646637], [0.46295860409736633], [0.4571564197540283], [0.45145559310913086], [0.44599002599716187], [0.4408412575721741], [0.4360359311103821], [0.4315442144870758], [0.42737215757369995], [0.4234899878501892], [0.4198845326900482], [0.4165549874305725], [0.4134604036808014], [0.4105603098869324], [0.4078628718852997], [0.4053609371185303], [0.4030366837978363], [0.4008561670780182], [0.3988201916217804], [0.3969031274318695], [0.39509299397468567], [0.3934151530265808], [0.39184334874153137], [0.3903496563434601], [0.38894400000572205], [0.3876209259033203], [0.3863700330257416], [0.3851933181285858]]\n"
     ]
    }
   ],
   "source": [
    "# demonstrate prediction for next 10 days\n",
    "from numpy import array\n",
    "\n",
    "lst_output=[]\n",
    "n_steps=100\n",
    "i=0\n",
    "while(i<30):\n",
    "    \n",
    "    if(len(temp_input)>100):\n",
    "        #print(temp_input)\n",
    "        x_input=np.array(temp_input[1:])\n",
    "        print(\"{} day input {}\".format(i,x_input))\n",
    "        x_input=x_input.reshape(1,-1)\n",
    "        x_input = x_input.reshape((1, n_steps, 1))\n",
    "        #print(x_input)\n",
    "        yhat = model.predict(x_input, verbose=0)\n",
    "        print(\"{} day output {}\".format(i,yhat))\n",
    "        temp_input.extend(yhat[0].tolist())\n",
    "        temp_input=temp_input[1:]\n",
    "        #print(temp_input)\n",
    "        lst_output.extend(yhat.tolist())\n",
    "        i=i+1\n",
    "    else:\n",
    "        x_input = x_input.reshape((1, n_steps,1))\n",
    "        yhat = model.predict(x_input, verbose=0)\n",
    "        print(yhat[0])\n",
    "        temp_input.extend(yhat[0].tolist())\n",
    "        print(len(temp_input))\n",
    "        lst_output.extend(yhat.tolist())\n",
    "        i=i+1\n",
    "    \n",
    "\n",
    "print(lst_output)"
   ]
  },
  {
   "cell_type": "code",
   "execution_count": 42,
   "metadata": {},
   "outputs": [],
   "source": [
    "day_new=np.arange(1,101)\n",
    "day_pred=np.arange(101,131)"
   ]
  },
  {
   "cell_type": "code",
   "execution_count": 43,
   "metadata": {},
   "outputs": [],
   "source": [
    "import matplotlib.pyplot as plt"
   ]
  },
  {
   "cell_type": "code",
   "execution_count": 44,
   "metadata": {},
   "outputs": [
    {
     "data": {
      "text/plain": [
       "2362"
      ]
     },
     "execution_count": 44,
     "metadata": {},
     "output_type": "execute_result"
    }
   ],
   "source": [
    "len(df1)"
   ]
  },
  {
   "cell_type": "code",
   "execution_count": 45,
   "metadata": {},
   "outputs": [],
   "source": [
    "b = len(df1) - 100"
   ]
  },
  {
   "cell_type": "code",
   "execution_count": 46,
   "metadata": {},
   "outputs": [
    {
     "data": {
      "text/plain": [
       "[<matplotlib.lines.Line2D at 0x20af84b17c0>]"
      ]
     },
     "execution_count": 46,
     "metadata": {},
     "output_type": "execute_result"
    },
    {
     "data": {
      "image/png": "[encoded data removed]",
      "text/plain": [
       "<Figure size 640x480 with 1 Axes>"
      ]
     },
     "metadata": {},
     "output_type": "display_data"
    }
   ],
   "source": [
    "plt.plot(day_new,scaler.inverse_transform(df1[b:]))\n",
    "plt.plot(day_pred,scaler.inverse_transform(lst_output))"
   ]
  },
  {
   "cell_type": "code",
   "execution_count": 47,
   "metadata": {},
   "outputs": [],
   "source": [
    "c = len(df1) - 500"
   ]
  },
  {
   "cell_type": "code",
   "execution_count": 48,
   "metadata": {},
   "outputs": [
    {
     "data": {
      "text/plain": [
       "[<matplotlib.lines.Line2D at 0x20af843e180>]"
      ]
     },
     "execution_count": 48,
     "metadata": {},
     "output_type": "execute_result"
    },
    {
     "data": {
      "image/png": "[encoded data removed]",
      "text/plain": [
       "<Figure size 640x480 with 1 Axes>"
      ]
     },
     "metadata": {},
     "output_type": "display_data"
    }
   ],
   "source": [
    "df3=df1.tolist()\n",
    "df3.extend(lst_output)\n",
    "plt.plot(df3[c:])"
   ]
  },
  {
   "cell_type": "code",
   "execution_count": 49,
   "metadata": {},
   "outputs": [],
   "source": [
    "df3=scaler.inverse_transform(df3).tolist()"
   ]
  },
  {
   "cell_type": "code",
   "execution_count": 50,
   "metadata": {},
   "outputs": [
    {
     "data": {
      "text/plain": [
       "[<matplotlib.lines.Line2D at 0x20af84dd9d0>]"
      ]
     },
     "execution_count": 50,
     "metadata": {},
     "output_type": "execute_result"
    },
    {
     "data": {
      "image/png": "[encoded data removed]",
      "text/plain": [
       "<Figure size 640x480 with 1 Axes>"
      ]
     },
     "metadata": {},
     "output_type": "display_data"
    }
   ],
   "source": [
    "plt.plot(df3)"
   ]
  },
  {
   "cell_type": "code",
   "execution_count": null,
   "metadata": {},
   "outputs": [],
   "source": []
  },
  {
   "cell_type": "code",
   "execution_count": null,
   "metadata": {},
   "outputs": [],
   "source": []
  },
  {
   "cell_type": "code",
   "execution_count": null,
   "metadata": {},
   "outputs": [],
   "source": []
  }
 ],
 "metadata": {
  "kernelspec": {
   "display_name": "Python 3 (ipykernel)",
   "language": "python",
   "name": "python3"
  },
  "language_info": {
   "codemirror_mode": {
    "name": "ipython",
    "version": 3
   },
   "file_extension": ".py",
   "mimetype": "text/x-python",
   "name": "python",
   "nbconvert_exporter": "python",
   "pygments_lexer": "ipython3",
   "version": "3.12.3"
  }
 },
 "nbformat": 4,
 "nbformat_minor": 4
}
