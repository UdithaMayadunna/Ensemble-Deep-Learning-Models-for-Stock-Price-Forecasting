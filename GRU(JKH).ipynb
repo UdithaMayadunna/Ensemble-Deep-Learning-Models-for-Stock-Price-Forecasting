{
 "cells": [
  {
   "cell_type": "markdown",
   "metadata": {},
   "source": [
    "### Stock Market Prediction And Forecasting Using Stacked LSTM"
   ]
  },
  {
   "cell_type": "code",
   "execution_count": 1,
   "metadata": {},
   "outputs": [],
   "source": [
    "### Keras and Tensorflow >2.0"
   ]
  },
  {
   "cell_type": "code",
   "execution_count": 2,
   "metadata": {},
   "outputs": [],
   "source": [
    "import pandas as pd"
   ]
  },
  {
   "cell_type": "code",
   "execution_count": 3,
   "metadata": {},
   "outputs": [],
   "source": [
    "df=pd.read_csv('JKH.csv')"
   ]
  },
  {
   "cell_type": "code",
   "execution_count": 4,
   "metadata": {},
   "outputs": [
    {
     "data": {
      "text/html": [
       "<div>\n",
       "<style scoped>\n",
       "    .dataframe tbody tr th:only-of-type {\n",
       "        vertical-align: middle;\n",
       "    }\n",
       "\n",
       "    .dataframe tbody tr th {\n",
       "        vertical-align: top;\n",
       "    }\n",
       "\n",
       "    .dataframe thead th {\n",
       "        text-align: right;\n",
       "    }\n",
       "</style>\n",
       "<table border=\"1\" class=\"dataframe\">\n",
       "  <thead>\n",
       "    <tr style=\"text-align: right;\">\n",
       "      <th></th>\n",
       "      <th>Trade Date</th>\n",
       "      <th>Open (Rs.)</th>\n",
       "      <th>High (Rs.)</th>\n",
       "      <th>Low (Rs.)</th>\n",
       "      <th>Close (Rs.)</th>\n",
       "      <th>TradeVolume</th>\n",
       "      <th>ShareVolume</th>\n",
       "      <th>Turnover (Rs.)</th>\n",
       "    </tr>\n",
       "  </thead>\n",
       "  <tbody>\n",
       "    <tr>\n",
       "      <th>0</th>\n",
       "      <td>8/17/86</td>\n",
       "      <td>133.0</td>\n",
       "      <td>134.00</td>\n",
       "      <td>134.0</td>\n",
       "      <td>0.0</td>\n",
       "      <td>254</td>\n",
       "      <td>665786</td>\n",
       "      <td>88012358.5</td>\n",
       "    </tr>\n",
       "    <tr>\n",
       "      <th>1</th>\n",
       "      <td>6/24/24</td>\n",
       "      <td>203.0</td>\n",
       "      <td>207.75</td>\n",
       "      <td>203.0</td>\n",
       "      <td>206.5</td>\n",
       "      <td>155</td>\n",
       "      <td>1019676</td>\n",
       "      <td>209870667.0</td>\n",
       "    </tr>\n",
       "    <tr>\n",
       "      <th>2</th>\n",
       "      <td>6/20/24</td>\n",
       "      <td>203.0</td>\n",
       "      <td>205.00</td>\n",
       "      <td>201.0</td>\n",
       "      <td>202.0</td>\n",
       "      <td>258</td>\n",
       "      <td>4856701</td>\n",
       "      <td>980743549.8</td>\n",
       "    </tr>\n",
       "    <tr>\n",
       "      <th>3</th>\n",
       "      <td>6/19/24</td>\n",
       "      <td>204.5</td>\n",
       "      <td>205.00</td>\n",
       "      <td>203.0</td>\n",
       "      <td>203.0</td>\n",
       "      <td>111</td>\n",
       "      <td>304446</td>\n",
       "      <td>61856978.0</td>\n",
       "    </tr>\n",
       "    <tr>\n",
       "      <th>4</th>\n",
       "      <td>6/18/24</td>\n",
       "      <td>204.0</td>\n",
       "      <td>207.00</td>\n",
       "      <td>203.5</td>\n",
       "      <td>204.0</td>\n",
       "      <td>115</td>\n",
       "      <td>3063874</td>\n",
       "      <td>625034095.8</td>\n",
       "    </tr>\n",
       "  </tbody>\n",
       "</table>\n",
       "</div>"
      ],
      "text/plain": [
       "  Trade Date  Open (Rs.)  High (Rs.)  Low (Rs.)  Close (Rs.)  TradeVolume  \\\n",
       "0    8/17/86       133.0      134.00      134.0          0.0          254   \n",
       "1    6/24/24       203.0      207.75      203.0        206.5          155   \n",
       "2    6/20/24       203.0      205.00      201.0        202.0          258   \n",
       "3    6/19/24       204.5      205.00      203.0        203.0          111   \n",
       "4    6/18/24       204.0      207.00      203.5        204.0          115   \n",
       "\n",
       "   ShareVolume  Turnover (Rs.)  \n",
       "0       665786      88012358.5  \n",
       "1      1019676     209870667.0  \n",
       "2      4856701     980743549.8  \n",
       "3       304446      61856978.0  \n",
       "4      3063874     625034095.8  "
      ]
     },
     "execution_count": 4,
     "metadata": {},
     "output_type": "execute_result"
    }
   ],
   "source": [
    "df.head()"
   ]
  },
  {
   "cell_type": "code",
   "execution_count": 5,
   "metadata": {},
   "outputs": [
    {
     "data": {
      "text/html": [
       "<div>\n",
       "<style scoped>\n",
       "    .dataframe tbody tr th:only-of-type {\n",
       "        vertical-align: middle;\n",
       "    }\n",
       "\n",
       "    .dataframe tbody tr th {\n",
       "        vertical-align: top;\n",
       "    }\n",
       "\n",
       "    .dataframe thead th {\n",
       "        text-align: right;\n",
       "    }\n",
       "</style>\n",
       "<table border=\"1\" class=\"dataframe\">\n",
       "  <thead>\n",
       "    <tr style=\"text-align: right;\">\n",
       "      <th></th>\n",
       "      <th>Trade Date</th>\n",
       "      <th>Open (Rs.)</th>\n",
       "      <th>High (Rs.)</th>\n",
       "      <th>Low (Rs.)</th>\n",
       "      <th>Close (Rs.)</th>\n",
       "      <th>TradeVolume</th>\n",
       "      <th>ShareVolume</th>\n",
       "      <th>Turnover (Rs.)</th>\n",
       "    </tr>\n",
       "  </thead>\n",
       "  <tbody>\n",
       "    <tr>\n",
       "      <th>0</th>\n",
       "      <td>8/17/86</td>\n",
       "      <td>133.0</td>\n",
       "      <td>134.00</td>\n",
       "      <td>134.0</td>\n",
       "      <td>0.00</td>\n",
       "      <td>254</td>\n",
       "      <td>665786</td>\n",
       "      <td>88012358.5</td>\n",
       "    </tr>\n",
       "    <tr>\n",
       "      <th>1</th>\n",
       "      <td>6/24/24</td>\n",
       "      <td>203.0</td>\n",
       "      <td>207.75</td>\n",
       "      <td>203.0</td>\n",
       "      <td>206.50</td>\n",
       "      <td>155</td>\n",
       "      <td>1019676</td>\n",
       "      <td>209870667.0</td>\n",
       "    </tr>\n",
       "    <tr>\n",
       "      <th>2</th>\n",
       "      <td>6/20/24</td>\n",
       "      <td>203.0</td>\n",
       "      <td>205.00</td>\n",
       "      <td>201.0</td>\n",
       "      <td>202.00</td>\n",
       "      <td>258</td>\n",
       "      <td>4856701</td>\n",
       "      <td>980743549.8</td>\n",
       "    </tr>\n",
       "    <tr>\n",
       "      <th>3</th>\n",
       "      <td>6/19/24</td>\n",
       "      <td>204.5</td>\n",
       "      <td>205.00</td>\n",
       "      <td>203.0</td>\n",
       "      <td>203.00</td>\n",
       "      <td>111</td>\n",
       "      <td>304446</td>\n",
       "      <td>61856978.0</td>\n",
       "    </tr>\n",
       "    <tr>\n",
       "      <th>4</th>\n",
       "      <td>6/18/24</td>\n",
       "      <td>204.0</td>\n",
       "      <td>207.00</td>\n",
       "      <td>203.5</td>\n",
       "      <td>204.00</td>\n",
       "      <td>115</td>\n",
       "      <td>3063874</td>\n",
       "      <td>625034095.8</td>\n",
       "    </tr>\n",
       "    <tr>\n",
       "      <th>...</th>\n",
       "      <td>...</td>\n",
       "      <td>...</td>\n",
       "      <td>...</td>\n",
       "      <td>...</td>\n",
       "      <td>...</td>\n",
       "      <td>...</td>\n",
       "      <td>...</td>\n",
       "      <td>...</td>\n",
       "    </tr>\n",
       "    <tr>\n",
       "      <th>7612</th>\n",
       "      <td>9/3/91</td>\n",
       "      <td>NaN</td>\n",
       "      <td>275.00</td>\n",
       "      <td>275.0</td>\n",
       "      <td>275.00</td>\n",
       "      <td>2</td>\n",
       "      <td>700</td>\n",
       "      <td>192500.0</td>\n",
       "    </tr>\n",
       "    <tr>\n",
       "      <th>7613</th>\n",
       "      <td>9/2/91</td>\n",
       "      <td>NaN</td>\n",
       "      <td>275.00</td>\n",
       "      <td>275.0</td>\n",
       "      <td>275.00</td>\n",
       "      <td>1</td>\n",
       "      <td>150</td>\n",
       "      <td>41250.0</td>\n",
       "    </tr>\n",
       "    <tr>\n",
       "      <th>7614</th>\n",
       "      <td>8/30/91</td>\n",
       "      <td>NaN</td>\n",
       "      <td>298.00</td>\n",
       "      <td>297.0</td>\n",
       "      <td>298.00</td>\n",
       "      <td>2</td>\n",
       "      <td>750</td>\n",
       "      <td>223000.0</td>\n",
       "    </tr>\n",
       "    <tr>\n",
       "      <th>7615</th>\n",
       "      <td>8/27/91</td>\n",
       "      <td>NaN</td>\n",
       "      <td>315.25</td>\n",
       "      <td>315.0</td>\n",
       "      <td>315.25</td>\n",
       "      <td>5</td>\n",
       "      <td>500</td>\n",
       "      <td>157562.5</td>\n",
       "    </tr>\n",
       "    <tr>\n",
       "      <th>7616</th>\n",
       "      <td>7/31/91</td>\n",
       "      <td>NaN</td>\n",
       "      <td>0.00</td>\n",
       "      <td>NaN</td>\n",
       "      <td>0.00</td>\n",
       "      <td>0</td>\n",
       "      <td>0</td>\n",
       "      <td>0.0</td>\n",
       "    </tr>\n",
       "  </tbody>\n",
       "</table>\n",
       "<p>7617 rows × 8 columns</p>\n",
       "</div>"
      ],
      "text/plain": [
       "     Trade Date  Open (Rs.)  High (Rs.)  Low (Rs.)  Close (Rs.)  TradeVolume  \\\n",
       "0       8/17/86       133.0      134.00      134.0         0.00          254   \n",
       "1       6/24/24       203.0      207.75      203.0       206.50          155   \n",
       "2       6/20/24       203.0      205.00      201.0       202.00          258   \n",
       "3       6/19/24       204.5      205.00      203.0       203.00          111   \n",
       "4       6/18/24       204.0      207.00      203.5       204.00          115   \n",
       "...         ...         ...         ...        ...          ...          ...   \n",
       "7612     9/3/91         NaN      275.00      275.0       275.00            2   \n",
       "7613     9/2/91         NaN      275.00      275.0       275.00            1   \n",
       "7614    8/30/91         NaN      298.00      297.0       298.00            2   \n",
       "7615    8/27/91         NaN      315.25      315.0       315.25            5   \n",
       "7616    7/31/91         NaN        0.00        NaN         0.00            0   \n",
       "\n",
       "      ShareVolume  Turnover (Rs.)  \n",
       "0          665786      88012358.5  \n",
       "1         1019676     209870667.0  \n",
       "2         4856701     980743549.8  \n",
       "3          304446      61856978.0  \n",
       "4         3063874     625034095.8  \n",
       "...           ...             ...  \n",
       "7612          700        192500.0  \n",
       "7613          150         41250.0  \n",
       "7614          750        223000.0  \n",
       "7615          500        157562.5  \n",
       "7616            0             0.0  \n",
       "\n",
       "[7617 rows x 8 columns]"
      ]
     },
     "execution_count": 5,
     "metadata": {},
     "output_type": "execute_result"
    }
   ],
   "source": [
    "df"
   ]
  },
  {
   "cell_type": "code",
   "execution_count": 6,
   "metadata": {},
   "outputs": [
    {
     "name": "stdout",
     "output_type": "stream",
     "text": [
      "     Trade Date  Open (Rs.)  High (Rs.)  Low (Rs.)  Close (Rs.)  TradeVolume  \\\n",
      "1    2024-06-24       203.0      207.75     203.00        206.5          155   \n",
      "2    2024-06-20       203.0      205.00     201.00        202.0          258   \n",
      "3    2024-06-19       204.5      205.00     203.00        203.0          111   \n",
      "4    2024-06-18       204.0      207.00     203.50        204.0          115   \n",
      "5    2024-06-14       202.5      205.50     202.25        205.0           73   \n",
      "...         ...         ...         ...        ...          ...          ...   \n",
      "2354 2014-06-30       220.0      220.00     219.70        219.9          186   \n",
      "2355 2014-06-27       224.9      224.90     219.90        220.1          471   \n",
      "2356 2014-06-26       224.5      224.50     222.50        222.8          101   \n",
      "2357 2014-06-25       223.0      224.00     223.00        223.9          151   \n",
      "2358 2014-06-24       226.0      230.00     220.00        221.8          139   \n",
      "\n",
      "      ShareVolume  Turnover (Rs.)  \n",
      "1         1019676     209870667.0  \n",
      "2         4856701     980743549.8  \n",
      "3          304446      61856978.0  \n",
      "4         3063874     625034095.8  \n",
      "5         1497176     303993293.5  \n",
      "...           ...             ...  \n",
      "2354      2228628     490143889.3  \n",
      "2355      1735661     383118215.7  \n",
      "2356       137964      30765918.6  \n",
      "2357      1099002     245180253.8  \n",
      "2358      1415163     313176901.0  \n",
      "\n",
      "[2358 rows x 8 columns]\n"
     ]
    },
    {
     "name": "stderr",
     "output_type": "stream",
     "text": [
      "C:\\Users\\udith\\AppData\\Local\\Temp\\ipykernel_23760\\4235463591.py:1: UserWarning: Could not infer format, so each element will be parsed individually, falling back to `dateutil`. To ensure parsing is consistent and as-expected, please specify a format.\n",
      "  df['Trade Date'] = pd.to_datetime(df['Trade Date'])\n"
     ]
    }
   ],
   "source": [
    "df['Trade Date'] = pd.to_datetime(df['Trade Date'])\n",
    "\n",
    "# Define the date range for the last 10 years\n",
    "end_date = df['Trade Date'].max()\n",
    "start_date = end_date - pd.DateOffset(years=10)\n",
    "\n",
    "# Filter the DataFrame to include only the last 10 years of data\n",
    "filtered_df = df[(df['Trade Date'] >= start_date) & (df['Trade Date'] <= end_date)]\n",
    "\n",
    "# Display the filtered DataFrame\n",
    "print(filtered_df)"
   ]
  },
  {
   "cell_type": "code",
   "execution_count": 7,
   "metadata": {},
   "outputs": [
    {
     "data": {
      "text/html": [
       "<div>\n",
       "<style scoped>\n",
       "    .dataframe tbody tr th:only-of-type {\n",
       "        vertical-align: middle;\n",
       "    }\n",
       "\n",
       "    .dataframe tbody tr th {\n",
       "        vertical-align: top;\n",
       "    }\n",
       "\n",
       "    .dataframe thead th {\n",
       "        text-align: right;\n",
       "    }\n",
       "</style>\n",
       "<table border=\"1\" class=\"dataframe\">\n",
       "  <thead>\n",
       "    <tr style=\"text-align: right;\">\n",
       "      <th></th>\n",
       "      <th>Trade Date</th>\n",
       "      <th>Open (Rs.)</th>\n",
       "      <th>High (Rs.)</th>\n",
       "      <th>Low (Rs.)</th>\n",
       "      <th>Close (Rs.)</th>\n",
       "      <th>TradeVolume</th>\n",
       "      <th>ShareVolume</th>\n",
       "      <th>Turnover (Rs.)</th>\n",
       "    </tr>\n",
       "  </thead>\n",
       "  <tbody>\n",
       "    <tr>\n",
       "      <th>2354</th>\n",
       "      <td>2014-06-30</td>\n",
       "      <td>220.0</td>\n",
       "      <td>220.0</td>\n",
       "      <td>219.7</td>\n",
       "      <td>219.9</td>\n",
       "      <td>186</td>\n",
       "      <td>2228628</td>\n",
       "      <td>490143889.3</td>\n",
       "    </tr>\n",
       "    <tr>\n",
       "      <th>2355</th>\n",
       "      <td>2014-06-27</td>\n",
       "      <td>224.9</td>\n",
       "      <td>224.9</td>\n",
       "      <td>219.9</td>\n",
       "      <td>220.1</td>\n",
       "      <td>471</td>\n",
       "      <td>1735661</td>\n",
       "      <td>383118215.7</td>\n",
       "    </tr>\n",
       "    <tr>\n",
       "      <th>2356</th>\n",
       "      <td>2014-06-26</td>\n",
       "      <td>224.5</td>\n",
       "      <td>224.5</td>\n",
       "      <td>222.5</td>\n",
       "      <td>222.8</td>\n",
       "      <td>101</td>\n",
       "      <td>137964</td>\n",
       "      <td>30765918.6</td>\n",
       "    </tr>\n",
       "    <tr>\n",
       "      <th>2357</th>\n",
       "      <td>2014-06-25</td>\n",
       "      <td>223.0</td>\n",
       "      <td>224.0</td>\n",
       "      <td>223.0</td>\n",
       "      <td>223.9</td>\n",
       "      <td>151</td>\n",
       "      <td>1099002</td>\n",
       "      <td>245180253.8</td>\n",
       "    </tr>\n",
       "    <tr>\n",
       "      <th>2358</th>\n",
       "      <td>2014-06-24</td>\n",
       "      <td>226.0</td>\n",
       "      <td>230.0</td>\n",
       "      <td>220.0</td>\n",
       "      <td>221.8</td>\n",
       "      <td>139</td>\n",
       "      <td>1415163</td>\n",
       "      <td>313176901.0</td>\n",
       "    </tr>\n",
       "  </tbody>\n",
       "</table>\n",
       "</div>"
      ],
      "text/plain": [
       "     Trade Date  Open (Rs.)  High (Rs.)  Low (Rs.)  Close (Rs.)  TradeVolume  \\\n",
       "2354 2014-06-30       220.0       220.0      219.7        219.9          186   \n",
       "2355 2014-06-27       224.9       224.9      219.9        220.1          471   \n",
       "2356 2014-06-26       224.5       224.5      222.5        222.8          101   \n",
       "2357 2014-06-25       223.0       224.0      223.0        223.9          151   \n",
       "2358 2014-06-24       226.0       230.0      220.0        221.8          139   \n",
       "\n",
       "      ShareVolume  Turnover (Rs.)  \n",
       "2354      2228628     490143889.3  \n",
       "2355      1735661     383118215.7  \n",
       "2356       137964      30765918.6  \n",
       "2357      1099002     245180253.8  \n",
       "2358      1415163     313176901.0  "
      ]
     },
     "execution_count": 7,
     "metadata": {},
     "output_type": "execute_result"
    }
   ],
   "source": [
    "filtered_df.tail()"
   ]
  },
  {
   "cell_type": "code",
   "execution_count": 8,
   "metadata": {},
   "outputs": [],
   "source": [
    "df1=filtered_df.reset_index()['Close (Rs.)']"
   ]
  },
  {
   "cell_type": "code",
   "execution_count": 9,
   "metadata": {},
   "outputs": [
    {
     "data": {
      "text/plain": [
       "0       206.5\n",
       "1       202.0\n",
       "2       203.0\n",
       "3       204.0\n",
       "4       205.0\n",
       "        ...  \n",
       "2353    219.9\n",
       "2354    220.1\n",
       "2355    222.8\n",
       "2356    223.9\n",
       "2357    221.8\n",
       "Name: Close (Rs.), Length: 2358, dtype: float64"
      ]
     },
     "execution_count": 9,
     "metadata": {},
     "output_type": "execute_result"
    }
   ],
   "source": [
    "df1"
   ]
  },
  {
   "cell_type": "code",
   "execution_count": 10,
   "metadata": {},
   "outputs": [
    {
     "data": {
      "text/plain": [
       "[<matplotlib.lines.Line2D at 0x145597c2d80>]"
      ]
     },
     "execution_count": 10,
     "metadata": {},
     "output_type": "execute_result"
    },
    {
     "data": {
      "image/png": "[encoded data removed]",
      "text/plain": [
       "<Figure size 640x480 with 1 Axes>"
      ]
     },
     "metadata": {},
     "output_type": "display_data"
    }
   ],
   "source": [
    "import matplotlib.pyplot as plt\n",
    "plt.plot(df1)"
   ]
  },
  {
   "cell_type": "code",
   "execution_count": 11,
   "metadata": {},
   "outputs": [],
   "source": [
    "### LSTM are sensitive to the scale of the data. so we apply MinMax scaler "
   ]
  },
  {
   "cell_type": "code",
   "execution_count": 12,
   "metadata": {},
   "outputs": [],
   "source": [
    "import numpy as np"
   ]
  },
  {
   "cell_type": "code",
   "execution_count": 13,
   "metadata": {},
   "outputs": [
    {
     "data": {
      "text/plain": [
       "0       206.5\n",
       "1       202.0\n",
       "2       203.0\n",
       "3       204.0\n",
       "4       205.0\n",
       "        ...  \n",
       "2353    219.9\n",
       "2354    220.1\n",
       "2355    222.8\n",
       "2356    223.9\n",
       "2357    221.8\n",
       "Name: Close (Rs.), Length: 2358, dtype: float64"
      ]
     },
     "execution_count": 13,
     "metadata": {},
     "output_type": "execute_result"
    }
   ],
   "source": [
    "df1"
   ]
  },
  {
   "cell_type": "code",
   "execution_count": 14,
   "metadata": {},
   "outputs": [],
   "source": [
    "from sklearn.preprocessing import MinMaxScaler\n",
    "scaler=MinMaxScaler(feature_range=(0,1))\n",
    "df1=scaler.fit_transform(np.array(df1).reshape(-1,1))"
   ]
  },
  {
   "cell_type": "code",
   "execution_count": 15,
   "metadata": {},
   "outputs": [
    {
     "name": "stdout",
     "output_type": "stream",
     "text": [
      "[[0.69961133]\n",
      " [0.67462521]\n",
      " [0.68017768]\n",
      " ...\n",
      " [0.7901166 ]\n",
      " [0.79622432]\n",
      " [0.78456413]]\n"
     ]
    }
   ],
   "source": [
    "print(df1)"
   ]
  },
  {
   "cell_type": "code",
   "execution_count": 16,
   "metadata": {},
   "outputs": [],
   "source": [
    "##splitting dataset into train and test split\n",
    "training_size=int(len(df1)*0.65)\n",
    "test_size=len(df1)-training_size\n",
    "train_data,test_data=df1[0:training_size,:],df1[training_size:len(df1),:1]"
   ]
  },
  {
   "cell_type": "code",
   "execution_count": 17,
   "metadata": {},
   "outputs": [
    {
     "data": {
      "text/plain": [
       "(1532, 826)"
      ]
     },
     "execution_count": 17,
     "metadata": {},
     "output_type": "execute_result"
    }
   ],
   "source": [
    "training_size,test_size"
   ]
  },
  {
   "cell_type": "code",
   "execution_count": 18,
   "metadata": {},
   "outputs": [
    {
     "data": {
      "text/plain": [
       "array([[0.69961133],\n",
       "       [0.67462521],\n",
       "       [0.68017768],\n",
       "       ...,\n",
       "       [0.40199889],\n",
       "       [0.41088284],\n",
       "       [0.41143809]])"
      ]
     },
     "execution_count": 18,
     "metadata": {},
     "output_type": "execute_result"
    }
   ],
   "source": [
    "train_data"
   ]
  },
  {
   "cell_type": "code",
   "execution_count": 19,
   "metadata": {},
   "outputs": [],
   "source": [
    "import numpy\n",
    "# convert an array of values into a dataset matrix\n",
    "def create_dataset(dataset, time_step=1):\n",
    "\tdataX, dataY = [], []\n",
    "\tfor i in range(len(dataset)-time_step-1):\n",
    "\t\ta = dataset[i:(i+time_step), 0]   ###i=0, 0,1,2,3-----99   100 \n",
    "\t\tdataX.append(a)\n",
    "\t\tdataY.append(dataset[i + time_step, 0])\n",
    "\treturn numpy.array(dataX), numpy.array(dataY)"
   ]
  },
  {
   "cell_type": "code",
   "execution_count": 20,
   "metadata": {},
   "outputs": [],
   "source": [
    "# reshape into X=t,t+1,t+2,t+3 and Y=t+4\n",
    "time_step = 100\n",
    "X_train, y_train = create_dataset(train_data, time_step)\n",
    "X_test, ytest = create_dataset(test_data, time_step)"
   ]
  },
  {
   "cell_type": "code",
   "execution_count": 21,
   "metadata": {},
   "outputs": [
    {
     "name": "stdout",
     "output_type": "stream",
     "text": [
      "(1431, 100)\n",
      "(1431,)\n"
     ]
    },
    {
     "data": {
      "text/plain": [
       "(None, None)"
      ]
     },
     "execution_count": 21,
     "metadata": {},
     "output_type": "execute_result"
    }
   ],
   "source": [
    "print(X_train.shape), print(y_train.shape)"
   ]
  },
  {
   "cell_type": "code",
   "execution_count": 22,
   "metadata": {},
   "outputs": [
    {
     "name": "stdout",
     "output_type": "stream",
     "text": [
      "(725, 100)\n",
      "(725,)\n"
     ]
    },
    {
     "data": {
      "text/plain": [
       "(None, None)"
      ]
     },
     "execution_count": 22,
     "metadata": {},
     "output_type": "execute_result"
    }
   ],
   "source": [
    "print(X_test.shape), print(ytest.shape)"
   ]
  },
  {
   "cell_type": "code",
   "execution_count": 23,
   "metadata": {},
   "outputs": [],
   "source": [
    "# reshape input to be [samples, time steps, features] which is required for LSTM\n",
    "X_train =X_train.reshape(X_train.shape[0],X_train.shape[1] , 1)\n",
    "X_test = X_test.reshape(X_test.shape[0],X_test.shape[1] , 1)"
   ]
  },
  {
   "cell_type": "code",
   "execution_count": null,
   "metadata": {},
   "outputs": [],
   "source": []
  },
  {
   "cell_type": "code",
   "execution_count": 24,
   "metadata": {},
   "outputs": [],
   "source": [
    "### Create the Stacked LSTM model\n",
    "from tensorflow.keras.models import Sequential\n",
    "from tensorflow.keras.layers import Dense\n",
    "from tensorflow.keras.layers import LSTM\n",
    "from keras.layers import GRU"
   ]
  },
  {
   "cell_type": "code",
   "execution_count": 25,
   "metadata": {},
   "outputs": [
    {
     "name": "stderr",
     "output_type": "stream",
     "text": [
      "C:\\Users\\udith\\AppData\\Local\\Programs\\Python\\Python312\\Lib\\site-packages\\keras\\src\\layers\\rnn\\rnn.py:204: UserWarning: Do not pass an `input_shape`/`input_dim` argument to a layer. When using Sequential models, prefer using an `Input(shape)` object as the first layer in the model instead.\n",
      "  super().__init__(**kwargs)\n"
     ]
    },
    {
     "data": {
      "text/html": [
       "<pre style=\"white-space:pre;overflow-x:auto;line-height:normal;font-family:Menlo,'DejaVu Sans Mono',consolas,'Courier New',monospace\"><span style=\"font-weight: bold\">Model: \"sequential\"</span>\n",
       "</pre>\n"
      ],
      "text/plain": [
       "\u001b[1mModel: \"sequential\"\u001b[0m\n"
      ]
     },
     "metadata": {},
     "output_type": "display_data"
    },
    {
     "data": {
      "text/html": [
       "<pre style=\"white-space:pre;overflow-x:auto;line-height:normal;font-family:Menlo,'DejaVu Sans Mono',consolas,'Courier New',monospace\">┏━━━━━━━━━━━━━━━━━━━━━━━━━━━━━━━━━━━━━━┳━━━━━━━━━━━━━━━━━━━━━━━━━━━━━┳━━━━━━━━━━━━━━━━━┓\n",
       "┃<span style=\"font-weight: bold\"> Layer (type)                         </span>┃<span style=\"font-weight: bold\"> Output Shape                </span>┃<span style=\"font-weight: bold\">         Param # </span>┃\n",
       "┡━━━━━━━━━━━━━━━━━━━━━━━━━━━━━━━━━━━━━━╇━━━━━━━━━━━━━━━━━━━━━━━━━━━━━╇━━━━━━━━━━━━━━━━━┩\n",
       "│ gru (<span style=\"color: #0087ff; text-decoration-color: #0087ff\">GRU</span>)                            │ (<span style=\"color: #00d7ff; text-decoration-color: #00d7ff\">None</span>, <span style=\"color: #00af00; text-decoration-color: #00af00\">100</span>, <span style=\"color: #00af00; text-decoration-color: #00af00\">100</span>)            │          <span style=\"color: #00af00; text-decoration-color: #00af00\">30,900</span> │\n",
       "├──────────────────────────────────────┼─────────────────────────────┼─────────────────┤\n",
       "│ batch_normalization                  │ (<span style=\"color: #00d7ff; text-decoration-color: #00d7ff\">None</span>, <span style=\"color: #00af00; text-decoration-color: #00af00\">100</span>, <span style=\"color: #00af00; text-decoration-color: #00af00\">100</span>)            │             <span style=\"color: #00af00; text-decoration-color: #00af00\">400</span> │\n",
       "│ (<span style=\"color: #0087ff; text-decoration-color: #0087ff\">BatchNormalization</span>)                 │                             │                 │\n",
       "├──────────────────────────────────────┼─────────────────────────────┼─────────────────┤\n",
       "│ dropout (<span style=\"color: #0087ff; text-decoration-color: #0087ff\">Dropout</span>)                    │ (<span style=\"color: #00d7ff; text-decoration-color: #00d7ff\">None</span>, <span style=\"color: #00af00; text-decoration-color: #00af00\">100</span>, <span style=\"color: #00af00; text-decoration-color: #00af00\">100</span>)            │               <span style=\"color: #00af00; text-decoration-color: #00af00\">0</span> │\n",
       "├──────────────────────────────────────┼─────────────────────────────┼─────────────────┤\n",
       "│ gru_1 (<span style=\"color: #0087ff; text-decoration-color: #0087ff\">GRU</span>)                          │ (<span style=\"color: #00d7ff; text-decoration-color: #00d7ff\">None</span>, <span style=\"color: #00af00; text-decoration-color: #00af00\">100</span>, <span style=\"color: #00af00; text-decoration-color: #00af00\">100</span>)            │          <span style=\"color: #00af00; text-decoration-color: #00af00\">60,600</span> │\n",
       "├──────────────────────────────────────┼─────────────────────────────┼─────────────────┤\n",
       "│ batch_normalization_1                │ (<span style=\"color: #00d7ff; text-decoration-color: #00d7ff\">None</span>, <span style=\"color: #00af00; text-decoration-color: #00af00\">100</span>, <span style=\"color: #00af00; text-decoration-color: #00af00\">100</span>)            │             <span style=\"color: #00af00; text-decoration-color: #00af00\">400</span> │\n",
       "│ (<span style=\"color: #0087ff; text-decoration-color: #0087ff\">BatchNormalization</span>)                 │                             │                 │\n",
       "├──────────────────────────────────────┼─────────────────────────────┼─────────────────┤\n",
       "│ dropout_1 (<span style=\"color: #0087ff; text-decoration-color: #0087ff\">Dropout</span>)                  │ (<span style=\"color: #00d7ff; text-decoration-color: #00d7ff\">None</span>, <span style=\"color: #00af00; text-decoration-color: #00af00\">100</span>, <span style=\"color: #00af00; text-decoration-color: #00af00\">100</span>)            │               <span style=\"color: #00af00; text-decoration-color: #00af00\">0</span> │\n",
       "├──────────────────────────────────────┼─────────────────────────────┼─────────────────┤\n",
       "│ gru_2 (<span style=\"color: #0087ff; text-decoration-color: #0087ff\">GRU</span>)                          │ (<span style=\"color: #00d7ff; text-decoration-color: #00d7ff\">None</span>, <span style=\"color: #00af00; text-decoration-color: #00af00\">100</span>, <span style=\"color: #00af00; text-decoration-color: #00af00\">100</span>)            │          <span style=\"color: #00af00; text-decoration-color: #00af00\">60,600</span> │\n",
       "├──────────────────────────────────────┼─────────────────────────────┼─────────────────┤\n",
       "│ batch_normalization_2                │ (<span style=\"color: #00d7ff; text-decoration-color: #00d7ff\">None</span>, <span style=\"color: #00af00; text-decoration-color: #00af00\">100</span>, <span style=\"color: #00af00; text-decoration-color: #00af00\">100</span>)            │             <span style=\"color: #00af00; text-decoration-color: #00af00\">400</span> │\n",
       "│ (<span style=\"color: #0087ff; text-decoration-color: #0087ff\">BatchNormalization</span>)                 │                             │                 │\n",
       "├──────────────────────────────────────┼─────────────────────────────┼─────────────────┤\n",
       "│ dropout_2 (<span style=\"color: #0087ff; text-decoration-color: #0087ff\">Dropout</span>)                  │ (<span style=\"color: #00d7ff; text-decoration-color: #00d7ff\">None</span>, <span style=\"color: #00af00; text-decoration-color: #00af00\">100</span>, <span style=\"color: #00af00; text-decoration-color: #00af00\">100</span>)            │               <span style=\"color: #00af00; text-decoration-color: #00af00\">0</span> │\n",
       "├──────────────────────────────────────┼─────────────────────────────┼─────────────────┤\n",
       "│ gru_3 (<span style=\"color: #0087ff; text-decoration-color: #0087ff\">GRU</span>)                          │ (<span style=\"color: #00d7ff; text-decoration-color: #00d7ff\">None</span>, <span style=\"color: #00af00; text-decoration-color: #00af00\">50</span>)                  │          <span style=\"color: #00af00; text-decoration-color: #00af00\">22,800</span> │\n",
       "├──────────────────────────────────────┼─────────────────────────────┼─────────────────┤\n",
       "│ batch_normalization_3                │ (<span style=\"color: #00d7ff; text-decoration-color: #00d7ff\">None</span>, <span style=\"color: #00af00; text-decoration-color: #00af00\">50</span>)                  │             <span style=\"color: #00af00; text-decoration-color: #00af00\">200</span> │\n",
       "│ (<span style=\"color: #0087ff; text-decoration-color: #0087ff\">BatchNormalization</span>)                 │                             │                 │\n",
       "├──────────────────────────────────────┼─────────────────────────────┼─────────────────┤\n",
       "│ dropout_3 (<span style=\"color: #0087ff; text-decoration-color: #0087ff\">Dropout</span>)                  │ (<span style=\"color: #00d7ff; text-decoration-color: #00d7ff\">None</span>, <span style=\"color: #00af00; text-decoration-color: #00af00\">50</span>)                  │               <span style=\"color: #00af00; text-decoration-color: #00af00\">0</span> │\n",
       "├──────────────────────────────────────┼─────────────────────────────┼─────────────────┤\n",
       "│ dense (<span style=\"color: #0087ff; text-decoration-color: #0087ff\">Dense</span>)                        │ (<span style=\"color: #00d7ff; text-decoration-color: #00d7ff\">None</span>, <span style=\"color: #00af00; text-decoration-color: #00af00\">1</span>)                   │              <span style=\"color: #00af00; text-decoration-color: #00af00\">51</span> │\n",
       "└──────────────────────────────────────┴─────────────────────────────┴─────────────────┘\n",
       "</pre>\n"
      ],
      "text/plain": [
       "┏━━━━━━━━━━━━━━━━━━━━━━━━━━━━━━━━━━━━━━┳━━━━━━━━━━━━━━━━━━━━━━━━━━━━━┳━━━━━━━━━━━━━━━━━┓\n",
       "┃\u001b[1m \u001b[0m\u001b[1mLayer (type)                        \u001b[0m\u001b[1m \u001b[0m┃\u001b[1m \u001b[0m\u001b[1mOutput Shape               \u001b[0m\u001b[1m \u001b[0m┃\u001b[1m \u001b[0m\u001b[1m        Param #\u001b[0m\u001b[1m \u001b[0m┃\n",
       "┡━━━━━━━━━━━━━━━━━━━━━━━━━━━━━━━━━━━━━━╇━━━━━━━━━━━━━━━━━━━━━━━━━━━━━╇━━━━━━━━━━━━━━━━━┩\n",
       "│ gru (\u001b[38;5;33mGRU\u001b[0m)                            │ (\u001b[38;5;45mNone\u001b[0m, \u001b[38;5;34m100\u001b[0m, \u001b[38;5;34m100\u001b[0m)            │          \u001b[38;5;34m30,900\u001b[0m │\n",
       "├──────────────────────────────────────┼─────────────────────────────┼─────────────────┤\n",
       "│ batch_normalization                  │ (\u001b[38;5;45mNone\u001b[0m, \u001b[38;5;34m100\u001b[0m, \u001b[38;5;34m100\u001b[0m)            │             \u001b[38;5;34m400\u001b[0m │\n",
       "│ (\u001b[38;5;33mBatchNormalization\u001b[0m)                 │                             │                 │\n",
       "├──────────────────────────────────────┼─────────────────────────────┼─────────────────┤\n",
       "│ dropout (\u001b[38;5;33mDropout\u001b[0m)                    │ (\u001b[38;5;45mNone\u001b[0m, \u001b[38;5;34m100\u001b[0m, \u001b[38;5;34m100\u001b[0m)            │               \u001b[38;5;34m0\u001b[0m │\n",
       "├──────────────────────────────────────┼─────────────────────────────┼─────────────────┤\n",
       "│ gru_1 (\u001b[38;5;33mGRU\u001b[0m)                          │ (\u001b[38;5;45mNone\u001b[0m, \u001b[38;5;34m100\u001b[0m, \u001b[38;5;34m100\u001b[0m)            │          \u001b[38;5;34m60,600\u001b[0m │\n",
       "├──────────────────────────────────────┼─────────────────────────────┼─────────────────┤\n",
       "│ batch_normalization_1                │ (\u001b[38;5;45mNone\u001b[0m, \u001b[38;5;34m100\u001b[0m, \u001b[38;5;34m100\u001b[0m)            │             \u001b[38;5;34m400\u001b[0m │\n",
       "│ (\u001b[38;5;33mBatchNormalization\u001b[0m)                 │                             │                 │\n",
       "├──────────────────────────────────────┼─────────────────────────────┼─────────────────┤\n",
       "│ dropout_1 (\u001b[38;5;33mDropout\u001b[0m)                  │ (\u001b[38;5;45mNone\u001b[0m, \u001b[38;5;34m100\u001b[0m, \u001b[38;5;34m100\u001b[0m)            │               \u001b[38;5;34m0\u001b[0m │\n",
       "├──────────────────────────────────────┼─────────────────────────────┼─────────────────┤\n",
       "│ gru_2 (\u001b[38;5;33mGRU\u001b[0m)                          │ (\u001b[38;5;45mNone\u001b[0m, \u001b[38;5;34m100\u001b[0m, \u001b[38;5;34m100\u001b[0m)            │          \u001b[38;5;34m60,600\u001b[0m │\n",
       "├──────────────────────────────────────┼─────────────────────────────┼─────────────────┤\n",
       "│ batch_normalization_2                │ (\u001b[38;5;45mNone\u001b[0m, \u001b[38;5;34m100\u001b[0m, \u001b[38;5;34m100\u001b[0m)            │             \u001b[38;5;34m400\u001b[0m │\n",
       "│ (\u001b[38;5;33mBatchNormalization\u001b[0m)                 │                             │                 │\n",
       "├──────────────────────────────────────┼─────────────────────────────┼─────────────────┤\n",
       "│ dropout_2 (\u001b[38;5;33mDropout\u001b[0m)                  │ (\u001b[38;5;45mNone\u001b[0m, \u001b[38;5;34m100\u001b[0m, \u001b[38;5;34m100\u001b[0m)            │               \u001b[38;5;34m0\u001b[0m │\n",
       "├──────────────────────────────────────┼─────────────────────────────┼─────────────────┤\n",
       "│ gru_3 (\u001b[38;5;33mGRU\u001b[0m)                          │ (\u001b[38;5;45mNone\u001b[0m, \u001b[38;5;34m50\u001b[0m)                  │          \u001b[38;5;34m22,800\u001b[0m │\n",
       "├──────────────────────────────────────┼─────────────────────────────┼─────────────────┤\n",
       "│ batch_normalization_3                │ (\u001b[38;5;45mNone\u001b[0m, \u001b[38;5;34m50\u001b[0m)                  │             \u001b[38;5;34m200\u001b[0m │\n",
       "│ (\u001b[38;5;33mBatchNormalization\u001b[0m)                 │                             │                 │\n",
       "├──────────────────────────────────────┼─────────────────────────────┼─────────────────┤\n",
       "│ dropout_3 (\u001b[38;5;33mDropout\u001b[0m)                  │ (\u001b[38;5;45mNone\u001b[0m, \u001b[38;5;34m50\u001b[0m)                  │               \u001b[38;5;34m0\u001b[0m │\n",
       "├──────────────────────────────────────┼─────────────────────────────┼─────────────────┤\n",
       "│ dense (\u001b[38;5;33mDense\u001b[0m)                        │ (\u001b[38;5;45mNone\u001b[0m, \u001b[38;5;34m1\u001b[0m)                   │              \u001b[38;5;34m51\u001b[0m │\n",
       "└──────────────────────────────────────┴─────────────────────────────┴─────────────────┘\n"
      ]
     },
     "metadata": {},
     "output_type": "display_data"
    },
    {
     "data": {
      "text/html": [
       "<pre style=\"white-space:pre;overflow-x:auto;line-height:normal;font-family:Menlo,'DejaVu Sans Mono',consolas,'Courier New',monospace\"><span style=\"font-weight: bold\"> Total params: </span><span style=\"color: #00af00; text-decoration-color: #00af00\">176,351</span> (688.87 KB)\n",
       "</pre>\n"
      ],
      "text/plain": [
       "\u001b[1m Total params: \u001b[0m\u001b[38;5;34m176,351\u001b[0m (688.87 KB)\n"
      ]
     },
     "metadata": {},
     "output_type": "display_data"
    },
    {
     "data": {
      "text/html": [
       "<pre style=\"white-space:pre;overflow-x:auto;line-height:normal;font-family:Menlo,'DejaVu Sans Mono',consolas,'Courier New',monospace\"><span style=\"font-weight: bold\"> Trainable params: </span><span style=\"color: #00af00; text-decoration-color: #00af00\">175,651</span> (686.14 KB)\n",
       "</pre>\n"
      ],
      "text/plain": [
       "\u001b[1m Trainable params: \u001b[0m\u001b[38;5;34m175,651\u001b[0m (686.14 KB)\n"
      ]
     },
     "metadata": {},
     "output_type": "display_data"
    },
    {
     "data": {
      "text/html": [
       "<pre style=\"white-space:pre;overflow-x:auto;line-height:normal;font-family:Menlo,'DejaVu Sans Mono',consolas,'Courier New',monospace\"><span style=\"font-weight: bold\"> Non-trainable params: </span><span style=\"color: #00af00; text-decoration-color: #00af00\">700</span> (2.73 KB)\n",
       "</pre>\n"
      ],
      "text/plain": [
       "\u001b[1m Non-trainable params: \u001b[0m\u001b[38;5;34m700\u001b[0m (2.73 KB)\n"
      ]
     },
     "metadata": {},
     "output_type": "display_data"
    }
   ],
   "source": [
    "from tensorflow.keras.models import Sequential\n",
    "from tensorflow.keras.layers import GRU, Dense, Dropout, BatchNormalization\n",
    "from tensorflow.keras.optimizers import Adam\n",
    "\n",
    "# Initialize the model\n",
    "model = Sequential()\n",
    "\n",
    "# Add GRU layers with more units, batch normalization, and dropout to avoid overfitting\n",
    "model.add(GRU(100, return_sequences=True, input_shape=(100, 1)))\n",
    "model.add(BatchNormalization())  # Normalizing the layer's output\n",
    "model.add(Dropout(0.2))  # Dropout to prevent overfitting\n",
    "\n",
    "model.add(GRU(100, return_sequences=True))\n",
    "model.add(BatchNormalization())\n",
    "model.add(Dropout(0.2))\n",
    "\n",
    "model.add(GRU(100, return_sequences=True))\n",
    "model.add(BatchNormalization())\n",
    "model.add(Dropout(0.2))\n",
    "\n",
    "model.add(GRU(50))  # The last GRU layer\n",
    "model.add(BatchNormalization())\n",
    "model.add(Dropout(0.2))\n",
    "\n",
    "# Add Dense output layer\n",
    "model.add(Dense(1))\n",
    "\n",
    "# Compile the model with Adam optimizer and a tuned learning rate\n",
    "optimizer = Adam(learning_rate=0.001)  # Tuned learning rate\n",
    "model.compile(loss='mean_squared_error', optimizer=optimizer)\n",
    "\n",
    "# Summary of the model\n",
    "model.summary()\n"
   ]
  },
  {
   "cell_type": "code",
   "execution_count": 26,
   "metadata": {},
   "outputs": [
    {
     "name": "stdout",
     "output_type": "stream",
     "text": [
      "Epoch 1/100\n",
      "\u001b[1m45/45\u001b[0m \u001b[32m━━━━━━━━━━━━━━━━━━━━\u001b[0m\u001b[37m\u001b[0m \u001b[1m12s\u001b[0m 149ms/step - loss: 1.1012 - val_loss: 0.0710\n",
      "Epoch 2/100\n",
      "\u001b[1m45/45\u001b[0m \u001b[32m━━━━━━━━━━━━━━━━━━━━\u001b[0m\u001b[37m\u001b[0m \u001b[1m6s\u001b[0m 125ms/step - loss: 0.5257 - val_loss: 0.0499\n",
      "Epoch 3/100\n",
      "\u001b[1m45/45\u001b[0m \u001b[32m━━━━━━━━━━━━━━━━━━━━\u001b[0m\u001b[37m\u001b[0m \u001b[1m6s\u001b[0m 129ms/step - loss: 0.4363 - val_loss: 0.0551\n",
      "Epoch 4/100\n",
      "\u001b[1m45/45\u001b[0m \u001b[32m━━━━━━━━━━━━━━━━━━━━\u001b[0m\u001b[37m\u001b[0m \u001b[1m6s\u001b[0m 129ms/step - loss: 0.3760 - val_loss: 0.0801\n",
      "Epoch 5/100\n",
      "\u001b[1m45/45\u001b[0m \u001b[32m━━━━━━━━━━━━━━━━━━━━\u001b[0m\u001b[37m\u001b[0m \u001b[1m6s\u001b[0m 126ms/step - loss: 0.2929 - val_loss: 0.1033\n",
      "Epoch 6/100\n",
      "\u001b[1m45/45\u001b[0m \u001b[32m━━━━━━━━━━━━━━━━━━━━\u001b[0m\u001b[37m\u001b[0m \u001b[1m6s\u001b[0m 127ms/step - loss: 0.2664 - val_loss: 0.1087\n",
      "Epoch 7/100\n",
      "\u001b[1m45/45\u001b[0m \u001b[32m━━━━━━━━━━━━━━━━━━━━\u001b[0m\u001b[37m\u001b[0m \u001b[1m6s\u001b[0m 127ms/step - loss: 0.2232 - val_loss: 0.1104\n"
     ]
    }
   ],
   "source": [
    "from tensorflow.keras.callbacks import EarlyStopping\n",
    "\n",
    "# Define EarlyStopping callback\n",
    "early_stop = EarlyStopping(\n",
    "    monitor='val_loss',  # Monitor the validation loss\n",
    "    patience=5,          # Number of epochs with no improvement after which training will be stopped\n",
    "    restore_best_weights=True  # Restore model weights from the epoch with the best validation loss\n",
    ")\n",
    "\n",
    "# Train the model with EarlyStopping\n",
    "history = model.fit(\n",
    "    X_train, y_train, \n",
    "    validation_data=(X_test,ytest),  # Use validation data for early stopping\n",
    "    epochs=100, \n",
    "    batch_size=32, \n",
    "    callbacks=[early_stop],  # Add EarlyStopping to the training process\n",
    "    verbose=1\n",
    ")\n"
   ]
  },
  {
   "cell_type": "code",
   "execution_count": 27,
   "metadata": {},
   "outputs": [],
   "source": [
    "import tensorflow as tf"
   ]
  },
  {
   "cell_type": "code",
   "execution_count": 28,
   "metadata": {},
   "outputs": [
    {
     "data": {
      "text/plain": [
       "'2.16.1'"
      ]
     },
     "execution_count": 28,
     "metadata": {},
     "output_type": "execute_result"
    }
   ],
   "source": [
    "tf.__version__"
   ]
  },
  {
   "cell_type": "code",
   "execution_count": 29,
   "metadata": {},
   "outputs": [
    {
     "name": "stdout",
     "output_type": "stream",
     "text": [
      "\u001b[1m45/45\u001b[0m \u001b[32m━━━━━━━━━━━━━━━━━━━━\u001b[0m\u001b[37m\u001b[0m \u001b[1m2s\u001b[0m 44ms/step\n",
      "\u001b[1m23/23\u001b[0m \u001b[32m━━━━━━━━━━━━━━━━━━━━\u001b[0m\u001b[37m\u001b[0m \u001b[1m1s\u001b[0m 31ms/step\n"
     ]
    }
   ],
   "source": [
    "### Lets Do the prediction and check performance metrics\n",
    "train_predict=model.predict(X_train)\n",
    "test_predict=model.predict(X_test)"
   ]
  },
  {
   "cell_type": "code",
   "execution_count": 30,
   "metadata": {},
   "outputs": [],
   "source": [
    "##Transformback to original form\n",
    "train_predict=scaler.inverse_transform(train_predict)\n",
    "test_predict=scaler.inverse_transform(test_predict)"
   ]
  },
  {
   "cell_type": "code",
   "execution_count": 31,
   "metadata": {},
   "outputs": [
    {
     "data": {
      "text/plain": [
       "143.30354492369116"
      ]
     },
     "execution_count": 31,
     "metadata": {},
     "output_type": "execute_result"
    }
   ],
   "source": [
    "### Calculate RMSE performance metrics\n",
    "import math\n",
    "from sklearn.metrics import mean_squared_error\n",
    "math.sqrt(mean_squared_error(y_train,train_predict))"
   ]
  },
  {
   "cell_type": "code",
   "execution_count": 31,
   "metadata": {},
   "outputs": [
    {
     "name": "stdout",
     "output_type": "stream",
     "text": [
      "Mean Absolute Error (MAE): 141.3240003994556\n",
      "Mean Squared Error (MSE): 20006.2503140206\n",
      "Root Mean Squared Error (RMSE): 141.44345270821339\n"
     ]
    }
   ],
   "source": [
    "import math\n",
    "from sklearn.metrics import mean_absolute_error, mean_squared_error\n",
    "\n",
    "# Calculate Mean Absolute Error (MAE)\n",
    "mae = mean_absolute_error(y_train, train_predict)\n",
    "\n",
    "# Calculate Mean Squared Error (MSE)\n",
    "mse = mean_squared_error(y_train, train_predict)\n",
    "\n",
    "# Calculate Root Mean Squared Error (RMSE)\n",
    "rmse = math.sqrt(mse)\n",
    "\n",
    "# Print all the metrics\n",
    "print(f\"Mean Absolute Error (MAE): {mae}\")\n",
    "print(f\"Mean Squared Error (MSE): {mse}\")\n",
    "print(f\"Root Mean Squared Error (RMSE): {rmse}\")"
   ]
  },
  {
   "cell_type": "code",
   "execution_count": 33,
   "metadata": {},
   "outputs": [
    {
     "name": "stdout",
     "output_type": "stream",
     "text": [
      "Mean Absolute Error (MAE): 151.99612246232624\n",
      "Mean Squared Error (MSE): 23220.528493150046\n",
      "Root Mean Squared Error (RMSE): 152.38283529699152\n"
     ]
    }
   ],
   "source": [
    "import math\n",
    "from sklearn.metrics import mean_absolute_error, mean_squared_error\n",
    "\n",
    "# Calculate Mean Absolute Error (MAE)\n",
    "mae = mean_absolute_error(ytest, test_predict)\n",
    "\n",
    "# Calculate Mean Squared Error (MSE)\n",
    "mse = mean_squared_error(ytest, test_predict)\n",
    "\n",
    "# Calculate Root Mean Squared Error (RMSE)\n",
    "rmse = math.sqrt(mse)\n",
    "\n",
    "# Print all the metrics\n",
    "print(f\"Mean Absolute Error (MAE): {mae}\")\n",
    "print(f\"Mean Squared Error (MSE): {mse}\")\n",
    "print(f\"Root Mean Squared Error (RMSE): {rmse}\")"
   ]
  },
  {
   "cell_type": "code",
   "execution_count": 35,
   "metadata": {},
   "outputs": [
    {
     "data": {
      "image/png": "[encoded data removed]",
      "text/plain": [
       "<Figure size 1000x600 with 1 Axes>"
      ]
     },
     "metadata": {},
     "output_type": "display_data"
    }
   ],
   "source": [
    "# shift train predictions for plotting\n",
    "look_back = 100\n",
    "trainPredictPlot = numpy.empty_like(df1)\n",
    "trainPredictPlot[:, :] = np.nan\n",
    "trainPredictPlot[look_back:len(train_predict) + look_back, :] = train_predict\n",
    "\n",
    "# shift test predictions for plotting\n",
    "testPredictPlot = numpy.empty_like(df1)\n",
    "testPredictPlot[:, :] = np.nan\n",
    "testPredictPlot[len(train_predict) + (look_back * 2) + 1:len(df1) - 1, :] = test_predict\n",
    "\n",
    "# plot baseline and predictions\n",
    "plt.figure(figsize=(10, 6))\n",
    "plt.plot(scaler.inverse_transform(df1), label='Original Data', color='blue')\n",
    "plt.plot(trainPredictPlot, label='Train Predictions', color='orange')\n",
    "plt.plot(testPredictPlot, label='Test Predictions', color='green')\n",
    "\n",
    "# Add title and labels\n",
    "plt.title('Original Data vs Predictions')\n",
    "plt.xlabel('Time')\n",
    "plt.ylabel('Value (Rs.)')\n",
    "\n",
    "# Add a legend\n",
    "plt.legend(loc='upper left')\n",
    "\n",
    "# Show the plot\n",
    "plt.show()"
   ]
  },
  {
   "cell_type": "code",
   "execution_count": null,
   "metadata": {},
   "outputs": [],
   "source": []
  },
  {
   "cell_type": "code",
   "execution_count": 34,
   "metadata": {},
   "outputs": [
    {
     "data": {
      "text/plain": [
       "826"
      ]
     },
     "execution_count": 34,
     "metadata": {},
     "output_type": "execute_result"
    }
   ],
   "source": [
    "len(test_data)"
   ]
  },
  {
   "cell_type": "code",
   "execution_count": 35,
   "metadata": {},
   "outputs": [
    {
     "data": {
      "text/plain": [
       "(1, 100)"
      ]
     },
     "execution_count": 35,
     "metadata": {},
     "output_type": "execute_result"
    }
   ],
   "source": [
    "x_input=test_data[726:].reshape(1,-1)\n",
    "x_input.shape\n"
   ]
  },
  {
   "cell_type": "code",
   "execution_count": null,
   "metadata": {},
   "outputs": [],
   "source": []
  },
  {
   "cell_type": "code",
   "execution_count": null,
   "metadata": {},
   "outputs": [],
   "source": []
  },
  {
   "cell_type": "code",
   "execution_count": 36,
   "metadata": {},
   "outputs": [],
   "source": [
    "temp_input=list(x_input)\n",
    "temp_input=temp_input[0].tolist()"
   ]
  },
  {
   "cell_type": "code",
   "execution_count": 37,
   "metadata": {},
   "outputs": [
    {
     "data": {
      "text/plain": [
       "[0.9589117157134924,\n",
       " 0.9689061632426429,\n",
       " 0.985008328706274,\n",
       " 0.9894503053858966,\n",
       " 0.9894503053858966,\n",
       " 0.985563575791227,\n",
       " 0.990560799555802,\n",
       " 0.985563575791227,\n",
       " 0.9689061632426429,\n",
       " 0.9583564686285396,\n",
       " 0.980011104941699,\n",
       " 0.9811215991116046,\n",
       " 0.9689061632426429,\n",
       " 0.9400333148250971,\n",
       " 0.9361465852304275,\n",
       " 0.9405885619100499,\n",
       " 0.9300388672959466,\n",
       " 0.9400333148250971,\n",
       " 0.9217101610216546,\n",
       " 0.9255968906163242,\n",
       " 0.9300388672959466,\n",
       " 0.9411438089950027,\n",
       " 0.9405885619100499,\n",
       " 0.9250416435313714,\n",
       " 0.9372570794003331,\n",
       " 0.946141032759578,\n",
       " 0.9522487506940588,\n",
       " 0.9583564686285396,\n",
       " 0.9955580233203775,\n",
       " 1.0,\n",
       " 0.9727928928373125,\n",
       " 0.9616879511382564,\n",
       " 0.9466962798445308,\n",
       " 0.9478067740144364,\n",
       " 0.9605774569683508,\n",
       " 0.9677956690727373,\n",
       " 0.962798445308162,\n",
       " 0.9639089394780677,\n",
       " 0.9783453636868406,\n",
       " 0.9844530816213214,\n",
       " 0.985563575791227,\n",
       " 0.985008328706274,\n",
       " 0.9872293170460854,\n",
       " 0.993892282065519,\n",
       " 0.991116046640755,\n",
       " 0.9916712937257081,\n",
       " 0.975013881177124,\n",
       " 0.9411438089950027,\n",
       " 0.9405885619100499,\n",
       " 0.9383675735702387,\n",
       " 0.9278178789561354,\n",
       " 0.9383675735702387,\n",
       " 0.9355913381454747,\n",
       " 0.9350360910605219,\n",
       " 0.9133814547473625,\n",
       " 0.8967240421987784,\n",
       " 0.9022765130483065,\n",
       " 0.9133814547473625,\n",
       " 0.9339255968906163,\n",
       " 0.9133814547473625,\n",
       " 0.9100499722376457,\n",
       " 0.8856191004997224,\n",
       " 0.8745141588006663,\n",
       " 0.8795113825652415,\n",
       " 0.8806218767351471,\n",
       " 0.8745141588006663,\n",
       " 0.8828428650749583,\n",
       " 0.8811771238200997,\n",
       " 0.8856191004997224,\n",
       " 0.8745141588006663,\n",
       " 0.8684064408661855,\n",
       " 0.8689616879511383,\n",
       " 0.8606329816768462,\n",
       " 0.8678511937812327,\n",
       " 0.8689616879511383,\n",
       " 0.8745141588006663,\n",
       " 0.8784008883953357,\n",
       " 0.8845086063298168,\n",
       " 0.8850638534147696,\n",
       " 0.9106052193225985,\n",
       " 0.9228206551915602,\n",
       " 0.9133814547473625,\n",
       " 0.9133814547473625,\n",
       " 0.9128262076624097,\n",
       " 0.8989450305385897,\n",
       " 0.8872848417545808,\n",
       " 0.8856191004997224,\n",
       " 0.8856191004997224,\n",
       " 0.8722931704608549,\n",
       " 0.8556357579122708,\n",
       " 0.8139922265408105,\n",
       " 0.8023320377568016,\n",
       " 0.7906718489727927,\n",
       " 0.8084397556912825,\n",
       " 0.7873403664630761,\n",
       " 0.7740144364242086,\n",
       " 0.7751249305941142,\n",
       " 0.7901166018878402,\n",
       " 0.796224319822321,\n",
       " 0.7845641310383121]"
      ]
     },
     "execution_count": 37,
     "metadata": {},
     "output_type": "execute_result"
    }
   ],
   "source": [
    "temp_input"
   ]
  },
  {
   "cell_type": "code",
   "execution_count": 38,
   "metadata": {},
   "outputs": [
    {
     "name": "stdout",
     "output_type": "stream",
     "text": [
      "[0.6113032]\n",
      "101\n",
      "1 day input [0.96890616 0.98500833 0.98945031 0.98945031 0.98556358 0.9905608\n",
      " 0.98556358 0.96890616 0.95835647 0.9800111  0.9811216  0.96890616\n",
      " 0.94003331 0.93614659 0.94058856 0.93003887 0.94003331 0.92171016\n",
      " 0.92559689 0.93003887 0.94114381 0.94058856 0.92504164 0.93725708\n",
      " 0.94614103 0.95224875 0.95835647 0.99555802 1.         0.97279289\n",
      " 0.96168795 0.94669628 0.94780677 0.96057746 0.96779567 0.96279845\n",
      " 0.96390894 0.97834536 0.98445308 0.98556358 0.98500833 0.98722932\n",
      " 0.99389228 0.99111605 0.99167129 0.97501388 0.94114381 0.94058856\n",
      " 0.93836757 0.92781788 0.93836757 0.93559134 0.93503609 0.91338145\n",
      " 0.89672404 0.90227651 0.91338145 0.9339256  0.91338145 0.91004997\n",
      " 0.8856191  0.87451416 0.87951138 0.88062188 0.87451416 0.88284287\n",
      " 0.88117712 0.8856191  0.87451416 0.86840644 0.86896169 0.86063298\n",
      " 0.86785119 0.86896169 0.87451416 0.87840089 0.88450861 0.88506385\n",
      " 0.91060522 0.92282066 0.91338145 0.91338145 0.91282621 0.89894503\n",
      " 0.88728484 0.8856191  0.8856191  0.87229317 0.85563576 0.81399223\n",
      " 0.80233204 0.79067185 0.80843976 0.78734037 0.77401444 0.77512493\n",
      " 0.7901166  0.79622432 0.78456413 0.61130321]\n",
      "1 day output [[0.60916406]]\n",
      "2 day input [0.98500833 0.98945031 0.98945031 0.98556358 0.9905608  0.98556358\n",
      " 0.96890616 0.95835647 0.9800111  0.9811216  0.96890616 0.94003331\n",
      " 0.93614659 0.94058856 0.93003887 0.94003331 0.92171016 0.92559689\n",
      " 0.93003887 0.94114381 0.94058856 0.92504164 0.93725708 0.94614103\n",
      " 0.95224875 0.95835647 0.99555802 1.         0.97279289 0.96168795\n",
      " 0.94669628 0.94780677 0.96057746 0.96779567 0.96279845 0.96390894\n",
      " 0.97834536 0.98445308 0.98556358 0.98500833 0.98722932 0.99389228\n",
      " 0.99111605 0.99167129 0.97501388 0.94114381 0.94058856 0.93836757\n",
      " 0.92781788 0.93836757 0.93559134 0.93503609 0.91338145 0.89672404\n",
      " 0.90227651 0.91338145 0.9339256  0.91338145 0.91004997 0.8856191\n",
      " 0.87451416 0.87951138 0.88062188 0.87451416 0.88284287 0.88117712\n",
      " 0.8856191  0.87451416 0.86840644 0.86896169 0.86063298 0.86785119\n",
      " 0.86896169 0.87451416 0.87840089 0.88450861 0.88506385 0.91060522\n",
      " 0.92282066 0.91338145 0.91338145 0.91282621 0.89894503 0.88728484\n",
      " 0.8856191  0.8856191  0.87229317 0.85563576 0.81399223 0.80233204\n",
      " 0.79067185 0.80843976 0.78734037 0.77401444 0.77512493 0.7901166\n",
      " 0.79622432 0.78456413 0.61130321 0.60916406]\n",
      "2 day output [[0.6053761]]\n",
      "3 day input [0.98945031 0.98945031 0.98556358 0.9905608  0.98556358 0.96890616\n",
      " 0.95835647 0.9800111  0.9811216  0.96890616 0.94003331 0.93614659\n",
      " 0.94058856 0.93003887 0.94003331 0.92171016 0.92559689 0.93003887\n",
      " 0.94114381 0.94058856 0.92504164 0.93725708 0.94614103 0.95224875\n",
      " 0.95835647 0.99555802 1.         0.97279289 0.96168795 0.94669628\n",
      " 0.94780677 0.96057746 0.96779567 0.96279845 0.96390894 0.97834536\n",
      " 0.98445308 0.98556358 0.98500833 0.98722932 0.99389228 0.99111605\n",
      " 0.99167129 0.97501388 0.94114381 0.94058856 0.93836757 0.92781788\n",
      " 0.93836757 0.93559134 0.93503609 0.91338145 0.89672404 0.90227651\n",
      " 0.91338145 0.9339256  0.91338145 0.91004997 0.8856191  0.87451416\n",
      " 0.87951138 0.88062188 0.87451416 0.88284287 0.88117712 0.8856191\n",
      " 0.87451416 0.86840644 0.86896169 0.86063298 0.86785119 0.86896169\n",
      " 0.87451416 0.87840089 0.88450861 0.88506385 0.91060522 0.92282066\n",
      " 0.91338145 0.91338145 0.91282621 0.89894503 0.88728484 0.8856191\n",
      " 0.8856191  0.87229317 0.85563576 0.81399223 0.80233204 0.79067185\n",
      " 0.80843976 0.78734037 0.77401444 0.77512493 0.7901166  0.79622432\n",
      " 0.78456413 0.61130321 0.60916406 0.60537612]\n",
      "3 day output [[0.60030943]]\n",
      "4 day input [0.98945031 0.98556358 0.9905608  0.98556358 0.96890616 0.95835647\n",
      " 0.9800111  0.9811216  0.96890616 0.94003331 0.93614659 0.94058856\n",
      " 0.93003887 0.94003331 0.92171016 0.92559689 0.93003887 0.94114381\n",
      " 0.94058856 0.92504164 0.93725708 0.94614103 0.95224875 0.95835647\n",
      " 0.99555802 1.         0.97279289 0.96168795 0.94669628 0.94780677\n",
      " 0.96057746 0.96779567 0.96279845 0.96390894 0.97834536 0.98445308\n",
      " 0.98556358 0.98500833 0.98722932 0.99389228 0.99111605 0.99167129\n",
      " 0.97501388 0.94114381 0.94058856 0.93836757 0.92781788 0.93836757\n",
      " 0.93559134 0.93503609 0.91338145 0.89672404 0.90227651 0.91338145\n",
      " 0.9339256  0.91338145 0.91004997 0.8856191  0.87451416 0.87951138\n",
      " 0.88062188 0.87451416 0.88284287 0.88117712 0.8856191  0.87451416\n",
      " 0.86840644 0.86896169 0.86063298 0.86785119 0.86896169 0.87451416\n",
      " 0.87840089 0.88450861 0.88506385 0.91060522 0.92282066 0.91338145\n",
      " 0.91338145 0.91282621 0.89894503 0.88728484 0.8856191  0.8856191\n",
      " 0.87229317 0.85563576 0.81399223 0.80233204 0.79067185 0.80843976\n",
      " 0.78734037 0.77401444 0.77512493 0.7901166  0.79622432 0.78456413\n",
      " 0.61130321 0.60916406 0.60537612 0.60030943]\n",
      "4 day output [[0.5945499]]\n",
      "5 day input [0.98556358 0.9905608  0.98556358 0.96890616 0.95835647 0.9800111\n",
      " 0.9811216  0.96890616 0.94003331 0.93614659 0.94058856 0.93003887\n",
      " 0.94003331 0.92171016 0.92559689 0.93003887 0.94114381 0.94058856\n",
      " 0.92504164 0.93725708 0.94614103 0.95224875 0.95835647 0.99555802\n",
      " 1.         0.97279289 0.96168795 0.94669628 0.94780677 0.96057746\n",
      " 0.96779567 0.96279845 0.96390894 0.97834536 0.98445308 0.98556358\n",
      " 0.98500833 0.98722932 0.99389228 0.99111605 0.99167129 0.97501388\n",
      " 0.94114381 0.94058856 0.93836757 0.92781788 0.93836757 0.93559134\n",
      " 0.93503609 0.91338145 0.89672404 0.90227651 0.91338145 0.9339256\n",
      " 0.91338145 0.91004997 0.8856191  0.87451416 0.87951138 0.88062188\n",
      " 0.87451416 0.88284287 0.88117712 0.8856191  0.87451416 0.86840644\n",
      " 0.86896169 0.86063298 0.86785119 0.86896169 0.87451416 0.87840089\n",
      " 0.88450861 0.88506385 0.91060522 0.92282066 0.91338145 0.91338145\n",
      " 0.91282621 0.89894503 0.88728484 0.8856191  0.8856191  0.87229317\n",
      " 0.85563576 0.81399223 0.80233204 0.79067185 0.80843976 0.78734037\n",
      " 0.77401444 0.77512493 0.7901166  0.79622432 0.78456413 0.61130321\n",
      " 0.60916406 0.60537612 0.60030943 0.59454989]\n",
      "5 day output [[0.5886338]]\n",
      "6 day input [0.9905608  0.98556358 0.96890616 0.95835647 0.9800111  0.9811216\n",
      " 0.96890616 0.94003331 0.93614659 0.94058856 0.93003887 0.94003331\n",
      " 0.92171016 0.92559689 0.93003887 0.94114381 0.94058856 0.92504164\n",
      " 0.93725708 0.94614103 0.95224875 0.95835647 0.99555802 1.\n",
      " 0.97279289 0.96168795 0.94669628 0.94780677 0.96057746 0.96779567\n",
      " 0.96279845 0.96390894 0.97834536 0.98445308 0.98556358 0.98500833\n",
      " 0.98722932 0.99389228 0.99111605 0.99167129 0.97501388 0.94114381\n",
      " 0.94058856 0.93836757 0.92781788 0.93836757 0.93559134 0.93503609\n",
      " 0.91338145 0.89672404 0.90227651 0.91338145 0.9339256  0.91338145\n",
      " 0.91004997 0.8856191  0.87451416 0.87951138 0.88062188 0.87451416\n",
      " 0.88284287 0.88117712 0.8856191  0.87451416 0.86840644 0.86896169\n",
      " 0.86063298 0.86785119 0.86896169 0.87451416 0.87840089 0.88450861\n",
      " 0.88506385 0.91060522 0.92282066 0.91338145 0.91338145 0.91282621\n",
      " 0.89894503 0.88728484 0.8856191  0.8856191  0.87229317 0.85563576\n",
      " 0.81399223 0.80233204 0.79067185 0.80843976 0.78734037 0.77401444\n",
      " 0.77512493 0.7901166  0.79622432 0.78456413 0.61130321 0.60916406\n",
      " 0.60537612 0.60030943 0.59454989 0.58863378]\n",
      "6 day output [[0.58293283]]\n",
      "7 day input [0.98556358 0.96890616 0.95835647 0.9800111  0.9811216  0.96890616\n",
      " 0.94003331 0.93614659 0.94058856 0.93003887 0.94003331 0.92171016\n",
      " 0.92559689 0.93003887 0.94114381 0.94058856 0.92504164 0.93725708\n",
      " 0.94614103 0.95224875 0.95835647 0.99555802 1.         0.97279289\n",
      " 0.96168795 0.94669628 0.94780677 0.96057746 0.96779567 0.96279845\n",
      " 0.96390894 0.97834536 0.98445308 0.98556358 0.98500833 0.98722932\n",
      " 0.99389228 0.99111605 0.99167129 0.97501388 0.94114381 0.94058856\n",
      " 0.93836757 0.92781788 0.93836757 0.93559134 0.93503609 0.91338145\n",
      " 0.89672404 0.90227651 0.91338145 0.9339256  0.91338145 0.91004997\n",
      " 0.8856191  0.87451416 0.87951138 0.88062188 0.87451416 0.88284287\n",
      " 0.88117712 0.8856191  0.87451416 0.86840644 0.86896169 0.86063298\n",
      " 0.86785119 0.86896169 0.87451416 0.87840089 0.88450861 0.88506385\n",
      " 0.91060522 0.92282066 0.91338145 0.91338145 0.91282621 0.89894503\n",
      " 0.88728484 0.8856191  0.8856191  0.87229317 0.85563576 0.81399223\n",
      " 0.80233204 0.79067185 0.80843976 0.78734037 0.77401444 0.77512493\n",
      " 0.7901166  0.79622432 0.78456413 0.61130321 0.60916406 0.60537612\n",
      " 0.60030943 0.59454989 0.58863378 0.58293283]\n",
      "7 day output [[0.57765025]]\n",
      "8 day input [0.96890616 0.95835647 0.9800111  0.9811216  0.96890616 0.94003331\n",
      " 0.93614659 0.94058856 0.93003887 0.94003331 0.92171016 0.92559689\n",
      " 0.93003887 0.94114381 0.94058856 0.92504164 0.93725708 0.94614103\n",
      " 0.95224875 0.95835647 0.99555802 1.         0.97279289 0.96168795\n",
      " 0.94669628 0.94780677 0.96057746 0.96779567 0.96279845 0.96390894\n",
      " 0.97834536 0.98445308 0.98556358 0.98500833 0.98722932 0.99389228\n",
      " 0.99111605 0.99167129 0.97501388 0.94114381 0.94058856 0.93836757\n",
      " 0.92781788 0.93836757 0.93559134 0.93503609 0.91338145 0.89672404\n",
      " 0.90227651 0.91338145 0.9339256  0.91338145 0.91004997 0.8856191\n",
      " 0.87451416 0.87951138 0.88062188 0.87451416 0.88284287 0.88117712\n",
      " 0.8856191  0.87451416 0.86840644 0.86896169 0.86063298 0.86785119\n",
      " 0.86896169 0.87451416 0.87840089 0.88450861 0.88506385 0.91060522\n",
      " 0.92282066 0.91338145 0.91338145 0.91282621 0.89894503 0.88728484\n",
      " 0.8856191  0.8856191  0.87229317 0.85563576 0.81399223 0.80233204\n",
      " 0.79067185 0.80843976 0.78734037 0.77401444 0.77512493 0.7901166\n",
      " 0.79622432 0.78456413 0.61130321 0.60916406 0.60537612 0.60030943\n",
      " 0.59454989 0.58863378 0.58293283 0.57765025]\n",
      "8 day output [[0.57286936]]\n",
      "9 day input [0.95835647 0.9800111  0.9811216  0.96890616 0.94003331 0.93614659\n",
      " 0.94058856 0.93003887 0.94003331 0.92171016 0.92559689 0.93003887\n",
      " 0.94114381 0.94058856 0.92504164 0.93725708 0.94614103 0.95224875\n",
      " 0.95835647 0.99555802 1.         0.97279289 0.96168795 0.94669628\n",
      " 0.94780677 0.96057746 0.96779567 0.96279845 0.96390894 0.97834536\n",
      " 0.98445308 0.98556358 0.98500833 0.98722932 0.99389228 0.99111605\n",
      " 0.99167129 0.97501388 0.94114381 0.94058856 0.93836757 0.92781788\n",
      " 0.93836757 0.93559134 0.93503609 0.91338145 0.89672404 0.90227651\n",
      " 0.91338145 0.9339256  0.91338145 0.91004997 0.8856191  0.87451416\n",
      " 0.87951138 0.88062188 0.87451416 0.88284287 0.88117712 0.8856191\n",
      " 0.87451416 0.86840644 0.86896169 0.86063298 0.86785119 0.86896169\n",
      " 0.87451416 0.87840089 0.88450861 0.88506385 0.91060522 0.92282066\n",
      " 0.91338145 0.91338145 0.91282621 0.89894503 0.88728484 0.8856191\n",
      " 0.8856191  0.87229317 0.85563576 0.81399223 0.80233204 0.79067185\n",
      " 0.80843976 0.78734037 0.77401444 0.77512493 0.7901166  0.79622432\n",
      " 0.78456413 0.61130321 0.60916406 0.60537612 0.60030943 0.59454989\n",
      " 0.58863378 0.58293283 0.57765025 0.57286936]\n",
      "9 day output [[0.5685965]]\n",
      "10 day input [0.9800111  0.9811216  0.96890616 0.94003331 0.93614659 0.94058856\n",
      " 0.93003887 0.94003331 0.92171016 0.92559689 0.93003887 0.94114381\n",
      " 0.94058856 0.92504164 0.93725708 0.94614103 0.95224875 0.95835647\n",
      " 0.99555802 1.         0.97279289 0.96168795 0.94669628 0.94780677\n",
      " 0.96057746 0.96779567 0.96279845 0.96390894 0.97834536 0.98445308\n",
      " 0.98556358 0.98500833 0.98722932 0.99389228 0.99111605 0.99167129\n",
      " 0.97501388 0.94114381 0.94058856 0.93836757 0.92781788 0.93836757\n",
      " 0.93559134 0.93503609 0.91338145 0.89672404 0.90227651 0.91338145\n",
      " 0.9339256  0.91338145 0.91004997 0.8856191  0.87451416 0.87951138\n",
      " 0.88062188 0.87451416 0.88284287 0.88117712 0.8856191  0.87451416\n",
      " 0.86840644 0.86896169 0.86063298 0.86785119 0.86896169 0.87451416\n",
      " 0.87840089 0.88450861 0.88506385 0.91060522 0.92282066 0.91338145\n",
      " 0.91338145 0.91282621 0.89894503 0.88728484 0.8856191  0.8856191\n",
      " 0.87229317 0.85563576 0.81399223 0.80233204 0.79067185 0.80843976\n",
      " 0.78734037 0.77401444 0.77512493 0.7901166  0.79622432 0.78456413\n",
      " 0.61130321 0.60916406 0.60537612 0.60030943 0.59454989 0.58863378\n",
      " 0.58293283 0.57765025 0.57286936 0.56859648]\n",
      "10 day output [[0.56479275]]\n",
      "11 day input [0.9811216  0.96890616 0.94003331 0.93614659 0.94058856 0.93003887\n",
      " 0.94003331 0.92171016 0.92559689 0.93003887 0.94114381 0.94058856\n",
      " 0.92504164 0.93725708 0.94614103 0.95224875 0.95835647 0.99555802\n",
      " 1.         0.97279289 0.96168795 0.94669628 0.94780677 0.96057746\n",
      " 0.96779567 0.96279845 0.96390894 0.97834536 0.98445308 0.98556358\n",
      " 0.98500833 0.98722932 0.99389228 0.99111605 0.99167129 0.97501388\n",
      " 0.94114381 0.94058856 0.93836757 0.92781788 0.93836757 0.93559134\n",
      " 0.93503609 0.91338145 0.89672404 0.90227651 0.91338145 0.9339256\n",
      " 0.91338145 0.91004997 0.8856191  0.87451416 0.87951138 0.88062188\n",
      " 0.87451416 0.88284287 0.88117712 0.8856191  0.87451416 0.86840644\n",
      " 0.86896169 0.86063298 0.86785119 0.86896169 0.87451416 0.87840089\n",
      " 0.88450861 0.88506385 0.91060522 0.92282066 0.91338145 0.91338145\n",
      " 0.91282621 0.89894503 0.88728484 0.8856191  0.8856191  0.87229317\n",
      " 0.85563576 0.81399223 0.80233204 0.79067185 0.80843976 0.78734037\n",
      " 0.77401444 0.77512493 0.7901166  0.79622432 0.78456413 0.61130321\n",
      " 0.60916406 0.60537612 0.60030943 0.59454989 0.58863378 0.58293283\n",
      " 0.57765025 0.57286936 0.56859648 0.56479275]\n",
      "11 day output [[0.5614081]]\n",
      "12 day input [0.96890616 0.94003331 0.93614659 0.94058856 0.93003887 0.94003331\n",
      " 0.92171016 0.92559689 0.93003887 0.94114381 0.94058856 0.92504164\n",
      " 0.93725708 0.94614103 0.95224875 0.95835647 0.99555802 1.\n",
      " 0.97279289 0.96168795 0.94669628 0.94780677 0.96057746 0.96779567\n",
      " 0.96279845 0.96390894 0.97834536 0.98445308 0.98556358 0.98500833\n",
      " 0.98722932 0.99389228 0.99111605 0.99167129 0.97501388 0.94114381\n",
      " 0.94058856 0.93836757 0.92781788 0.93836757 0.93559134 0.93503609\n",
      " 0.91338145 0.89672404 0.90227651 0.91338145 0.9339256  0.91338145\n",
      " 0.91004997 0.8856191  0.87451416 0.87951138 0.88062188 0.87451416\n",
      " 0.88284287 0.88117712 0.8856191  0.87451416 0.86840644 0.86896169\n",
      " 0.86063298 0.86785119 0.86896169 0.87451416 0.87840089 0.88450861\n",
      " 0.88506385 0.91060522 0.92282066 0.91338145 0.91338145 0.91282621\n",
      " 0.89894503 0.88728484 0.8856191  0.8856191  0.87229317 0.85563576\n",
      " 0.81399223 0.80233204 0.79067185 0.80843976 0.78734037 0.77401444\n",
      " 0.77512493 0.7901166  0.79622432 0.78456413 0.61130321 0.60916406\n",
      " 0.60537612 0.60030943 0.59454989 0.58863378 0.58293283 0.57765025\n",
      " 0.57286936 0.56859648 0.56479275 0.5614081 ]\n",
      "12 day output [[0.558402]]\n",
      "13 day input [0.94003331 0.93614659 0.94058856 0.93003887 0.94003331 0.92171016\n",
      " 0.92559689 0.93003887 0.94114381 0.94058856 0.92504164 0.93725708\n",
      " 0.94614103 0.95224875 0.95835647 0.99555802 1.         0.97279289\n",
      " 0.96168795 0.94669628 0.94780677 0.96057746 0.96779567 0.96279845\n",
      " 0.96390894 0.97834536 0.98445308 0.98556358 0.98500833 0.98722932\n",
      " 0.99389228 0.99111605 0.99167129 0.97501388 0.94114381 0.94058856\n",
      " 0.93836757 0.92781788 0.93836757 0.93559134 0.93503609 0.91338145\n",
      " 0.89672404 0.90227651 0.91338145 0.9339256  0.91338145 0.91004997\n",
      " 0.8856191  0.87451416 0.87951138 0.88062188 0.87451416 0.88284287\n",
      " 0.88117712 0.8856191  0.87451416 0.86840644 0.86896169 0.86063298\n",
      " 0.86785119 0.86896169 0.87451416 0.87840089 0.88450861 0.88506385\n",
      " 0.91060522 0.92282066 0.91338145 0.91338145 0.91282621 0.89894503\n",
      " 0.88728484 0.8856191  0.8856191  0.87229317 0.85563576 0.81399223\n",
      " 0.80233204 0.79067185 0.80843976 0.78734037 0.77401444 0.77512493\n",
      " 0.7901166  0.79622432 0.78456413 0.61130321 0.60916406 0.60537612\n",
      " 0.60030943 0.59454989 0.58863378 0.58293283 0.57765025 0.57286936\n",
      " 0.56859648 0.56479275 0.5614081  0.558402  ]\n",
      "13 day output [[0.55574095]]\n",
      "14 day input [0.93614659 0.94058856 0.93003887 0.94003331 0.92171016 0.92559689\n",
      " 0.93003887 0.94114381 0.94058856 0.92504164 0.93725708 0.94614103\n",
      " 0.95224875 0.95835647 0.99555802 1.         0.97279289 0.96168795\n",
      " 0.94669628 0.94780677 0.96057746 0.96779567 0.96279845 0.96390894\n",
      " 0.97834536 0.98445308 0.98556358 0.98500833 0.98722932 0.99389228\n",
      " 0.99111605 0.99167129 0.97501388 0.94114381 0.94058856 0.93836757\n",
      " 0.92781788 0.93836757 0.93559134 0.93503609 0.91338145 0.89672404\n",
      " 0.90227651 0.91338145 0.9339256  0.91338145 0.91004997 0.8856191\n",
      " 0.87451416 0.87951138 0.88062188 0.87451416 0.88284287 0.88117712\n",
      " 0.8856191  0.87451416 0.86840644 0.86896169 0.86063298 0.86785119\n",
      " 0.86896169 0.87451416 0.87840089 0.88450861 0.88506385 0.91060522\n",
      " 0.92282066 0.91338145 0.91338145 0.91282621 0.89894503 0.88728484\n",
      " 0.8856191  0.8856191  0.87229317 0.85563576 0.81399223 0.80233204\n",
      " 0.79067185 0.80843976 0.78734037 0.77401444 0.77512493 0.7901166\n",
      " 0.79622432 0.78456413 0.61130321 0.60916406 0.60537612 0.60030943\n",
      " 0.59454989 0.58863378 0.58293283 0.57765025 0.57286936 0.56859648\n",
      " 0.56479275 0.5614081  0.558402   0.55574095]\n",
      "14 day output [[0.553392]]\n",
      "15 day input [0.94058856 0.93003887 0.94003331 0.92171016 0.92559689 0.93003887\n",
      " 0.94114381 0.94058856 0.92504164 0.93725708 0.94614103 0.95224875\n",
      " 0.95835647 0.99555802 1.         0.97279289 0.96168795 0.94669628\n",
      " 0.94780677 0.96057746 0.96779567 0.96279845 0.96390894 0.97834536\n",
      " 0.98445308 0.98556358 0.98500833 0.98722932 0.99389228 0.99111605\n",
      " 0.99167129 0.97501388 0.94114381 0.94058856 0.93836757 0.92781788\n",
      " 0.93836757 0.93559134 0.93503609 0.91338145 0.89672404 0.90227651\n",
      " 0.91338145 0.9339256  0.91338145 0.91004997 0.8856191  0.87451416\n",
      " 0.87951138 0.88062188 0.87451416 0.88284287 0.88117712 0.8856191\n",
      " 0.87451416 0.86840644 0.86896169 0.86063298 0.86785119 0.86896169\n",
      " 0.87451416 0.87840089 0.88450861 0.88506385 0.91060522 0.92282066\n",
      " 0.91338145 0.91338145 0.91282621 0.89894503 0.88728484 0.8856191\n",
      " 0.8856191  0.87229317 0.85563576 0.81399223 0.80233204 0.79067185\n",
      " 0.80843976 0.78734037 0.77401444 0.77512493 0.7901166  0.79622432\n",
      " 0.78456413 0.61130321 0.60916406 0.60537612 0.60030943 0.59454989\n",
      " 0.58863378 0.58293283 0.57765025 0.57286936 0.56859648 0.56479275\n",
      " 0.5614081  0.558402   0.55574095 0.55339199]\n",
      "15 day output [[0.55131274]]\n",
      "16 day input [0.93003887 0.94003331 0.92171016 0.92559689 0.93003887 0.94114381\n",
      " 0.94058856 0.92504164 0.93725708 0.94614103 0.95224875 0.95835647\n",
      " 0.99555802 1.         0.97279289 0.96168795 0.94669628 0.94780677\n",
      " 0.96057746 0.96779567 0.96279845 0.96390894 0.97834536 0.98445308\n",
      " 0.98556358 0.98500833 0.98722932 0.99389228 0.99111605 0.99167129\n",
      " 0.97501388 0.94114381 0.94058856 0.93836757 0.92781788 0.93836757\n",
      " 0.93559134 0.93503609 0.91338145 0.89672404 0.90227651 0.91338145\n",
      " 0.9339256  0.91338145 0.91004997 0.8856191  0.87451416 0.87951138\n",
      " 0.88062188 0.87451416 0.88284287 0.88117712 0.8856191  0.87451416\n",
      " 0.86840644 0.86896169 0.86063298 0.86785119 0.86896169 0.87451416\n",
      " 0.87840089 0.88450861 0.88506385 0.91060522 0.92282066 0.91338145\n",
      " 0.91338145 0.91282621 0.89894503 0.88728484 0.8856191  0.8856191\n",
      " 0.87229317 0.85563576 0.81399223 0.80233204 0.79067185 0.80843976\n",
      " 0.78734037 0.77401444 0.77512493 0.7901166  0.79622432 0.78456413\n",
      " 0.61130321 0.60916406 0.60537612 0.60030943 0.59454989 0.58863378\n",
      " 0.58293283 0.57765025 0.57286936 0.56859648 0.56479275 0.5614081\n",
      " 0.558402   0.55574095 0.55339199 0.55131274]\n",
      "16 day output [[0.54947096]]\n",
      "17 day input [0.94003331 0.92171016 0.92559689 0.93003887 0.94114381 0.94058856\n",
      " 0.92504164 0.93725708 0.94614103 0.95224875 0.95835647 0.99555802\n",
      " 1.         0.97279289 0.96168795 0.94669628 0.94780677 0.96057746\n",
      " 0.96779567 0.96279845 0.96390894 0.97834536 0.98445308 0.98556358\n",
      " 0.98500833 0.98722932 0.99389228 0.99111605 0.99167129 0.97501388\n",
      " 0.94114381 0.94058856 0.93836757 0.92781788 0.93836757 0.93559134\n",
      " 0.93503609 0.91338145 0.89672404 0.90227651 0.91338145 0.9339256\n",
      " 0.91338145 0.91004997 0.8856191  0.87451416 0.87951138 0.88062188\n",
      " 0.87451416 0.88284287 0.88117712 0.8856191  0.87451416 0.86840644\n",
      " 0.86896169 0.86063298 0.86785119 0.86896169 0.87451416 0.87840089\n",
      " 0.88450861 0.88506385 0.91060522 0.92282066 0.91338145 0.91338145\n",
      " 0.91282621 0.89894503 0.88728484 0.8856191  0.8856191  0.87229317\n",
      " 0.85563576 0.81399223 0.80233204 0.79067185 0.80843976 0.78734037\n",
      " 0.77401444 0.77512493 0.7901166  0.79622432 0.78456413 0.61130321\n",
      " 0.60916406 0.60537612 0.60030943 0.59454989 0.58863378 0.58293283\n",
      " 0.57765025 0.57286936 0.56859648 0.56479275 0.5614081  0.558402\n",
      " 0.55574095 0.55339199 0.55131274 0.54947096]\n",
      "17 day output [[0.5478426]]\n",
      "18 day input [0.92171016 0.92559689 0.93003887 0.94114381 0.94058856 0.92504164\n",
      " 0.93725708 0.94614103 0.95224875 0.95835647 0.99555802 1.\n",
      " 0.97279289 0.96168795 0.94669628 0.94780677 0.96057746 0.96779567\n",
      " 0.96279845 0.96390894 0.97834536 0.98445308 0.98556358 0.98500833\n",
      " 0.98722932 0.99389228 0.99111605 0.99167129 0.97501388 0.94114381\n",
      " 0.94058856 0.93836757 0.92781788 0.93836757 0.93559134 0.93503609\n",
      " 0.91338145 0.89672404 0.90227651 0.91338145 0.9339256  0.91338145\n",
      " 0.91004997 0.8856191  0.87451416 0.87951138 0.88062188 0.87451416\n",
      " 0.88284287 0.88117712 0.8856191  0.87451416 0.86840644 0.86896169\n",
      " 0.86063298 0.86785119 0.86896169 0.87451416 0.87840089 0.88450861\n",
      " 0.88506385 0.91060522 0.92282066 0.91338145 0.91338145 0.91282621\n",
      " 0.89894503 0.88728484 0.8856191  0.8856191  0.87229317 0.85563576\n",
      " 0.81399223 0.80233204 0.79067185 0.80843976 0.78734037 0.77401444\n",
      " 0.77512493 0.7901166  0.79622432 0.78456413 0.61130321 0.60916406\n",
      " 0.60537612 0.60030943 0.59454989 0.58863378 0.58293283 0.57765025\n",
      " 0.57286936 0.56859648 0.56479275 0.5614081  0.558402   0.55574095\n",
      " 0.55339199 0.55131274 0.54947096 0.54784262]\n",
      "18 day output [[0.546397]]\n",
      "19 day input [0.92559689 0.93003887 0.94114381 0.94058856 0.92504164 0.93725708\n",
      " 0.94614103 0.95224875 0.95835647 0.99555802 1.         0.97279289\n",
      " 0.96168795 0.94669628 0.94780677 0.96057746 0.96779567 0.96279845\n",
      " 0.96390894 0.97834536 0.98445308 0.98556358 0.98500833 0.98722932\n",
      " 0.99389228 0.99111605 0.99167129 0.97501388 0.94114381 0.94058856\n",
      " 0.93836757 0.92781788 0.93836757 0.93559134 0.93503609 0.91338145\n",
      " 0.89672404 0.90227651 0.91338145 0.9339256  0.91338145 0.91004997\n",
      " 0.8856191  0.87451416 0.87951138 0.88062188 0.87451416 0.88284287\n",
      " 0.88117712 0.8856191  0.87451416 0.86840644 0.86896169 0.86063298\n",
      " 0.86785119 0.86896169 0.87451416 0.87840089 0.88450861 0.88506385\n",
      " 0.91060522 0.92282066 0.91338145 0.91338145 0.91282621 0.89894503\n",
      " 0.88728484 0.8856191  0.8856191  0.87229317 0.85563576 0.81399223\n",
      " 0.80233204 0.79067185 0.80843976 0.78734037 0.77401444 0.77512493\n",
      " 0.7901166  0.79622432 0.78456413 0.61130321 0.60916406 0.60537612\n",
      " 0.60030943 0.59454989 0.58863378 0.58293283 0.57765025 0.57286936\n",
      " 0.56859648 0.56479275 0.5614081  0.558402   0.55574095 0.55339199\n",
      " 0.55131274 0.54947096 0.54784262 0.54639697]\n",
      "19 day output [[0.5451245]]\n",
      "20 day input [0.93003887 0.94114381 0.94058856 0.92504164 0.93725708 0.94614103\n",
      " 0.95224875 0.95835647 0.99555802 1.         0.97279289 0.96168795\n",
      " 0.94669628 0.94780677 0.96057746 0.96779567 0.96279845 0.96390894\n",
      " 0.97834536 0.98445308 0.98556358 0.98500833 0.98722932 0.99389228\n",
      " 0.99111605 0.99167129 0.97501388 0.94114381 0.94058856 0.93836757\n",
      " 0.92781788 0.93836757 0.93559134 0.93503609 0.91338145 0.89672404\n",
      " 0.90227651 0.91338145 0.9339256  0.91338145 0.91004997 0.8856191\n",
      " 0.87451416 0.87951138 0.88062188 0.87451416 0.88284287 0.88117712\n",
      " 0.8856191  0.87451416 0.86840644 0.86896169 0.86063298 0.86785119\n",
      " 0.86896169 0.87451416 0.87840089 0.88450861 0.88506385 0.91060522\n",
      " 0.92282066 0.91338145 0.91338145 0.91282621 0.89894503 0.88728484\n",
      " 0.8856191  0.8856191  0.87229317 0.85563576 0.81399223 0.80233204\n",
      " 0.79067185 0.80843976 0.78734037 0.77401444 0.77512493 0.7901166\n",
      " 0.79622432 0.78456413 0.61130321 0.60916406 0.60537612 0.60030943\n",
      " 0.59454989 0.58863378 0.58293283 0.57765025 0.57286936 0.56859648\n",
      " 0.56479275 0.5614081  0.558402   0.55574095 0.55339199 0.55131274\n",
      " 0.54947096 0.54784262 0.54639697 0.54512447]\n",
      "20 day output [[0.5439971]]\n",
      "21 day input [0.94114381 0.94058856 0.92504164 0.93725708 0.94614103 0.95224875\n",
      " 0.95835647 0.99555802 1.         0.97279289 0.96168795 0.94669628\n",
      " 0.94780677 0.96057746 0.96779567 0.96279845 0.96390894 0.97834536\n",
      " 0.98445308 0.98556358 0.98500833 0.98722932 0.99389228 0.99111605\n",
      " 0.99167129 0.97501388 0.94114381 0.94058856 0.93836757 0.92781788\n",
      " 0.93836757 0.93559134 0.93503609 0.91338145 0.89672404 0.90227651\n",
      " 0.91338145 0.9339256  0.91338145 0.91004997 0.8856191  0.87451416\n",
      " 0.87951138 0.88062188 0.87451416 0.88284287 0.88117712 0.8856191\n",
      " 0.87451416 0.86840644 0.86896169 0.86063298 0.86785119 0.86896169\n",
      " 0.87451416 0.87840089 0.88450861 0.88506385 0.91060522 0.92282066\n",
      " 0.91338145 0.91338145 0.91282621 0.89894503 0.88728484 0.8856191\n",
      " 0.8856191  0.87229317 0.85563576 0.81399223 0.80233204 0.79067185\n",
      " 0.80843976 0.78734037 0.77401444 0.77512493 0.7901166  0.79622432\n",
      " 0.78456413 0.61130321 0.60916406 0.60537612 0.60030943 0.59454989\n",
      " 0.58863378 0.58293283 0.57765025 0.57286936 0.56859648 0.56479275\n",
      " 0.5614081  0.558402   0.55574095 0.55339199 0.55131274 0.54947096\n",
      " 0.54784262 0.54639697 0.54512447 0.54399711]\n",
      "21 day output [[0.54299515]]\n",
      "22 day input [0.94058856 0.92504164 0.93725708 0.94614103 0.95224875 0.95835647\n",
      " 0.99555802 1.         0.97279289 0.96168795 0.94669628 0.94780677\n",
      " 0.96057746 0.96779567 0.96279845 0.96390894 0.97834536 0.98445308\n",
      " 0.98556358 0.98500833 0.98722932 0.99389228 0.99111605 0.99167129\n",
      " 0.97501388 0.94114381 0.94058856 0.93836757 0.92781788 0.93836757\n",
      " 0.93559134 0.93503609 0.91338145 0.89672404 0.90227651 0.91338145\n",
      " 0.9339256  0.91338145 0.91004997 0.8856191  0.87451416 0.87951138\n",
      " 0.88062188 0.87451416 0.88284287 0.88117712 0.8856191  0.87451416\n",
      " 0.86840644 0.86896169 0.86063298 0.86785119 0.86896169 0.87451416\n",
      " 0.87840089 0.88450861 0.88506385 0.91060522 0.92282066 0.91338145\n",
      " 0.91338145 0.91282621 0.89894503 0.88728484 0.8856191  0.8856191\n",
      " 0.87229317 0.85563576 0.81399223 0.80233204 0.79067185 0.80843976\n",
      " 0.78734037 0.77401444 0.77512493 0.7901166  0.79622432 0.78456413\n",
      " 0.61130321 0.60916406 0.60537612 0.60030943 0.59454989 0.58863378\n",
      " 0.58293283 0.57765025 0.57286936 0.56859648 0.56479275 0.5614081\n",
      " 0.558402   0.55574095 0.55339199 0.55131274 0.54947096 0.54784262\n",
      " 0.54639697 0.54512447 0.54399711 0.54299515]\n",
      "22 day output [[0.54209864]]\n",
      "23 day input [0.92504164 0.93725708 0.94614103 0.95224875 0.95835647 0.99555802\n",
      " 1.         0.97279289 0.96168795 0.94669628 0.94780677 0.96057746\n",
      " 0.96779567 0.96279845 0.96390894 0.97834536 0.98445308 0.98556358\n",
      " 0.98500833 0.98722932 0.99389228 0.99111605 0.99167129 0.97501388\n",
      " 0.94114381 0.94058856 0.93836757 0.92781788 0.93836757 0.93559134\n",
      " 0.93503609 0.91338145 0.89672404 0.90227651 0.91338145 0.9339256\n",
      " 0.91338145 0.91004997 0.8856191  0.87451416 0.87951138 0.88062188\n",
      " 0.87451416 0.88284287 0.88117712 0.8856191  0.87451416 0.86840644\n",
      " 0.86896169 0.86063298 0.86785119 0.86896169 0.87451416 0.87840089\n",
      " 0.88450861 0.88506385 0.91060522 0.92282066 0.91338145 0.91338145\n",
      " 0.91282621 0.89894503 0.88728484 0.8856191  0.8856191  0.87229317\n",
      " 0.85563576 0.81399223 0.80233204 0.79067185 0.80843976 0.78734037\n",
      " 0.77401444 0.77512493 0.7901166  0.79622432 0.78456413 0.61130321\n",
      " 0.60916406 0.60537612 0.60030943 0.59454989 0.58863378 0.58293283\n",
      " 0.57765025 0.57286936 0.56859648 0.56479275 0.5614081  0.558402\n",
      " 0.55574095 0.55339199 0.55131274 0.54947096 0.54784262 0.54639697\n",
      " 0.54512447 0.54399711 0.54299515 0.54209864]\n",
      "23 day output [[0.5413028]]\n",
      "24 day input [0.93725708 0.94614103 0.95224875 0.95835647 0.99555802 1.\n",
      " 0.97279289 0.96168795 0.94669628 0.94780677 0.96057746 0.96779567\n",
      " 0.96279845 0.96390894 0.97834536 0.98445308 0.98556358 0.98500833\n",
      " 0.98722932 0.99389228 0.99111605 0.99167129 0.97501388 0.94114381\n",
      " 0.94058856 0.93836757 0.92781788 0.93836757 0.93559134 0.93503609\n",
      " 0.91338145 0.89672404 0.90227651 0.91338145 0.9339256  0.91338145\n",
      " 0.91004997 0.8856191  0.87451416 0.87951138 0.88062188 0.87451416\n",
      " 0.88284287 0.88117712 0.8856191  0.87451416 0.86840644 0.86896169\n",
      " 0.86063298 0.86785119 0.86896169 0.87451416 0.87840089 0.88450861\n",
      " 0.88506385 0.91060522 0.92282066 0.91338145 0.91338145 0.91282621\n",
      " 0.89894503 0.88728484 0.8856191  0.8856191  0.87229317 0.85563576\n",
      " 0.81399223 0.80233204 0.79067185 0.80843976 0.78734037 0.77401444\n",
      " 0.77512493 0.7901166  0.79622432 0.78456413 0.61130321 0.60916406\n",
      " 0.60537612 0.60030943 0.59454989 0.58863378 0.58293283 0.57765025\n",
      " 0.57286936 0.56859648 0.56479275 0.5614081  0.558402   0.55574095\n",
      " 0.55339199 0.55131274 0.54947096 0.54784262 0.54639697 0.54512447\n",
      " 0.54399711 0.54299515 0.54209864 0.5413028 ]\n",
      "24 day output [[0.5406036]]\n",
      "25 day input [0.94614103 0.95224875 0.95835647 0.99555802 1.         0.97279289\n",
      " 0.96168795 0.94669628 0.94780677 0.96057746 0.96779567 0.96279845\n",
      " 0.96390894 0.97834536 0.98445308 0.98556358 0.98500833 0.98722932\n",
      " 0.99389228 0.99111605 0.99167129 0.97501388 0.94114381 0.94058856\n",
      " 0.93836757 0.92781788 0.93836757 0.93559134 0.93503609 0.91338145\n",
      " 0.89672404 0.90227651 0.91338145 0.9339256  0.91338145 0.91004997\n",
      " 0.8856191  0.87451416 0.87951138 0.88062188 0.87451416 0.88284287\n",
      " 0.88117712 0.8856191  0.87451416 0.86840644 0.86896169 0.86063298\n",
      " 0.86785119 0.86896169 0.87451416 0.87840089 0.88450861 0.88506385\n",
      " 0.91060522 0.92282066 0.91338145 0.91338145 0.91282621 0.89894503\n",
      " 0.88728484 0.8856191  0.8856191  0.87229317 0.85563576 0.81399223\n",
      " 0.80233204 0.79067185 0.80843976 0.78734037 0.77401444 0.77512493\n",
      " 0.7901166  0.79622432 0.78456413 0.61130321 0.60916406 0.60537612\n",
      " 0.60030943 0.59454989 0.58863378 0.58293283 0.57765025 0.57286936\n",
      " 0.56859648 0.56479275 0.5614081  0.558402   0.55574095 0.55339199\n",
      " 0.55131274 0.54947096 0.54784262 0.54639697 0.54512447 0.54399711\n",
      " 0.54299515 0.54209864 0.5413028  0.54060358]\n",
      "25 day output [[0.5399779]]\n",
      "26 day input [0.95224875 0.95835647 0.99555802 1.         0.97279289 0.96168795\n",
      " 0.94669628 0.94780677 0.96057746 0.96779567 0.96279845 0.96390894\n",
      " 0.97834536 0.98445308 0.98556358 0.98500833 0.98722932 0.99389228\n",
      " 0.99111605 0.99167129 0.97501388 0.94114381 0.94058856 0.93836757\n",
      " 0.92781788 0.93836757 0.93559134 0.93503609 0.91338145 0.89672404\n",
      " 0.90227651 0.91338145 0.9339256  0.91338145 0.91004997 0.8856191\n",
      " 0.87451416 0.87951138 0.88062188 0.87451416 0.88284287 0.88117712\n",
      " 0.8856191  0.87451416 0.86840644 0.86896169 0.86063298 0.86785119\n",
      " 0.86896169 0.87451416 0.87840089 0.88450861 0.88506385 0.91060522\n",
      " 0.92282066 0.91338145 0.91338145 0.91282621 0.89894503 0.88728484\n",
      " 0.8856191  0.8856191  0.87229317 0.85563576 0.81399223 0.80233204\n",
      " 0.79067185 0.80843976 0.78734037 0.77401444 0.77512493 0.7901166\n",
      " 0.79622432 0.78456413 0.61130321 0.60916406 0.60537612 0.60030943\n",
      " 0.59454989 0.58863378 0.58293283 0.57765025 0.57286936 0.56859648\n",
      " 0.56479275 0.5614081  0.558402   0.55574095 0.55339199 0.55131274\n",
      " 0.54947096 0.54784262 0.54639697 0.54512447 0.54399711 0.54299515\n",
      " 0.54209864 0.5413028  0.54060358 0.53997791]\n",
      "26 day output [[0.5394182]]\n",
      "27 day input [0.95835647 0.99555802 1.         0.97279289 0.96168795 0.94669628\n",
      " 0.94780677 0.96057746 0.96779567 0.96279845 0.96390894 0.97834536\n",
      " 0.98445308 0.98556358 0.98500833 0.98722932 0.99389228 0.99111605\n",
      " 0.99167129 0.97501388 0.94114381 0.94058856 0.93836757 0.92781788\n",
      " 0.93836757 0.93559134 0.93503609 0.91338145 0.89672404 0.90227651\n",
      " 0.91338145 0.9339256  0.91338145 0.91004997 0.8856191  0.87451416\n",
      " 0.87951138 0.88062188 0.87451416 0.88284287 0.88117712 0.8856191\n",
      " 0.87451416 0.86840644 0.86896169 0.86063298 0.86785119 0.86896169\n",
      " 0.87451416 0.87840089 0.88450861 0.88506385 0.91060522 0.92282066\n",
      " 0.91338145 0.91338145 0.91282621 0.89894503 0.88728484 0.8856191\n",
      " 0.8856191  0.87229317 0.85563576 0.81399223 0.80233204 0.79067185\n",
      " 0.80843976 0.78734037 0.77401444 0.77512493 0.7901166  0.79622432\n",
      " 0.78456413 0.61130321 0.60916406 0.60537612 0.60030943 0.59454989\n",
      " 0.58863378 0.58293283 0.57765025 0.57286936 0.56859648 0.56479275\n",
      " 0.5614081  0.558402   0.55574095 0.55339199 0.55131274 0.54947096\n",
      " 0.54784262 0.54639697 0.54512447 0.54399711 0.54299515 0.54209864\n",
      " 0.5413028  0.54060358 0.53997791 0.53941822]\n",
      "27 day output [[0.5389217]]\n",
      "28 day input [0.99555802 1.         0.97279289 0.96168795 0.94669628 0.94780677\n",
      " 0.96057746 0.96779567 0.96279845 0.96390894 0.97834536 0.98445308\n",
      " 0.98556358 0.98500833 0.98722932 0.99389228 0.99111605 0.99167129\n",
      " 0.97501388 0.94114381 0.94058856 0.93836757 0.92781788 0.93836757\n",
      " 0.93559134 0.93503609 0.91338145 0.89672404 0.90227651 0.91338145\n",
      " 0.9339256  0.91338145 0.91004997 0.8856191  0.87451416 0.87951138\n",
      " 0.88062188 0.87451416 0.88284287 0.88117712 0.8856191  0.87451416\n",
      " 0.86840644 0.86896169 0.86063298 0.86785119 0.86896169 0.87451416\n",
      " 0.87840089 0.88450861 0.88506385 0.91060522 0.92282066 0.91338145\n",
      " 0.91338145 0.91282621 0.89894503 0.88728484 0.8856191  0.8856191\n",
      " 0.87229317 0.85563576 0.81399223 0.80233204 0.79067185 0.80843976\n",
      " 0.78734037 0.77401444 0.77512493 0.7901166  0.79622432 0.78456413\n",
      " 0.61130321 0.60916406 0.60537612 0.60030943 0.59454989 0.58863378\n",
      " 0.58293283 0.57765025 0.57286936 0.56859648 0.56479275 0.5614081\n",
      " 0.558402   0.55574095 0.55339199 0.55131274 0.54947096 0.54784262\n",
      " 0.54639697 0.54512447 0.54399711 0.54299515 0.54209864 0.5413028\n",
      " 0.54060358 0.53997791 0.53941822 0.53892171]\n",
      "28 day output [[0.53847885]]\n",
      "29 day input [1.         0.97279289 0.96168795 0.94669628 0.94780677 0.96057746\n",
      " 0.96779567 0.96279845 0.96390894 0.97834536 0.98445308 0.98556358\n",
      " 0.98500833 0.98722932 0.99389228 0.99111605 0.99167129 0.97501388\n",
      " 0.94114381 0.94058856 0.93836757 0.92781788 0.93836757 0.93559134\n",
      " 0.93503609 0.91338145 0.89672404 0.90227651 0.91338145 0.9339256\n",
      " 0.91338145 0.91004997 0.8856191  0.87451416 0.87951138 0.88062188\n",
      " 0.87451416 0.88284287 0.88117712 0.8856191  0.87451416 0.86840644\n",
      " 0.86896169 0.86063298 0.86785119 0.86896169 0.87451416 0.87840089\n",
      " 0.88450861 0.88506385 0.91060522 0.92282066 0.91338145 0.91338145\n",
      " 0.91282621 0.89894503 0.88728484 0.8856191  0.8856191  0.87229317\n",
      " 0.85563576 0.81399223 0.80233204 0.79067185 0.80843976 0.78734037\n",
      " 0.77401444 0.77512493 0.7901166  0.79622432 0.78456413 0.61130321\n",
      " 0.60916406 0.60537612 0.60030943 0.59454989 0.58863378 0.58293283\n",
      " 0.57765025 0.57286936 0.56859648 0.56479275 0.5614081  0.558402\n",
      " 0.55574095 0.55339199 0.55131274 0.54947096 0.54784262 0.54639697\n",
      " 0.54512447 0.54399711 0.54299515 0.54209864 0.5413028  0.54060358\n",
      " 0.53997791 0.53941822 0.53892171 0.53847885]\n",
      "29 day output [[0.53805643]]\n",
      "[[0.6113032102584839], [0.6091640591621399], [0.605376124382019], [0.600309431552887], [0.5945498943328857], [0.5886337757110596], [0.5829328298568726], [0.577650249004364], [0.5728693604469299], [0.5685964822769165], [0.5647927522659302], [0.5614081025123596], [0.5584020018577576], [0.5557409524917603], [0.5533919930458069], [0.5513127446174622], [0.5494709610939026], [0.5478426218032837], [0.5463969707489014], [0.5451244711875916], [0.5439971089363098], [0.5429951548576355], [0.5420986413955688], [0.5413028001785278], [0.5406035780906677], [0.5399779081344604], [0.5394182205200195], [0.5389217138290405], [0.5384788513183594], [0.5380564332008362]]\n"
     ]
    }
   ],
   "source": [
    "# demonstrate prediction for next 10 days\n",
    "from numpy import array\n",
    "\n",
    "lst_output=[]\n",
    "n_steps=100\n",
    "i=0\n",
    "while(i<30):\n",
    "    \n",
    "    if(len(temp_input)>100):\n",
    "        #print(temp_input)\n",
    "        x_input=np.array(temp_input[1:])\n",
    "        print(\"{} day input {}\".format(i,x_input))\n",
    "        x_input=x_input.reshape(1,-1)\n",
    "        x_input = x_input.reshape((1, n_steps, 1))\n",
    "        #print(x_input)\n",
    "        yhat = model.predict(x_input, verbose=0)\n",
    "        print(\"{} day output {}\".format(i,yhat))\n",
    "        temp_input.extend(yhat[0].tolist())\n",
    "        temp_input=temp_input[1:]\n",
    "        #print(temp_input)\n",
    "        lst_output.extend(yhat.tolist())\n",
    "        i=i+1\n",
    "    else:\n",
    "        x_input = x_input.reshape((1, n_steps,1))\n",
    "        yhat = model.predict(x_input, verbose=0)\n",
    "        print(yhat[0])\n",
    "        temp_input.extend(yhat[0].tolist())\n",
    "        print(len(temp_input))\n",
    "        lst_output.extend(yhat.tolist())\n",
    "        i=i+1\n",
    "    \n",
    "\n",
    "print(lst_output)"
   ]
  },
  {
   "cell_type": "code",
   "execution_count": 39,
   "metadata": {},
   "outputs": [],
   "source": [
    "day_new=np.arange(1,101)\n",
    "day_pred=np.arange(101,131)"
   ]
  },
  {
   "cell_type": "code",
   "execution_count": 40,
   "metadata": {},
   "outputs": [],
   "source": [
    "import matplotlib.pyplot as plt"
   ]
  },
  {
   "cell_type": "code",
   "execution_count": 41,
   "metadata": {},
   "outputs": [
    {
     "data": {
      "text/plain": [
       "2358"
      ]
     },
     "execution_count": 41,
     "metadata": {},
     "output_type": "execute_result"
    }
   ],
   "source": [
    "len(df1)"
   ]
  },
  {
   "cell_type": "code",
   "execution_count": 42,
   "metadata": {},
   "outputs": [
    {
     "data": {
      "text/plain": [
       "[<matplotlib.lines.Line2D at 0x1e8fd1b95b0>]"
      ]
     },
     "execution_count": 42,
     "metadata": {},
     "output_type": "execute_result"
    },
    {
     "data": {
      "image/png": "[encoded data removed]",
      "text/plain": [
       "<Figure size 640x480 with 1 Axes>"
      ]
     },
     "metadata": {},
     "output_type": "display_data"
    }
   ],
   "source": [
    "plt.plot(day_new,scaler.inverse_transform(df1[2258:]))\n",
    "plt.plot(day_pred,scaler.inverse_transform(lst_output))"
   ]
  },
  {
   "cell_type": "code",
   "execution_count": 43,
   "metadata": {},
   "outputs": [
    {
     "data": {
      "text/plain": [
       "[<matplotlib.lines.Line2D at 0x1e8fe45ef00>]"
      ]
     },
     "execution_count": 43,
     "metadata": {},
     "output_type": "execute_result"
    },
    {
     "data": {
      "image/png": "[encoded data removed]",
      "text/plain": [
       "<Figure size 640x480 with 1 Axes>"
      ]
     },
     "metadata": {},
     "output_type": "display_data"
    }
   ],
   "source": [
    "df3=df1.tolist()\n",
    "df3.extend(lst_output)\n",
    "plt.plot(df3[1200:])"
   ]
  },
  {
   "cell_type": "code",
   "execution_count": 44,
   "metadata": {},
   "outputs": [],
   "source": [
    "df3=scaler.inverse_transform(df3).tolist()"
   ]
  },
  {
   "cell_type": "code",
   "execution_count": 45,
   "metadata": {},
   "outputs": [
    {
     "data": {
      "text/plain": [
       "[<matplotlib.lines.Line2D at 0x1e8fe54ed20>]"
      ]
     },
     "execution_count": 45,
     "metadata": {},
     "output_type": "execute_result"
    },
    {
     "data": {
      "image/png": "[encoded data removed]",
      "text/plain": [
       "<Figure size 640x480 with 1 Axes>"
      ]
     },
     "metadata": {},
     "output_type": "display_data"
    }
   ],
   "source": [
    "plt.plot(df3)"
   ]
  },
  {
   "cell_type": "code",
   "execution_count": null,
   "metadata": {},
   "outputs": [],
   "source": []
  },
  {
   "cell_type": "code",
   "execution_count": null,
   "metadata": {},
   "outputs": [],
   "source": []
  }
 ],
 "metadata": {
  "kernelspec": {
   "display_name": "Python 3 (ipykernel)",
   "language": "python",
   "name": "python3"
  },
  "language_info": {
   "codemirror_mode": {
    "name": "ipython",
    "version": 3
   },
   "file_extension": ".py",
   "mimetype": "text/x-python",
   "name": "python",
   "nbconvert_exporter": "python",
   "pygments_lexer": "ipython3",
   "version": "3.12.3"
  }
 },
 "nbformat": 4,
 "nbformat_minor": 4
}
