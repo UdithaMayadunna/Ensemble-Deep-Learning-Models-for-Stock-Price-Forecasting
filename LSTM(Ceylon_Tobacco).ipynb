{
 "cells": [
  {
   "cell_type": "markdown",
   "metadata": {},
   "source": [
    "### Stock Market Prediction And Forecasting Using Stacked LSTM"
   ]
  },
  {
   "cell_type": "code",
   "execution_count": 1,
   "metadata": {},
   "outputs": [],
   "source": [
    "### Keras and Tensorflow >2.0"
   ]
  },
  {
   "cell_type": "code",
   "execution_count": 2,
   "metadata": {},
   "outputs": [],
   "source": [
    "import pandas as pd"
   ]
  },
  {
   "cell_type": "code",
   "execution_count": 3,
   "metadata": {},
   "outputs": [],
   "source": [
    "df=pd.read_csv('Ceylon_Tobacco.csv')"
   ]
  },
  {
   "cell_type": "code",
   "execution_count": 4,
   "metadata": {},
   "outputs": [
    {
     "data": {
      "text/html": [
       "<div>\n",
       "<style scoped>\n",
       "    .dataframe tbody tr th:only-of-type {\n",
       "        vertical-align: middle;\n",
       "    }\n",
       "\n",
       "    .dataframe tbody tr th {\n",
       "        vertical-align: top;\n",
       "    }\n",
       "\n",
       "    .dataframe thead th {\n",
       "        text-align: right;\n",
       "    }\n",
       "</style>\n",
       "<table border=\"1\" class=\"dataframe\">\n",
       "  <thead>\n",
       "    <tr style=\"text-align: right;\">\n",
       "      <th></th>\n",
       "      <th>Trade Date</th>\n",
       "      <th>Open (Rs.)</th>\n",
       "      <th>High (Rs.)</th>\n",
       "      <th>Low (Rs.)</th>\n",
       "      <th>Close (Rs.)</th>\n",
       "      <th>TradeVolume</th>\n",
       "      <th>ShareVolume</th>\n",
       "      <th>Turnover (Rs.)</th>\n",
       "    </tr>\n",
       "  </thead>\n",
       "  <tbody>\n",
       "    <tr>\n",
       "      <th>0</th>\n",
       "      <td>6/24/24</td>\n",
       "      <td>1252.00</td>\n",
       "      <td>1252.00</td>\n",
       "      <td>1200.0</td>\n",
       "      <td>1214.0</td>\n",
       "      <td>66</td>\n",
       "      <td>1402</td>\n",
       "      <td>1706554.00</td>\n",
       "    </tr>\n",
       "    <tr>\n",
       "      <th>1</th>\n",
       "      <td>6/20/24</td>\n",
       "      <td>1255.00</td>\n",
       "      <td>1255.00</td>\n",
       "      <td>1251.0</td>\n",
       "      <td>1252.5</td>\n",
       "      <td>20</td>\n",
       "      <td>414</td>\n",
       "      <td>518944.25</td>\n",
       "    </tr>\n",
       "    <tr>\n",
       "      <th>2</th>\n",
       "      <td>6/19/24</td>\n",
       "      <td>1267.75</td>\n",
       "      <td>1267.75</td>\n",
       "      <td>1252.0</td>\n",
       "      <td>1255.0</td>\n",
       "      <td>35</td>\n",
       "      <td>16279</td>\n",
       "      <td>20430181.50</td>\n",
       "    </tr>\n",
       "    <tr>\n",
       "      <th>3</th>\n",
       "      <td>6/18/24</td>\n",
       "      <td>1256.00</td>\n",
       "      <td>1267.50</td>\n",
       "      <td>1255.0</td>\n",
       "      <td>1260.0</td>\n",
       "      <td>23</td>\n",
       "      <td>522</td>\n",
       "      <td>656977.50</td>\n",
       "    </tr>\n",
       "    <tr>\n",
       "      <th>4</th>\n",
       "      <td>6/14/24</td>\n",
       "      <td>1258.00</td>\n",
       "      <td>1265.00</td>\n",
       "      <td>1255.0</td>\n",
       "      <td>1258.0</td>\n",
       "      <td>15</td>\n",
       "      <td>381</td>\n",
       "      <td>479286.50</td>\n",
       "    </tr>\n",
       "  </tbody>\n",
       "</table>\n",
       "</div>"
      ],
      "text/plain": [
       "  Trade Date  Open (Rs.)  High (Rs.)  Low (Rs.)  Close (Rs.)  TradeVolume  \\\n",
       "0    6/24/24     1252.00     1252.00     1200.0       1214.0           66   \n",
       "1    6/20/24     1255.00     1255.00     1251.0       1252.5           20   \n",
       "2    6/19/24     1267.75     1267.75     1252.0       1255.0           35   \n",
       "3    6/18/24     1256.00     1267.50     1255.0       1260.0           23   \n",
       "4    6/14/24     1258.00     1265.00     1255.0       1258.0           15   \n",
       "\n",
       "   ShareVolume  Turnover (Rs.)  \n",
       "0         1402      1706554.00  \n",
       "1          414       518944.25  \n",
       "2        16279     20430181.50  \n",
       "3          522       656977.50  \n",
       "4          381       479286.50  "
      ]
     },
     "execution_count": 4,
     "metadata": {},
     "output_type": "execute_result"
    }
   ],
   "source": [
    "df.head()"
   ]
  },
  {
   "cell_type": "code",
   "execution_count": 5,
   "metadata": {},
   "outputs": [
    {
     "data": {
      "text/html": [
       "<div>\n",
       "<style scoped>\n",
       "    .dataframe tbody tr th:only-of-type {\n",
       "        vertical-align: middle;\n",
       "    }\n",
       "\n",
       "    .dataframe tbody tr th {\n",
       "        vertical-align: top;\n",
       "    }\n",
       "\n",
       "    .dataframe thead th {\n",
       "        text-align: right;\n",
       "    }\n",
       "</style>\n",
       "<table border=\"1\" class=\"dataframe\">\n",
       "  <thead>\n",
       "    <tr style=\"text-align: right;\">\n",
       "      <th></th>\n",
       "      <th>Trade Date</th>\n",
       "      <th>Open (Rs.)</th>\n",
       "      <th>High (Rs.)</th>\n",
       "      <th>Low (Rs.)</th>\n",
       "      <th>Close (Rs.)</th>\n",
       "      <th>TradeVolume</th>\n",
       "      <th>ShareVolume</th>\n",
       "      <th>Turnover (Rs.)</th>\n",
       "    </tr>\n",
       "  </thead>\n",
       "  <tbody>\n",
       "    <tr>\n",
       "      <th>0</th>\n",
       "      <td>6/24/24</td>\n",
       "      <td>1252.00</td>\n",
       "      <td>1252.00</td>\n",
       "      <td>1200.00</td>\n",
       "      <td>1214.00</td>\n",
       "      <td>66</td>\n",
       "      <td>1402</td>\n",
       "      <td>1706554.00</td>\n",
       "    </tr>\n",
       "    <tr>\n",
       "      <th>1</th>\n",
       "      <td>6/20/24</td>\n",
       "      <td>1255.00</td>\n",
       "      <td>1255.00</td>\n",
       "      <td>1251.00</td>\n",
       "      <td>1252.50</td>\n",
       "      <td>20</td>\n",
       "      <td>414</td>\n",
       "      <td>518944.25</td>\n",
       "    </tr>\n",
       "    <tr>\n",
       "      <th>2</th>\n",
       "      <td>6/19/24</td>\n",
       "      <td>1267.75</td>\n",
       "      <td>1267.75</td>\n",
       "      <td>1252.00</td>\n",
       "      <td>1255.00</td>\n",
       "      <td>35</td>\n",
       "      <td>16279</td>\n",
       "      <td>20430181.50</td>\n",
       "    </tr>\n",
       "    <tr>\n",
       "      <th>3</th>\n",
       "      <td>6/18/24</td>\n",
       "      <td>1256.00</td>\n",
       "      <td>1267.50</td>\n",
       "      <td>1255.00</td>\n",
       "      <td>1260.00</td>\n",
       "      <td>23</td>\n",
       "      <td>522</td>\n",
       "      <td>656977.50</td>\n",
       "    </tr>\n",
       "    <tr>\n",
       "      <th>4</th>\n",
       "      <td>6/14/24</td>\n",
       "      <td>1258.00</td>\n",
       "      <td>1265.00</td>\n",
       "      <td>1255.00</td>\n",
       "      <td>1258.00</td>\n",
       "      <td>15</td>\n",
       "      <td>381</td>\n",
       "      <td>479286.50</td>\n",
       "    </tr>\n",
       "    <tr>\n",
       "      <th>...</th>\n",
       "      <td>...</td>\n",
       "      <td>...</td>\n",
       "      <td>...</td>\n",
       "      <td>...</td>\n",
       "      <td>...</td>\n",
       "      <td>...</td>\n",
       "      <td>...</td>\n",
       "      <td>...</td>\n",
       "    </tr>\n",
       "    <tr>\n",
       "      <th>7091</th>\n",
       "      <td>9/9/91</td>\n",
       "      <td>NaN</td>\n",
       "      <td>45.00</td>\n",
       "      <td>45.00</td>\n",
       "      <td>45.00</td>\n",
       "      <td>2</td>\n",
       "      <td>163</td>\n",
       "      <td>7335.00</td>\n",
       "    </tr>\n",
       "    <tr>\n",
       "      <th>7092</th>\n",
       "      <td>8/30/91</td>\n",
       "      <td>NaN</td>\n",
       "      <td>50.00</td>\n",
       "      <td>49.75</td>\n",
       "      <td>49.75</td>\n",
       "      <td>2</td>\n",
       "      <td>2500</td>\n",
       "      <td>124500.00</td>\n",
       "    </tr>\n",
       "    <tr>\n",
       "      <th>7093</th>\n",
       "      <td>8/29/91</td>\n",
       "      <td>NaN</td>\n",
       "      <td>48.00</td>\n",
       "      <td>48.00</td>\n",
       "      <td>48.00</td>\n",
       "      <td>3</td>\n",
       "      <td>300</td>\n",
       "      <td>14400.00</td>\n",
       "    </tr>\n",
       "    <tr>\n",
       "      <th>7094</th>\n",
       "      <td>8/28/91</td>\n",
       "      <td>NaN</td>\n",
       "      <td>50.00</td>\n",
       "      <td>49.75</td>\n",
       "      <td>49.75</td>\n",
       "      <td>6</td>\n",
       "      <td>3100</td>\n",
       "      <td>154550.00</td>\n",
       "    </tr>\n",
       "    <tr>\n",
       "      <th>7095</th>\n",
       "      <td>8/27/91</td>\n",
       "      <td>NaN</td>\n",
       "      <td>50.00</td>\n",
       "      <td>50.00</td>\n",
       "      <td>50.00</td>\n",
       "      <td>9</td>\n",
       "      <td>5059</td>\n",
       "      <td>252950.00</td>\n",
       "    </tr>\n",
       "  </tbody>\n",
       "</table>\n",
       "<p>7096 rows × 8 columns</p>\n",
       "</div>"
      ],
      "text/plain": [
       "     Trade Date  Open (Rs.)  High (Rs.)  Low (Rs.)  Close (Rs.)  TradeVolume  \\\n",
       "0       6/24/24     1252.00     1252.00    1200.00      1214.00           66   \n",
       "1       6/20/24     1255.00     1255.00    1251.00      1252.50           20   \n",
       "2       6/19/24     1267.75     1267.75    1252.00      1255.00           35   \n",
       "3       6/18/24     1256.00     1267.50    1255.00      1260.00           23   \n",
       "4       6/14/24     1258.00     1265.00    1255.00      1258.00           15   \n",
       "...         ...         ...         ...        ...          ...          ...   \n",
       "7091     9/9/91         NaN       45.00      45.00        45.00            2   \n",
       "7092    8/30/91         NaN       50.00      49.75        49.75            2   \n",
       "7093    8/29/91         NaN       48.00      48.00        48.00            3   \n",
       "7094    8/28/91         NaN       50.00      49.75        49.75            6   \n",
       "7095    8/27/91         NaN       50.00      50.00        50.00            9   \n",
       "\n",
       "      ShareVolume  Turnover (Rs.)  \n",
       "0            1402      1706554.00  \n",
       "1             414       518944.25  \n",
       "2           16279     20430181.50  \n",
       "3             522       656977.50  \n",
       "4             381       479286.50  \n",
       "...           ...             ...  \n",
       "7091          163         7335.00  \n",
       "7092         2500       124500.00  \n",
       "7093          300        14400.00  \n",
       "7094         3100       154550.00  \n",
       "7095         5059       252950.00  \n",
       "\n",
       "[7096 rows x 8 columns]"
      ]
     },
     "execution_count": 5,
     "metadata": {},
     "output_type": "execute_result"
    }
   ],
   "source": [
    "df"
   ]
  },
  {
   "cell_type": "code",
   "execution_count": 6,
   "metadata": {},
   "outputs": [
    {
     "name": "stderr",
     "output_type": "stream",
     "text": [
      "C:\\Users\\udith\\AppData\\Local\\Temp\\ipykernel_16416\\4235463591.py:1: UserWarning: Could not infer format, so each element will be parsed individually, falling back to `dateutil`. To ensure parsing is consistent and as-expected, please specify a format.\n",
      "  df['Trade Date'] = pd.to_datetime(df['Trade Date'])\n"
     ]
    },
    {
     "name": "stdout",
     "output_type": "stream",
     "text": [
      "     Trade Date  Open (Rs.)  High (Rs.)  Low (Rs.)  Close (Rs.)  TradeVolume  \\\n",
      "0    2024-06-24     1252.00     1252.00     1200.0       1214.0           66   \n",
      "1    2024-06-20     1255.00     1255.00     1251.0       1252.5           20   \n",
      "2    2024-06-19     1267.75     1267.75     1252.0       1255.0           35   \n",
      "3    2024-06-18     1256.00     1267.50     1255.0       1260.0           23   \n",
      "4    2024-06-14     1258.00     1265.00     1255.0       1258.0           15   \n",
      "...         ...         ...         ...        ...          ...          ...   \n",
      "2244 2014-06-30     1045.00     1065.00     1044.9       1063.9           34   \n",
      "2245 2014-06-27     1000.00     1050.00     1000.0       1049.8           25   \n",
      "2246 2014-06-26     1000.00     1000.00      999.0        999.0            5   \n",
      "2247 2014-06-25      995.00     1000.00      995.0       1000.0            6   \n",
      "2248 2014-06-24      986.00     1000.00      985.9        999.9           24   \n",
      "\n",
      "      ShareVolume  Turnover (Rs.)  \n",
      "0            1402      1706554.00  \n",
      "1             414       518944.25  \n",
      "2           16279     20430181.50  \n",
      "3             522       656977.50  \n",
      "4             381       479286.50  \n",
      "...           ...             ...  \n",
      "2244        20485     21684448.40  \n",
      "2245        10951     11025940.60  \n",
      "2246          287       286930.00  \n",
      "2247          235       234963.50  \n",
      "2248        27315     27307352.60  \n",
      "\n",
      "[2249 rows x 8 columns]\n"
     ]
    }
   ],
   "source": [
    "df['Trade Date'] = pd.to_datetime(df['Trade Date'])\n",
    "\n",
    "# Define the date range for the last 10 years\n",
    "end_date = df['Trade Date'].max()\n",
    "start_date = end_date - pd.DateOffset(years=10)\n",
    "\n",
    "# Filter the DataFrame to include only the last 10 years of data\n",
    "filtered_df = df[(df['Trade Date'] >= start_date) & (df['Trade Date'] <= end_date)]\n",
    "\n",
    "# Display the filtered DataFrame\n",
    "print(filtered_df)"
   ]
  },
  {
   "cell_type": "code",
   "execution_count": 7,
   "metadata": {},
   "outputs": [
    {
     "data": {
      "text/html": [
       "<div>\n",
       "<style scoped>\n",
       "    .dataframe tbody tr th:only-of-type {\n",
       "        vertical-align: middle;\n",
       "    }\n",
       "\n",
       "    .dataframe tbody tr th {\n",
       "        vertical-align: top;\n",
       "    }\n",
       "\n",
       "    .dataframe thead th {\n",
       "        text-align: right;\n",
       "    }\n",
       "</style>\n",
       "<table border=\"1\" class=\"dataframe\">\n",
       "  <thead>\n",
       "    <tr style=\"text-align: right;\">\n",
       "      <th></th>\n",
       "      <th>Trade Date</th>\n",
       "      <th>Open (Rs.)</th>\n",
       "      <th>High (Rs.)</th>\n",
       "      <th>Low (Rs.)</th>\n",
       "      <th>Close (Rs.)</th>\n",
       "      <th>TradeVolume</th>\n",
       "      <th>ShareVolume</th>\n",
       "      <th>Turnover (Rs.)</th>\n",
       "    </tr>\n",
       "  </thead>\n",
       "  <tbody>\n",
       "    <tr>\n",
       "      <th>2244</th>\n",
       "      <td>2014-06-30</td>\n",
       "      <td>1045.0</td>\n",
       "      <td>1065.0</td>\n",
       "      <td>1044.9</td>\n",
       "      <td>1063.9</td>\n",
       "      <td>34</td>\n",
       "      <td>20485</td>\n",
       "      <td>21684448.4</td>\n",
       "    </tr>\n",
       "    <tr>\n",
       "      <th>2245</th>\n",
       "      <td>2014-06-27</td>\n",
       "      <td>1000.0</td>\n",
       "      <td>1050.0</td>\n",
       "      <td>1000.0</td>\n",
       "      <td>1049.8</td>\n",
       "      <td>25</td>\n",
       "      <td>10951</td>\n",
       "      <td>11025940.6</td>\n",
       "    </tr>\n",
       "    <tr>\n",
       "      <th>2246</th>\n",
       "      <td>2014-06-26</td>\n",
       "      <td>1000.0</td>\n",
       "      <td>1000.0</td>\n",
       "      <td>999.0</td>\n",
       "      <td>999.0</td>\n",
       "      <td>5</td>\n",
       "      <td>287</td>\n",
       "      <td>286930.0</td>\n",
       "    </tr>\n",
       "    <tr>\n",
       "      <th>2247</th>\n",
       "      <td>2014-06-25</td>\n",
       "      <td>995.0</td>\n",
       "      <td>1000.0</td>\n",
       "      <td>995.0</td>\n",
       "      <td>1000.0</td>\n",
       "      <td>6</td>\n",
       "      <td>235</td>\n",
       "      <td>234963.5</td>\n",
       "    </tr>\n",
       "    <tr>\n",
       "      <th>2248</th>\n",
       "      <td>2014-06-24</td>\n",
       "      <td>986.0</td>\n",
       "      <td>1000.0</td>\n",
       "      <td>985.9</td>\n",
       "      <td>999.9</td>\n",
       "      <td>24</td>\n",
       "      <td>27315</td>\n",
       "      <td>27307352.6</td>\n",
       "    </tr>\n",
       "  </tbody>\n",
       "</table>\n",
       "</div>"
      ],
      "text/plain": [
       "     Trade Date  Open (Rs.)  High (Rs.)  Low (Rs.)  Close (Rs.)  TradeVolume  \\\n",
       "2244 2014-06-30      1045.0      1065.0     1044.9       1063.9           34   \n",
       "2245 2014-06-27      1000.0      1050.0     1000.0       1049.8           25   \n",
       "2246 2014-06-26      1000.0      1000.0      999.0        999.0            5   \n",
       "2247 2014-06-25       995.0      1000.0      995.0       1000.0            6   \n",
       "2248 2014-06-24       986.0      1000.0      985.9        999.9           24   \n",
       "\n",
       "      ShareVolume  Turnover (Rs.)  \n",
       "2244        20485      21684448.4  \n",
       "2245        10951      11025940.6  \n",
       "2246          287        286930.0  \n",
       "2247          235        234963.5  \n",
       "2248        27315      27307352.6  "
      ]
     },
     "execution_count": 7,
     "metadata": {},
     "output_type": "execute_result"
    }
   ],
   "source": [
    "filtered_df.tail()"
   ]
  },
  {
   "cell_type": "code",
   "execution_count": 8,
   "metadata": {},
   "outputs": [],
   "source": [
    "df1=filtered_df.reset_index()['Close (Rs.)']"
   ]
  },
  {
   "cell_type": "code",
   "execution_count": 9,
   "metadata": {},
   "outputs": [
    {
     "data": {
      "text/plain": [
       "0       1214.0\n",
       "1       1252.5\n",
       "2       1255.0\n",
       "3       1260.0\n",
       "4       1258.0\n",
       "         ...  \n",
       "2244    1063.9\n",
       "2245    1049.8\n",
       "2246     999.0\n",
       "2247    1000.0\n",
       "2248     999.9\n",
       "Name: Close (Rs.), Length: 2249, dtype: float64"
      ]
     },
     "execution_count": 9,
     "metadata": {},
     "output_type": "execute_result"
    }
   ],
   "source": [
    "df1"
   ]
  },
  {
   "cell_type": "code",
   "execution_count": 10,
   "metadata": {},
   "outputs": [
    {
     "data": {
      "text/plain": [
       "[<matplotlib.lines.Line2D at 0x1c797c6c650>]"
      ]
     },
     "execution_count": 10,
     "metadata": {},
     "output_type": "execute_result"
    },
    {
     "data": {
      "image/png": "[encoded data removed]",
      "text/plain": [
       "<Figure size 640x480 with 1 Axes>"
      ]
     },
     "metadata": {},
     "output_type": "display_data"
    }
   ],
   "source": [
    "import matplotlib.pyplot as plt\n",
    "plt.plot(df1)"
   ]
  },
  {
   "cell_type": "code",
   "execution_count": 11,
   "metadata": {},
   "outputs": [],
   "source": [
    "### LSTM are sensitive to the scale of the data. so we apply MinMax scaler "
   ]
  },
  {
   "cell_type": "code",
   "execution_count": 12,
   "metadata": {},
   "outputs": [],
   "source": [
    "import numpy as np"
   ]
  },
  {
   "cell_type": "code",
   "execution_count": 13,
   "metadata": {},
   "outputs": [
    {
     "data": {
      "text/plain": [
       "0       1214.0\n",
       "1       1252.5\n",
       "2       1255.0\n",
       "3       1260.0\n",
       "4       1258.0\n",
       "         ...  \n",
       "2244    1063.9\n",
       "2245    1049.8\n",
       "2246     999.0\n",
       "2247    1000.0\n",
       "2248     999.9\n",
       "Name: Close (Rs.), Length: 2249, dtype: float64"
      ]
     },
     "execution_count": 13,
     "metadata": {},
     "output_type": "execute_result"
    }
   ],
   "source": [
    "df1"
   ]
  },
  {
   "cell_type": "code",
   "execution_count": 14,
   "metadata": {},
   "outputs": [],
   "source": [
    "from sklearn.preprocessing import MinMaxScaler\n",
    "scaler=MinMaxScaler(feature_range=(0,1))\n",
    "df1=scaler.fit_transform(np.array(df1).reshape(-1,1))"
   ]
  },
  {
   "cell_type": "code",
   "execution_count": 15,
   "metadata": {},
   "outputs": [
    {
     "name": "stdout",
     "output_type": "stream",
     "text": [
      "[[0.81111779]\n",
      " [0.83684105]\n",
      " [0.83851139]\n",
      " ...\n",
      " [0.66746843]\n",
      " [0.66813657]\n",
      " [0.66806975]]\n"
     ]
    }
   ],
   "source": [
    "print(df1)"
   ]
  },
  {
   "cell_type": "code",
   "execution_count": 16,
   "metadata": {},
   "outputs": [],
   "source": [
    "##splitting dataset into train and test split\n",
    "training_size=int(len(df1)*0.65)\n",
    "test_size=len(df1)-training_size\n",
    "train_data,test_data=df1[0:training_size,:],df1[training_size:len(df1),:1]"
   ]
  },
  {
   "cell_type": "code",
   "execution_count": 17,
   "metadata": {},
   "outputs": [
    {
     "data": {
      "text/plain": [
       "(1461, 788)"
      ]
     },
     "execution_count": 17,
     "metadata": {},
     "output_type": "execute_result"
    }
   ],
   "source": [
    "training_size,test_size"
   ]
  },
  {
   "cell_type": "code",
   "execution_count": 18,
   "metadata": {},
   "outputs": [
    {
     "data": {
      "text/plain": [
       "array([[0.81111779],\n",
       "       [0.83684105],\n",
       "       [0.83851139],\n",
       "       ...,\n",
       "       [0.72118661],\n",
       "       [0.70822476],\n",
       "       [0.67114318]])"
      ]
     },
     "execution_count": 18,
     "metadata": {},
     "output_type": "execute_result"
    }
   ],
   "source": [
    "train_data"
   ]
  },
  {
   "cell_type": "code",
   "execution_count": 19,
   "metadata": {},
   "outputs": [],
   "source": [
    "import numpy\n",
    "# convert an array of values into a dataset matrix\n",
    "def create_dataset(dataset, time_step=1):\n",
    "\tdataX, dataY = [], []\n",
    "\tfor i in range(len(dataset)-time_step-1):\n",
    "\t\ta = dataset[i:(i+time_step), 0]   ###i=0, 0,1,2,3-----99   100 \n",
    "\t\tdataX.append(a)\n",
    "\t\tdataY.append(dataset[i + time_step, 0])\n",
    "\treturn numpy.array(dataX), numpy.array(dataY)"
   ]
  },
  {
   "cell_type": "code",
   "execution_count": 20,
   "metadata": {},
   "outputs": [],
   "source": [
    "# reshape into X=t,t+1,t+2,t+3 and Y=t+4\n",
    "time_step = 100\n",
    "X_train, y_train = create_dataset(train_data, time_step)\n",
    "X_test, ytest = create_dataset(test_data, time_step)"
   ]
  },
  {
   "cell_type": "code",
   "execution_count": 21,
   "metadata": {},
   "outputs": [
    {
     "name": "stdout",
     "output_type": "stream",
     "text": [
      "(1360, 100)\n",
      "(1360,)\n"
     ]
    },
    {
     "data": {
      "text/plain": [
       "(None, None)"
      ]
     },
     "execution_count": 21,
     "metadata": {},
     "output_type": "execute_result"
    }
   ],
   "source": [
    "print(X_train.shape), print(y_train.shape)"
   ]
  },
  {
   "cell_type": "code",
   "execution_count": 22,
   "metadata": {},
   "outputs": [
    {
     "name": "stdout",
     "output_type": "stream",
     "text": [
      "(687, 100)\n",
      "(687,)\n"
     ]
    },
    {
     "data": {
      "text/plain": [
       "(None, None)"
      ]
     },
     "execution_count": 22,
     "metadata": {},
     "output_type": "execute_result"
    }
   ],
   "source": [
    "print(X_test.shape), print(ytest.shape)"
   ]
  },
  {
   "cell_type": "code",
   "execution_count": 23,
   "metadata": {},
   "outputs": [],
   "source": [
    "# reshape input to be [samples, time steps, features] which is required for LSTM\n",
    "X_train =X_train.reshape(X_train.shape[0],X_train.shape[1] , 1)\n",
    "X_test = X_test.reshape(X_test.shape[0],X_test.shape[1] , 1)"
   ]
  },
  {
   "cell_type": "code",
   "execution_count": null,
   "metadata": {},
   "outputs": [],
   "source": []
  },
  {
   "cell_type": "code",
   "execution_count": 24,
   "metadata": {},
   "outputs": [],
   "source": [
    "### Create the Stacked LSTM model\n",
    "from tensorflow.keras.models import Sequential\n",
    "from tensorflow.keras.layers import Dense\n",
    "from tensorflow.keras.layers import LSTM"
   ]
  },
  {
   "cell_type": "code",
   "execution_count": 25,
   "metadata": {},
   "outputs": [
    {
     "name": "stderr",
     "output_type": "stream",
     "text": [
      "C:\\Users\\udith\\AppData\\Local\\Programs\\Python\\Python312\\Lib\\site-packages\\keras\\src\\layers\\rnn\\rnn.py:204: UserWarning: Do not pass an `input_shape`/`input_dim` argument to a layer. When using Sequential models, prefer using an `Input(shape)` object as the first layer in the model instead.\n",
      "  super().__init__(**kwargs)\n"
     ]
    },
    {
     "data": {
      "text/html": [
       "<pre style=\"white-space:pre;overflow-x:auto;line-height:normal;font-family:Menlo,'DejaVu Sans Mono',consolas,'Courier New',monospace\"><span style=\"font-weight: bold\">Model: \"sequential\"</span>\n",
       "</pre>\n"
      ],
      "text/plain": [
       "\u001b[1mModel: \"sequential\"\u001b[0m\n"
      ]
     },
     "metadata": {},
     "output_type": "display_data"
    },
    {
     "data": {
      "text/html": [
       "<pre style=\"white-space:pre;overflow-x:auto;line-height:normal;font-family:Menlo,'DejaVu Sans Mono',consolas,'Courier New',monospace\">┏━━━━━━━━━━━━━━━━━━━━━━━━━━━━━━━━━━━━━━┳━━━━━━━━━━━━━━━━━━━━━━━━━━━━━┳━━━━━━━━━━━━━━━━━┓\n",
       "┃<span style=\"font-weight: bold\"> Layer (type)                         </span>┃<span style=\"font-weight: bold\"> Output Shape                </span>┃<span style=\"font-weight: bold\">         Param # </span>┃\n",
       "┡━━━━━━━━━━━━━━━━━━━━━━━━━━━━━━━━━━━━━━╇━━━━━━━━━━━━━━━━━━━━━━━━━━━━━╇━━━━━━━━━━━━━━━━━┩\n",
       "│ lstm (<span style=\"color: #0087ff; text-decoration-color: #0087ff\">LSTM</span>)                          │ (<span style=\"color: #00d7ff; text-decoration-color: #00d7ff\">None</span>, <span style=\"color: #00af00; text-decoration-color: #00af00\">100</span>, <span style=\"color: #00af00; text-decoration-color: #00af00\">100</span>)            │          <span style=\"color: #00af00; text-decoration-color: #00af00\">40,800</span> │\n",
       "├──────────────────────────────────────┼─────────────────────────────┼─────────────────┤\n",
       "│ dropout (<span style=\"color: #0087ff; text-decoration-color: #0087ff\">Dropout</span>)                    │ (<span style=\"color: #00d7ff; text-decoration-color: #00d7ff\">None</span>, <span style=\"color: #00af00; text-decoration-color: #00af00\">100</span>, <span style=\"color: #00af00; text-decoration-color: #00af00\">100</span>)            │               <span style=\"color: #00af00; text-decoration-color: #00af00\">0</span> │\n",
       "├──────────────────────────────────────┼─────────────────────────────┼─────────────────┤\n",
       "│ lstm_1 (<span style=\"color: #0087ff; text-decoration-color: #0087ff\">LSTM</span>)                        │ (<span style=\"color: #00d7ff; text-decoration-color: #00d7ff\">None</span>, <span style=\"color: #00af00; text-decoration-color: #00af00\">100</span>, <span style=\"color: #00af00; text-decoration-color: #00af00\">100</span>)            │          <span style=\"color: #00af00; text-decoration-color: #00af00\">80,400</span> │\n",
       "├──────────────────────────────────────┼─────────────────────────────┼─────────────────┤\n",
       "│ dropout_1 (<span style=\"color: #0087ff; text-decoration-color: #0087ff\">Dropout</span>)                  │ (<span style=\"color: #00d7ff; text-decoration-color: #00d7ff\">None</span>, <span style=\"color: #00af00; text-decoration-color: #00af00\">100</span>, <span style=\"color: #00af00; text-decoration-color: #00af00\">100</span>)            │               <span style=\"color: #00af00; text-decoration-color: #00af00\">0</span> │\n",
       "├──────────────────────────────────────┼─────────────────────────────┼─────────────────┤\n",
       "│ lstm_2 (<span style=\"color: #0087ff; text-decoration-color: #0087ff\">LSTM</span>)                        │ (<span style=\"color: #00d7ff; text-decoration-color: #00d7ff\">None</span>, <span style=\"color: #00af00; text-decoration-color: #00af00\">100</span>, <span style=\"color: #00af00; text-decoration-color: #00af00\">100</span>)            │          <span style=\"color: #00af00; text-decoration-color: #00af00\">80,400</span> │\n",
       "├──────────────────────────────────────┼─────────────────────────────┼─────────────────┤\n",
       "│ dropout_2 (<span style=\"color: #0087ff; text-decoration-color: #0087ff\">Dropout</span>)                  │ (<span style=\"color: #00d7ff; text-decoration-color: #00d7ff\">None</span>, <span style=\"color: #00af00; text-decoration-color: #00af00\">100</span>, <span style=\"color: #00af00; text-decoration-color: #00af00\">100</span>)            │               <span style=\"color: #00af00; text-decoration-color: #00af00\">0</span> │\n",
       "├──────────────────────────────────────┼─────────────────────────────┼─────────────────┤\n",
       "│ lstm_3 (<span style=\"color: #0087ff; text-decoration-color: #0087ff\">LSTM</span>)                        │ (<span style=\"color: #00d7ff; text-decoration-color: #00d7ff\">None</span>, <span style=\"color: #00af00; text-decoration-color: #00af00\">100</span>)                 │          <span style=\"color: #00af00; text-decoration-color: #00af00\">80,400</span> │\n",
       "├──────────────────────────────────────┼─────────────────────────────┼─────────────────┤\n",
       "│ dropout_3 (<span style=\"color: #0087ff; text-decoration-color: #0087ff\">Dropout</span>)                  │ (<span style=\"color: #00d7ff; text-decoration-color: #00d7ff\">None</span>, <span style=\"color: #00af00; text-decoration-color: #00af00\">100</span>)                 │               <span style=\"color: #00af00; text-decoration-color: #00af00\">0</span> │\n",
       "├──────────────────────────────────────┼─────────────────────────────┼─────────────────┤\n",
       "│ dense (<span style=\"color: #0087ff; text-decoration-color: #0087ff\">Dense</span>)                        │ (<span style=\"color: #00d7ff; text-decoration-color: #00d7ff\">None</span>, <span style=\"color: #00af00; text-decoration-color: #00af00\">1</span>)                   │             <span style=\"color: #00af00; text-decoration-color: #00af00\">101</span> │\n",
       "└──────────────────────────────────────┴─────────────────────────────┴─────────────────┘\n",
       "</pre>\n"
      ],
      "text/plain": [
       "┏━━━━━━━━━━━━━━━━━━━━━━━━━━━━━━━━━━━━━━┳━━━━━━━━━━━━━━━━━━━━━━━━━━━━━┳━━━━━━━━━━━━━━━━━┓\n",
       "┃\u001b[1m \u001b[0m\u001b[1mLayer (type)                        \u001b[0m\u001b[1m \u001b[0m┃\u001b[1m \u001b[0m\u001b[1mOutput Shape               \u001b[0m\u001b[1m \u001b[0m┃\u001b[1m \u001b[0m\u001b[1m        Param #\u001b[0m\u001b[1m \u001b[0m┃\n",
       "┡━━━━━━━━━━━━━━━━━━━━━━━━━━━━━━━━━━━━━━╇━━━━━━━━━━━━━━━━━━━━━━━━━━━━━╇━━━━━━━━━━━━━━━━━┩\n",
       "│ lstm (\u001b[38;5;33mLSTM\u001b[0m)                          │ (\u001b[38;5;45mNone\u001b[0m, \u001b[38;5;34m100\u001b[0m, \u001b[38;5;34m100\u001b[0m)            │          \u001b[38;5;34m40,800\u001b[0m │\n",
       "├──────────────────────────────────────┼─────────────────────────────┼─────────────────┤\n",
       "│ dropout (\u001b[38;5;33mDropout\u001b[0m)                    │ (\u001b[38;5;45mNone\u001b[0m, \u001b[38;5;34m100\u001b[0m, \u001b[38;5;34m100\u001b[0m)            │               \u001b[38;5;34m0\u001b[0m │\n",
       "├──────────────────────────────────────┼─────────────────────────────┼─────────────────┤\n",
       "│ lstm_1 (\u001b[38;5;33mLSTM\u001b[0m)                        │ (\u001b[38;5;45mNone\u001b[0m, \u001b[38;5;34m100\u001b[0m, \u001b[38;5;34m100\u001b[0m)            │          \u001b[38;5;34m80,400\u001b[0m │\n",
       "├──────────────────────────────────────┼─────────────────────────────┼─────────────────┤\n",
       "│ dropout_1 (\u001b[38;5;33mDropout\u001b[0m)                  │ (\u001b[38;5;45mNone\u001b[0m, \u001b[38;5;34m100\u001b[0m, \u001b[38;5;34m100\u001b[0m)            │               \u001b[38;5;34m0\u001b[0m │\n",
       "├──────────────────────────────────────┼─────────────────────────────┼─────────────────┤\n",
       "│ lstm_2 (\u001b[38;5;33mLSTM\u001b[0m)                        │ (\u001b[38;5;45mNone\u001b[0m, \u001b[38;5;34m100\u001b[0m, \u001b[38;5;34m100\u001b[0m)            │          \u001b[38;5;34m80,400\u001b[0m │\n",
       "├──────────────────────────────────────┼─────────────────────────────┼─────────────────┤\n",
       "│ dropout_2 (\u001b[38;5;33mDropout\u001b[0m)                  │ (\u001b[38;5;45mNone\u001b[0m, \u001b[38;5;34m100\u001b[0m, \u001b[38;5;34m100\u001b[0m)            │               \u001b[38;5;34m0\u001b[0m │\n",
       "├──────────────────────────────────────┼─────────────────────────────┼─────────────────┤\n",
       "│ lstm_3 (\u001b[38;5;33mLSTM\u001b[0m)                        │ (\u001b[38;5;45mNone\u001b[0m, \u001b[38;5;34m100\u001b[0m)                 │          \u001b[38;5;34m80,400\u001b[0m │\n",
       "├──────────────────────────────────────┼─────────────────────────────┼─────────────────┤\n",
       "│ dropout_3 (\u001b[38;5;33mDropout\u001b[0m)                  │ (\u001b[38;5;45mNone\u001b[0m, \u001b[38;5;34m100\u001b[0m)                 │               \u001b[38;5;34m0\u001b[0m │\n",
       "├──────────────────────────────────────┼─────────────────────────────┼─────────────────┤\n",
       "│ dense (\u001b[38;5;33mDense\u001b[0m)                        │ (\u001b[38;5;45mNone\u001b[0m, \u001b[38;5;34m1\u001b[0m)                   │             \u001b[38;5;34m101\u001b[0m │\n",
       "└──────────────────────────────────────┴─────────────────────────────┴─────────────────┘\n"
      ]
     },
     "metadata": {},
     "output_type": "display_data"
    },
    {
     "data": {
      "text/html": [
       "<pre style=\"white-space:pre;overflow-x:auto;line-height:normal;font-family:Menlo,'DejaVu Sans Mono',consolas,'Courier New',monospace\"><span style=\"font-weight: bold\"> Total params: </span><span style=\"color: #00af00; text-decoration-color: #00af00\">282,101</span> (1.08 MB)\n",
       "</pre>\n"
      ],
      "text/plain": [
       "\u001b[1m Total params: \u001b[0m\u001b[38;5;34m282,101\u001b[0m (1.08 MB)\n"
      ]
     },
     "metadata": {},
     "output_type": "display_data"
    },
    {
     "data": {
      "text/html": [
       "<pre style=\"white-space:pre;overflow-x:auto;line-height:normal;font-family:Menlo,'DejaVu Sans Mono',consolas,'Courier New',monospace\"><span style=\"font-weight: bold\"> Trainable params: </span><span style=\"color: #00af00; text-decoration-color: #00af00\">282,101</span> (1.08 MB)\n",
       "</pre>\n"
      ],
      "text/plain": [
       "\u001b[1m Trainable params: \u001b[0m\u001b[38;5;34m282,101\u001b[0m (1.08 MB)\n"
      ]
     },
     "metadata": {},
     "output_type": "display_data"
    },
    {
     "data": {
      "text/html": [
       "<pre style=\"white-space:pre;overflow-x:auto;line-height:normal;font-family:Menlo,'DejaVu Sans Mono',consolas,'Courier New',monospace\"><span style=\"font-weight: bold\"> Non-trainable params: </span><span style=\"color: #00af00; text-decoration-color: #00af00\">0</span> (0.00 B)\n",
       "</pre>\n"
      ],
      "text/plain": [
       "\u001b[1m Non-trainable params: \u001b[0m\u001b[38;5;34m0\u001b[0m (0.00 B)\n"
      ]
     },
     "metadata": {},
     "output_type": "display_data"
    }
   ],
   "source": [
    "from tensorflow.keras.models import Sequential\n",
    "from tensorflow.keras.layers import LSTM, Dense, Dropout, BatchNormalization\n",
    "from tensorflow.keras.optimizers import Adam\n",
    "\n",
    "model = Sequential()\n",
    "\n",
    "model.add(LSTM(units=100, return_sequences = True, input_shape =(X_train.shape[1],1)))\n",
    "model.add(Dropout(0.2))\n",
    "\n",
    "model.add(LSTM(units=100, return_sequences = True))\n",
    "model.add(Dropout(0.2))\n",
    "\n",
    "model.add(LSTM(units=100, return_sequences = True))\n",
    "model.add(Dropout(0.2))\n",
    "\n",
    "model.add(LSTM(units=100, return_sequences = False))\n",
    "model.add(Dropout(0.2))\n",
    "\n",
    "model.add(Dense(units =1))\n",
    "model.compile(optimizer='adam',loss=\"mean_squared_error\")\n",
    "# Compile the model with Adam optimizer and a tuned learning rate\n",
    "optimizer = Adam(learning_rate=0.001)  # Tuned learning rate\n",
    "model.compile(loss='mean_squared_error', optimizer=optimizer)\n",
    "\n",
    "# Summary of the model\n",
    "model.summary()\n",
    "\n"
   ]
  },
  {
   "cell_type": "code",
   "execution_count": 26,
   "metadata": {},
   "outputs": [
    {
     "name": "stdout",
     "output_type": "stream",
     "text": [
      "Epoch 1/100\n",
      "\u001b[1m43/43\u001b[0m \u001b[32m━━━━━━━━━━━━━━━━━━━━\u001b[0m\u001b[37m\u001b[0m \u001b[1m10s\u001b[0m 129ms/step - loss: 0.0793 - val_loss: 0.0019\n",
      "Epoch 2/100\n",
      "\u001b[1m43/43\u001b[0m \u001b[32m━━━━━━━━━━━━━━━━━━━━\u001b[0m\u001b[37m\u001b[0m \u001b[1m5s\u001b[0m 106ms/step - loss: 0.0039 - val_loss: 0.0038\n",
      "Epoch 3/100\n",
      "\u001b[1m43/43\u001b[0m \u001b[32m━━━━━━━━━━━━━━━━━━━━\u001b[0m\u001b[37m\u001b[0m \u001b[1m4s\u001b[0m 103ms/step - loss: 0.0040 - val_loss: 0.0016\n",
      "Epoch 4/100\n",
      "\u001b[1m43/43\u001b[0m \u001b[32m━━━━━━━━━━━━━━━━━━━━\u001b[0m\u001b[37m\u001b[0m \u001b[1m4s\u001b[0m 103ms/step - loss: 0.0034 - val_loss: 0.0016\n",
      "Epoch 5/100\n",
      "\u001b[1m43/43\u001b[0m \u001b[32m━━━━━━━━━━━━━━━━━━━━\u001b[0m\u001b[37m\u001b[0m \u001b[1m4s\u001b[0m 103ms/step - loss: 0.0032 - val_loss: 0.0021\n",
      "Epoch 6/100\n",
      "\u001b[1m43/43\u001b[0m \u001b[32m━━━━━━━━━━━━━━━━━━━━\u001b[0m\u001b[37m\u001b[0m \u001b[1m5s\u001b[0m 105ms/step - loss: 0.0028 - val_loss: 0.0035\n",
      "Epoch 7/100\n",
      "\u001b[1m43/43\u001b[0m \u001b[32m━━━━━━━━━━━━━━━━━━━━\u001b[0m\u001b[37m\u001b[0m \u001b[1m4s\u001b[0m 103ms/step - loss: 0.0032 - val_loss: 0.0025\n",
      "Epoch 8/100\n",
      "\u001b[1m43/43\u001b[0m \u001b[32m━━━━━━━━━━━━━━━━━━━━\u001b[0m\u001b[37m\u001b[0m \u001b[1m5s\u001b[0m 106ms/step - loss: 0.0028 - val_loss: 0.0018\n"
     ]
    }
   ],
   "source": [
    "from tensorflow.keras.callbacks import EarlyStopping\n",
    "\n",
    "# Define EarlyStopping callback\n",
    "early_stop = EarlyStopping(\n",
    "    monitor='val_loss',  # Monitor the validation loss\n",
    "    patience=5,          # Number of epochs with no improvement after which training will be stopped\n",
    "    restore_best_weights=True  # Restore model weights from the epoch with the best validation loss\n",
    ")\n",
    "\n",
    "# Train the model with EarlyStopping\n",
    "history = model.fit(\n",
    "    X_train, y_train, \n",
    "    validation_data=(X_test,ytest),  # Use validation data for early stopping\n",
    "    epochs=100, \n",
    "    batch_size=32, \n",
    "    callbacks=[early_stop],  # Add EarlyStopping to the training process\n",
    "    verbose=1\n",
    ")\n"
   ]
  },
  {
   "cell_type": "code",
   "execution_count": 27,
   "metadata": {},
   "outputs": [],
   "source": [
    "import tensorflow as tf"
   ]
  },
  {
   "cell_type": "code",
   "execution_count": 28,
   "metadata": {},
   "outputs": [
    {
     "data": {
      "text/plain": [
       "'2.16.1'"
      ]
     },
     "execution_count": 28,
     "metadata": {},
     "output_type": "execute_result"
    }
   ],
   "source": [
    "tf.__version__"
   ]
  },
  {
   "cell_type": "code",
   "execution_count": 29,
   "metadata": {},
   "outputs": [
    {
     "name": "stdout",
     "output_type": "stream",
     "text": [
      "\u001b[1m43/43\u001b[0m \u001b[32m━━━━━━━━━━━━━━━━━━━━\u001b[0m\u001b[37m\u001b[0m \u001b[1m2s\u001b[0m 41ms/step\n",
      "\u001b[1m22/22\u001b[0m \u001b[32m━━━━━━━━━━━━━━━━━━━━\u001b[0m\u001b[37m\u001b[0m \u001b[1m1s\u001b[0m 32ms/step\n"
     ]
    }
   ],
   "source": [
    "### Lets Do the prediction and check performance metrics\n",
    "train_predict=model.predict(X_train)\n",
    "test_predict=model.predict(X_test)"
   ]
  },
  {
   "cell_type": "code",
   "execution_count": 30,
   "metadata": {},
   "outputs": [],
   "source": [
    "##Transformback to original form\n",
    "train_predict=scaler.inverse_transform(train_predict)\n",
    "test_predict=scaler.inverse_transform(test_predict)"
   ]
  },
  {
   "cell_type": "code",
   "execution_count": 31,
   "metadata": {},
   "outputs": [
    {
     "data": {
      "text/plain": [
       "995.9617124913029"
      ]
     },
     "execution_count": 31,
     "metadata": {},
     "output_type": "execute_result"
    }
   ],
   "source": [
    "### Calculate RMSE performance metrics\n",
    "import math\n",
    "from sklearn.metrics import mean_squared_error\n",
    "math.sqrt(mean_squared_error(y_train,train_predict))"
   ]
  },
  {
   "cell_type": "code",
   "execution_count": 32,
   "metadata": {},
   "outputs": [
    {
     "name": "stdout",
     "output_type": "stream",
     "text": [
      "Mean Absolute Error (MAE): 971.9663388344932\n",
      "Mean Squared Error (MSE): 991939.7327486087\n",
      "Root Mean Squared Error (RMSE): 995.9617124913029\n"
     ]
    }
   ],
   "source": [
    "import math\n",
    "from sklearn.metrics import mean_absolute_error, mean_squared_error\n",
    "\n",
    "# Calculate Mean Absolute Error (MAE)\n",
    "mae = mean_absolute_error(y_train, train_predict)\n",
    "\n",
    "# Calculate Mean Squared Error (MSE)\n",
    "mse = mean_squared_error(y_train, train_predict)\n",
    "\n",
    "# Calculate Root Mean Squared Error (RMSE)\n",
    "rmse = math.sqrt(mse)\n",
    "\n",
    "# Print all the metrics\n",
    "print(f\"Mean Absolute Error (MAE): {mae}\")\n",
    "print(f\"Mean Squared Error (MSE): {mse}\")\n",
    "print(f\"Root Mean Squared Error (RMSE): {rmse}\")"
   ]
  },
  {
   "cell_type": "code",
   "execution_count": 33,
   "metadata": {},
   "outputs": [
    {
     "data": {
      "text/plain": [
       "982.1185977471355"
      ]
     },
     "execution_count": 33,
     "metadata": {},
     "output_type": "execute_result"
    }
   ],
   "source": [
    "### Test Data RMSE\n",
    "math.sqrt(mean_squared_error(ytest,test_predict))"
   ]
  },
  {
   "cell_type": "code",
   "execution_count": 34,
   "metadata": {},
   "outputs": [
    {
     "name": "stdout",
     "output_type": "stream",
     "text": [
      "Mean Absolute Error (MAE): 977.7691422313367\n",
      "Mean Squared Error (MSE): 964556.9400407997\n",
      "Root Mean Squared Error (RMSE): 982.1185977471355\n"
     ]
    }
   ],
   "source": [
    "import math\n",
    "from sklearn.metrics import mean_absolute_error, mean_squared_error\n",
    "\n",
    "# Calculate Mean Absolute Error (MAE)\n",
    "mae = mean_absolute_error(ytest, test_predict)\n",
    "\n",
    "# Calculate Mean Squared Error (MSE)\n",
    "mse = mean_squared_error(ytest, test_predict)\n",
    "\n",
    "# Calculate Root Mean Squared Error (RMSE)\n",
    "rmse = math.sqrt(mse)\n",
    "\n",
    "# Print all the metrics\n",
    "print(f\"Mean Absolute Error (MAE): {mae}\")\n",
    "print(f\"Mean Squared Error (MSE): {mse}\")\n",
    "print(f\"Root Mean Squared Error (RMSE): {rmse}\")"
   ]
  },
  {
   "cell_type": "code",
   "execution_count": 35,
   "metadata": {},
   "outputs": [
    {
     "data": {
      "image/png": "[encoded data removed]",
      "text/plain": [
       "<Figure size 1000x600 with 1 Axes>"
      ]
     },
     "metadata": {},
     "output_type": "display_data"
    }
   ],
   "source": [
    "# shift train predictions for plotting\n",
    "look_back = 100\n",
    "trainPredictPlot = numpy.empty_like(df1)\n",
    "trainPredictPlot[:, :] = np.nan\n",
    "trainPredictPlot[look_back:len(train_predict) + look_back, :] = train_predict\n",
    "\n",
    "# shift test predictions for plotting\n",
    "testPredictPlot = numpy.empty_like(df1)\n",
    "testPredictPlot[:, :] = np.nan\n",
    "testPredictPlot[len(train_predict) + (look_back * 2) + 1:len(df1) - 1, :] = test_predict\n",
    "\n",
    "# plot baseline and predictions\n",
    "plt.figure(figsize=(10, 6))\n",
    "plt.plot(scaler.inverse_transform(df1), label='Original Data', color='blue')\n",
    "plt.plot(trainPredictPlot, label='Train Predictions', color='orange')\n",
    "plt.plot(testPredictPlot, label='Test Predictions', color='green')\n",
    "\n",
    "# Add title and labels\n",
    "plt.title('Original Data vs Predictions')\n",
    "plt.xlabel('Time')\n",
    "plt.ylabel('Value (Rs.)')\n",
    "\n",
    "# Add a legend\n",
    "plt.legend(loc='upper left')\n",
    "\n",
    "# Show the plot\n",
    "plt.show()"
   ]
  },
  {
   "cell_type": "code",
   "execution_count": 36,
   "metadata": {},
   "outputs": [
    {
     "data": {
      "text/plain": [
       "788"
      ]
     },
     "execution_count": 36,
     "metadata": {},
     "output_type": "execute_result"
    }
   ],
   "source": [
    "len(test_data)"
   ]
  },
  {
   "cell_type": "code",
   "execution_count": 37,
   "metadata": {},
   "outputs": [],
   "source": [
    "a = len(test_data) - 100"
   ]
  },
  {
   "cell_type": "code",
   "execution_count": 38,
   "metadata": {},
   "outputs": [
    {
     "data": {
      "text/plain": [
       "(1, 100)"
      ]
     },
     "execution_count": 38,
     "metadata": {},
     "output_type": "execute_result"
    }
   ],
   "source": [
    "x_input=test_data[a:].reshape(1,-1)\n",
    "x_input.shape\n"
   ]
  },
  {
   "cell_type": "code",
   "execution_count": 39,
   "metadata": {},
   "outputs": [],
   "source": [
    "temp_input=list(x_input)\n",
    "temp_input=temp_input[0].tolist()"
   ]
  },
  {
   "cell_type": "code",
   "execution_count": 40,
   "metadata": {},
   "outputs": [
    {
     "data": {
      "text/plain": [
       "[0.7356183603928642,\n",
       " 0.7556624574062938,\n",
       " 0.7676889156143515,\n",
       " 0.7650163693458942,\n",
       " 0.7636800962116657,\n",
       " 0.7656176922562972,\n",
       " 0.768223424868043,\n",
       " 0.7683570521814659,\n",
       " 0.7683570521814659,\n",
       " 0.7683570521814659,\n",
       " 0.7551279481526024,\n",
       " 0.7596712768089797,\n",
       " 0.7616756865103227,\n",
       " 0.7616756865103227,\n",
       " 0.7624774503908599,\n",
       " 0.762343823077437,\n",
       " 0.7683570521814659,\n",
       " 0.7597380904656911,\n",
       " 0.7616756865103227,\n",
       " 0.7710295984499231,\n",
       " 0.7704282755395202,\n",
       " 0.7750384178526091,\n",
       " 0.7650831830026056,\n",
       " 0.7592035812119997,\n",
       " 0.7663526424801229,\n",
       " 0.7515868243468965,\n",
       " 0.7684238658381772,\n",
       " 0.7750384178526091,\n",
       " 0.7740362130019376,\n",
       " 0.7721654306140175,\n",
       " 0.7685574931516002,\n",
       " 0.7716977350170374,\n",
       " 0.0,\n",
       " 0.7702278345693859,\n",
       " 0.7750384178526091,\n",
       " 0.7750384178526091,\n",
       " 0.7716977350170374,\n",
       " 0.7817197835237522,\n",
       " 0.7817197835237522,\n",
       " 0.7884011491948953,\n",
       " 0.7817197835237522,\n",
       " 0.7850604663593238,\n",
       " 0.7817197835237522,\n",
       " 0.7884011491948953,\n",
       " 0.7884011491948953,\n",
       " 0.8016970668804704,\n",
       " 0.8012293712834904,\n",
       " 0.8016302532237588,\n",
       " 0.8017638805371817,\n",
       " 0.7993585888955703,\n",
       " 0.7884011491948953,\n",
       " 0.7884011491948953,\n",
       " 0.7998930981492617,\n",
       " 0.7890692857620097,\n",
       " 0.8010957439700674,\n",
       " 0.8012293712834904,\n",
       " 0.8010957439700674,\n",
       " 0.803968731208659,\n",
       " 0.7939466827019442,\n",
       " 0.8017638805371817,\n",
       " 0.8131222021781251,\n",
       " 0.8182668537449055,\n",
       " 0.7916750183737556,\n",
       " 0.7989577069553015,\n",
       " 0.7708959711365002,\n",
       " 0.8002271664328189,\n",
       " 0.7683570521814659,\n",
       " 0.7684906794948887,\n",
       " 0.774570722255629,\n",
       " 0.755395202779448,\n",
       " 0.7598049041224026,\n",
       " 0.767755729271063,\n",
       " 0.755395202779448,\n",
       " 0.7672212200173715,\n",
       " 0.7686243068083116,\n",
       " 0.7356851740495757,\n",
       " 0.7546602525556223,\n",
       " 0.7546602525556223,\n",
       " 0.7350838511391729,\n",
       " 0.7349502238257499,\n",
       " 0.7365537515868243,\n",
       " 0.7429678626311218,\n",
       " 0.7366205652435357,\n",
       " 0.7349502238257499,\n",
       " 0.7364869379301129,\n",
       " 0.7398276207656844,\n",
       " 0.7360860559898443,\n",
       " 0.7349502238257499,\n",
       " 0.7127012761408432,\n",
       " 0.7349502238257499,\n",
       " 0.7382909066613216,\n",
       " 0.7349502238257499,\n",
       " 0.7349502238257499,\n",
       " 0.7191153871851406,\n",
       " 0.7037482461415112,\n",
       " 0.7108304937529231,\n",
       " 0.7014097681566112,\n",
       " 0.6674684305472038,\n",
       " 0.6681365671143181,\n",
       " 0.6680697534576067]"
      ]
     },
     "execution_count": 40,
     "metadata": {},
     "output_type": "execute_result"
    }
   ],
   "source": [
    "temp_input"
   ]
  },
  {
   "cell_type": "code",
   "execution_count": 41,
   "metadata": {},
   "outputs": [
    {
     "name": "stdout",
     "output_type": "stream",
     "text": [
      "[0.725292]\n",
      "101\n",
      "1 day input [0.75566246 0.76768892 0.76501637 0.7636801  0.76561769 0.76822342\n",
      " 0.76835705 0.76835705 0.76835705 0.75512795 0.75967128 0.76167569\n",
      " 0.76167569 0.76247745 0.76234382 0.76835705 0.75973809 0.76167569\n",
      " 0.7710296  0.77042828 0.77503842 0.76508318 0.75920358 0.76635264\n",
      " 0.75158682 0.76842387 0.77503842 0.77403621 0.77216543 0.76855749\n",
      " 0.77169774 0.         0.77022783 0.77503842 0.77503842 0.77169774\n",
      " 0.78171978 0.78171978 0.78840115 0.78171978 0.78506047 0.78171978\n",
      " 0.78840115 0.78840115 0.80169707 0.80122937 0.80163025 0.80176388\n",
      " 0.79935859 0.78840115 0.78840115 0.7998931  0.78906929 0.80109574\n",
      " 0.80122937 0.80109574 0.80396873 0.79394668 0.80176388 0.8131222\n",
      " 0.81826685 0.79167502 0.79895771 0.77089597 0.80022717 0.76835705\n",
      " 0.76849068 0.77457072 0.7553952  0.7598049  0.76775573 0.7553952\n",
      " 0.76722122 0.76862431 0.73568517 0.75466025 0.75466025 0.73508385\n",
      " 0.73495022 0.73655375 0.74296786 0.73662057 0.73495022 0.73648694\n",
      " 0.73982762 0.73608606 0.73495022 0.71270128 0.73495022 0.73829091\n",
      " 0.73495022 0.73495022 0.71911539 0.70374825 0.71083049 0.70140977\n",
      " 0.66746843 0.66813657 0.66806975 0.72529203]\n",
      "1 day output [[0.7226325]]\n",
      "2 day input [0.76768892 0.76501637 0.7636801  0.76561769 0.76822342 0.76835705\n",
      " 0.76835705 0.76835705 0.75512795 0.75967128 0.76167569 0.76167569\n",
      " 0.76247745 0.76234382 0.76835705 0.75973809 0.76167569 0.7710296\n",
      " 0.77042828 0.77503842 0.76508318 0.75920358 0.76635264 0.75158682\n",
      " 0.76842387 0.77503842 0.77403621 0.77216543 0.76855749 0.77169774\n",
      " 0.         0.77022783 0.77503842 0.77503842 0.77169774 0.78171978\n",
      " 0.78171978 0.78840115 0.78171978 0.78506047 0.78171978 0.78840115\n",
      " 0.78840115 0.80169707 0.80122937 0.80163025 0.80176388 0.79935859\n",
      " 0.78840115 0.78840115 0.7998931  0.78906929 0.80109574 0.80122937\n",
      " 0.80109574 0.80396873 0.79394668 0.80176388 0.8131222  0.81826685\n",
      " 0.79167502 0.79895771 0.77089597 0.80022717 0.76835705 0.76849068\n",
      " 0.77457072 0.7553952  0.7598049  0.76775573 0.7553952  0.76722122\n",
      " 0.76862431 0.73568517 0.75466025 0.75466025 0.73508385 0.73495022\n",
      " 0.73655375 0.74296786 0.73662057 0.73495022 0.73648694 0.73982762\n",
      " 0.73608606 0.73495022 0.71270128 0.73495022 0.73829091 0.73495022\n",
      " 0.73495022 0.71911539 0.70374825 0.71083049 0.70140977 0.66746843\n",
      " 0.66813657 0.66806975 0.72529203 0.72263253]\n",
      "2 day output [[0.71986455]]\n",
      "3 day input [0.76501637 0.7636801  0.76561769 0.76822342 0.76835705 0.76835705\n",
      " 0.76835705 0.75512795 0.75967128 0.76167569 0.76167569 0.76247745\n",
      " 0.76234382 0.76835705 0.75973809 0.76167569 0.7710296  0.77042828\n",
      " 0.77503842 0.76508318 0.75920358 0.76635264 0.75158682 0.76842387\n",
      " 0.77503842 0.77403621 0.77216543 0.76855749 0.77169774 0.\n",
      " 0.77022783 0.77503842 0.77503842 0.77169774 0.78171978 0.78171978\n",
      " 0.78840115 0.78171978 0.78506047 0.78171978 0.78840115 0.78840115\n",
      " 0.80169707 0.80122937 0.80163025 0.80176388 0.79935859 0.78840115\n",
      " 0.78840115 0.7998931  0.78906929 0.80109574 0.80122937 0.80109574\n",
      " 0.80396873 0.79394668 0.80176388 0.8131222  0.81826685 0.79167502\n",
      " 0.79895771 0.77089597 0.80022717 0.76835705 0.76849068 0.77457072\n",
      " 0.7553952  0.7598049  0.76775573 0.7553952  0.76722122 0.76862431\n",
      " 0.73568517 0.75466025 0.75466025 0.73508385 0.73495022 0.73655375\n",
      " 0.74296786 0.73662057 0.73495022 0.73648694 0.73982762 0.73608606\n",
      " 0.73495022 0.71270128 0.73495022 0.73829091 0.73495022 0.73495022\n",
      " 0.71911539 0.70374825 0.71083049 0.70140977 0.66746843 0.66813657\n",
      " 0.66806975 0.72529203 0.72263253 0.71986455]\n",
      "3 day output [[0.71714014]]\n",
      "4 day input [0.7636801  0.76561769 0.76822342 0.76835705 0.76835705 0.76835705\n",
      " 0.75512795 0.75967128 0.76167569 0.76167569 0.76247745 0.76234382\n",
      " 0.76835705 0.75973809 0.76167569 0.7710296  0.77042828 0.77503842\n",
      " 0.76508318 0.75920358 0.76635264 0.75158682 0.76842387 0.77503842\n",
      " 0.77403621 0.77216543 0.76855749 0.77169774 0.         0.77022783\n",
      " 0.77503842 0.77503842 0.77169774 0.78171978 0.78171978 0.78840115\n",
      " 0.78171978 0.78506047 0.78171978 0.78840115 0.78840115 0.80169707\n",
      " 0.80122937 0.80163025 0.80176388 0.79935859 0.78840115 0.78840115\n",
      " 0.7998931  0.78906929 0.80109574 0.80122937 0.80109574 0.80396873\n",
      " 0.79394668 0.80176388 0.8131222  0.81826685 0.79167502 0.79895771\n",
      " 0.77089597 0.80022717 0.76835705 0.76849068 0.77457072 0.7553952\n",
      " 0.7598049  0.76775573 0.7553952  0.76722122 0.76862431 0.73568517\n",
      " 0.75466025 0.75466025 0.73508385 0.73495022 0.73655375 0.74296786\n",
      " 0.73662057 0.73495022 0.73648694 0.73982762 0.73608606 0.73495022\n",
      " 0.71270128 0.73495022 0.73829091 0.73495022 0.73495022 0.71911539\n",
      " 0.70374825 0.71083049 0.70140977 0.66746843 0.66813657 0.66806975\n",
      " 0.72529203 0.72263253 0.71986455 0.71714014]\n",
      "4 day output [[0.71458596]]\n",
      "5 day input [0.76561769 0.76822342 0.76835705 0.76835705 0.76835705 0.75512795\n",
      " 0.75967128 0.76167569 0.76167569 0.76247745 0.76234382 0.76835705\n",
      " 0.75973809 0.76167569 0.7710296  0.77042828 0.77503842 0.76508318\n",
      " 0.75920358 0.76635264 0.75158682 0.76842387 0.77503842 0.77403621\n",
      " 0.77216543 0.76855749 0.77169774 0.         0.77022783 0.77503842\n",
      " 0.77503842 0.77169774 0.78171978 0.78171978 0.78840115 0.78171978\n",
      " 0.78506047 0.78171978 0.78840115 0.78840115 0.80169707 0.80122937\n",
      " 0.80163025 0.80176388 0.79935859 0.78840115 0.78840115 0.7998931\n",
      " 0.78906929 0.80109574 0.80122937 0.80109574 0.80396873 0.79394668\n",
      " 0.80176388 0.8131222  0.81826685 0.79167502 0.79895771 0.77089597\n",
      " 0.80022717 0.76835705 0.76849068 0.77457072 0.7553952  0.7598049\n",
      " 0.76775573 0.7553952  0.76722122 0.76862431 0.73568517 0.75466025\n",
      " 0.75466025 0.73508385 0.73495022 0.73655375 0.74296786 0.73662057\n",
      " 0.73495022 0.73648694 0.73982762 0.73608606 0.73495022 0.71270128\n",
      " 0.73495022 0.73829091 0.73495022 0.73495022 0.71911539 0.70374825\n",
      " 0.71083049 0.70140977 0.66746843 0.66813657 0.66806975 0.72529203\n",
      " 0.72263253 0.71986455 0.71714014 0.71458596]\n",
      "5 day output [[0.7122897]]\n",
      "6 day input [0.76822342 0.76835705 0.76835705 0.76835705 0.75512795 0.75967128\n",
      " 0.76167569 0.76167569 0.76247745 0.76234382 0.76835705 0.75973809\n",
      " 0.76167569 0.7710296  0.77042828 0.77503842 0.76508318 0.75920358\n",
      " 0.76635264 0.75158682 0.76842387 0.77503842 0.77403621 0.77216543\n",
      " 0.76855749 0.77169774 0.         0.77022783 0.77503842 0.77503842\n",
      " 0.77169774 0.78171978 0.78171978 0.78840115 0.78171978 0.78506047\n",
      " 0.78171978 0.78840115 0.78840115 0.80169707 0.80122937 0.80163025\n",
      " 0.80176388 0.79935859 0.78840115 0.78840115 0.7998931  0.78906929\n",
      " 0.80109574 0.80122937 0.80109574 0.80396873 0.79394668 0.80176388\n",
      " 0.8131222  0.81826685 0.79167502 0.79895771 0.77089597 0.80022717\n",
      " 0.76835705 0.76849068 0.77457072 0.7553952  0.7598049  0.76775573\n",
      " 0.7553952  0.76722122 0.76862431 0.73568517 0.75466025 0.75466025\n",
      " 0.73508385 0.73495022 0.73655375 0.74296786 0.73662057 0.73495022\n",
      " 0.73648694 0.73982762 0.73608606 0.73495022 0.71270128 0.73495022\n",
      " 0.73829091 0.73495022 0.73495022 0.71911539 0.70374825 0.71083049\n",
      " 0.70140977 0.66746843 0.66813657 0.66806975 0.72529203 0.72263253\n",
      " 0.71986455 0.71714014 0.71458596 0.71228969]\n",
      "6 day output [[0.71029866]]\n",
      "7 day input [0.76835705 0.76835705 0.76835705 0.75512795 0.75967128 0.76167569\n",
      " 0.76167569 0.76247745 0.76234382 0.76835705 0.75973809 0.76167569\n",
      " 0.7710296  0.77042828 0.77503842 0.76508318 0.75920358 0.76635264\n",
      " 0.75158682 0.76842387 0.77503842 0.77403621 0.77216543 0.76855749\n",
      " 0.77169774 0.         0.77022783 0.77503842 0.77503842 0.77169774\n",
      " 0.78171978 0.78171978 0.78840115 0.78171978 0.78506047 0.78171978\n",
      " 0.78840115 0.78840115 0.80169707 0.80122937 0.80163025 0.80176388\n",
      " 0.79935859 0.78840115 0.78840115 0.7998931  0.78906929 0.80109574\n",
      " 0.80122937 0.80109574 0.80396873 0.79394668 0.80176388 0.8131222\n",
      " 0.81826685 0.79167502 0.79895771 0.77089597 0.80022717 0.76835705\n",
      " 0.76849068 0.77457072 0.7553952  0.7598049  0.76775573 0.7553952\n",
      " 0.76722122 0.76862431 0.73568517 0.75466025 0.75466025 0.73508385\n",
      " 0.73495022 0.73655375 0.74296786 0.73662057 0.73495022 0.73648694\n",
      " 0.73982762 0.73608606 0.73495022 0.71270128 0.73495022 0.73829091\n",
      " 0.73495022 0.73495022 0.71911539 0.70374825 0.71083049 0.70140977\n",
      " 0.66746843 0.66813657 0.66806975 0.72529203 0.72263253 0.71986455\n",
      " 0.71714014 0.71458596 0.71228969 0.71029866]\n",
      "7 day output [[0.70862645]]\n",
      "8 day input [0.76835705 0.76835705 0.75512795 0.75967128 0.76167569 0.76167569\n",
      " 0.76247745 0.76234382 0.76835705 0.75973809 0.76167569 0.7710296\n",
      " 0.77042828 0.77503842 0.76508318 0.75920358 0.76635264 0.75158682\n",
      " 0.76842387 0.77503842 0.77403621 0.77216543 0.76855749 0.77169774\n",
      " 0.         0.77022783 0.77503842 0.77503842 0.77169774 0.78171978\n",
      " 0.78171978 0.78840115 0.78171978 0.78506047 0.78171978 0.78840115\n",
      " 0.78840115 0.80169707 0.80122937 0.80163025 0.80176388 0.79935859\n",
      " 0.78840115 0.78840115 0.7998931  0.78906929 0.80109574 0.80122937\n",
      " 0.80109574 0.80396873 0.79394668 0.80176388 0.8131222  0.81826685\n",
      " 0.79167502 0.79895771 0.77089597 0.80022717 0.76835705 0.76849068\n",
      " 0.77457072 0.7553952  0.7598049  0.76775573 0.7553952  0.76722122\n",
      " 0.76862431 0.73568517 0.75466025 0.75466025 0.73508385 0.73495022\n",
      " 0.73655375 0.74296786 0.73662057 0.73495022 0.73648694 0.73982762\n",
      " 0.73608606 0.73495022 0.71270128 0.73495022 0.73829091 0.73495022\n",
      " 0.73495022 0.71911539 0.70374825 0.71083049 0.70140977 0.66746843\n",
      " 0.66813657 0.66806975 0.72529203 0.72263253 0.71986455 0.71714014\n",
      " 0.71458596 0.71228969 0.71029866 0.70862645]\n",
      "8 day output [[0.70725995]]\n",
      "9 day input [0.76835705 0.75512795 0.75967128 0.76167569 0.76167569 0.76247745\n",
      " 0.76234382 0.76835705 0.75973809 0.76167569 0.7710296  0.77042828\n",
      " 0.77503842 0.76508318 0.75920358 0.76635264 0.75158682 0.76842387\n",
      " 0.77503842 0.77403621 0.77216543 0.76855749 0.77169774 0.\n",
      " 0.77022783 0.77503842 0.77503842 0.77169774 0.78171978 0.78171978\n",
      " 0.78840115 0.78171978 0.78506047 0.78171978 0.78840115 0.78840115\n",
      " 0.80169707 0.80122937 0.80163025 0.80176388 0.79935859 0.78840115\n",
      " 0.78840115 0.7998931  0.78906929 0.80109574 0.80122937 0.80109574\n",
      " 0.80396873 0.79394668 0.80176388 0.8131222  0.81826685 0.79167502\n",
      " 0.79895771 0.77089597 0.80022717 0.76835705 0.76849068 0.77457072\n",
      " 0.7553952  0.7598049  0.76775573 0.7553952  0.76722122 0.76862431\n",
      " 0.73568517 0.75466025 0.75466025 0.73508385 0.73495022 0.73655375\n",
      " 0.74296786 0.73662057 0.73495022 0.73648694 0.73982762 0.73608606\n",
      " 0.73495022 0.71270128 0.73495022 0.73829091 0.73495022 0.73495022\n",
      " 0.71911539 0.70374825 0.71083049 0.70140977 0.66746843 0.66813657\n",
      " 0.66806975 0.72529203 0.72263253 0.71986455 0.71714014 0.71458596\n",
      " 0.71228969 0.71029866 0.70862645 0.70725995]\n",
      "9 day output [[0.70616794]]\n",
      "10 day input [0.75512795 0.75967128 0.76167569 0.76167569 0.76247745 0.76234382\n",
      " 0.76835705 0.75973809 0.76167569 0.7710296  0.77042828 0.77503842\n",
      " 0.76508318 0.75920358 0.76635264 0.75158682 0.76842387 0.77503842\n",
      " 0.77403621 0.77216543 0.76855749 0.77169774 0.         0.77022783\n",
      " 0.77503842 0.77503842 0.77169774 0.78171978 0.78171978 0.78840115\n",
      " 0.78171978 0.78506047 0.78171978 0.78840115 0.78840115 0.80169707\n",
      " 0.80122937 0.80163025 0.80176388 0.79935859 0.78840115 0.78840115\n",
      " 0.7998931  0.78906929 0.80109574 0.80122937 0.80109574 0.80396873\n",
      " 0.79394668 0.80176388 0.8131222  0.81826685 0.79167502 0.79895771\n",
      " 0.77089597 0.80022717 0.76835705 0.76849068 0.77457072 0.7553952\n",
      " 0.7598049  0.76775573 0.7553952  0.76722122 0.76862431 0.73568517\n",
      " 0.75466025 0.75466025 0.73508385 0.73495022 0.73655375 0.74296786\n",
      " 0.73662057 0.73495022 0.73648694 0.73982762 0.73608606 0.73495022\n",
      " 0.71270128 0.73495022 0.73829091 0.73495022 0.73495022 0.71911539\n",
      " 0.70374825 0.71083049 0.70140977 0.66746843 0.66813657 0.66806975\n",
      " 0.72529203 0.72263253 0.71986455 0.71714014 0.71458596 0.71228969\n",
      " 0.71029866 0.70862645 0.70725995 0.70616794]\n",
      "10 day output [[0.705309]]\n",
      "11 day input [0.75967128 0.76167569 0.76167569 0.76247745 0.76234382 0.76835705\n",
      " 0.75973809 0.76167569 0.7710296  0.77042828 0.77503842 0.76508318\n",
      " 0.75920358 0.76635264 0.75158682 0.76842387 0.77503842 0.77403621\n",
      " 0.77216543 0.76855749 0.77169774 0.         0.77022783 0.77503842\n",
      " 0.77503842 0.77169774 0.78171978 0.78171978 0.78840115 0.78171978\n",
      " 0.78506047 0.78171978 0.78840115 0.78840115 0.80169707 0.80122937\n",
      " 0.80163025 0.80176388 0.79935859 0.78840115 0.78840115 0.7998931\n",
      " 0.78906929 0.80109574 0.80122937 0.80109574 0.80396873 0.79394668\n",
      " 0.80176388 0.8131222  0.81826685 0.79167502 0.79895771 0.77089597\n",
      " 0.80022717 0.76835705 0.76849068 0.77457072 0.7553952  0.7598049\n",
      " 0.76775573 0.7553952  0.76722122 0.76862431 0.73568517 0.75466025\n",
      " 0.75466025 0.73508385 0.73495022 0.73655375 0.74296786 0.73662057\n",
      " 0.73495022 0.73648694 0.73982762 0.73608606 0.73495022 0.71270128\n",
      " 0.73495022 0.73829091 0.73495022 0.73495022 0.71911539 0.70374825\n",
      " 0.71083049 0.70140977 0.66746843 0.66813657 0.66806975 0.72529203\n",
      " 0.72263253 0.71986455 0.71714014 0.71458596 0.71228969 0.71029866\n",
      " 0.70862645 0.70725995 0.70616794 0.70530897]\n",
      "11 day output [[0.70463806]]\n",
      "12 day input [0.76167569 0.76167569 0.76247745 0.76234382 0.76835705 0.75973809\n",
      " 0.76167569 0.7710296  0.77042828 0.77503842 0.76508318 0.75920358\n",
      " 0.76635264 0.75158682 0.76842387 0.77503842 0.77403621 0.77216543\n",
      " 0.76855749 0.77169774 0.         0.77022783 0.77503842 0.77503842\n",
      " 0.77169774 0.78171978 0.78171978 0.78840115 0.78171978 0.78506047\n",
      " 0.78171978 0.78840115 0.78840115 0.80169707 0.80122937 0.80163025\n",
      " 0.80176388 0.79935859 0.78840115 0.78840115 0.7998931  0.78906929\n",
      " 0.80109574 0.80122937 0.80109574 0.80396873 0.79394668 0.80176388\n",
      " 0.8131222  0.81826685 0.79167502 0.79895771 0.77089597 0.80022717\n",
      " 0.76835705 0.76849068 0.77457072 0.7553952  0.7598049  0.76775573\n",
      " 0.7553952  0.76722122 0.76862431 0.73568517 0.75466025 0.75466025\n",
      " 0.73508385 0.73495022 0.73655375 0.74296786 0.73662057 0.73495022\n",
      " 0.73648694 0.73982762 0.73608606 0.73495022 0.71270128 0.73495022\n",
      " 0.73829091 0.73495022 0.73495022 0.71911539 0.70374825 0.71083049\n",
      " 0.70140977 0.66746843 0.66813657 0.66806975 0.72529203 0.72263253\n",
      " 0.71986455 0.71714014 0.71458596 0.71228969 0.71029866 0.70862645\n",
      " 0.70725995 0.70616794 0.70530897 0.70463806]\n",
      "12 day output [[0.70411056]]\n",
      "13 day input [0.76167569 0.76247745 0.76234382 0.76835705 0.75973809 0.76167569\n",
      " 0.7710296  0.77042828 0.77503842 0.76508318 0.75920358 0.76635264\n",
      " 0.75158682 0.76842387 0.77503842 0.77403621 0.77216543 0.76855749\n",
      " 0.77169774 0.         0.77022783 0.77503842 0.77503842 0.77169774\n",
      " 0.78171978 0.78171978 0.78840115 0.78171978 0.78506047 0.78171978\n",
      " 0.78840115 0.78840115 0.80169707 0.80122937 0.80163025 0.80176388\n",
      " 0.79935859 0.78840115 0.78840115 0.7998931  0.78906929 0.80109574\n",
      " 0.80122937 0.80109574 0.80396873 0.79394668 0.80176388 0.8131222\n",
      " 0.81826685 0.79167502 0.79895771 0.77089597 0.80022717 0.76835705\n",
      " 0.76849068 0.77457072 0.7553952  0.7598049  0.76775573 0.7553952\n",
      " 0.76722122 0.76862431 0.73568517 0.75466025 0.75466025 0.73508385\n",
      " 0.73495022 0.73655375 0.74296786 0.73662057 0.73495022 0.73648694\n",
      " 0.73982762 0.73608606 0.73495022 0.71270128 0.73495022 0.73829091\n",
      " 0.73495022 0.73495022 0.71911539 0.70374825 0.71083049 0.70140977\n",
      " 0.66746843 0.66813657 0.66806975 0.72529203 0.72263253 0.71986455\n",
      " 0.71714014 0.71458596 0.71228969 0.71029866 0.70862645 0.70725995\n",
      " 0.70616794 0.70530897 0.70463806 0.70411056]\n",
      "13 day output [[0.70368654]]\n",
      "14 day input [0.76247745 0.76234382 0.76835705 0.75973809 0.76167569 0.7710296\n",
      " 0.77042828 0.77503842 0.76508318 0.75920358 0.76635264 0.75158682\n",
      " 0.76842387 0.77503842 0.77403621 0.77216543 0.76855749 0.77169774\n",
      " 0.         0.77022783 0.77503842 0.77503842 0.77169774 0.78171978\n",
      " 0.78171978 0.78840115 0.78171978 0.78506047 0.78171978 0.78840115\n",
      " 0.78840115 0.80169707 0.80122937 0.80163025 0.80176388 0.79935859\n",
      " 0.78840115 0.78840115 0.7998931  0.78906929 0.80109574 0.80122937\n",
      " 0.80109574 0.80396873 0.79394668 0.80176388 0.8131222  0.81826685\n",
      " 0.79167502 0.79895771 0.77089597 0.80022717 0.76835705 0.76849068\n",
      " 0.77457072 0.7553952  0.7598049  0.76775573 0.7553952  0.76722122\n",
      " 0.76862431 0.73568517 0.75466025 0.75466025 0.73508385 0.73495022\n",
      " 0.73655375 0.74296786 0.73662057 0.73495022 0.73648694 0.73982762\n",
      " 0.73608606 0.73495022 0.71270128 0.73495022 0.73829091 0.73495022\n",
      " 0.73495022 0.71911539 0.70374825 0.71083049 0.70140977 0.66746843\n",
      " 0.66813657 0.66806975 0.72529203 0.72263253 0.71986455 0.71714014\n",
      " 0.71458596 0.71228969 0.71029866 0.70862645 0.70725995 0.70616794\n",
      " 0.70530897 0.70463806 0.70411056 0.70368654]\n",
      "14 day output [[0.7033314]]\n",
      "15 day input [0.76234382 0.76835705 0.75973809 0.76167569 0.7710296  0.77042828\n",
      " 0.77503842 0.76508318 0.75920358 0.76635264 0.75158682 0.76842387\n",
      " 0.77503842 0.77403621 0.77216543 0.76855749 0.77169774 0.\n",
      " 0.77022783 0.77503842 0.77503842 0.77169774 0.78171978 0.78171978\n",
      " 0.78840115 0.78171978 0.78506047 0.78171978 0.78840115 0.78840115\n",
      " 0.80169707 0.80122937 0.80163025 0.80176388 0.79935859 0.78840115\n",
      " 0.78840115 0.7998931  0.78906929 0.80109574 0.80122937 0.80109574\n",
      " 0.80396873 0.79394668 0.80176388 0.8131222  0.81826685 0.79167502\n",
      " 0.79895771 0.77089597 0.80022717 0.76835705 0.76849068 0.77457072\n",
      " 0.7553952  0.7598049  0.76775573 0.7553952  0.76722122 0.76862431\n",
      " 0.73568517 0.75466025 0.75466025 0.73508385 0.73495022 0.73655375\n",
      " 0.74296786 0.73662057 0.73495022 0.73648694 0.73982762 0.73608606\n",
      " 0.73495022 0.71270128 0.73495022 0.73829091 0.73495022 0.73495022\n",
      " 0.71911539 0.70374825 0.71083049 0.70140977 0.66746843 0.66813657\n",
      " 0.66806975 0.72529203 0.72263253 0.71986455 0.71714014 0.71458596\n",
      " 0.71228969 0.71029866 0.70862645 0.70725995 0.70616794 0.70530897\n",
      " 0.70463806 0.70411056 0.70368654 0.70333141]\n",
      "15 day output [[0.70301735]]\n",
      "16 day input [0.76835705 0.75973809 0.76167569 0.7710296  0.77042828 0.77503842\n",
      " 0.76508318 0.75920358 0.76635264 0.75158682 0.76842387 0.77503842\n",
      " 0.77403621 0.77216543 0.76855749 0.77169774 0.         0.77022783\n",
      " 0.77503842 0.77503842 0.77169774 0.78171978 0.78171978 0.78840115\n",
      " 0.78171978 0.78506047 0.78171978 0.78840115 0.78840115 0.80169707\n",
      " 0.80122937 0.80163025 0.80176388 0.79935859 0.78840115 0.78840115\n",
      " 0.7998931  0.78906929 0.80109574 0.80122937 0.80109574 0.80396873\n",
      " 0.79394668 0.80176388 0.8131222  0.81826685 0.79167502 0.79895771\n",
      " 0.77089597 0.80022717 0.76835705 0.76849068 0.77457072 0.7553952\n",
      " 0.7598049  0.76775573 0.7553952  0.76722122 0.76862431 0.73568517\n",
      " 0.75466025 0.75466025 0.73508385 0.73495022 0.73655375 0.74296786\n",
      " 0.73662057 0.73495022 0.73648694 0.73982762 0.73608606 0.73495022\n",
      " 0.71270128 0.73495022 0.73829091 0.73495022 0.73495022 0.71911539\n",
      " 0.70374825 0.71083049 0.70140977 0.66746843 0.66813657 0.66806975\n",
      " 0.72529203 0.72263253 0.71986455 0.71714014 0.71458596 0.71228969\n",
      " 0.71029866 0.70862645 0.70725995 0.70616794 0.70530897 0.70463806\n",
      " 0.70411056 0.70368654 0.70333141 0.70301735]\n",
      "16 day output [[0.70272416]]\n",
      "17 day input [0.75973809 0.76167569 0.7710296  0.77042828 0.77503842 0.76508318\n",
      " 0.75920358 0.76635264 0.75158682 0.76842387 0.77503842 0.77403621\n",
      " 0.77216543 0.76855749 0.77169774 0.         0.77022783 0.77503842\n",
      " 0.77503842 0.77169774 0.78171978 0.78171978 0.78840115 0.78171978\n",
      " 0.78506047 0.78171978 0.78840115 0.78840115 0.80169707 0.80122937\n",
      " 0.80163025 0.80176388 0.79935859 0.78840115 0.78840115 0.7998931\n",
      " 0.78906929 0.80109574 0.80122937 0.80109574 0.80396873 0.79394668\n",
      " 0.80176388 0.8131222  0.81826685 0.79167502 0.79895771 0.77089597\n",
      " 0.80022717 0.76835705 0.76849068 0.77457072 0.7553952  0.7598049\n",
      " 0.76775573 0.7553952  0.76722122 0.76862431 0.73568517 0.75466025\n",
      " 0.75466025 0.73508385 0.73495022 0.73655375 0.74296786 0.73662057\n",
      " 0.73495022 0.73648694 0.73982762 0.73608606 0.73495022 0.71270128\n",
      " 0.73495022 0.73829091 0.73495022 0.73495022 0.71911539 0.70374825\n",
      " 0.71083049 0.70140977 0.66746843 0.66813657 0.66806975 0.72529203\n",
      " 0.72263253 0.71986455 0.71714014 0.71458596 0.71228969 0.71029866\n",
      " 0.70862645 0.70725995 0.70616794 0.70530897 0.70463806 0.70411056\n",
      " 0.70368654 0.70333141 0.70301735 0.70272416]\n",
      "17 day output [[0.7024361]]\n",
      "18 day input [0.76167569 0.7710296  0.77042828 0.77503842 0.76508318 0.75920358\n",
      " 0.76635264 0.75158682 0.76842387 0.77503842 0.77403621 0.77216543\n",
      " 0.76855749 0.77169774 0.         0.77022783 0.77503842 0.77503842\n",
      " 0.77169774 0.78171978 0.78171978 0.78840115 0.78171978 0.78506047\n",
      " 0.78171978 0.78840115 0.78840115 0.80169707 0.80122937 0.80163025\n",
      " 0.80176388 0.79935859 0.78840115 0.78840115 0.7998931  0.78906929\n",
      " 0.80109574 0.80122937 0.80109574 0.80396873 0.79394668 0.80176388\n",
      " 0.8131222  0.81826685 0.79167502 0.79895771 0.77089597 0.80022717\n",
      " 0.76835705 0.76849068 0.77457072 0.7553952  0.7598049  0.76775573\n",
      " 0.7553952  0.76722122 0.76862431 0.73568517 0.75466025 0.75466025\n",
      " 0.73508385 0.73495022 0.73655375 0.74296786 0.73662057 0.73495022\n",
      " 0.73648694 0.73982762 0.73608606 0.73495022 0.71270128 0.73495022\n",
      " 0.73829091 0.73495022 0.73495022 0.71911539 0.70374825 0.71083049\n",
      " 0.70140977 0.66746843 0.66813657 0.66806975 0.72529203 0.72263253\n",
      " 0.71986455 0.71714014 0.71458596 0.71228969 0.71029866 0.70862645\n",
      " 0.70725995 0.70616794 0.70530897 0.70463806 0.70411056 0.70368654\n",
      " 0.70333141 0.70301735 0.70272416 0.70243609]\n",
      "18 day output [[0.7021431]]\n",
      "19 day input [0.7710296  0.77042828 0.77503842 0.76508318 0.75920358 0.76635264\n",
      " 0.75158682 0.76842387 0.77503842 0.77403621 0.77216543 0.76855749\n",
      " 0.77169774 0.         0.77022783 0.77503842 0.77503842 0.77169774\n",
      " 0.78171978 0.78171978 0.78840115 0.78171978 0.78506047 0.78171978\n",
      " 0.78840115 0.78840115 0.80169707 0.80122937 0.80163025 0.80176388\n",
      " 0.79935859 0.78840115 0.78840115 0.7998931  0.78906929 0.80109574\n",
      " 0.80122937 0.80109574 0.80396873 0.79394668 0.80176388 0.8131222\n",
      " 0.81826685 0.79167502 0.79895771 0.77089597 0.80022717 0.76835705\n",
      " 0.76849068 0.77457072 0.7553952  0.7598049  0.76775573 0.7553952\n",
      " 0.76722122 0.76862431 0.73568517 0.75466025 0.75466025 0.73508385\n",
      " 0.73495022 0.73655375 0.74296786 0.73662057 0.73495022 0.73648694\n",
      " 0.73982762 0.73608606 0.73495022 0.71270128 0.73495022 0.73829091\n",
      " 0.73495022 0.73495022 0.71911539 0.70374825 0.71083049 0.70140977\n",
      " 0.66746843 0.66813657 0.66806975 0.72529203 0.72263253 0.71986455\n",
      " 0.71714014 0.71458596 0.71228969 0.71029866 0.70862645 0.70725995\n",
      " 0.70616794 0.70530897 0.70463806 0.70411056 0.70368654 0.70333141\n",
      " 0.70301735 0.70272416 0.70243609 0.70214307]\n",
      "19 day output [[0.7018397]]\n",
      "20 day input [0.77042828 0.77503842 0.76508318 0.75920358 0.76635264 0.75158682\n",
      " 0.76842387 0.77503842 0.77403621 0.77216543 0.76855749 0.77169774\n",
      " 0.         0.77022783 0.77503842 0.77503842 0.77169774 0.78171978\n",
      " 0.78171978 0.78840115 0.78171978 0.78506047 0.78171978 0.78840115\n",
      " 0.78840115 0.80169707 0.80122937 0.80163025 0.80176388 0.79935859\n",
      " 0.78840115 0.78840115 0.7998931  0.78906929 0.80109574 0.80122937\n",
      " 0.80109574 0.80396873 0.79394668 0.80176388 0.8131222  0.81826685\n",
      " 0.79167502 0.79895771 0.77089597 0.80022717 0.76835705 0.76849068\n",
      " 0.77457072 0.7553952  0.7598049  0.76775573 0.7553952  0.76722122\n",
      " 0.76862431 0.73568517 0.75466025 0.75466025 0.73508385 0.73495022\n",
      " 0.73655375 0.74296786 0.73662057 0.73495022 0.73648694 0.73982762\n",
      " 0.73608606 0.73495022 0.71270128 0.73495022 0.73829091 0.73495022\n",
      " 0.73495022 0.71911539 0.70374825 0.71083049 0.70140977 0.66746843\n",
      " 0.66813657 0.66806975 0.72529203 0.72263253 0.71986455 0.71714014\n",
      " 0.71458596 0.71228969 0.71029866 0.70862645 0.70725995 0.70616794\n",
      " 0.70530897 0.70463806 0.70411056 0.70368654 0.70333141 0.70301735\n",
      " 0.70272416 0.70243609 0.70214307 0.70183969]\n",
      "20 day output [[0.70152366]]\n",
      "21 day input [0.77503842 0.76508318 0.75920358 0.76635264 0.75158682 0.76842387\n",
      " 0.77503842 0.77403621 0.77216543 0.76855749 0.77169774 0.\n",
      " 0.77022783 0.77503842 0.77503842 0.77169774 0.78171978 0.78171978\n",
      " 0.78840115 0.78171978 0.78506047 0.78171978 0.78840115 0.78840115\n",
      " 0.80169707 0.80122937 0.80163025 0.80176388 0.79935859 0.78840115\n",
      " 0.78840115 0.7998931  0.78906929 0.80109574 0.80122937 0.80109574\n",
      " 0.80396873 0.79394668 0.80176388 0.8131222  0.81826685 0.79167502\n",
      " 0.79895771 0.77089597 0.80022717 0.76835705 0.76849068 0.77457072\n",
      " 0.7553952  0.7598049  0.76775573 0.7553952  0.76722122 0.76862431\n",
      " 0.73568517 0.75466025 0.75466025 0.73508385 0.73495022 0.73655375\n",
      " 0.74296786 0.73662057 0.73495022 0.73648694 0.73982762 0.73608606\n",
      " 0.73495022 0.71270128 0.73495022 0.73829091 0.73495022 0.73495022\n",
      " 0.71911539 0.70374825 0.71083049 0.70140977 0.66746843 0.66813657\n",
      " 0.66806975 0.72529203 0.72263253 0.71986455 0.71714014 0.71458596\n",
      " 0.71228969 0.71029866 0.70862645 0.70725995 0.70616794 0.70530897\n",
      " 0.70463806 0.70411056 0.70368654 0.70333141 0.70301735 0.70272416\n",
      " 0.70243609 0.70214307 0.70183969 0.70152366]\n",
      "21 day output [[0.7011938]]\n",
      "22 day input [0.76508318 0.75920358 0.76635264 0.75158682 0.76842387 0.77503842\n",
      " 0.77403621 0.77216543 0.76855749 0.77169774 0.         0.77022783\n",
      " 0.77503842 0.77503842 0.77169774 0.78171978 0.78171978 0.78840115\n",
      " 0.78171978 0.78506047 0.78171978 0.78840115 0.78840115 0.80169707\n",
      " 0.80122937 0.80163025 0.80176388 0.79935859 0.78840115 0.78840115\n",
      " 0.7998931  0.78906929 0.80109574 0.80122937 0.80109574 0.80396873\n",
      " 0.79394668 0.80176388 0.8131222  0.81826685 0.79167502 0.79895771\n",
      " 0.77089597 0.80022717 0.76835705 0.76849068 0.77457072 0.7553952\n",
      " 0.7598049  0.76775573 0.7553952  0.76722122 0.76862431 0.73568517\n",
      " 0.75466025 0.75466025 0.73508385 0.73495022 0.73655375 0.74296786\n",
      " 0.73662057 0.73495022 0.73648694 0.73982762 0.73608606 0.73495022\n",
      " 0.71270128 0.73495022 0.73829091 0.73495022 0.73495022 0.71911539\n",
      " 0.70374825 0.71083049 0.70140977 0.66746843 0.66813657 0.66806975\n",
      " 0.72529203 0.72263253 0.71986455 0.71714014 0.71458596 0.71228969\n",
      " 0.71029866 0.70862645 0.70725995 0.70616794 0.70530897 0.70463806\n",
      " 0.70411056 0.70368654 0.70333141 0.70301735 0.70272416 0.70243609\n",
      " 0.70214307 0.70183969 0.70152366 0.70119381]\n",
      "22 day output [[0.70085216]]\n",
      "23 day input [0.75920358 0.76635264 0.75158682 0.76842387 0.77503842 0.77403621\n",
      " 0.77216543 0.76855749 0.77169774 0.         0.77022783 0.77503842\n",
      " 0.77503842 0.77169774 0.78171978 0.78171978 0.78840115 0.78171978\n",
      " 0.78506047 0.78171978 0.78840115 0.78840115 0.80169707 0.80122937\n",
      " 0.80163025 0.80176388 0.79935859 0.78840115 0.78840115 0.7998931\n",
      " 0.78906929 0.80109574 0.80122937 0.80109574 0.80396873 0.79394668\n",
      " 0.80176388 0.8131222  0.81826685 0.79167502 0.79895771 0.77089597\n",
      " 0.80022717 0.76835705 0.76849068 0.77457072 0.7553952  0.7598049\n",
      " 0.76775573 0.7553952  0.76722122 0.76862431 0.73568517 0.75466025\n",
      " 0.75466025 0.73508385 0.73495022 0.73655375 0.74296786 0.73662057\n",
      " 0.73495022 0.73648694 0.73982762 0.73608606 0.73495022 0.71270128\n",
      " 0.73495022 0.73829091 0.73495022 0.73495022 0.71911539 0.70374825\n",
      " 0.71083049 0.70140977 0.66746843 0.66813657 0.66806975 0.72529203\n",
      " 0.72263253 0.71986455 0.71714014 0.71458596 0.71228969 0.71029866\n",
      " 0.70862645 0.70725995 0.70616794 0.70530897 0.70463806 0.70411056\n",
      " 0.70368654 0.70333141 0.70301735 0.70272416 0.70243609 0.70214307\n",
      " 0.70183969 0.70152366 0.70119381 0.70085216]\n",
      "23 day output [[0.7004999]]\n",
      "24 day input [0.76635264 0.75158682 0.76842387 0.77503842 0.77403621 0.77216543\n",
      " 0.76855749 0.77169774 0.         0.77022783 0.77503842 0.77503842\n",
      " 0.77169774 0.78171978 0.78171978 0.78840115 0.78171978 0.78506047\n",
      " 0.78171978 0.78840115 0.78840115 0.80169707 0.80122937 0.80163025\n",
      " 0.80176388 0.79935859 0.78840115 0.78840115 0.7998931  0.78906929\n",
      " 0.80109574 0.80122937 0.80109574 0.80396873 0.79394668 0.80176388\n",
      " 0.8131222  0.81826685 0.79167502 0.79895771 0.77089597 0.80022717\n",
      " 0.76835705 0.76849068 0.77457072 0.7553952  0.7598049  0.76775573\n",
      " 0.7553952  0.76722122 0.76862431 0.73568517 0.75466025 0.75466025\n",
      " 0.73508385 0.73495022 0.73655375 0.74296786 0.73662057 0.73495022\n",
      " 0.73648694 0.73982762 0.73608606 0.73495022 0.71270128 0.73495022\n",
      " 0.73829091 0.73495022 0.73495022 0.71911539 0.70374825 0.71083049\n",
      " 0.70140977 0.66746843 0.66813657 0.66806975 0.72529203 0.72263253\n",
      " 0.71986455 0.71714014 0.71458596 0.71228969 0.71029866 0.70862645\n",
      " 0.70725995 0.70616794 0.70530897 0.70463806 0.70411056 0.70368654\n",
      " 0.70333141 0.70301735 0.70272416 0.70243609 0.70214307 0.70183969\n",
      " 0.70152366 0.70119381 0.70085216 0.70049989]\n",
      "24 day output [[0.70013916]]\n",
      "25 day input [0.75158682 0.76842387 0.77503842 0.77403621 0.77216543 0.76855749\n",
      " 0.77169774 0.         0.77022783 0.77503842 0.77503842 0.77169774\n",
      " 0.78171978 0.78171978 0.78840115 0.78171978 0.78506047 0.78171978\n",
      " 0.78840115 0.78840115 0.80169707 0.80122937 0.80163025 0.80176388\n",
      " 0.79935859 0.78840115 0.78840115 0.7998931  0.78906929 0.80109574\n",
      " 0.80122937 0.80109574 0.80396873 0.79394668 0.80176388 0.8131222\n",
      " 0.81826685 0.79167502 0.79895771 0.77089597 0.80022717 0.76835705\n",
      " 0.76849068 0.77457072 0.7553952  0.7598049  0.76775573 0.7553952\n",
      " 0.76722122 0.76862431 0.73568517 0.75466025 0.75466025 0.73508385\n",
      " 0.73495022 0.73655375 0.74296786 0.73662057 0.73495022 0.73648694\n",
      " 0.73982762 0.73608606 0.73495022 0.71270128 0.73495022 0.73829091\n",
      " 0.73495022 0.73495022 0.71911539 0.70374825 0.71083049 0.70140977\n",
      " 0.66746843 0.66813657 0.66806975 0.72529203 0.72263253 0.71986455\n",
      " 0.71714014 0.71458596 0.71228969 0.71029866 0.70862645 0.70725995\n",
      " 0.70616794 0.70530897 0.70463806 0.70411056 0.70368654 0.70333141\n",
      " 0.70301735 0.70272416 0.70243609 0.70214307 0.70183969 0.70152366\n",
      " 0.70119381 0.70085216 0.70049989 0.70013916]\n",
      "25 day output [[0.69977283]]\n",
      "26 day input [0.76842387 0.77503842 0.77403621 0.77216543 0.76855749 0.77169774\n",
      " 0.         0.77022783 0.77503842 0.77503842 0.77169774 0.78171978\n",
      " 0.78171978 0.78840115 0.78171978 0.78506047 0.78171978 0.78840115\n",
      " 0.78840115 0.80169707 0.80122937 0.80163025 0.80176388 0.79935859\n",
      " 0.78840115 0.78840115 0.7998931  0.78906929 0.80109574 0.80122937\n",
      " 0.80109574 0.80396873 0.79394668 0.80176388 0.8131222  0.81826685\n",
      " 0.79167502 0.79895771 0.77089597 0.80022717 0.76835705 0.76849068\n",
      " 0.77457072 0.7553952  0.7598049  0.76775573 0.7553952  0.76722122\n",
      " 0.76862431 0.73568517 0.75466025 0.75466025 0.73508385 0.73495022\n",
      " 0.73655375 0.74296786 0.73662057 0.73495022 0.73648694 0.73982762\n",
      " 0.73608606 0.73495022 0.71270128 0.73495022 0.73829091 0.73495022\n",
      " 0.73495022 0.71911539 0.70374825 0.71083049 0.70140977 0.66746843\n",
      " 0.66813657 0.66806975 0.72529203 0.72263253 0.71986455 0.71714014\n",
      " 0.71458596 0.71228969 0.71029866 0.70862645 0.70725995 0.70616794\n",
      " 0.70530897 0.70463806 0.70411056 0.70368654 0.70333141 0.70301735\n",
      " 0.70272416 0.70243609 0.70214307 0.70183969 0.70152366 0.70119381\n",
      " 0.70085216 0.70049989 0.70013916 0.69977283]\n",
      "26 day output [[0.69940263]]\n",
      "27 day input [0.77503842 0.77403621 0.77216543 0.76855749 0.77169774 0.\n",
      " 0.77022783 0.77503842 0.77503842 0.77169774 0.78171978 0.78171978\n",
      " 0.78840115 0.78171978 0.78506047 0.78171978 0.78840115 0.78840115\n",
      " 0.80169707 0.80122937 0.80163025 0.80176388 0.79935859 0.78840115\n",
      " 0.78840115 0.7998931  0.78906929 0.80109574 0.80122937 0.80109574\n",
      " 0.80396873 0.79394668 0.80176388 0.8131222  0.81826685 0.79167502\n",
      " 0.79895771 0.77089597 0.80022717 0.76835705 0.76849068 0.77457072\n",
      " 0.7553952  0.7598049  0.76775573 0.7553952  0.76722122 0.76862431\n",
      " 0.73568517 0.75466025 0.75466025 0.73508385 0.73495022 0.73655375\n",
      " 0.74296786 0.73662057 0.73495022 0.73648694 0.73982762 0.73608606\n",
      " 0.73495022 0.71270128 0.73495022 0.73829091 0.73495022 0.73495022\n",
      " 0.71911539 0.70374825 0.71083049 0.70140977 0.66746843 0.66813657\n",
      " 0.66806975 0.72529203 0.72263253 0.71986455 0.71714014 0.71458596\n",
      " 0.71228969 0.71029866 0.70862645 0.70725995 0.70616794 0.70530897\n",
      " 0.70463806 0.70411056 0.70368654 0.70333141 0.70301735 0.70272416\n",
      " 0.70243609 0.70214307 0.70183969 0.70152366 0.70119381 0.70085216\n",
      " 0.70049989 0.70013916 0.69977283 0.69940263]\n",
      "27 day output [[0.6990303]]\n",
      "28 day input [0.77403621 0.77216543 0.76855749 0.77169774 0.         0.77022783\n",
      " 0.77503842 0.77503842 0.77169774 0.78171978 0.78171978 0.78840115\n",
      " 0.78171978 0.78506047 0.78171978 0.78840115 0.78840115 0.80169707\n",
      " 0.80122937 0.80163025 0.80176388 0.79935859 0.78840115 0.78840115\n",
      " 0.7998931  0.78906929 0.80109574 0.80122937 0.80109574 0.80396873\n",
      " 0.79394668 0.80176388 0.8131222  0.81826685 0.79167502 0.79895771\n",
      " 0.77089597 0.80022717 0.76835705 0.76849068 0.77457072 0.7553952\n",
      " 0.7598049  0.76775573 0.7553952  0.76722122 0.76862431 0.73568517\n",
      " 0.75466025 0.75466025 0.73508385 0.73495022 0.73655375 0.74296786\n",
      " 0.73662057 0.73495022 0.73648694 0.73982762 0.73608606 0.73495022\n",
      " 0.71270128 0.73495022 0.73829091 0.73495022 0.73495022 0.71911539\n",
      " 0.70374825 0.71083049 0.70140977 0.66746843 0.66813657 0.66806975\n",
      " 0.72529203 0.72263253 0.71986455 0.71714014 0.71458596 0.71228969\n",
      " 0.71029866 0.70862645 0.70725995 0.70616794 0.70530897 0.70463806\n",
      " 0.70411056 0.70368654 0.70333141 0.70301735 0.70272416 0.70243609\n",
      " 0.70214307 0.70183969 0.70152366 0.70119381 0.70085216 0.70049989\n",
      " 0.70013916 0.69977283 0.69940263 0.69903028]\n",
      "28 day output [[0.6986571]]\n",
      "29 day input [0.77216543 0.76855749 0.77169774 0.         0.77022783 0.77503842\n",
      " 0.77503842 0.77169774 0.78171978 0.78171978 0.78840115 0.78171978\n",
      " 0.78506047 0.78171978 0.78840115 0.78840115 0.80169707 0.80122937\n",
      " 0.80163025 0.80176388 0.79935859 0.78840115 0.78840115 0.7998931\n",
      " 0.78906929 0.80109574 0.80122937 0.80109574 0.80396873 0.79394668\n",
      " 0.80176388 0.8131222  0.81826685 0.79167502 0.79895771 0.77089597\n",
      " 0.80022717 0.76835705 0.76849068 0.77457072 0.7553952  0.7598049\n",
      " 0.76775573 0.7553952  0.76722122 0.76862431 0.73568517 0.75466025\n",
      " 0.75466025 0.73508385 0.73495022 0.73655375 0.74296786 0.73662057\n",
      " 0.73495022 0.73648694 0.73982762 0.73608606 0.73495022 0.71270128\n",
      " 0.73495022 0.73829091 0.73495022 0.73495022 0.71911539 0.70374825\n",
      " 0.71083049 0.70140977 0.66746843 0.66813657 0.66806975 0.72529203\n",
      " 0.72263253 0.71986455 0.71714014 0.71458596 0.71228969 0.71029866\n",
      " 0.70862645 0.70725995 0.70616794 0.70530897 0.70463806 0.70411056\n",
      " 0.70368654 0.70333141 0.70301735 0.70272416 0.70243609 0.70214307\n",
      " 0.70183969 0.70152366 0.70119381 0.70085216 0.70049989 0.70013916\n",
      " 0.69977283 0.69940263 0.69903028 0.6986571 ]\n",
      "29 day output [[0.6982845]]\n",
      "[[0.7252920269966125], [0.7226325273513794], [0.719864547252655], [0.7171401381492615], [0.7145859599113464], [0.7122896909713745], [0.7102986574172974], [0.7086264491081238], [0.7072599530220032], [0.7061679363250732], [0.7053089737892151], [0.7046380639076233], [0.7041105628013611], [0.703686535358429], [0.7033314108848572], [0.7030173540115356], [0.7027241587638855], [0.702436089515686], [0.7021430730819702], [0.7018396854400635], [0.7015236616134644], [0.7011938095092773], [0.7008521556854248], [0.7004998922348022], [0.7001391649246216], [0.699772834777832], [0.6994026303291321], [0.6990302801132202], [0.6986570954322815], [0.6982845067977905]]\n"
     ]
    }
   ],
   "source": [
    "# demonstrate prediction for next 10 days\n",
    "from numpy import array\n",
    "\n",
    "lst_output=[]\n",
    "n_steps=100\n",
    "i=0\n",
    "while(i<30):\n",
    "    \n",
    "    if(len(temp_input)>100):\n",
    "        #print(temp_input)\n",
    "        x_input=np.array(temp_input[1:])\n",
    "        print(\"{} day input {}\".format(i,x_input))\n",
    "        x_input=x_input.reshape(1,-1)\n",
    "        x_input = x_input.reshape((1, n_steps, 1))\n",
    "        #print(x_input)\n",
    "        yhat = model.predict(x_input, verbose=0)\n",
    "        print(\"{} day output {}\".format(i,yhat))\n",
    "        temp_input.extend(yhat[0].tolist())\n",
    "        temp_input=temp_input[1:]\n",
    "        #print(temp_input)\n",
    "        lst_output.extend(yhat.tolist())\n",
    "        i=i+1\n",
    "    else:\n",
    "        x_input = x_input.reshape((1, n_steps,1))\n",
    "        yhat = model.predict(x_input, verbose=0)\n",
    "        print(yhat[0])\n",
    "        temp_input.extend(yhat[0].tolist())\n",
    "        print(len(temp_input))\n",
    "        lst_output.extend(yhat.tolist())\n",
    "        i=i+1\n",
    "    \n",
    "\n",
    "print(lst_output)"
   ]
  },
  {
   "cell_type": "code",
   "execution_count": 42,
   "metadata": {},
   "outputs": [],
   "source": [
    "day_new=np.arange(1,101)\n",
    "day_pred=np.arange(101,131)"
   ]
  },
  {
   "cell_type": "code",
   "execution_count": 43,
   "metadata": {},
   "outputs": [],
   "source": [
    "import matplotlib.pyplot as plt"
   ]
  },
  {
   "cell_type": "code",
   "execution_count": 44,
   "metadata": {},
   "outputs": [
    {
     "data": {
      "text/plain": [
       "2249"
      ]
     },
     "execution_count": 44,
     "metadata": {},
     "output_type": "execute_result"
    }
   ],
   "source": [
    "len(df1)"
   ]
  },
  {
   "cell_type": "code",
   "execution_count": 45,
   "metadata": {},
   "outputs": [],
   "source": [
    "b = len(df1) - 100"
   ]
  },
  {
   "cell_type": "code",
   "execution_count": 46,
   "metadata": {},
   "outputs": [
    {
     "data": {
      "text/plain": [
       "[<matplotlib.lines.Line2D at 0x1c7d252d3d0>]"
      ]
     },
     "execution_count": 46,
     "metadata": {},
     "output_type": "execute_result"
    },
    {
     "data": {
      "image/png": "[encoded data removed]",
      "text/plain": [
       "<Figure size 640x480 with 1 Axes>"
      ]
     },
     "metadata": {},
     "output_type": "display_data"
    }
   ],
   "source": [
    "plt.plot(day_new,scaler.inverse_transform(df1[b:]))\n",
    "plt.plot(day_pred,scaler.inverse_transform(lst_output))"
   ]
  },
  {
   "cell_type": "code",
   "execution_count": 47,
   "metadata": {},
   "outputs": [],
   "source": [
    "c = len(df1) - 500"
   ]
  },
  {
   "cell_type": "code",
   "execution_count": 48,
   "metadata": {},
   "outputs": [
    {
     "data": {
      "text/plain": [
       "[<matplotlib.lines.Line2D at 0x1c7d2555190>]"
      ]
     },
     "execution_count": 48,
     "metadata": {},
     "output_type": "execute_result"
    },
    {
     "data": {
      "image/png": "[encoded data removed]",
      "text/plain": [
       "<Figure size 640x480 with 1 Axes>"
      ]
     },
     "metadata": {},
     "output_type": "display_data"
    }
   ],
   "source": [
    "df3=df1.tolist()\n",
    "df3.extend(lst_output)\n",
    "plt.plot(df3[c:])"
   ]
  },
  {
   "cell_type": "code",
   "execution_count": 49,
   "metadata": {},
   "outputs": [],
   "source": [
    "df3=scaler.inverse_transform(df3).tolist()"
   ]
  },
  {
   "cell_type": "code",
   "execution_count": 50,
   "metadata": {},
   "outputs": [
    {
     "data": {
      "text/plain": [
       "[<matplotlib.lines.Line2D at 0x1c7d2569760>]"
      ]
     },
     "execution_count": 50,
     "metadata": {},
     "output_type": "execute_result"
    },
    {
     "data": {
      "image/png": "[encoded data removed]",
      "text/plain": [
       "<Figure size 640x480 with 1 Axes>"
      ]
     },
     "metadata": {},
     "output_type": "display_data"
    }
   ],
   "source": [
    "plt.plot(df3)"
   ]
  },
  {
   "cell_type": "code",
   "execution_count": null,
   "metadata": {},
   "outputs": [],
   "source": []
  }
 ],
 "metadata": {
  "kernelspec": {
   "display_name": "Python 3 (ipykernel)",
   "language": "python",
   "name": "python3"
  },
  "language_info": {
   "codemirror_mode": {
    "name": "ipython",
    "version": 3
   },
   "file_extension": ".py",
   "mimetype": "text/x-python",
   "name": "python",
   "nbconvert_exporter": "python",
   "pygments_lexer": "ipython3",
   "version": "3.12.3"
  }
 },
 "nbformat": 4,
 "nbformat_minor": 4
}
